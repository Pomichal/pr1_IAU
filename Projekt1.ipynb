{
 "cells": [
  {
   "cell_type": "markdown",
   "metadata": {},
   "source": [
    "František Šefčík a Vajk Pomichal, IAU, zimný semester 2018"
   ]
  },
  {
   "cell_type": "markdown",
   "metadata": {},
   "source": [
    "# Projekt 1"
   ]
  },
  {
   "cell_type": "markdown",
   "metadata": {},
   "source": [
    "**dataset 31**"
   ]
  },
  {
   "cell_type": "markdown",
   "metadata": {},
   "source": [
    "### Načítanie potrebných kniníc"
   ]
  },
  {
   "cell_type": "code",
   "execution_count": 1,
   "metadata": {},
   "outputs": [],
   "source": [
    "import pandas as pd\n",
    "import numpy as np\n",
    "import matplotlib.pyplot as plt\n",
    "import seaborn as sns\n",
    "import statsmodels.api as sm\n",
    "import statsmodels.stats.api as sms\n",
    "import scipy.stats as stats"
   ]
  },
  {
   "cell_type": "markdown",
   "metadata": {},
   "source": [
    "### Načítanie dát"
   ]
  },
  {
   "cell_type": "code",
   "execution_count": 2,
   "metadata": {},
   "outputs": [],
   "source": [
    "other_train = pd.read_csv('31/other_train.csv')\n",
    "other_valid = pd.read_csv('31/other_valid.csv')\n",
    "\n",
    "personal_train = pd.read_csv('31/personal_train.csv')\n",
    "personal_valid = pd.read_csv('31/personal_valid.csv')"
   ]
  },
  {
   "cell_type": "markdown",
   "metadata": {},
   "source": [
    "## Prvý pohľad na dáta"
   ]
  },
  {
   "cell_type": "code",
   "execution_count": 3,
   "metadata": {},
   "outputs": [],
   "source": [
    "pd.options.display.max_columns = None\n",
    "\n",
    "plt.rcParams['figure.figsize'] = (8,6)"
   ]
  },
  {
   "cell_type": "code",
   "execution_count": 4,
   "metadata": {},
   "outputs": [
    {
     "data": {
      "text/html": [
       "<div>\n",
       "<style scoped>\n",
       "    .dataframe tbody tr th:only-of-type {\n",
       "        vertical-align: middle;\n",
       "    }\n",
       "\n",
       "    .dataframe tbody tr th {\n",
       "        vertical-align: top;\n",
       "    }\n",
       "\n",
       "    .dataframe thead th {\n",
       "        text-align: right;\n",
       "    }\n",
       "</style>\n",
       "<table border=\"1\" class=\"dataframe\">\n",
       "  <thead>\n",
       "    <tr style=\"text-align: right;\">\n",
       "      <th></th>\n",
       "      <th>Unnamed: 0</th>\n",
       "      <th>name</th>\n",
       "      <th>address</th>\n",
       "      <th>query hyperthyroid</th>\n",
       "      <th>FTI measured</th>\n",
       "      <th>education</th>\n",
       "      <th>lithium</th>\n",
       "      <th>TT4</th>\n",
       "      <th>T4U</th>\n",
       "      <th>capital-loss</th>\n",
       "      <th>capital-gain</th>\n",
       "      <th>tumor</th>\n",
       "      <th>TSH</th>\n",
       "      <th>T3</th>\n",
       "      <th>fnlwgt</th>\n",
       "      <th>hours-per-week</th>\n",
       "      <th>relationship</th>\n",
       "      <th>sick</th>\n",
       "      <th>workclass</th>\n",
       "      <th>TT4 measured</th>\n",
       "      <th>class</th>\n",
       "      <th>marital-status</th>\n",
       "      <th>goitre</th>\n",
       "      <th>native-country</th>\n",
       "      <th>hypopituitary</th>\n",
       "      <th>medical_info</th>\n",
       "      <th>on antithyroid medication</th>\n",
       "      <th>referral source</th>\n",
       "      <th>education-num</th>\n",
       "      <th>occupation</th>\n",
       "      <th>TBG measured</th>\n",
       "      <th>TBG</th>\n",
       "      <th>race</th>\n",
       "      <th>FTI</th>\n",
       "    </tr>\n",
       "  </thead>\n",
       "  <tbody>\n",
       "    <tr>\n",
       "      <th>0</th>\n",
       "      <td>0</td>\n",
       "      <td>Christine Tanner</td>\n",
       "      <td>340 Moon Freeway\\nTamarafort, MO 35449</td>\n",
       "      <td>f</td>\n",
       "      <td>t</td>\n",
       "      <td>HS-grad</td>\n",
       "      <td>f</td>\n",
       "      <td>84.0</td>\n",
       "      <td>0.87</td>\n",
       "      <td>0.0</td>\n",
       "      <td>0.0</td>\n",
       "      <td>f</td>\n",
       "      <td>0.2</td>\n",
       "      <td>1.6</td>\n",
       "      <td>127573.0</td>\n",
       "      <td>38.0</td>\n",
       "      <td>Not-in-family</td>\n",
       "      <td>f</td>\n",
       "      <td>Private</td>\n",
       "      <td>t</td>\n",
       "      <td>negative.|165</td>\n",
       "      <td>Separated</td>\n",
       "      <td>f</td>\n",
       "      <td>United-States</td>\n",
       "      <td>f</td>\n",
       "      <td>{'query hypothyroid':'f','T4U measured':'t','p...</td>\n",
       "      <td>f</td>\n",
       "      <td>SVI</td>\n",
       "      <td>9.0</td>\n",
       "      <td>Adm-clerical</td>\n",
       "      <td>f</td>\n",
       "      <td>?</td>\n",
       "      <td>White</td>\n",
       "      <td>97</td>\n",
       "    </tr>\n",
       "    <tr>\n",
       "      <th>1</th>\n",
       "      <td>1</td>\n",
       "      <td>Cynthia Raio</td>\n",
       "      <td>446 Lynch Prairie Apt. 742\\nKristineshire, CO ...</td>\n",
       "      <td>f</td>\n",
       "      <td>t</td>\n",
       "      <td>HS-grad</td>\n",
       "      <td>f</td>\n",
       "      <td>128.0</td>\n",
       "      <td>1.14</td>\n",
       "      <td>0.0</td>\n",
       "      <td>0.0</td>\n",
       "      <td>f</td>\n",
       "      <td>3.0</td>\n",
       "      <td>2.3</td>\n",
       "      <td>103218.0</td>\n",
       "      <td>40.0</td>\n",
       "      <td>Unmarried</td>\n",
       "      <td>f</td>\n",
       "      <td>Private</td>\n",
       "      <td>t</td>\n",
       "      <td>negative.|2191</td>\n",
       "      <td>Divorced</td>\n",
       "      <td>f</td>\n",
       "      <td>United-States</td>\n",
       "      <td>f</td>\n",
       "      <td>{'query hypothyroid':'f','T4U measured':'t','p...</td>\n",
       "      <td>f</td>\n",
       "      <td>other</td>\n",
       "      <td>9.0</td>\n",
       "      <td>Adm-clerical</td>\n",
       "      <td>f</td>\n",
       "      <td>?</td>\n",
       "      <td>Black</td>\n",
       "      <td>112</td>\n",
       "    </tr>\n",
       "    <tr>\n",
       "      <th>2</th>\n",
       "      <td>2</td>\n",
       "      <td>Jason Muller</td>\n",
       "      <td>198 Garcia Stravenue Apt. 769\\nEast Shawnview,...</td>\n",
       "      <td>f</td>\n",
       "      <td>t</td>\n",
       "      <td>HS-grad</td>\n",
       "      <td>f</td>\n",
       "      <td>114.0</td>\n",
       "      <td>1.02</td>\n",
       "      <td>0.0</td>\n",
       "      <td>0.0</td>\n",
       "      <td>f</td>\n",
       "      <td>1.9</td>\n",
       "      <td>1.8</td>\n",
       "      <td>134181.0</td>\n",
       "      <td>50.0</td>\n",
       "      <td>Other-relative</td>\n",
       "      <td>f</td>\n",
       "      <td>Local-gov</td>\n",
       "      <td>t</td>\n",
       "      <td>negative.|1019</td>\n",
       "      <td>Never-married</td>\n",
       "      <td>f</td>\n",
       "      <td>United-States</td>\n",
       "      <td>f</td>\n",
       "      <td>{'query hypothyroid':'f','T4U measured':'t','p...</td>\n",
       "      <td>f</td>\n",
       "      <td>SVHC</td>\n",
       "      <td>9.0</td>\n",
       "      <td>Handlers-cleaners</td>\n",
       "      <td>f</td>\n",
       "      <td>?</td>\n",
       "      <td>White</td>\n",
       "      <td>112</td>\n",
       "    </tr>\n",
       "    <tr>\n",
       "      <th>3</th>\n",
       "      <td>3</td>\n",
       "      <td>Sharon Tomassi</td>\n",
       "      <td>1695 Judy Burg\\nEast Kurtland, MI 54744</td>\n",
       "      <td>f</td>\n",
       "      <td>t</td>\n",
       "      <td>Some-college</td>\n",
       "      <td>f</td>\n",
       "      <td>91.0</td>\n",
       "      <td>1.16</td>\n",
       "      <td>0.0</td>\n",
       "      <td>3418.0</td>\n",
       "      <td>f</td>\n",
       "      <td>8.5</td>\n",
       "      <td>2.1</td>\n",
       "      <td>195914.0</td>\n",
       "      <td>30.0</td>\n",
       "      <td>Own_child</td>\n",
       "      <td>f</td>\n",
       "      <td>Private</td>\n",
       "      <td>t</td>\n",
       "      <td>negative.|1061</td>\n",
       "      <td>Never-married</td>\n",
       "      <td>f</td>\n",
       "      <td>United-States</td>\n",
       "      <td>f</td>\n",
       "      <td>{'query hypothyroid':'f','T4U measured':'t','p...</td>\n",
       "      <td>f</td>\n",
       "      <td>other</td>\n",
       "      <td>10.0</td>\n",
       "      <td>Sales</td>\n",
       "      <td>f</td>\n",
       "      <td>?</td>\n",
       "      <td>Black</td>\n",
       "      <td>79</td>\n",
       "    </tr>\n",
       "    <tr>\n",
       "      <th>4</th>\n",
       "      <td>4</td>\n",
       "      <td>Christopher Sells</td>\n",
       "      <td>Unit 5029 Box 6752\\nDPO AE 90819</td>\n",
       "      <td>f</td>\n",
       "      <td>t</td>\n",
       "      <td>HS-grad</td>\n",
       "      <td>f</td>\n",
       "      <td>83.0</td>\n",
       "      <td>0.82</td>\n",
       "      <td>0.0</td>\n",
       "      <td>0.0</td>\n",
       "      <td>f</td>\n",
       "      <td>6.2</td>\n",
       "      <td>1.2</td>\n",
       "      <td>121135.0</td>\n",
       "      <td>40.0</td>\n",
       "      <td>Husband</td>\n",
       "      <td>f</td>\n",
       "      <td>?</td>\n",
       "      <td>t</td>\n",
       "      <td>Negative.|1173</td>\n",
       "      <td>Married-civ-spouse</td>\n",
       "      <td>f</td>\n",
       "      <td>United-States</td>\n",
       "      <td>f</td>\n",
       "      <td>{'query hypothyroid':'f','T4U measured':'t','p...</td>\n",
       "      <td>f</td>\n",
       "      <td>SVI</td>\n",
       "      <td>9.0</td>\n",
       "      <td>?</td>\n",
       "      <td>f</td>\n",
       "      <td>?</td>\n",
       "      <td>White</td>\n",
       "      <td>101</td>\n",
       "    </tr>\n",
       "  </tbody>\n",
       "</table>\n",
       "</div>"
      ],
      "text/plain": [
       "   Unnamed: 0               name  \\\n",
       "0           0   Christine Tanner   \n",
       "1           1       Cynthia Raio   \n",
       "2           2       Jason Muller   \n",
       "3           3     Sharon Tomassi   \n",
       "4           4  Christopher Sells   \n",
       "\n",
       "                                             address query hyperthyroid  \\\n",
       "0             340 Moon Freeway\\nTamarafort, MO 35449                  f   \n",
       "1  446 Lynch Prairie Apt. 742\\nKristineshire, CO ...                  f   \n",
       "2  198 Garcia Stravenue Apt. 769\\nEast Shawnview,...                  f   \n",
       "3            1695 Judy Burg\\nEast Kurtland, MI 54744                  f   \n",
       "4                   Unit 5029 Box 6752\\nDPO AE 90819                  f   \n",
       "\n",
       "  FTI measured      education lithium    TT4   T4U  capital-loss  \\\n",
       "0            t        HS-grad       f   84.0  0.87           0.0   \n",
       "1            t        HS-grad       f  128.0  1.14           0.0   \n",
       "2            t        HS-grad       f  114.0  1.02           0.0   \n",
       "3            t   Some-college       f   91.0  1.16           0.0   \n",
       "4            t        HS-grad       f   83.0  0.82           0.0   \n",
       "\n",
       "   capital-gain tumor  TSH   T3    fnlwgt  hours-per-week     relationship  \\\n",
       "0           0.0     f  0.2  1.6  127573.0            38.0    Not-in-family   \n",
       "1           0.0     f  3.0  2.3  103218.0            40.0        Unmarried   \n",
       "2           0.0     f  1.9  1.8  134181.0            50.0   Other-relative   \n",
       "3        3418.0     f  8.5  2.1  195914.0            30.0        Own_child   \n",
       "4           0.0     f  6.2  1.2  121135.0            40.0          Husband   \n",
       "\n",
       "  sick   workclass TT4 measured           class       marital-status goitre  \\\n",
       "0    f     Private            t   negative.|165            Separated      f   \n",
       "1    f     Private            t  negative.|2191             Divorced      f   \n",
       "2    f   Local-gov            t  negative.|1019        Never-married      f   \n",
       "3    f     Private            t  negative.|1061        Never-married      f   \n",
       "4    f           ?            t  Negative.|1173   Married-civ-spouse      f   \n",
       "\n",
       "   native-country hypopituitary  \\\n",
       "0   United-States             f   \n",
       "1   United-States             f   \n",
       "2   United-States             f   \n",
       "3   United-States             f   \n",
       "4   United-States             f   \n",
       "\n",
       "                                        medical_info  \\\n",
       "0  {'query hypothyroid':'f','T4U measured':'t','p...   \n",
       "1  {'query hypothyroid':'f','T4U measured':'t','p...   \n",
       "2  {'query hypothyroid':'f','T4U measured':'t','p...   \n",
       "3  {'query hypothyroid':'f','T4U measured':'t','p...   \n",
       "4  {'query hypothyroid':'f','T4U measured':'t','p...   \n",
       "\n",
       "  on antithyroid medication referral source  education-num  \\\n",
       "0                         f             SVI            9.0   \n",
       "1                         f           other            9.0   \n",
       "2                         f            SVHC            9.0   \n",
       "3                         f           other           10.0   \n",
       "4                         f             SVI            9.0   \n",
       "\n",
       "           occupation TBG measured TBG    race  FTI  \n",
       "0        Adm-clerical            f   ?   White   97  \n",
       "1        Adm-clerical            f   ?   Black  112  \n",
       "2   Handlers-cleaners            f   ?   White  112  \n",
       "3               Sales            f   ?   Black   79  \n",
       "4                   ?            f   ?   White  101  "
      ]
     },
     "execution_count": 4,
     "metadata": {},
     "output_type": "execute_result"
    }
   ],
   "source": [
    "other_train.head()"
   ]
  },
  {
   "cell_type": "code",
   "execution_count": 5,
   "metadata": {},
   "outputs": [
    {
     "data": {
      "text/html": [
       "<div>\n",
       "<style scoped>\n",
       "    .dataframe tbody tr th:only-of-type {\n",
       "        vertical-align: middle;\n",
       "    }\n",
       "\n",
       "    .dataframe tbody tr th {\n",
       "        vertical-align: top;\n",
       "    }\n",
       "\n",
       "    .dataframe thead th {\n",
       "        text-align: right;\n",
       "    }\n",
       "</style>\n",
       "<table border=\"1\" class=\"dataframe\">\n",
       "  <thead>\n",
       "    <tr style=\"text-align: right;\">\n",
       "      <th></th>\n",
       "      <th>Unnamed: 0</th>\n",
       "      <th>name</th>\n",
       "      <th>address</th>\n",
       "      <th>age</th>\n",
       "      <th>sex</th>\n",
       "      <th>date_of_birth</th>\n",
       "    </tr>\n",
       "  </thead>\n",
       "  <tbody>\n",
       "    <tr>\n",
       "      <th>0</th>\n",
       "      <td>0</td>\n",
       "      <td>Edith Boudreaux</td>\n",
       "      <td>11818 Lori Crossing Apt. 802\\nPughstad, DC 78165</td>\n",
       "      <td>49.0</td>\n",
       "      <td>F</td>\n",
       "      <td>69-04-28</td>\n",
       "    </tr>\n",
       "    <tr>\n",
       "      <th>1</th>\n",
       "      <td>1</td>\n",
       "      <td>Janet Washington</td>\n",
       "      <td>PSC 4657, Box 5446\\nAPO AP 58412</td>\n",
       "      <td>78.0</td>\n",
       "      <td>F</td>\n",
       "      <td>1940-01-23</td>\n",
       "    </tr>\n",
       "    <tr>\n",
       "      <th>2</th>\n",
       "      <td>2</td>\n",
       "      <td>Margaret Chabot</td>\n",
       "      <td>Unit 9759 Box 9470\\nDPO AP 45549</td>\n",
       "      <td>65.0</td>\n",
       "      <td>F</td>\n",
       "      <td>1953-06-23</td>\n",
       "    </tr>\n",
       "    <tr>\n",
       "      <th>3</th>\n",
       "      <td>3</td>\n",
       "      <td>Terry Terry</td>\n",
       "      <td>137 Lewis Flat Suite 762\\nWest Elizabeth, AL 3...</td>\n",
       "      <td>34.0</td>\n",
       "      <td>M</td>\n",
       "      <td>1984-03-08</td>\n",
       "    </tr>\n",
       "    <tr>\n",
       "      <th>4</th>\n",
       "      <td>4</td>\n",
       "      <td>Stephen Lalk</td>\n",
       "      <td>995 Frank Stravenue\\nSouth Matthewport, TX 81402</td>\n",
       "      <td>57.0</td>\n",
       "      <td>M</td>\n",
       "      <td>1961-09-16</td>\n",
       "    </tr>\n",
       "  </tbody>\n",
       "</table>\n",
       "</div>"
      ],
      "text/plain": [
       "   Unnamed: 0              name  \\\n",
       "0           0   Edith Boudreaux   \n",
       "1           1  Janet Washington   \n",
       "2           2   Margaret Chabot   \n",
       "3           3       Terry Terry   \n",
       "4           4      Stephen Lalk   \n",
       "\n",
       "                                             address   age sex date_of_birth  \n",
       "0   11818 Lori Crossing Apt. 802\\nPughstad, DC 78165  49.0   F      69-04-28  \n",
       "1                   PSC 4657, Box 5446\\nAPO AP 58412  78.0   F    1940-01-23  \n",
       "2                   Unit 9759 Box 9470\\nDPO AP 45549  65.0   F    1953-06-23  \n",
       "3  137 Lewis Flat Suite 762\\nWest Elizabeth, AL 3...  34.0   M    1984-03-08  \n",
       "4   995 Frank Stravenue\\nSouth Matthewport, TX 81402  57.0   M    1961-09-16  "
      ]
     },
     "execution_count": 5,
     "metadata": {},
     "output_type": "execute_result"
    }
   ],
   "source": [
    "personal_train.head()"
   ]
  },
  {
   "cell_type": "code",
   "execution_count": 6,
   "metadata": {},
   "outputs": [
    {
     "name": "stdout",
     "output_type": "stream",
     "text": [
      "Pocet riadkov (other_train): 2287\n",
      "Pocet riadkov (personal_train): 2237\n"
     ]
    }
   ],
   "source": [
    "print('Pocet riadkov (other_train):',other_train.shape[0])\n",
    "print('Pocet riadkov (personal_train):',personal_train.shape[0])"
   ]
  },
  {
   "cell_type": "markdown",
   "metadata": {},
   "source": [
    "Dataset s osobnymi udajmi obsahuje menej riadkov, co pravdepodobne znamena, ze niektori ludia maju viacere merania v ramci datasetu other"
   ]
  },
  {
   "cell_type": "markdown",
   "metadata": {},
   "source": [
    "##  Prieskumná analýza"
   ]
  },
  {
   "cell_type": "markdown",
   "metadata": {},
   "source": [
    "### Opis dát a ich charakteristiky"
   ]
  },
  {
   "cell_type": "markdown",
   "metadata": {},
   "source": [
    "#### dataset 'other'"
   ]
  },
  {
   "cell_type": "code",
   "execution_count": 7,
   "metadata": {},
   "outputs": [
    {
     "data": {
      "text/html": [
       "<div>\n",
       "<style scoped>\n",
       "    .dataframe tbody tr th:only-of-type {\n",
       "        vertical-align: middle;\n",
       "    }\n",
       "\n",
       "    .dataframe tbody tr th {\n",
       "        vertical-align: top;\n",
       "    }\n",
       "\n",
       "    .dataframe thead th {\n",
       "        text-align: right;\n",
       "    }\n",
       "</style>\n",
       "<table border=\"1\" class=\"dataframe\">\n",
       "  <thead>\n",
       "    <tr style=\"text-align: right;\">\n",
       "      <th></th>\n",
       "      <th>Unnamed: 0</th>\n",
       "      <th>name</th>\n",
       "      <th>address</th>\n",
       "      <th>query hyperthyroid</th>\n",
       "      <th>FTI measured</th>\n",
       "      <th>education</th>\n",
       "      <th>lithium</th>\n",
       "      <th>TT4</th>\n",
       "      <th>T4U</th>\n",
       "      <th>capital-loss</th>\n",
       "      <th>capital-gain</th>\n",
       "      <th>tumor</th>\n",
       "      <th>TSH</th>\n",
       "      <th>T3</th>\n",
       "      <th>fnlwgt</th>\n",
       "      <th>hours-per-week</th>\n",
       "      <th>relationship</th>\n",
       "      <th>sick</th>\n",
       "      <th>workclass</th>\n",
       "      <th>TT4 measured</th>\n",
       "      <th>class</th>\n",
       "      <th>marital-status</th>\n",
       "      <th>goitre</th>\n",
       "      <th>native-country</th>\n",
       "      <th>hypopituitary</th>\n",
       "      <th>medical_info</th>\n",
       "      <th>on antithyroid medication</th>\n",
       "      <th>referral source</th>\n",
       "      <th>education-num</th>\n",
       "      <th>occupation</th>\n",
       "      <th>TBG measured</th>\n",
       "      <th>TBG</th>\n",
       "      <th>race</th>\n",
       "      <th>FTI</th>\n",
       "    </tr>\n",
       "  </thead>\n",
       "  <tbody>\n",
       "    <tr>\n",
       "      <th>count</th>\n",
       "      <td>2287.000000</td>\n",
       "      <td>2287</td>\n",
       "      <td>2287</td>\n",
       "      <td>2275</td>\n",
       "      <td>2280</td>\n",
       "      <td>2280</td>\n",
       "      <td>2280</td>\n",
       "      <td>1985</td>\n",
       "      <td>2044.000000</td>\n",
       "      <td>2273.000000</td>\n",
       "      <td>2.281000e+03</td>\n",
       "      <td>2272</td>\n",
       "      <td>2041.000000</td>\n",
       "      <td>1795.000000</td>\n",
       "      <td>2.282000e+03</td>\n",
       "      <td>2278.000000</td>\n",
       "      <td>2273</td>\n",
       "      <td>2277</td>\n",
       "      <td>2273</td>\n",
       "      <td>2276</td>\n",
       "      <td>2274</td>\n",
       "      <td>2278</td>\n",
       "      <td>2280</td>\n",
       "      <td>2270</td>\n",
       "      <td>2282</td>\n",
       "      <td>2282</td>\n",
       "      <td>2277</td>\n",
       "      <td>2275</td>\n",
       "      <td>2049.000000</td>\n",
       "      <td>2280</td>\n",
       "      <td>2282</td>\n",
       "      <td>2278</td>\n",
       "      <td>2278</td>\n",
       "      <td>2276</td>\n",
       "    </tr>\n",
       "    <tr>\n",
       "      <th>unique</th>\n",
       "      <td>NaN</td>\n",
       "      <td>2236</td>\n",
       "      <td>2237</td>\n",
       "      <td>3</td>\n",
       "      <td>3</td>\n",
       "      <td>16</td>\n",
       "      <td>3</td>\n",
       "      <td>201</td>\n",
       "      <td>NaN</td>\n",
       "      <td>NaN</td>\n",
       "      <td>NaN</td>\n",
       "      <td>3</td>\n",
       "      <td>NaN</td>\n",
       "      <td>NaN</td>\n",
       "      <td>NaN</td>\n",
       "      <td>NaN</td>\n",
       "      <td>9</td>\n",
       "      <td>3</td>\n",
       "      <td>8</td>\n",
       "      <td>3</td>\n",
       "      <td>2237</td>\n",
       "      <td>6</td>\n",
       "      <td>3</td>\n",
       "      <td>37</td>\n",
       "      <td>2</td>\n",
       "      <td>63</td>\n",
       "      <td>6</td>\n",
       "      <td>5</td>\n",
       "      <td>NaN</td>\n",
       "      <td>14</td>\n",
       "      <td>2</td>\n",
       "      <td>1</td>\n",
       "      <td>5</td>\n",
       "      <td>199</td>\n",
       "    </tr>\n",
       "    <tr>\n",
       "      <th>top</th>\n",
       "      <td>NaN</td>\n",
       "      <td>Renee Henderson</td>\n",
       "      <td>355 Cynthia Lakes\\nWest Reginald, MO 65366</td>\n",
       "      <td>f</td>\n",
       "      <td>t</td>\n",
       "      <td>HS-grad</td>\n",
       "      <td>f</td>\n",
       "      <td>??</td>\n",
       "      <td>NaN</td>\n",
       "      <td>NaN</td>\n",
       "      <td>NaN</td>\n",
       "      <td>f</td>\n",
       "      <td>NaN</td>\n",
       "      <td>NaN</td>\n",
       "      <td>NaN</td>\n",
       "      <td>NaN</td>\n",
       "      <td>Not-in-family</td>\n",
       "      <td>f</td>\n",
       "      <td>Private</td>\n",
       "      <td>t</td>\n",
       "      <td>negative.|64</td>\n",
       "      <td>Never-married</td>\n",
       "      <td>f</td>\n",
       "      <td>United-States</td>\n",
       "      <td>f</td>\n",
       "      <td>{'query hypothyroid':'f','T4U measured':'t','p...</td>\n",
       "      <td>f</td>\n",
       "      <td>other</td>\n",
       "      <td>NaN</td>\n",
       "      <td>Adm-clerical</td>\n",
       "      <td>f</td>\n",
       "      <td>?</td>\n",
       "      <td>White</td>\n",
       "      <td>?</td>\n",
       "    </tr>\n",
       "    <tr>\n",
       "      <th>freq</th>\n",
       "      <td>NaN</td>\n",
       "      <td>3</td>\n",
       "      <td>3</td>\n",
       "      <td>2136</td>\n",
       "      <td>2044</td>\n",
       "      <td>749</td>\n",
       "      <td>2268</td>\n",
       "      <td>76</td>\n",
       "      <td>NaN</td>\n",
       "      <td>NaN</td>\n",
       "      <td>NaN</td>\n",
       "      <td>2217</td>\n",
       "      <td>NaN</td>\n",
       "      <td>NaN</td>\n",
       "      <td>NaN</td>\n",
       "      <td>NaN</td>\n",
       "      <td>628</td>\n",
       "      <td>2187</td>\n",
       "      <td>1601</td>\n",
       "      <td>2125</td>\n",
       "      <td>2</td>\n",
       "      <td>892</td>\n",
       "      <td>2256</td>\n",
       "      <td>2040</td>\n",
       "      <td>2281</td>\n",
       "      <td>1267</td>\n",
       "      <td>2022</td>\n",
       "      <td>1325</td>\n",
       "      <td>NaN</td>\n",
       "      <td>402</td>\n",
       "      <td>2281</td>\n",
       "      <td>2278</td>\n",
       "      <td>1897</td>\n",
       "      <td>235</td>\n",
       "    </tr>\n",
       "    <tr>\n",
       "      <th>mean</th>\n",
       "      <td>1143.000000</td>\n",
       "      <td>NaN</td>\n",
       "      <td>NaN</td>\n",
       "      <td>NaN</td>\n",
       "      <td>NaN</td>\n",
       "      <td>NaN</td>\n",
       "      <td>NaN</td>\n",
       "      <td>NaN</td>\n",
       "      <td>0.995457</td>\n",
       "      <td>83.845139</td>\n",
       "      <td>5.265726e+03</td>\n",
       "      <td>NaN</td>\n",
       "      <td>4.456781</td>\n",
       "      <td>2.023175</td>\n",
       "      <td>1.882513e+05</td>\n",
       "      <td>38.777436</td>\n",
       "      <td>NaN</td>\n",
       "      <td>NaN</td>\n",
       "      <td>NaN</td>\n",
       "      <td>NaN</td>\n",
       "      <td>NaN</td>\n",
       "      <td>NaN</td>\n",
       "      <td>NaN</td>\n",
       "      <td>NaN</td>\n",
       "      <td>NaN</td>\n",
       "      <td>NaN</td>\n",
       "      <td>NaN</td>\n",
       "      <td>NaN</td>\n",
       "      <td>9.964861</td>\n",
       "      <td>NaN</td>\n",
       "      <td>NaN</td>\n",
       "      <td>NaN</td>\n",
       "      <td>NaN</td>\n",
       "      <td>NaN</td>\n",
       "    </tr>\n",
       "    <tr>\n",
       "      <th>std</th>\n",
       "      <td>660.344355</td>\n",
       "      <td>NaN</td>\n",
       "      <td>NaN</td>\n",
       "      <td>NaN</td>\n",
       "      <td>NaN</td>\n",
       "      <td>NaN</td>\n",
       "      <td>NaN</td>\n",
       "      <td>NaN</td>\n",
       "      <td>0.191836</td>\n",
       "      <td>397.416653</td>\n",
       "      <td>2.226147e+05</td>\n",
       "      <td>NaN</td>\n",
       "      <td>20.154550</td>\n",
       "      <td>0.813347</td>\n",
       "      <td>1.092634e+05</td>\n",
       "      <td>12.521955</td>\n",
       "      <td>NaN</td>\n",
       "      <td>NaN</td>\n",
       "      <td>NaN</td>\n",
       "      <td>NaN</td>\n",
       "      <td>NaN</td>\n",
       "      <td>NaN</td>\n",
       "      <td>NaN</td>\n",
       "      <td>NaN</td>\n",
       "      <td>NaN</td>\n",
       "      <td>NaN</td>\n",
       "      <td>NaN</td>\n",
       "      <td>NaN</td>\n",
       "      <td>2.462162</td>\n",
       "      <td>NaN</td>\n",
       "      <td>NaN</td>\n",
       "      <td>NaN</td>\n",
       "      <td>NaN</td>\n",
       "      <td>NaN</td>\n",
       "    </tr>\n",
       "    <tr>\n",
       "      <th>min</th>\n",
       "      <td>0.000000</td>\n",
       "      <td>NaN</td>\n",
       "      <td>NaN</td>\n",
       "      <td>NaN</td>\n",
       "      <td>NaN</td>\n",
       "      <td>NaN</td>\n",
       "      <td>NaN</td>\n",
       "      <td>NaN</td>\n",
       "      <td>0.310000</td>\n",
       "      <td>0.000000</td>\n",
       "      <td>-1.502400e+06</td>\n",
       "      <td>NaN</td>\n",
       "      <td>0.005000</td>\n",
       "      <td>0.050000</td>\n",
       "      <td>2.030800e+04</td>\n",
       "      <td>1.000000</td>\n",
       "      <td>NaN</td>\n",
       "      <td>NaN</td>\n",
       "      <td>NaN</td>\n",
       "      <td>NaN</td>\n",
       "      <td>NaN</td>\n",
       "      <td>NaN</td>\n",
       "      <td>NaN</td>\n",
       "      <td>NaN</td>\n",
       "      <td>NaN</td>\n",
       "      <td>NaN</td>\n",
       "      <td>NaN</td>\n",
       "      <td>NaN</td>\n",
       "      <td>1.000000</td>\n",
       "      <td>NaN</td>\n",
       "      <td>NaN</td>\n",
       "      <td>NaN</td>\n",
       "      <td>NaN</td>\n",
       "      <td>NaN</td>\n",
       "    </tr>\n",
       "    <tr>\n",
       "      <th>25%</th>\n",
       "      <td>571.500000</td>\n",
       "      <td>NaN</td>\n",
       "      <td>NaN</td>\n",
       "      <td>NaN</td>\n",
       "      <td>NaN</td>\n",
       "      <td>NaN</td>\n",
       "      <td>NaN</td>\n",
       "      <td>NaN</td>\n",
       "      <td>0.880000</td>\n",
       "      <td>0.000000</td>\n",
       "      <td>0.000000e+00</td>\n",
       "      <td>NaN</td>\n",
       "      <td>0.440000</td>\n",
       "      <td>1.600000</td>\n",
       "      <td>1.179322e+05</td>\n",
       "      <td>35.000000</td>\n",
       "      <td>NaN</td>\n",
       "      <td>NaN</td>\n",
       "      <td>NaN</td>\n",
       "      <td>NaN</td>\n",
       "      <td>NaN</td>\n",
       "      <td>NaN</td>\n",
       "      <td>NaN</td>\n",
       "      <td>NaN</td>\n",
       "      <td>NaN</td>\n",
       "      <td>NaN</td>\n",
       "      <td>NaN</td>\n",
       "      <td>NaN</td>\n",
       "      <td>9.000000</td>\n",
       "      <td>NaN</td>\n",
       "      <td>NaN</td>\n",
       "      <td>NaN</td>\n",
       "      <td>NaN</td>\n",
       "      <td>NaN</td>\n",
       "    </tr>\n",
       "    <tr>\n",
       "      <th>50%</th>\n",
       "      <td>1143.000000</td>\n",
       "      <td>NaN</td>\n",
       "      <td>NaN</td>\n",
       "      <td>NaN</td>\n",
       "      <td>NaN</td>\n",
       "      <td>NaN</td>\n",
       "      <td>NaN</td>\n",
       "      <td>NaN</td>\n",
       "      <td>0.980000</td>\n",
       "      <td>0.000000</td>\n",
       "      <td>0.000000e+00</td>\n",
       "      <td>NaN</td>\n",
       "      <td>1.400000</td>\n",
       "      <td>2.000000</td>\n",
       "      <td>1.771505e+05</td>\n",
       "      <td>40.000000</td>\n",
       "      <td>NaN</td>\n",
       "      <td>NaN</td>\n",
       "      <td>NaN</td>\n",
       "      <td>NaN</td>\n",
       "      <td>NaN</td>\n",
       "      <td>NaN</td>\n",
       "      <td>NaN</td>\n",
       "      <td>NaN</td>\n",
       "      <td>NaN</td>\n",
       "      <td>NaN</td>\n",
       "      <td>NaN</td>\n",
       "      <td>NaN</td>\n",
       "      <td>10.000000</td>\n",
       "      <td>NaN</td>\n",
       "      <td>NaN</td>\n",
       "      <td>NaN</td>\n",
       "      <td>NaN</td>\n",
       "      <td>NaN</td>\n",
       "    </tr>\n",
       "    <tr>\n",
       "      <th>75%</th>\n",
       "      <td>1714.500000</td>\n",
       "      <td>NaN</td>\n",
       "      <td>NaN</td>\n",
       "      <td>NaN</td>\n",
       "      <td>NaN</td>\n",
       "      <td>NaN</td>\n",
       "      <td>NaN</td>\n",
       "      <td>NaN</td>\n",
       "      <td>1.080000</td>\n",
       "      <td>0.000000</td>\n",
       "      <td>0.000000e+00</td>\n",
       "      <td>NaN</td>\n",
       "      <td>2.600000</td>\n",
       "      <td>2.400000</td>\n",
       "      <td>2.319945e+05</td>\n",
       "      <td>40.000000</td>\n",
       "      <td>NaN</td>\n",
       "      <td>NaN</td>\n",
       "      <td>NaN</td>\n",
       "      <td>NaN</td>\n",
       "      <td>NaN</td>\n",
       "      <td>NaN</td>\n",
       "      <td>NaN</td>\n",
       "      <td>NaN</td>\n",
       "      <td>NaN</td>\n",
       "      <td>NaN</td>\n",
       "      <td>NaN</td>\n",
       "      <td>NaN</td>\n",
       "      <td>11.000000</td>\n",
       "      <td>NaN</td>\n",
       "      <td>NaN</td>\n",
       "      <td>NaN</td>\n",
       "      <td>NaN</td>\n",
       "      <td>NaN</td>\n",
       "    </tr>\n",
       "    <tr>\n",
       "      <th>max</th>\n",
       "      <td>2286.000000</td>\n",
       "      <td>NaN</td>\n",
       "      <td>NaN</td>\n",
       "      <td>NaN</td>\n",
       "      <td>NaN</td>\n",
       "      <td>NaN</td>\n",
       "      <td>NaN</td>\n",
       "      <td>NaN</td>\n",
       "      <td>2.120000</td>\n",
       "      <td>3900.000000</td>\n",
       "      <td>9.999900e+06</td>\n",
       "      <td>NaN</td>\n",
       "      <td>478.000000</td>\n",
       "      <td>10.600000</td>\n",
       "      <td>1.366120e+06</td>\n",
       "      <td>99.000000</td>\n",
       "      <td>NaN</td>\n",
       "      <td>NaN</td>\n",
       "      <td>NaN</td>\n",
       "      <td>NaN</td>\n",
       "      <td>NaN</td>\n",
       "      <td>NaN</td>\n",
       "      <td>NaN</td>\n",
       "      <td>NaN</td>\n",
       "      <td>NaN</td>\n",
       "      <td>NaN</td>\n",
       "      <td>NaN</td>\n",
       "      <td>NaN</td>\n",
       "      <td>16.000000</td>\n",
       "      <td>NaN</td>\n",
       "      <td>NaN</td>\n",
       "      <td>NaN</td>\n",
       "      <td>NaN</td>\n",
       "      <td>NaN</td>\n",
       "    </tr>\n",
       "  </tbody>\n",
       "</table>\n",
       "</div>"
      ],
      "text/plain": [
       "         Unnamed: 0             name  \\\n",
       "count   2287.000000             2287   \n",
       "unique          NaN             2236   \n",
       "top             NaN  Renee Henderson   \n",
       "freq            NaN                3   \n",
       "mean    1143.000000              NaN   \n",
       "std      660.344355              NaN   \n",
       "min        0.000000              NaN   \n",
       "25%      571.500000              NaN   \n",
       "50%     1143.000000              NaN   \n",
       "75%     1714.500000              NaN   \n",
       "max     2286.000000              NaN   \n",
       "\n",
       "                                           address query hyperthyroid  \\\n",
       "count                                         2287               2275   \n",
       "unique                                        2237                  3   \n",
       "top     355 Cynthia Lakes\\nWest Reginald, MO 65366                  f   \n",
       "freq                                             3               2136   \n",
       "mean                                           NaN                NaN   \n",
       "std                                            NaN                NaN   \n",
       "min                                            NaN                NaN   \n",
       "25%                                            NaN                NaN   \n",
       "50%                                            NaN                NaN   \n",
       "75%                                            NaN                NaN   \n",
       "max                                            NaN                NaN   \n",
       "\n",
       "       FTI measured education lithium   TT4          T4U  capital-loss  \\\n",
       "count          2280      2280    2280  1985  2044.000000   2273.000000   \n",
       "unique            3        16       3   201          NaN           NaN   \n",
       "top               t   HS-grad       f    ??          NaN           NaN   \n",
       "freq           2044       749    2268    76          NaN           NaN   \n",
       "mean            NaN       NaN     NaN   NaN     0.995457     83.845139   \n",
       "std             NaN       NaN     NaN   NaN     0.191836    397.416653   \n",
       "min             NaN       NaN     NaN   NaN     0.310000      0.000000   \n",
       "25%             NaN       NaN     NaN   NaN     0.880000      0.000000   \n",
       "50%             NaN       NaN     NaN   NaN     0.980000      0.000000   \n",
       "75%             NaN       NaN     NaN   NaN     1.080000      0.000000   \n",
       "max             NaN       NaN     NaN   NaN     2.120000   3900.000000   \n",
       "\n",
       "        capital-gain tumor          TSH           T3        fnlwgt  \\\n",
       "count   2.281000e+03  2272  2041.000000  1795.000000  2.282000e+03   \n",
       "unique           NaN     3          NaN          NaN           NaN   \n",
       "top              NaN     f          NaN          NaN           NaN   \n",
       "freq             NaN  2217          NaN          NaN           NaN   \n",
       "mean    5.265726e+03   NaN     4.456781     2.023175  1.882513e+05   \n",
       "std     2.226147e+05   NaN    20.154550     0.813347  1.092634e+05   \n",
       "min    -1.502400e+06   NaN     0.005000     0.050000  2.030800e+04   \n",
       "25%     0.000000e+00   NaN     0.440000     1.600000  1.179322e+05   \n",
       "50%     0.000000e+00   NaN     1.400000     2.000000  1.771505e+05   \n",
       "75%     0.000000e+00   NaN     2.600000     2.400000  2.319945e+05   \n",
       "max     9.999900e+06   NaN   478.000000    10.600000  1.366120e+06   \n",
       "\n",
       "        hours-per-week    relationship  sick workclass TT4 measured  \\\n",
       "count      2278.000000            2273  2277      2273         2276   \n",
       "unique             NaN               9     3         8            3   \n",
       "top                NaN   Not-in-family     f   Private            t   \n",
       "freq               NaN             628  2187      1601         2125   \n",
       "mean         38.777436             NaN   NaN       NaN          NaN   \n",
       "std          12.521955             NaN   NaN       NaN          NaN   \n",
       "min           1.000000             NaN   NaN       NaN          NaN   \n",
       "25%          35.000000             NaN   NaN       NaN          NaN   \n",
       "50%          40.000000             NaN   NaN       NaN          NaN   \n",
       "75%          40.000000             NaN   NaN       NaN          NaN   \n",
       "max          99.000000             NaN   NaN       NaN          NaN   \n",
       "\n",
       "               class  marital-status goitre  native-country hypopituitary  \\\n",
       "count           2274            2278   2280            2270          2282   \n",
       "unique          2237               6      3              37             2   \n",
       "top     negative.|64   Never-married      f   United-States             f   \n",
       "freq               2             892   2256            2040          2281   \n",
       "mean             NaN             NaN    NaN             NaN           NaN   \n",
       "std              NaN             NaN    NaN             NaN           NaN   \n",
       "min              NaN             NaN    NaN             NaN           NaN   \n",
       "25%              NaN             NaN    NaN             NaN           NaN   \n",
       "50%              NaN             NaN    NaN             NaN           NaN   \n",
       "75%              NaN             NaN    NaN             NaN           NaN   \n",
       "max              NaN             NaN    NaN             NaN           NaN   \n",
       "\n",
       "                                             medical_info  \\\n",
       "count                                                2282   \n",
       "unique                                                 63   \n",
       "top     {'query hypothyroid':'f','T4U measured':'t','p...   \n",
       "freq                                                 1267   \n",
       "mean                                                  NaN   \n",
       "std                                                   NaN   \n",
       "min                                                   NaN   \n",
       "25%                                                   NaN   \n",
       "50%                                                   NaN   \n",
       "75%                                                   NaN   \n",
       "max                                                   NaN   \n",
       "\n",
       "       on antithyroid medication referral source  education-num  \\\n",
       "count                       2277            2275    2049.000000   \n",
       "unique                         6               5            NaN   \n",
       "top                            f           other            NaN   \n",
       "freq                        2022            1325            NaN   \n",
       "mean                         NaN             NaN       9.964861   \n",
       "std                          NaN             NaN       2.462162   \n",
       "min                          NaN             NaN       1.000000   \n",
       "25%                          NaN             NaN       9.000000   \n",
       "50%                          NaN             NaN      10.000000   \n",
       "75%                          NaN             NaN      11.000000   \n",
       "max                          NaN             NaN      16.000000   \n",
       "\n",
       "           occupation TBG measured   TBG    race   FTI  \n",
       "count            2280         2282  2278    2278  2276  \n",
       "unique             14            2     1       5   199  \n",
       "top      Adm-clerical            f     ?   White     ?  \n",
       "freq              402         2281  2278    1897   235  \n",
       "mean              NaN          NaN   NaN     NaN   NaN  \n",
       "std               NaN          NaN   NaN     NaN   NaN  \n",
       "min               NaN          NaN   NaN     NaN   NaN  \n",
       "25%               NaN          NaN   NaN     NaN   NaN  \n",
       "50%               NaN          NaN   NaN     NaN   NaN  \n",
       "75%               NaN          NaN   NaN     NaN   NaN  \n",
       "max               NaN          NaN   NaN     NaN   NaN  "
      ]
     },
     "execution_count": 7,
     "metadata": {},
     "output_type": "execute_result"
    }
   ],
   "source": [
    "other_train.describe(include='all')"
   ]
  },
  {
   "cell_type": "code",
   "execution_count": 8,
   "metadata": {},
   "outputs": [
    {
     "name": "stdout",
     "output_type": "stream",
     "text": [
      "<class 'pandas.core.frame.DataFrame'>\n",
      "RangeIndex: 2287 entries, 0 to 2286\n",
      "Data columns (total 34 columns):\n",
      "Unnamed: 0                   2287 non-null int64\n",
      "name                         2287 non-null object\n",
      "address                      2287 non-null object\n",
      "query hyperthyroid           2275 non-null object\n",
      "FTI measured                 2280 non-null object\n",
      "education                    2280 non-null object\n",
      "lithium                      2280 non-null object\n",
      "TT4                          1985 non-null object\n",
      "T4U                          2044 non-null float64\n",
      "capital-loss                 2273 non-null float64\n",
      "capital-gain                 2281 non-null float64\n",
      "tumor                        2272 non-null object\n",
      "TSH                          2041 non-null float64\n",
      "T3                           1795 non-null float64\n",
      "fnlwgt                       2282 non-null float64\n",
      "hours-per-week               2278 non-null float64\n",
      "relationship                 2273 non-null object\n",
      "sick                         2277 non-null object\n",
      "workclass                    2273 non-null object\n",
      "TT4 measured                 2276 non-null object\n",
      "class                        2274 non-null object\n",
      "marital-status               2278 non-null object\n",
      "goitre                       2280 non-null object\n",
      "native-country               2270 non-null object\n",
      "hypopituitary                2282 non-null object\n",
      "medical_info                 2282 non-null object\n",
      "on antithyroid medication    2277 non-null object\n",
      "referral source              2275 non-null object\n",
      "education-num                2049 non-null float64\n",
      "occupation                   2280 non-null object\n",
      "TBG measured                 2282 non-null object\n",
      "TBG                          2278 non-null object\n",
      "race                         2278 non-null object\n",
      "FTI                          2276 non-null object\n",
      "dtypes: float64(8), int64(1), object(25)\n",
      "memory usage: 607.6+ KB\n"
     ]
    }
   ],
   "source": [
    "other_train.info()"
   ]
  },
  {
   "cell_type": "markdown",
   "metadata": {},
   "source": [
    "Ukazalo sa, ze niektore ociviedne ciselne atributy (napriklad TT4) sa beru ako object, kvoli analyze bude potrebna ich prevod na cisla\n",
    "\n",
    "Z prveho pohladu na data vidime, ze viacere stlpce obsahuju len true-false hodnoty (alebo Nan): 'query hyperthyroid', 'FTI measured', 'lithium', 'tumor', 'sick', 'TT4 measured', 'goitre', 'hypopituitary', 'TBG measured'. Aj stlpec 'on antithyroid medication' sa javi akoby obsahoval hodnoty true-false.\n",
    "\n",
    "Atributy, ktore obsahuju v nazve slovo measured hovoria len o tom ci bola jemu prislusna hodnota merana na danom pacientovi. Tieto atributy nam neposkytuju ziadnu pridanu informaciu, pretoze uz z konkretnych meranych atributov vieme zistit, ktore neboli merane. Naopak, stlpce tumor alebo sick mozu obsahovat uzitocnu informaciu. \n",
    "Hodnoty v tychto stlpcov zjednotime, aby obsahovali len hodnoty 't', 'f' a pripadne aj nan"
   ]
  },
  {
   "cell_type": "markdown",
   "metadata": {},
   "source": [
    "#### dataset 'personal'"
   ]
  },
  {
   "cell_type": "code",
   "execution_count": 9,
   "metadata": {},
   "outputs": [
    {
     "data": {
      "text/html": [
       "<div>\n",
       "<style scoped>\n",
       "    .dataframe tbody tr th:only-of-type {\n",
       "        vertical-align: middle;\n",
       "    }\n",
       "\n",
       "    .dataframe tbody tr th {\n",
       "        vertical-align: top;\n",
       "    }\n",
       "\n",
       "    .dataframe thead th {\n",
       "        text-align: right;\n",
       "    }\n",
       "</style>\n",
       "<table border=\"1\" class=\"dataframe\">\n",
       "  <thead>\n",
       "    <tr style=\"text-align: right;\">\n",
       "      <th></th>\n",
       "      <th>Unnamed: 0</th>\n",
       "      <th>name</th>\n",
       "      <th>address</th>\n",
       "      <th>age</th>\n",
       "      <th>sex</th>\n",
       "      <th>date_of_birth</th>\n",
       "    </tr>\n",
       "  </thead>\n",
       "  <tbody>\n",
       "    <tr>\n",
       "      <th>count</th>\n",
       "      <td>2237.000000</td>\n",
       "      <td>2237</td>\n",
       "      <td>2237</td>\n",
       "      <td>2236.000000</td>\n",
       "      <td>2237</td>\n",
       "      <td>2236</td>\n",
       "    </tr>\n",
       "    <tr>\n",
       "      <th>unique</th>\n",
       "      <td>NaN</td>\n",
       "      <td>2236</td>\n",
       "      <td>2237</td>\n",
       "      <td>NaN</td>\n",
       "      <td>3</td>\n",
       "      <td>2186</td>\n",
       "    </tr>\n",
       "    <tr>\n",
       "      <th>top</th>\n",
       "      <td>NaN</td>\n",
       "      <td>Terry Murphy</td>\n",
       "      <td>8645 Davis Lights\\nEast Carolyn, TN 76559</td>\n",
       "      <td>NaN</td>\n",
       "      <td>F</td>\n",
       "      <td>1984-08-14</td>\n",
       "    </tr>\n",
       "    <tr>\n",
       "      <th>freq</th>\n",
       "      <td>NaN</td>\n",
       "      <td>2</td>\n",
       "      <td>1</td>\n",
       "      <td>NaN</td>\n",
       "      <td>1448</td>\n",
       "      <td>3</td>\n",
       "    </tr>\n",
       "    <tr>\n",
       "      <th>mean</th>\n",
       "      <td>1118.000000</td>\n",
       "      <td>NaN</td>\n",
       "      <td>NaN</td>\n",
       "      <td>51.822004</td>\n",
       "      <td>NaN</td>\n",
       "      <td>NaN</td>\n",
       "    </tr>\n",
       "    <tr>\n",
       "      <th>std</th>\n",
       "      <td>645.910598</td>\n",
       "      <td>NaN</td>\n",
       "      <td>NaN</td>\n",
       "      <td>20.884439</td>\n",
       "      <td>NaN</td>\n",
       "      <td>NaN</td>\n",
       "    </tr>\n",
       "    <tr>\n",
       "      <th>min</th>\n",
       "      <td>0.000000</td>\n",
       "      <td>NaN</td>\n",
       "      <td>NaN</td>\n",
       "      <td>1.000000</td>\n",
       "      <td>NaN</td>\n",
       "      <td>NaN</td>\n",
       "    </tr>\n",
       "    <tr>\n",
       "      <th>25%</th>\n",
       "      <td>559.000000</td>\n",
       "      <td>NaN</td>\n",
       "      <td>NaN</td>\n",
       "      <td>36.000000</td>\n",
       "      <td>NaN</td>\n",
       "      <td>NaN</td>\n",
       "    </tr>\n",
       "    <tr>\n",
       "      <th>50%</th>\n",
       "      <td>1118.000000</td>\n",
       "      <td>NaN</td>\n",
       "      <td>NaN</td>\n",
       "      <td>54.000000</td>\n",
       "      <td>NaN</td>\n",
       "      <td>NaN</td>\n",
       "    </tr>\n",
       "    <tr>\n",
       "      <th>75%</th>\n",
       "      <td>1677.000000</td>\n",
       "      <td>NaN</td>\n",
       "      <td>NaN</td>\n",
       "      <td>67.000000</td>\n",
       "      <td>NaN</td>\n",
       "      <td>NaN</td>\n",
       "    </tr>\n",
       "    <tr>\n",
       "      <th>max</th>\n",
       "      <td>2236.000000</td>\n",
       "      <td>NaN</td>\n",
       "      <td>NaN</td>\n",
       "      <td>455.000000</td>\n",
       "      <td>NaN</td>\n",
       "      <td>NaN</td>\n",
       "    </tr>\n",
       "  </tbody>\n",
       "</table>\n",
       "</div>"
      ],
      "text/plain": [
       "         Unnamed: 0          name                                    address  \\\n",
       "count   2237.000000          2237                                       2237   \n",
       "unique          NaN          2236                                       2237   \n",
       "top             NaN  Terry Murphy  8645 Davis Lights\\nEast Carolyn, TN 76559   \n",
       "freq            NaN             2                                          1   \n",
       "mean    1118.000000           NaN                                        NaN   \n",
       "std      645.910598           NaN                                        NaN   \n",
       "min        0.000000           NaN                                        NaN   \n",
       "25%      559.000000           NaN                                        NaN   \n",
       "50%     1118.000000           NaN                                        NaN   \n",
       "75%     1677.000000           NaN                                        NaN   \n",
       "max     2236.000000           NaN                                        NaN   \n",
       "\n",
       "                age   sex date_of_birth  \n",
       "count   2236.000000  2237          2236  \n",
       "unique          NaN     3          2186  \n",
       "top             NaN     F    1984-08-14  \n",
       "freq            NaN  1448             3  \n",
       "mean      51.822004   NaN           NaN  \n",
       "std       20.884439   NaN           NaN  \n",
       "min        1.000000   NaN           NaN  \n",
       "25%       36.000000   NaN           NaN  \n",
       "50%       54.000000   NaN           NaN  \n",
       "75%       67.000000   NaN           NaN  \n",
       "max      455.000000   NaN           NaN  "
      ]
     },
     "execution_count": 9,
     "metadata": {},
     "output_type": "execute_result"
    }
   ],
   "source": [
    "personal_train.describe(include='all')"
   ]
  },
  {
   "cell_type": "code",
   "execution_count": 10,
   "metadata": {},
   "outputs": [
    {
     "name": "stdout",
     "output_type": "stream",
     "text": [
      "<class 'pandas.core.frame.DataFrame'>\n",
      "RangeIndex: 2237 entries, 0 to 2236\n",
      "Data columns (total 6 columns):\n",
      "Unnamed: 0       2237 non-null int64\n",
      "name             2237 non-null object\n",
      "address          2237 non-null object\n",
      "age              2236 non-null float64\n",
      "sex              2237 non-null object\n",
      "date_of_birth    2236 non-null object\n",
      "dtypes: float64(1), int64(1), object(4)\n",
      "memory usage: 104.9+ KB\n"
     ]
    }
   ],
   "source": [
    "personal_train.info()"
   ]
  },
  {
   "cell_type": "markdown",
   "metadata": {},
   "source": [
    "Dataset s osobnymi udajmi obsahuje textove atributy 'name' a 'address', ciselny atribut 'age', kategoricky atribut 'sex', a datum narodenia 'date_of_birth'.\n",
    "\n",
    "Na prvy pohlad vidime, ze stlpec 'age' obsahuje extremne vysoky maximum 455 rokov, co moze znamenat napriklad preklep, ale na rozhodnutie potrebujeme blizsi pohlad na data.\n",
    "\n",
    "Vsetky mena su skoro unikatne (len Terry Murphy sa vyskytuje dvakrat), a kazda adresa je unikatna. Tato informacia moze pomoct pri spajani tabuliek."
   ]
  },
  {
   "cell_type": "markdown",
   "metadata": {},
   "source": [
    "#### **uprava stlpcov s true/false hodnotami**"
   ]
  },
  {
   "cell_type": "code",
   "execution_count": 11,
   "metadata": {},
   "outputs": [],
   "source": [
    "true_false_cols = ['on antithyroid medication','query hyperthyroid','FTI measured',\n",
    "                   'lithium','tumor','sick','TT4 measured','goitre','hypopituitary',\n",
    "                   'TBG measured']"
   ]
  },
  {
   "cell_type": "code",
   "execution_count": 12,
   "metadata": {},
   "outputs": [
    {
     "name": "stdout",
     "output_type": "stream",
     "text": [
      "on antithyroid medication: ['f' 'FALSE' 'TRUE' 'F' 't' nan 'f.2']\n",
      "query hyperthyroid: ['f' 't' nan 'f.8']\n",
      "FTI measured: ['t' 'f' nan 't.4']\n",
      "lithium: ['f' 't' nan 'f.9']\n",
      "tumor: ['f' 't' nan 'f.11']\n",
      "sick: ['f' nan 't' 'f.3']\n",
      "TT4 measured: ['t' 'f' nan 't.2']\n",
      "goitre: ['f' nan 't' 'f.10']\n",
      "hypopituitary: ['f' nan 'f.12']\n",
      "TBG measured: ['f' nan 'f.14']\n"
     ]
    }
   ],
   "source": [
    "for v in true_false_cols:\n",
    "    print(v + \": \" + str(other_train[v].unique()))"
   ]
  },
  {
   "cell_type": "markdown",
   "metadata": {},
   "source": [
    "Tieto hodnoty treba zredukovat na hodnoty true, false a Nan."
   ]
  },
  {
   "cell_type": "code",
   "execution_count": 13,
   "metadata": {},
   "outputs": [],
   "source": [
    "def set_true_false(df,column):\n",
    "    df[column] = df[column].map(lambda x: 'f' if 'f' in x.lower() else 't', na_action='ignore')"
   ]
  },
  {
   "cell_type": "code",
   "execution_count": 14,
   "metadata": {},
   "outputs": [],
   "source": [
    "for c in true_false_cols:\n",
    "    set_true_false(other_train,c)"
   ]
  },
  {
   "cell_type": "markdown",
   "metadata": {},
   "source": [
    "### Podiel chybajucich hodnot v jednotlivych stlpcoch"
   ]
  },
  {
   "cell_type": "markdown",
   "metadata": {},
   "source": [
    "#### dataset 'other'"
   ]
  },
  {
   "cell_type": "code",
   "execution_count": 15,
   "metadata": {},
   "outputs": [
    {
     "data": {
      "text/plain": [
       "<matplotlib.axes._subplots.AxesSubplot at 0x7f81e9fc9e10>"
      ]
     },
     "execution_count": 15,
     "metadata": {},
     "output_type": "execute_result"
    },
    {
     "data": {
      "image/png": "[encoded data removed]",
      "text/plain": [
       "<Figure size 1080x288 with 1 Axes>"
      ]
     },
     "metadata": {},
     "output_type": "display_data"
    }
   ],
   "source": [
    "plt.figure(figsize=(15,4))\n",
    "other_train.isna().sum().map(lambda x: (x / other_train.shape[0])* 100).plot(kind='bar',title = 'Ratio of missing values')"
   ]
  },
  {
   "cell_type": "markdown",
   "metadata": {},
   "source": [
    "Na prvy pohlad pri vacsine atributov je malo chybajucich hodnot, ale pri atribute T3 uz chyba viac ako 20%, preto nebude mat taku vypovednu hodnotu. Pri viacerych atributoch su chybajuce hodnoty znacene inym sposobom (napriklad '???'), preto tento prvy pohlad pravdepodobne nie je presny"
   ]
  },
  {
   "cell_type": "markdown",
   "metadata": {},
   "source": [
    "#### dataset 'personal'"
   ]
  },
  {
   "cell_type": "code",
   "execution_count": 16,
   "metadata": {},
   "outputs": [
    {
     "data": {
      "text/plain": [
       "<matplotlib.axes._subplots.AxesSubplot at 0x7f81b3c3a898>"
      ]
     },
     "execution_count": 16,
     "metadata": {},
     "output_type": "execute_result"
    },
    {
     "data": {
      "image/png": "[encoded data removed]",
      "text/plain": [
       "<Figure size 1080x288 with 1 Axes>"
      ]
     },
     "metadata": {},
     "output_type": "display_data"
    }
   ],
   "source": [
    "plt.figure(figsize=(15,4))\n",
    "personal_train.isna().sum().map(lambda x: (x / other_train.shape[0])* 100).plot(kind='bar',title = 'Ratio of missing values')"
   ]
  },
  {
   "cell_type": "markdown",
   "metadata": {},
   "source": [
    "Dataset personal obsahuje na prvy pohlad velmi malo chybajucich hodnot"
   ]
  },
  {
   "cell_type": "markdown",
   "metadata": {},
   "source": [
    "### Pohľad na atribut class (dataset 'other')"
   ]
  },
  {
   "cell_type": "markdown",
   "metadata": {},
   "source": [
    "Atribut class obsahuje udaje o tom, ci dany pacient mal negativne vysledky, alebo je chory, tento atribut chceme v buducnosti predikovat, preto je dolezite ju analyzovat"
   ]
  },
  {
   "cell_type": "markdown",
   "metadata": {},
   "source": [
    "Pocet uniktnych hodnot:"
   ]
  },
  {
   "cell_type": "code",
   "execution_count": 18,
   "metadata": {},
   "outputs": [
    {
     "data": {
      "text/plain": [
       "2238"
      ]
     },
     "execution_count": 18,
     "metadata": {},
     "output_type": "execute_result"
    }
   ],
   "source": [
    "other_train['class'].unique().shape[0]"
   ]
  },
  {
   "cell_type": "code",
   "execution_count": 19,
   "metadata": {},
   "outputs": [
    {
     "data": {
      "text/plain": [
       "0     negative.|165\n",
       "1    negative.|2191\n",
       "2    negative.|1019\n",
       "3    negative.|1061\n",
       "4    Negative.|1173\n",
       "Name: class, dtype: object"
      ]
     },
     "execution_count": 19,
     "metadata": {},
     "output_type": "execute_result"
    }
   ],
   "source": [
    "other_train['class'].head()"
   ]
  },
  {
   "cell_type": "markdown",
   "metadata": {},
   "source": [
    "Predikovany atribut \"class\" potrebujeme upravit na tri kategorie a to negative, increased (binding protein) a decreased (binding protein), podla stavu pacienta "
   ]
  },
  {
   "cell_type": "code",
   "execution_count": 20,
   "metadata": {},
   "outputs": [
    {
     "data": {
      "text/plain": [
       "array(['negative.|165', 'negative.|2191', 'negative.|1019', ...,\n",
       "       'increased binding protein.|1018', 'Negative.|2378',\n",
       "       'increased binding protein.|882'], dtype=object)"
      ]
     },
     "execution_count": 20,
     "metadata": {},
     "output_type": "execute_result"
    }
   ],
   "source": [
    "other_train['class'].unique()"
   ]
  },
  {
   "cell_type": "code",
   "execution_count": 21,
   "metadata": {},
   "outputs": [],
   "source": [
    "def findPatternChange(df,column, new_column, source, target):\n",
    "    sample = df[column].str.contains(source, na=False, regex=False, case=False)\n",
    "    df.loc[sample, new_column] = target\n",
    "    return df"
   ]
  },
  {
   "cell_type": "code",
   "execution_count": 22,
   "metadata": {},
   "outputs": [],
   "source": [
    "analz_data = findPatternChange(other_train,'class','new_class','negative','negative')\n",
    "analz_data = findPatternChange(analz_data,'class','new_class','increased','increased')\n",
    "analz_data = findPatternChange(analz_data,'class','new_class','decreased','decreased')"
   ]
  },
  {
   "cell_type": "code",
   "execution_count": 23,
   "metadata": {},
   "outputs": [
    {
     "data": {
      "text/plain": [
       "<matplotlib.axes._subplots.AxesSubplot at 0x7f81aefe4ba8>"
      ]
     },
     "execution_count": 23,
     "metadata": {},
     "output_type": "execute_result"
    },
    {
     "data": {
      "image/png": "[encoded data removed]",
      "text/plain": [
       "<Figure size 576x432 with 1 Axes>"
      ]
     },
     "metadata": {},
     "output_type": "display_data"
    }
   ],
   "source": [
    "analz_data['new_class'].value_counts().plot.pie(autopct='%1.1f%%', title = \"Overview of conclusions in dataset\")"
   ]
  },
  {
   "cell_type": "markdown",
   "metadata": {},
   "source": [
    "Vacsina sledovanych ludi ma zaver 'negative', male percento ma zaznamenane zmeny v organizme, tento rozdiel moze sposobovat nepresnosti pri analyze, s ktorym treba pocitat"
   ]
  },
  {
   "cell_type": "markdown",
   "metadata": {},
   "source": [
    "### Numericke atributy\n",
    "OTHER: Unnamed: 0, TT4, T4U, capital-loss, capital-gain, TSH, T3, fnlwgt, education-num, FTI\n",
    "\n",
    "PERSONAL: age"
   ]
  },
  {
   "cell_type": "markdown",
   "metadata": {},
   "source": [
    "Funkcia, ktora zobrazi zakladny pohlad na data (uz v zavislosti od stavu pacienta):"
   ]
  },
  {
   "cell_type": "code",
   "execution_count": 24,
   "metadata": {},
   "outputs": [],
   "source": [
    "def analyze_numeric(df, column):\n",
    "    print(df[column].describe())\n",
    "    sns.distplot(df[df['new_class'] == 'increased'][column].dropna(), kde_kws={\"color\": \"b\", \"lw\": 3, \"label\": \"increased\"})\n",
    "    sns.distplot(df[df['new_class'] == 'decreased'][column].dropna(), kde_kws={\"color\": \"g\", \"lw\": 3, \"label\": \"decreased\"})\n",
    "    sns.distplot(df[df['new_class'] == 'negative'][column].dropna(), kde_kws={\"color\": \"r\", \"lw\": 3, \"label\": \"negative\"},)\n",
    "    box_plot = df.boxplot(column=column, by='new_class')\n",
    "    "
   ]
  },
  {
   "cell_type": "markdown",
   "metadata": {},
   "source": [
    "#### Unnamed: 0"
   ]
  },
  {
   "cell_type": "code",
   "execution_count": 25,
   "metadata": {},
   "outputs": [
    {
     "data": {
      "text/plain": [
       "0    0\n",
       "1    1\n",
       "2    2\n",
       "3    3\n",
       "4    4\n",
       "Name: Unnamed: 0, dtype: int64"
      ]
     },
     "execution_count": 25,
     "metadata": {},
     "output_type": "execute_result"
    }
   ],
   "source": [
    "other_train['Unnamed: 0'].head()"
   ]
  },
  {
   "cell_type": "markdown",
   "metadata": {},
   "source": [
    "Tento atribut obsahuje len indexy, v pohladu analyzi nie je zaujimavy"
   ]
  },
  {
   "cell_type": "markdown",
   "metadata": {},
   "source": [
    "#### TT4"
   ]
  },
  {
   "cell_type": "code",
   "execution_count": 187,
   "metadata": {},
   "outputs": [
    {
     "data": {
      "text/plain": [
       "0     84.0\n",
       "1    128.0\n",
       "2    114.0\n",
       "3     91.0\n",
       "4     83.0\n",
       "Name: TT4, dtype: object"
      ]
     },
     "execution_count": 187,
     "metadata": {},
     "output_type": "execute_result"
    }
   ],
   "source": [
    "other_train.TT4.head()"
   ]
  },
  {
   "cell_type": "markdown",
   "metadata": {},
   "source": [
    "Tento atribut sa javi, ako ciselny, ale je ulozeny, ako object, preto ho pretypujeme na numericku hodnotu."
   ]
  },
  {
   "cell_type": "code",
   "execution_count": 188,
   "metadata": {},
   "outputs": [],
   "source": [
    "other_train['TT4'] = pd.to_numeric(other_train.TT4, errors='coerce')"
   ]
  },
  {
   "cell_type": "code",
   "execution_count": 189,
   "metadata": {},
   "outputs": [
    {
     "data": {
      "text/plain": [
       "0     84.0\n",
       "1    128.0\n",
       "2    114.0\n",
       "3     91.0\n",
       "4     83.0\n",
       "Name: TT4, dtype: float64"
      ]
     },
     "execution_count": 189,
     "metadata": {},
     "output_type": "execute_result"
    }
   ],
   "source": [
    "other_train.TT4.head()"
   ]
  },
  {
   "cell_type": "code",
   "execution_count": 190,
   "metadata": {},
   "outputs": [
    {
     "name": "stdout",
     "output_type": "stream",
     "text": [
      "count    1909.000000\n",
      "mean      109.077737\n",
      "std        35.544961\n",
      "min         2.000000\n",
      "25%        88.000000\n",
      "50%       104.000000\n",
      "75%       125.000000\n",
      "max       430.000000\n",
      "Name: TT4, dtype: float64\n"
     ]
    },
    {
     "name": "stderr",
     "output_type": "stream",
     "text": [
      "C:\\Anaconda3\\lib\\site-packages\\scipy\\stats\\stats.py:1713: FutureWarning: Using a non-tuple sequence for multidimensional indexing is deprecated; use `arr[tuple(seq)]` instead of `arr[seq]`. In the future this will be interpreted as an array index, `arr[np.array(seq)]`, which will result either in an error or a different result.\n",
      "  return np.add.reduce(sorted[indexer] * weights, axis=axis) / sumval\n",
      "C:\\Anaconda3\\lib\\site-packages\\matplotlib\\axes\\_axes.py:6462: UserWarning: The 'normed' kwarg is deprecated, and has been replaced by the 'density' kwarg.\n",
      "  warnings.warn(\"The 'normed' kwarg is deprecated, and has been \"\n",
      "C:\\Anaconda3\\lib\\site-packages\\matplotlib\\axes\\_axes.py:6462: UserWarning: The 'normed' kwarg is deprecated, and has been replaced by the 'density' kwarg.\n",
      "  warnings.warn(\"The 'normed' kwarg is deprecated, and has been \"\n",
      "C:\\Anaconda3\\lib\\site-packages\\matplotlib\\axes\\_axes.py:6462: UserWarning: The 'normed' kwarg is deprecated, and has been replaced by the 'density' kwarg.\n",
      "  warnings.warn(\"The 'normed' kwarg is deprecated, and has been \"\n"
     ]
    },
    {
     "data": {
      "image/png": "[encoded data removed]",
      "text/plain": [
       "<Figure size 576x432 with 1 Axes>"
      ]
     },
     "metadata": {},
     "output_type": "display_data"
    },
    {
     "data": {
      "image/png": "[encoded data removed]",
      "text/plain": [
       "<Figure size 576x432 with 1 Axes>"
      ]
     },
     "metadata": {},
     "output_type": "display_data"
    }
   ],
   "source": [
    "analyze_numeric(other_train,'TT4')"
   ]
  },
  {
   "cell_type": "markdown",
   "metadata": {},
   "source": [
    "Z grafov vyplyva, na zaklade tohto atributu sa daju najst rozdiely medzi negativnymi a medzi ludmi so zmenenou hodnotou proteinov. Boxplot ukazuje, ze ludia s negativnym vysledkom sa nachadzaju aj v rozsahu, kde su ludia s naznakom choroby, preto tento atribut samostatne nie je dostatocne dobry identifikator choroby"
   ]
  },
  {
   "cell_type": "markdown",
   "metadata": {},
   "source": [
    "#### T4U"
   ]
  },
  {
   "cell_type": "code",
   "execution_count": 26,
   "metadata": {},
   "outputs": [
    {
     "data": {
      "text/plain": [
       "0    0.87\n",
       "1    1.14\n",
       "2    1.02\n",
       "3    1.16\n",
       "4    0.82\n",
       "Name: T4U, dtype: float64"
      ]
     },
     "execution_count": 26,
     "metadata": {},
     "output_type": "execute_result"
    }
   ],
   "source": [
    "other_train.T4U.head()"
   ]
  },
  {
   "cell_type": "code",
   "execution_count": 27,
   "metadata": {},
   "outputs": [
    {
     "name": "stdout",
     "output_type": "stream",
     "text": [
      "count    2044.000000\n",
      "mean        0.995457\n",
      "std         0.191836\n",
      "min         0.310000\n",
      "25%         0.880000\n",
      "50%         0.980000\n",
      "75%         1.080000\n",
      "max         2.120000\n",
      "Name: T4U, dtype: float64\n"
     ]
    },
    {
     "name": "stderr",
     "output_type": "stream",
     "text": [
      "/home/vajk/anaconda3/lib/python3.6/site-packages/matplotlib/axes/_axes.py:6499: MatplotlibDeprecationWarning: \n",
      "The 'normed' kwarg was deprecated in Matplotlib 2.1 and will be removed in 3.1. Use 'density' instead.\n",
      "  alternative=\"'density'\", removal=\"3.1\")\n",
      "/home/vajk/anaconda3/lib/python3.6/site-packages/matplotlib/axes/_axes.py:6499: MatplotlibDeprecationWarning: \n",
      "The 'normed' kwarg was deprecated in Matplotlib 2.1 and will be removed in 3.1. Use 'density' instead.\n",
      "  alternative=\"'density'\", removal=\"3.1\")\n",
      "/home/vajk/anaconda3/lib/python3.6/site-packages/matplotlib/axes/_axes.py:6499: MatplotlibDeprecationWarning: \n",
      "The 'normed' kwarg was deprecated in Matplotlib 2.1 and will be removed in 3.1. Use 'density' instead.\n",
      "  alternative=\"'density'\", removal=\"3.1\")\n"
     ]
    },
    {
     "data": {
      "image/png": "[encoded data removed]",
      "text/plain": [
       "<Figure size 576x432 with 1 Axes>"
      ]
     },
     "metadata": {},
     "output_type": "display_data"
    },
    {
     "data": {
      "image/png": "[encoded data removed]",
      "text/plain": [
       "<Figure size 576x432 with 1 Axes>"
      ]
     },
     "metadata": {},
     "output_type": "display_data"
    }
   ],
   "source": [
    "analyze_numeric(other_train,'T4U')"
   ]
  },
  {
   "cell_type": "markdown",
   "metadata": {},
   "source": [
    "Atribut ma podobne vlastnosti, ako TT4. Zvýšená hodnota T4U sa javí ako increased zatiaľ čo nízka pripadá decreased pripadom. Atribút je vhodny na stanovenie a overenie hypotezy, či je rozdiel medzi negative a jednym z pripadov choroby signifikantny. "
   ]
  },
  {
   "cell_type": "markdown",
   "metadata": {},
   "source": [
    "#### capital-loss"
   ]
  },
  {
   "cell_type": "code",
   "execution_count": 193,
   "metadata": {},
   "outputs": [
    {
     "data": {
      "text/plain": [
       "0.0       2170\n",
       "1977.0      12\n",
       "1902.0       8\n",
       "1602.0       7\n",
       "1740.0       6\n",
       "1721.0       4\n",
       "1887.0       4\n",
       "1741.0       4\n",
       "1762.0       3\n",
       "1590.0       3\n",
       "1564.0       3\n",
       "2339.0       3\n",
       "1485.0       3\n",
       "625.0        3\n",
       "1719.0       2\n",
       "Name: capital-loss, dtype: int64"
      ]
     },
     "execution_count": 193,
     "metadata": {},
     "output_type": "execute_result"
    }
   ],
   "source": [
    "other_train['capital-loss'].value_counts().head(15)"
   ]
  },
  {
   "cell_type": "markdown",
   "metadata": {},
   "source": [
    "Vacsina hodnot je 0, atribut samostatne pravdepodobne nema velku vypovednu hodnotu"
   ]
  },
  {
   "cell_type": "markdown",
   "metadata": {},
   "source": [
    "#### capital-gain"
   ]
  },
  {
   "cell_type": "code",
   "execution_count": 194,
   "metadata": {},
   "outputs": [
    {
     "data": {
      "text/plain": [
       "0.0        2117\n",
       "7298.0       13\n",
       "15024.0      13\n",
       "7688.0        8\n",
       "8614.0        7\n",
       "4650.0        6\n",
       "99999.0       6\n",
       "5013.0        5\n",
       "5178.0        5\n",
       "27828.0       5\n",
       "10520.0       5\n",
       "2174.0        4\n",
       "3103.0        3\n",
       "3464.0        3\n",
       "2977.0        3\n",
       "Name: capital-gain, dtype: int64"
      ]
     },
     "execution_count": 194,
     "metadata": {},
     "output_type": "execute_result"
    }
   ],
   "source": [
    "other_train['capital-gain'].value_counts().head(15)"
   ]
  },
  {
   "cell_type": "markdown",
   "metadata": {},
   "source": [
    "Podobne ako v pripade capital-loss, vacsina hodnot je 0, ale dalsie hodnoty su z vacsiho rozsahu."
   ]
  },
  {
   "cell_type": "markdown",
   "metadata": {},
   "source": [
    "#### TSH"
   ]
  },
  {
   "cell_type": "code",
   "execution_count": 28,
   "metadata": {},
   "outputs": [
    {
     "data": {
      "text/plain": [
       "0    0.2\n",
       "1    3.0\n",
       "2    1.9\n",
       "3    8.5\n",
       "4    6.2\n",
       "Name: TSH, dtype: float64"
      ]
     },
     "execution_count": 28,
     "metadata": {},
     "output_type": "execute_result"
    }
   ],
   "source": [
    "other_train.TSH.head()"
   ]
  },
  {
   "cell_type": "code",
   "execution_count": 29,
   "metadata": {},
   "outputs": [
    {
     "name": "stdout",
     "output_type": "stream",
     "text": [
      "count    2041.000000\n",
      "mean        4.456781\n",
      "std        20.154550\n",
      "min         0.005000\n",
      "25%         0.440000\n",
      "50%         1.400000\n",
      "75%         2.600000\n",
      "max       478.000000\n",
      "Name: TSH, dtype: float64\n"
     ]
    },
    {
     "name": "stderr",
     "output_type": "stream",
     "text": [
      "/home/vajk/anaconda3/lib/python3.6/site-packages/matplotlib/axes/_axes.py:6499: MatplotlibDeprecationWarning: \n",
      "The 'normed' kwarg was deprecated in Matplotlib 2.1 and will be removed in 3.1. Use 'density' instead.\n",
      "  alternative=\"'density'\", removal=\"3.1\")\n",
      "/home/vajk/anaconda3/lib/python3.6/site-packages/matplotlib/axes/_axes.py:6499: MatplotlibDeprecationWarning: \n",
      "The 'normed' kwarg was deprecated in Matplotlib 2.1 and will be removed in 3.1. Use 'density' instead.\n",
      "  alternative=\"'density'\", removal=\"3.1\")\n",
      "/home/vajk/anaconda3/lib/python3.6/site-packages/matplotlib/axes/_axes.py:6499: MatplotlibDeprecationWarning: \n",
      "The 'normed' kwarg was deprecated in Matplotlib 2.1 and will be removed in 3.1. Use 'density' instead.\n",
      "  alternative=\"'density'\", removal=\"3.1\")\n"
     ]
    },
    {
     "data": {
      "image/png": "[encoded data removed]",
      "text/plain": [
       "<Figure size 576x432 with 1 Axes>"
      ]
     },
     "metadata": {},
     "output_type": "display_data"
    },
    {
     "data": {
      "image/png": "[encoded data removed]",
      "text/plain": [
       "<Figure size 576x432 with 1 Axes>"
      ]
     },
     "metadata": {},
     "output_type": "display_data"
    }
   ],
   "source": [
    "analyze_numeric(other_train,'TSH')"
   ]
  },
  {
   "cell_type": "markdown",
   "metadata": {},
   "source": [
    "Grafy naznacuju, ze chori ludia maju nizku hodnotu TSH. Podobne, ako v pripade TT4, aj ludia s negativnymi vysledkami maju vacsinou nizku hodnotu, ale su ovela viac rozptyleni, kym chori sa nachadzaju len v uzsom rozsahu\n",
    "\n",
    "Tiez je velky rozdiel medzi priemerom a medianom, tieto udaje su vychylene, prevazna vecsina udajov je blizkosti 0, v pripade pacientov s negativnym vysledkom sa tato hodnota hybe vo velkom rozsahu, so 2 velmi extremne pripady, mohli by indikovat nepresne merania, alebo inu chybu."
   ]
  },
  {
   "cell_type": "code",
   "execution_count": 30,
   "metadata": {},
   "outputs": [
    {
     "data": {
      "text/html": [
       "<div>\n",
       "<style scoped>\n",
       "    .dataframe tbody tr th:only-of-type {\n",
       "        vertical-align: middle;\n",
       "    }\n",
       "\n",
       "    .dataframe tbody tr th {\n",
       "        vertical-align: top;\n",
       "    }\n",
       "\n",
       "    .dataframe thead th {\n",
       "        text-align: right;\n",
       "    }\n",
       "</style>\n",
       "<table border=\"1\" class=\"dataframe\">\n",
       "  <thead>\n",
       "    <tr style=\"text-align: right;\">\n",
       "      <th></th>\n",
       "      <th>Unnamed: 0</th>\n",
       "      <th>name</th>\n",
       "      <th>address</th>\n",
       "      <th>query hyperthyroid</th>\n",
       "      <th>FTI measured</th>\n",
       "      <th>education</th>\n",
       "      <th>lithium</th>\n",
       "      <th>TT4</th>\n",
       "      <th>T4U</th>\n",
       "      <th>capital-loss</th>\n",
       "      <th>capital-gain</th>\n",
       "      <th>tumor</th>\n",
       "      <th>TSH</th>\n",
       "      <th>T3</th>\n",
       "      <th>fnlwgt</th>\n",
       "      <th>hours-per-week</th>\n",
       "      <th>relationship</th>\n",
       "      <th>sick</th>\n",
       "      <th>workclass</th>\n",
       "      <th>TT4 measured</th>\n",
       "      <th>class</th>\n",
       "      <th>marital-status</th>\n",
       "      <th>goitre</th>\n",
       "      <th>native-country</th>\n",
       "      <th>hypopituitary</th>\n",
       "      <th>medical_info</th>\n",
       "      <th>on antithyroid medication</th>\n",
       "      <th>referral source</th>\n",
       "      <th>education-num</th>\n",
       "      <th>occupation</th>\n",
       "      <th>TBG measured</th>\n",
       "      <th>TBG</th>\n",
       "      <th>race</th>\n",
       "      <th>FTI</th>\n",
       "      <th>new_class</th>\n",
       "    </tr>\n",
       "  </thead>\n",
       "  <tbody>\n",
       "    <tr>\n",
       "      <th>723</th>\n",
       "      <td>723</td>\n",
       "      <td>Jaime Reels</td>\n",
       "      <td>443 Sullivan Springs\\nEast Andreaborough, LA 4...</td>\n",
       "      <td>f</td>\n",
       "      <td>t</td>\n",
       "      <td>HS-grad</td>\n",
       "      <td>f</td>\n",
       "      <td>21.0</td>\n",
       "      <td>1.1</td>\n",
       "      <td>0.0</td>\n",
       "      <td>0.0</td>\n",
       "      <td>f</td>\n",
       "      <td>468.0</td>\n",
       "      <td>0.7</td>\n",
       "      <td>170861.0</td>\n",
       "      <td>32.0</td>\n",
       "      <td>Own-child</td>\n",
       "      <td>f</td>\n",
       "      <td>State-gov</td>\n",
       "      <td>t</td>\n",
       "      <td>negative.|3047</td>\n",
       "      <td>Separated</td>\n",
       "      <td>f</td>\n",
       "      <td>United-States</td>\n",
       "      <td>f</td>\n",
       "      <td>{'query hypothyroid':'f','T4U measured':'t','p...</td>\n",
       "      <td>f</td>\n",
       "      <td>other</td>\n",
       "      <td>9.0</td>\n",
       "      <td>Other-service</td>\n",
       "      <td>f</td>\n",
       "      <td>?</td>\n",
       "      <td>White</td>\n",
       "      <td>19</td>\n",
       "      <td>negative</td>\n",
       "    </tr>\n",
       "    <tr>\n",
       "      <th>2110</th>\n",
       "      <td>2110</td>\n",
       "      <td>Geraldine Edwards</td>\n",
       "      <td>866 Perkins Prairie\\nOliviaton, NV 97905</td>\n",
       "      <td>f</td>\n",
       "      <td>t</td>\n",
       "      <td>HS-grad</td>\n",
       "      <td>f</td>\n",
       "      <td>45.0</td>\n",
       "      <td>1.3</td>\n",
       "      <td>0.0</td>\n",
       "      <td>0.0</td>\n",
       "      <td>f</td>\n",
       "      <td>478.0</td>\n",
       "      <td>NaN</td>\n",
       "      <td>172579.0</td>\n",
       "      <td>30.0</td>\n",
       "      <td>Not-in-family</td>\n",
       "      <td>f</td>\n",
       "      <td>Private</td>\n",
       "      <td>t</td>\n",
       "      <td>Negative.|3375</td>\n",
       "      <td>Separated</td>\n",
       "      <td>f</td>\n",
       "      <td>United-States</td>\n",
       "      <td>f</td>\n",
       "      <td>{'query hypothyroid':'f','T4U measured':'t','p...</td>\n",
       "      <td>f</td>\n",
       "      <td>other</td>\n",
       "      <td>9.0</td>\n",
       "      <td>Other-service</td>\n",
       "      <td>f</td>\n",
       "      <td>?</td>\n",
       "      <td>White</td>\n",
       "      <td>34</td>\n",
       "      <td>negative</td>\n",
       "    </tr>\n",
       "  </tbody>\n",
       "</table>\n",
       "</div>"
      ],
      "text/plain": [
       "      Unnamed: 0               name  \\\n",
       "723          723        Jaime Reels   \n",
       "2110        2110  Geraldine Edwards   \n",
       "\n",
       "                                                address query hyperthyroid  \\\n",
       "723   443 Sullivan Springs\\nEast Andreaborough, LA 4...                  f   \n",
       "2110           866 Perkins Prairie\\nOliviaton, NV 97905                  f   \n",
       "\n",
       "     FTI measured education lithium   TT4  T4U  capital-loss  capital-gain  \\\n",
       "723             t   HS-grad       f  21.0  1.1           0.0           0.0   \n",
       "2110            t   HS-grad       f  45.0  1.3           0.0           0.0   \n",
       "\n",
       "     tumor    TSH   T3    fnlwgt  hours-per-week    relationship sick  \\\n",
       "723      f  468.0  0.7  170861.0            32.0       Own-child    f   \n",
       "2110     f  478.0  NaN  172579.0            30.0   Not-in-family    f   \n",
       "\n",
       "       workclass TT4 measured           class marital-status goitre  \\\n",
       "723    State-gov            t  negative.|3047      Separated      f   \n",
       "2110     Private            t  Negative.|3375      Separated      f   \n",
       "\n",
       "      native-country hypopituitary  \\\n",
       "723    United-States             f   \n",
       "2110   United-States             f   \n",
       "\n",
       "                                           medical_info  \\\n",
       "723   {'query hypothyroid':'f','T4U measured':'t','p...   \n",
       "2110  {'query hypothyroid':'f','T4U measured':'t','p...   \n",
       "\n",
       "     on antithyroid medication referral source  education-num      occupation  \\\n",
       "723                          f           other            9.0   Other-service   \n",
       "2110                         f           other            9.0   Other-service   \n",
       "\n",
       "     TBG measured TBG    race FTI new_class  \n",
       "723             f   ?   White  19  negative  \n",
       "2110            f   ?   White  34  negative  "
      ]
     },
     "execution_count": 30,
     "metadata": {},
     "output_type": "execute_result"
    }
   ],
   "source": [
    "other_train[other_train.TSH > 400]"
   ]
  },
  {
   "cell_type": "markdown",
   "metadata": {},
   "source": [
    "\"What’s normal can vary depending on a number of factors, including the laboratory where your blood test is done, she adds. A normal range for TSH in most laboratories is 0.4 milliunits per liter (mU/L) to 4.0 mU/L.\" (zdroj: [https://www.everydayhealth.com/hs/healthy-living-with-hypothyroidism/understanding-test-results/](https://www.everydayhealth.com/hs/healthy-living-with-hypothyroidism/understanding-test-results/))"
   ]
  },
  {
   "cell_type": "markdown",
   "metadata": {},
   "source": [
    "Velmi vychylene hodnoty mozu znamenat pouzitie inych metrik v niektorych pripadoch."
   ]
  },
  {
   "cell_type": "markdown",
   "metadata": {},
   "source": [
    "#### T3"
   ]
  },
  {
   "cell_type": "code",
   "execution_count": 197,
   "metadata": {},
   "outputs": [
    {
     "data": {
      "text/plain": [
       "0    1.6\n",
       "1    2.3\n",
       "2    1.8\n",
       "3    2.1\n",
       "4    1.2\n",
       "Name: T3, dtype: float64"
      ]
     },
     "execution_count": 197,
     "metadata": {},
     "output_type": "execute_result"
    }
   ],
   "source": [
    "other_train.T3.head()"
   ]
  },
  {
   "cell_type": "code",
   "execution_count": 39,
   "metadata": {},
   "outputs": [
    {
     "name": "stdout",
     "output_type": "stream",
     "text": [
      "count    1795.000000\n",
      "mean        2.023175\n",
      "std         0.813347\n",
      "min         0.050000\n",
      "25%         1.600000\n",
      "50%         2.000000\n",
      "75%         2.400000\n",
      "max        10.600000\n",
      "Name: T3, dtype: float64\n"
     ]
    },
    {
     "name": "stderr",
     "output_type": "stream",
     "text": [
      "/home/vajk/anaconda3/lib/python3.6/site-packages/matplotlib/axes/_axes.py:6499: MatplotlibDeprecationWarning: \n",
      "The 'normed' kwarg was deprecated in Matplotlib 2.1 and will be removed in 3.1. Use 'density' instead.\n",
      "  alternative=\"'density'\", removal=\"3.1\")\n",
      "/home/vajk/anaconda3/lib/python3.6/site-packages/matplotlib/axes/_axes.py:6499: MatplotlibDeprecationWarning: \n",
      "The 'normed' kwarg was deprecated in Matplotlib 2.1 and will be removed in 3.1. Use 'density' instead.\n",
      "  alternative=\"'density'\", removal=\"3.1\")\n",
      "/home/vajk/anaconda3/lib/python3.6/site-packages/matplotlib/axes/_axes.py:6499: MatplotlibDeprecationWarning: \n",
      "The 'normed' kwarg was deprecated in Matplotlib 2.1 and will be removed in 3.1. Use 'density' instead.\n",
      "  alternative=\"'density'\", removal=\"3.1\")\n"
     ]
    },
    {
     "data": {
      "image/png": "[encoded data removed]",
      "text/plain": [
       "<Figure size 576x432 with 1 Axes>"
      ]
     },
     "metadata": {},
     "output_type": "display_data"
    },
    {
     "data": {
      "image/png": "[encoded data removed]",
      "text/plain": [
       "<Figure size 576x432 with 1 Axes>"
      ]
     },
     "metadata": {},
     "output_type": "display_data"
    }
   ],
   "source": [
    "analyze_numeric(other_train,'T3')"
   ]
  },
  {
   "cell_type": "markdown",
   "metadata": {},
   "source": [
    "Histogram hodnot atrinutu T3 nam ukazuje vychýlenie hodnot chorych pacientov k okrajom. Tento atribut tiez nema normalne rozdelenie, medzi priemerom a medianom je pomerne velky rozdiel. Maximum je velmi odlahla hodnota, pravdepodobne ju nemozeme brat za validnu hodnotu"
   ]
  },
  {
   "cell_type": "markdown",
   "metadata": {},
   "source": [
    "#### fnlwgt"
   ]
  },
  {
   "cell_type": "code",
   "execution_count": 199,
   "metadata": {},
   "outputs": [
    {
     "data": {
      "text/plain": [
       "0    127573.0\n",
       "1    103218.0\n",
       "2    134181.0\n",
       "3    195914.0\n",
       "4    121135.0\n",
       "Name: fnlwgt, dtype: float64"
      ]
     },
     "execution_count": 199,
     "metadata": {},
     "output_type": "execute_result"
    }
   ],
   "source": [
    "other_train.fnlwgt.head()"
   ]
  },
  {
   "cell_type": "code",
   "execution_count": 200,
   "metadata": {},
   "outputs": [
    {
     "name": "stdout",
     "output_type": "stream",
     "text": [
      "count    2.282000e+03\n",
      "mean     1.882513e+05\n",
      "std      1.092634e+05\n",
      "min      2.030800e+04\n",
      "25%      1.179322e+05\n",
      "50%      1.771505e+05\n",
      "75%      2.319945e+05\n",
      "max      1.366120e+06\n",
      "Name: fnlwgt, dtype: float64\n"
     ]
    },
    {
     "name": "stderr",
     "output_type": "stream",
     "text": [
      "C:\\Anaconda3\\lib\\site-packages\\scipy\\stats\\stats.py:1713: FutureWarning: Using a non-tuple sequence for multidimensional indexing is deprecated; use `arr[tuple(seq)]` instead of `arr[seq]`. In the future this will be interpreted as an array index, `arr[np.array(seq)]`, which will result either in an error or a different result.\n",
      "  return np.add.reduce(sorted[indexer] * weights, axis=axis) / sumval\n",
      "C:\\Anaconda3\\lib\\site-packages\\matplotlib\\axes\\_axes.py:6462: UserWarning: The 'normed' kwarg is deprecated, and has been replaced by the 'density' kwarg.\n",
      "  warnings.warn(\"The 'normed' kwarg is deprecated, and has been \"\n",
      "C:\\Anaconda3\\lib\\site-packages\\matplotlib\\axes\\_axes.py:6462: UserWarning: The 'normed' kwarg is deprecated, and has been replaced by the 'density' kwarg.\n",
      "  warnings.warn(\"The 'normed' kwarg is deprecated, and has been \"\n",
      "C:\\Anaconda3\\lib\\site-packages\\matplotlib\\axes\\_axes.py:6462: UserWarning: The 'normed' kwarg is deprecated, and has been replaced by the 'density' kwarg.\n",
      "  warnings.warn(\"The 'normed' kwarg is deprecated, and has been \"\n"
     ]
    },
    {
     "data": {
      "image/png": "[encoded data removed]",
      "text/plain": [
       "<Figure size 576x432 with 1 Axes>"
      ]
     },
     "metadata": {},
     "output_type": "display_data"
    },
    {
     "data": {
      "image/png": "[encoded data removed]",
      "text/plain": [
       "<Figure size 576x432 with 1 Axes>"
      ]
     },
     "metadata": {},
     "output_type": "display_data"
    }
   ],
   "source": [
    "analyze_numeric(other_train,'fnlwgt')"
   ]
  },
  {
   "cell_type": "markdown",
   "metadata": {},
   "source": [
    "Tento atribut ma velmi podobne rozdelenie v pripade zdravych aj horych, len v pripade negativnych je viacej extremnych hodnot, čo môže byť len dôsledok veľeho pomeru negative pripadov k ostatným."
   ]
  },
  {
   "cell_type": "markdown",
   "metadata": {},
   "source": [
    "#### education-num"
   ]
  },
  {
   "cell_type": "code",
   "execution_count": 201,
   "metadata": {},
   "outputs": [
    {
     "data": {
      "text/plain": [
       "9.0     666\n",
       "10.0    499\n",
       "13.0    301\n",
       "14.0    112\n",
       "11.0    101\n",
       "7.0      76\n",
       "12.0     61\n",
       "6.0      52\n",
       "4.0      41\n",
       "8.0      39\n",
       "5.0      30\n",
       "15.0     24\n",
       "3.0      21\n",
       "16.0     12\n",
       "2.0      11\n",
       "1.0       3\n",
       "Name: education-num, dtype: int64"
      ]
     },
     "execution_count": 201,
     "metadata": {},
     "output_type": "execute_result"
    }
   ],
   "source": [
    "other_train['education-num'].value_counts()"
   ]
  },
  {
   "cell_type": "markdown",
   "metadata": {},
   "source": [
    "Tento atribut sa javi ako kategoricky (analyza nizsie)"
   ]
  },
  {
   "cell_type": "markdown",
   "metadata": {},
   "source": [
    "#### FTI"
   ]
  },
  {
   "cell_type": "code",
   "execution_count": 202,
   "metadata": {},
   "outputs": [
    {
     "data": {
      "text/plain": [
       "0     97\n",
       "1    112\n",
       "2    112\n",
       "3     79\n",
       "4    101\n",
       "Name: FTI, dtype: object"
      ]
     },
     "execution_count": 202,
     "metadata": {},
     "output_type": "execute_result"
    }
   ],
   "source": [
    "other_train.FTI.head()"
   ]
  },
  {
   "cell_type": "markdown",
   "metadata": {},
   "source": [
    "Tento atribut obsahuje cisla, ale je typu object, su tam hodnoty '?', co pravdepodobne znaci Nan hondotu"
   ]
  },
  {
   "cell_type": "code",
   "execution_count": 203,
   "metadata": {},
   "outputs": [],
   "source": [
    "other_train['FTI'] = pd.to_numeric(other_train.FTI, errors='coerce')"
   ]
  },
  {
   "cell_type": "code",
   "execution_count": 204,
   "metadata": {},
   "outputs": [
    {
     "name": "stdout",
     "output_type": "stream",
     "text": [
      "count    2041.000000\n",
      "mean      111.201323\n",
      "std        33.218222\n",
      "min         2.000000\n",
      "25%        93.000000\n",
      "50%       107.000000\n",
      "75%       125.000000\n",
      "max       395.000000\n",
      "Name: FTI, dtype: float64\n"
     ]
    },
    {
     "name": "stderr",
     "output_type": "stream",
     "text": [
      "C:\\Anaconda3\\lib\\site-packages\\scipy\\stats\\stats.py:1713: FutureWarning: Using a non-tuple sequence for multidimensional indexing is deprecated; use `arr[tuple(seq)]` instead of `arr[seq]`. In the future this will be interpreted as an array index, `arr[np.array(seq)]`, which will result either in an error or a different result.\n",
      "  return np.add.reduce(sorted[indexer] * weights, axis=axis) / sumval\n",
      "C:\\Anaconda3\\lib\\site-packages\\matplotlib\\axes\\_axes.py:6462: UserWarning: The 'normed' kwarg is deprecated, and has been replaced by the 'density' kwarg.\n",
      "  warnings.warn(\"The 'normed' kwarg is deprecated, and has been \"\n",
      "C:\\Anaconda3\\lib\\site-packages\\matplotlib\\axes\\_axes.py:6462: UserWarning: The 'normed' kwarg is deprecated, and has been replaced by the 'density' kwarg.\n",
      "  warnings.warn(\"The 'normed' kwarg is deprecated, and has been \"\n",
      "C:\\Anaconda3\\lib\\site-packages\\matplotlib\\axes\\_axes.py:6462: UserWarning: The 'normed' kwarg is deprecated, and has been replaced by the 'density' kwarg.\n",
      "  warnings.warn(\"The 'normed' kwarg is deprecated, and has been \"\n"
     ]
    },
    {
     "data": {
      "image/png": "[encoded data removed]",
      "text/plain": [
       "<Figure size 576x432 with 1 Axes>"
      ]
     },
     "metadata": {},
     "output_type": "display_data"
    },
    {
     "data": {
      "image/png": "[encoded data removed]",
      "text/plain": [
       "<Figure size 576x432 with 1 Axes>"
      ]
     },
     "metadata": {},
     "output_type": "display_data"
    }
   ],
   "source": [
    "analyze_numeric(other_train,'FTI')"
   ]
  },
  {
   "cell_type": "markdown",
   "metadata": {},
   "source": [
    "Tento atribút ma takmer rovnake rozdelenie medzi všetkymi pacientami čo nam ukazujú obidva grafy. "
   ]
  },
  {
   "cell_type": "markdown",
   "metadata": {},
   "source": [
    "### Kategoricke atributy\n",
    "Atributy, ktore sa javia, ako kategoricke: education, education-num, relationship, workclass, marital-status, native-country, referral source, occupation, race"
   ]
  },
  {
   "cell_type": "markdown",
   "metadata": {},
   "source": [
    "funkcia na ziskania zakladneho pohladu o atribute:"
   ]
  },
  {
   "cell_type": "code",
   "execution_count": 205,
   "metadata": {},
   "outputs": [],
   "source": [
    "def analyze_cat(index, col, norm='columns', rename=\"percentage\"):\n",
    "    table = pd.crosstab(index=index, columns=col,normalize=norm)\n",
    "    \n",
    "    stacked = table.stack().reset_index().rename(columns={0: rename})\n",
    "    \n",
    "    sns.barplot(x=stacked.iloc[:,0], y=stacked.iloc[:,2], hue=stacked.iloc[:,1])\n",
    "    plt.xticks(rotation=90)\n",
    "    return stacked"
   ]
  },
  {
   "cell_type": "markdown",
   "metadata": {},
   "source": [
    "Táto funkcia vykresľuje normalizovany počet prípadov pripadajúcich danej kategorii."
   ]
  },
  {
   "cell_type": "markdown",
   "metadata": {},
   "source": [
    "#### education"
   ]
  },
  {
   "cell_type": "code",
   "execution_count": 207,
   "metadata": {},
   "outputs": [
    {
     "data": {
      "text/plain": [
       "array([' HS-grad', ' Some-college', ' Bachelors', ' 1st-4th', ' 7th-8th',\n",
       "       ' Masters', ' 10th', ' 11th', ' Doctorate', ' 5th-6th',\n",
       "       ' Assoc-voc', ' Assoc-acdm', ' 9th', ' 12th', ' Prof-school', nan,\n",
       "       ' Preschool'], dtype=object)"
      ]
     },
     "execution_count": 207,
     "metadata": {},
     "output_type": "execute_result"
    }
   ],
   "source": [
    "other_train.education.unique()"
   ]
  },
  {
   "cell_type": "code",
   "execution_count": 208,
   "metadata": {
    "scrolled": false
   },
   "outputs": [
    {
     "data": {
      "image/png": "[encoded data removed]",
      "text/plain": [
       "<Figure size 576x432 with 1 Axes>"
      ]
     },
     "metadata": {},
     "output_type": "display_data"
    }
   ],
   "source": [
    "a = analyze_cat(other_train['education'],other_train['new_class'])"
   ]
  },
  {
   "cell_type": "markdown",
   "metadata": {},
   "source": [
    "#### education-num"
   ]
  },
  {
   "cell_type": "code",
   "execution_count": 209,
   "metadata": {},
   "outputs": [
    {
     "data": {
      "text/plain": [
       "array([' HS-grad', ' Some-college', ' Bachelors', ' 1st-4th', ' 7th-8th',\n",
       "       ' Masters', ' 10th', ' 11th', ' Doctorate', ' 5th-6th',\n",
       "       ' Assoc-voc', ' Assoc-acdm', ' 9th', ' 12th', ' Prof-school', nan,\n",
       "       ' Preschool'], dtype=object)"
      ]
     },
     "execution_count": 209,
     "metadata": {},
     "output_type": "execute_result"
    }
   ],
   "source": [
    "other_train.education.unique()"
   ]
  },
  {
   "cell_type": "code",
   "execution_count": 210,
   "metadata": {},
   "outputs": [
    {
     "data": {
      "text/plain": [
       "array([ 9., 10., 13.,  2., nan,  4., 14.,  6.,  7.,  3., 11., 12.,  5.,\n",
       "        8., 15., 16.,  1.])"
      ]
     },
     "execution_count": 210,
     "metadata": {},
     "output_type": "execute_result"
    }
   ],
   "source": [
    "other_train['education-num'].unique()"
   ]
  },
  {
   "cell_type": "code",
   "execution_count": 211,
   "metadata": {},
   "outputs": [
    {
     "data": {
      "image/png": "[encoded data removed]",
      "text/plain": [
       "<Figure size 576x432 with 1 Axes>"
      ]
     },
     "metadata": {},
     "output_type": "display_data"
    }
   ],
   "source": [
    "a = analyze_cat(other_train['education-num'],other_train['new_class'])"
   ]
  },
  {
   "cell_type": "code",
   "execution_count": 212,
   "metadata": {},
   "outputs": [
    {
     "data": {
      "text/html": [
       "<div>\n",
       "<style scoped>\n",
       "    .dataframe tbody tr th:only-of-type {\n",
       "        vertical-align: middle;\n",
       "    }\n",
       "\n",
       "    .dataframe tbody tr th {\n",
       "        vertical-align: top;\n",
       "    }\n",
       "\n",
       "    .dataframe thead th {\n",
       "        text-align: right;\n",
       "    }\n",
       "</style>\n",
       "<table border=\"1\" class=\"dataframe\">\n",
       "  <thead>\n",
       "    <tr style=\"text-align: right;\">\n",
       "      <th>education-num</th>\n",
       "      <th>1.0</th>\n",
       "      <th>2.0</th>\n",
       "      <th>3.0</th>\n",
       "      <th>4.0</th>\n",
       "      <th>5.0</th>\n",
       "      <th>6.0</th>\n",
       "      <th>7.0</th>\n",
       "      <th>8.0</th>\n",
       "      <th>9.0</th>\n",
       "      <th>10.0</th>\n",
       "      <th>11.0</th>\n",
       "      <th>12.0</th>\n",
       "      <th>13.0</th>\n",
       "      <th>14.0</th>\n",
       "      <th>15.0</th>\n",
       "      <th>16.0</th>\n",
       "    </tr>\n",
       "    <tr>\n",
       "      <th>education</th>\n",
       "      <th></th>\n",
       "      <th></th>\n",
       "      <th></th>\n",
       "      <th></th>\n",
       "      <th></th>\n",
       "      <th></th>\n",
       "      <th></th>\n",
       "      <th></th>\n",
       "      <th></th>\n",
       "      <th></th>\n",
       "      <th></th>\n",
       "      <th></th>\n",
       "      <th></th>\n",
       "      <th></th>\n",
       "      <th></th>\n",
       "      <th></th>\n",
       "    </tr>\n",
       "  </thead>\n",
       "  <tbody>\n",
       "    <tr>\n",
       "      <th>10th</th>\n",
       "      <td>0</td>\n",
       "      <td>0</td>\n",
       "      <td>0</td>\n",
       "      <td>0</td>\n",
       "      <td>0</td>\n",
       "      <td>52</td>\n",
       "      <td>0</td>\n",
       "      <td>0</td>\n",
       "      <td>0</td>\n",
       "      <td>0</td>\n",
       "      <td>0</td>\n",
       "      <td>0</td>\n",
       "      <td>0</td>\n",
       "      <td>0</td>\n",
       "      <td>0</td>\n",
       "      <td>0</td>\n",
       "    </tr>\n",
       "    <tr>\n",
       "      <th>11th</th>\n",
       "      <td>0</td>\n",
       "      <td>0</td>\n",
       "      <td>0</td>\n",
       "      <td>0</td>\n",
       "      <td>0</td>\n",
       "      <td>0</td>\n",
       "      <td>76</td>\n",
       "      <td>0</td>\n",
       "      <td>0</td>\n",
       "      <td>0</td>\n",
       "      <td>0</td>\n",
       "      <td>0</td>\n",
       "      <td>0</td>\n",
       "      <td>0</td>\n",
       "      <td>0</td>\n",
       "      <td>0</td>\n",
       "    </tr>\n",
       "    <tr>\n",
       "      <th>12th</th>\n",
       "      <td>0</td>\n",
       "      <td>0</td>\n",
       "      <td>0</td>\n",
       "      <td>0</td>\n",
       "      <td>0</td>\n",
       "      <td>0</td>\n",
       "      <td>0</td>\n",
       "      <td>39</td>\n",
       "      <td>0</td>\n",
       "      <td>0</td>\n",
       "      <td>0</td>\n",
       "      <td>0</td>\n",
       "      <td>0</td>\n",
       "      <td>0</td>\n",
       "      <td>0</td>\n",
       "      <td>0</td>\n",
       "    </tr>\n",
       "    <tr>\n",
       "      <th>1st-4th</th>\n",
       "      <td>0</td>\n",
       "      <td>11</td>\n",
       "      <td>0</td>\n",
       "      <td>0</td>\n",
       "      <td>0</td>\n",
       "      <td>0</td>\n",
       "      <td>0</td>\n",
       "      <td>0</td>\n",
       "      <td>0</td>\n",
       "      <td>0</td>\n",
       "      <td>0</td>\n",
       "      <td>0</td>\n",
       "      <td>0</td>\n",
       "      <td>0</td>\n",
       "      <td>0</td>\n",
       "      <td>0</td>\n",
       "    </tr>\n",
       "    <tr>\n",
       "      <th>5th-6th</th>\n",
       "      <td>0</td>\n",
       "      <td>0</td>\n",
       "      <td>21</td>\n",
       "      <td>0</td>\n",
       "      <td>0</td>\n",
       "      <td>0</td>\n",
       "      <td>0</td>\n",
       "      <td>0</td>\n",
       "      <td>0</td>\n",
       "      <td>0</td>\n",
       "      <td>0</td>\n",
       "      <td>0</td>\n",
       "      <td>0</td>\n",
       "      <td>0</td>\n",
       "      <td>0</td>\n",
       "      <td>0</td>\n",
       "    </tr>\n",
       "    <tr>\n",
       "      <th>7th-8th</th>\n",
       "      <td>0</td>\n",
       "      <td>0</td>\n",
       "      <td>0</td>\n",
       "      <td>41</td>\n",
       "      <td>0</td>\n",
       "      <td>0</td>\n",
       "      <td>0</td>\n",
       "      <td>0</td>\n",
       "      <td>0</td>\n",
       "      <td>0</td>\n",
       "      <td>0</td>\n",
       "      <td>0</td>\n",
       "      <td>0</td>\n",
       "      <td>0</td>\n",
       "      <td>0</td>\n",
       "      <td>0</td>\n",
       "    </tr>\n",
       "    <tr>\n",
       "      <th>9th</th>\n",
       "      <td>0</td>\n",
       "      <td>0</td>\n",
       "      <td>0</td>\n",
       "      <td>0</td>\n",
       "      <td>30</td>\n",
       "      <td>0</td>\n",
       "      <td>0</td>\n",
       "      <td>0</td>\n",
       "      <td>0</td>\n",
       "      <td>0</td>\n",
       "      <td>0</td>\n",
       "      <td>0</td>\n",
       "      <td>0</td>\n",
       "      <td>0</td>\n",
       "      <td>0</td>\n",
       "      <td>0</td>\n",
       "    </tr>\n",
       "    <tr>\n",
       "      <th>Assoc-acdm</th>\n",
       "      <td>0</td>\n",
       "      <td>0</td>\n",
       "      <td>0</td>\n",
       "      <td>0</td>\n",
       "      <td>0</td>\n",
       "      <td>0</td>\n",
       "      <td>0</td>\n",
       "      <td>0</td>\n",
       "      <td>0</td>\n",
       "      <td>0</td>\n",
       "      <td>0</td>\n",
       "      <td>61</td>\n",
       "      <td>0</td>\n",
       "      <td>0</td>\n",
       "      <td>0</td>\n",
       "      <td>0</td>\n",
       "    </tr>\n",
       "    <tr>\n",
       "      <th>Assoc-voc</th>\n",
       "      <td>0</td>\n",
       "      <td>0</td>\n",
       "      <td>0</td>\n",
       "      <td>0</td>\n",
       "      <td>0</td>\n",
       "      <td>0</td>\n",
       "      <td>0</td>\n",
       "      <td>0</td>\n",
       "      <td>0</td>\n",
       "      <td>0</td>\n",
       "      <td>101</td>\n",
       "      <td>0</td>\n",
       "      <td>0</td>\n",
       "      <td>0</td>\n",
       "      <td>0</td>\n",
       "      <td>0</td>\n",
       "    </tr>\n",
       "    <tr>\n",
       "      <th>Bachelors</th>\n",
       "      <td>0</td>\n",
       "      <td>0</td>\n",
       "      <td>0</td>\n",
       "      <td>0</td>\n",
       "      <td>0</td>\n",
       "      <td>0</td>\n",
       "      <td>0</td>\n",
       "      <td>0</td>\n",
       "      <td>0</td>\n",
       "      <td>0</td>\n",
       "      <td>0</td>\n",
       "      <td>0</td>\n",
       "      <td>300</td>\n",
       "      <td>0</td>\n",
       "      <td>0</td>\n",
       "      <td>0</td>\n",
       "    </tr>\n",
       "    <tr>\n",
       "      <th>Doctorate</th>\n",
       "      <td>0</td>\n",
       "      <td>0</td>\n",
       "      <td>0</td>\n",
       "      <td>0</td>\n",
       "      <td>0</td>\n",
       "      <td>0</td>\n",
       "      <td>0</td>\n",
       "      <td>0</td>\n",
       "      <td>0</td>\n",
       "      <td>0</td>\n",
       "      <td>0</td>\n",
       "      <td>0</td>\n",
       "      <td>0</td>\n",
       "      <td>0</td>\n",
       "      <td>0</td>\n",
       "      <td>12</td>\n",
       "    </tr>\n",
       "    <tr>\n",
       "      <th>HS-grad</th>\n",
       "      <td>0</td>\n",
       "      <td>0</td>\n",
       "      <td>0</td>\n",
       "      <td>0</td>\n",
       "      <td>0</td>\n",
       "      <td>0</td>\n",
       "      <td>0</td>\n",
       "      <td>0</td>\n",
       "      <td>665</td>\n",
       "      <td>0</td>\n",
       "      <td>0</td>\n",
       "      <td>0</td>\n",
       "      <td>0</td>\n",
       "      <td>0</td>\n",
       "      <td>0</td>\n",
       "      <td>0</td>\n",
       "    </tr>\n",
       "    <tr>\n",
       "      <th>Masters</th>\n",
       "      <td>0</td>\n",
       "      <td>0</td>\n",
       "      <td>0</td>\n",
       "      <td>0</td>\n",
       "      <td>0</td>\n",
       "      <td>0</td>\n",
       "      <td>0</td>\n",
       "      <td>0</td>\n",
       "      <td>0</td>\n",
       "      <td>0</td>\n",
       "      <td>0</td>\n",
       "      <td>0</td>\n",
       "      <td>0</td>\n",
       "      <td>112</td>\n",
       "      <td>0</td>\n",
       "      <td>0</td>\n",
       "    </tr>\n",
       "    <tr>\n",
       "      <th>Preschool</th>\n",
       "      <td>3</td>\n",
       "      <td>0</td>\n",
       "      <td>0</td>\n",
       "      <td>0</td>\n",
       "      <td>0</td>\n",
       "      <td>0</td>\n",
       "      <td>0</td>\n",
       "      <td>0</td>\n",
       "      <td>0</td>\n",
       "      <td>0</td>\n",
       "      <td>0</td>\n",
       "      <td>0</td>\n",
       "      <td>0</td>\n",
       "      <td>0</td>\n",
       "      <td>0</td>\n",
       "      <td>0</td>\n",
       "    </tr>\n",
       "    <tr>\n",
       "      <th>Prof-school</th>\n",
       "      <td>0</td>\n",
       "      <td>0</td>\n",
       "      <td>0</td>\n",
       "      <td>0</td>\n",
       "      <td>0</td>\n",
       "      <td>0</td>\n",
       "      <td>0</td>\n",
       "      <td>0</td>\n",
       "      <td>0</td>\n",
       "      <td>0</td>\n",
       "      <td>0</td>\n",
       "      <td>0</td>\n",
       "      <td>0</td>\n",
       "      <td>0</td>\n",
       "      <td>24</td>\n",
       "      <td>0</td>\n",
       "    </tr>\n",
       "    <tr>\n",
       "      <th>Some-college</th>\n",
       "      <td>0</td>\n",
       "      <td>0</td>\n",
       "      <td>0</td>\n",
       "      <td>0</td>\n",
       "      <td>0</td>\n",
       "      <td>0</td>\n",
       "      <td>0</td>\n",
       "      <td>0</td>\n",
       "      <td>0</td>\n",
       "      <td>497</td>\n",
       "      <td>0</td>\n",
       "      <td>0</td>\n",
       "      <td>0</td>\n",
       "      <td>0</td>\n",
       "      <td>0</td>\n",
       "      <td>0</td>\n",
       "    </tr>\n",
       "  </tbody>\n",
       "</table>\n",
       "</div>"
      ],
      "text/plain": [
       "education-num  1.0   2.0   3.0   4.0   5.0   6.0   7.0   8.0   9.0   10.0  \\\n",
       "education                                                                   \n",
       " 10th             0     0     0     0     0    52     0     0     0     0   \n",
       " 11th             0     0     0     0     0     0    76     0     0     0   \n",
       " 12th             0     0     0     0     0     0     0    39     0     0   \n",
       " 1st-4th          0    11     0     0     0     0     0     0     0     0   \n",
       " 5th-6th          0     0    21     0     0     0     0     0     0     0   \n",
       " 7th-8th          0     0     0    41     0     0     0     0     0     0   \n",
       " 9th              0     0     0     0    30     0     0     0     0     0   \n",
       " Assoc-acdm       0     0     0     0     0     0     0     0     0     0   \n",
       " Assoc-voc        0     0     0     0     0     0     0     0     0     0   \n",
       " Bachelors        0     0     0     0     0     0     0     0     0     0   \n",
       " Doctorate        0     0     0     0     0     0     0     0     0     0   \n",
       " HS-grad          0     0     0     0     0     0     0     0   665     0   \n",
       " Masters          0     0     0     0     0     0     0     0     0     0   \n",
       " Preschool        3     0     0     0     0     0     0     0     0     0   \n",
       " Prof-school      0     0     0     0     0     0     0     0     0     0   \n",
       " Some-college     0     0     0     0     0     0     0     0     0   497   \n",
       "\n",
       "education-num  11.0  12.0  13.0  14.0  15.0  16.0  \n",
       "education                                          \n",
       " 10th             0     0     0     0     0     0  \n",
       " 11th             0     0     0     0     0     0  \n",
       " 12th             0     0     0     0     0     0  \n",
       " 1st-4th          0     0     0     0     0     0  \n",
       " 5th-6th          0     0     0     0     0     0  \n",
       " 7th-8th          0     0     0     0     0     0  \n",
       " 9th              0     0     0     0     0     0  \n",
       " Assoc-acdm       0    61     0     0     0     0  \n",
       " Assoc-voc      101     0     0     0     0     0  \n",
       " Bachelors        0     0   300     0     0     0  \n",
       " Doctorate        0     0     0     0     0    12  \n",
       " HS-grad          0     0     0     0     0     0  \n",
       " Masters          0     0     0   112     0     0  \n",
       " Preschool        0     0     0     0     0     0  \n",
       " Prof-school      0     0     0     0    24     0  \n",
       " Some-college     0     0     0     0     0     0  "
      ]
     },
     "execution_count": 212,
     "metadata": {},
     "output_type": "execute_result"
    }
   ],
   "source": [
    "pd.crosstab(index = other_train['education'],columns = other_train['education-num'])"
   ]
  },
  {
   "cell_type": "markdown",
   "metadata": {},
   "source": [
    "Na zaklade tabulky a grafu vieme s urcitostou povedat ze atrinuty education su namapovane do education-num. V tabuľke vidíme že v každom riadku má len jedna dvojica atrinutov nejaku hodnotu a ostatné su nula, to znamena že dana kategoria pripada len tomuto číslu. Education-num vsak prinasa aj informaciu o urovni vzdelania daneho pacienta.  "
   ]
  },
  {
   "cell_type": "markdown",
   "metadata": {},
   "source": [
    "#### relationship"
   ]
  },
  {
   "cell_type": "code",
   "execution_count": 213,
   "metadata": {},
   "outputs": [
    {
     "data": {
      "text/plain": [
       "array([' Not-in-family', ' Unmarried', ' Other-relative', ' Own_child',\n",
       "       ' Husband', ' Wife', ' Own-child', nan, ' Not_in_family',\n",
       "       ' Other_relative'], dtype=object)"
      ]
     },
     "execution_count": 213,
     "metadata": {},
     "output_type": "execute_result"
    }
   ],
   "source": [
    "other_train.relationship.unique()"
   ]
  },
  {
   "cell_type": "markdown",
   "metadata": {},
   "source": [
    "Viacslovne hodnoty sa opakuju len su spojene s '-' alebo s '_', preto je potrebne ich odstraniť alebo nahradiť rovnakym znakom."
   ]
  },
  {
   "cell_type": "code",
   "execution_count": 214,
   "metadata": {},
   "outputs": [],
   "source": [
    "other_train['relationship'] = other_train.relationship.replace(r'[-_]',' ', regex=True)"
   ]
  },
  {
   "cell_type": "code",
   "execution_count": 215,
   "metadata": {},
   "outputs": [
    {
     "data": {
      "image/png": "[encoded data removed]",
      "text/plain": [
       "<Figure size 576x432 with 1 Axes>"
      ]
     },
     "metadata": {},
     "output_type": "display_data"
    }
   ],
   "source": [
    "a = analyze_cat(other_train['relationship'],other_train['new_class'])"
   ]
  },
  {
   "cell_type": "code",
   "execution_count": 216,
   "metadata": {
    "scrolled": false
   },
   "outputs": [
    {
     "data": {
      "image/png": "[encoded data removed]",
      "text/plain": [
       "<Figure size 576x432 with 1 Axes>"
      ]
     },
     "metadata": {},
     "output_type": "display_data"
    }
   ],
   "source": [
    "a = analyze_cat(other_train['relationship'],other_train['new_class'], norm = False, rename = 'number of cases')"
   ]
  },
  {
   "cell_type": "markdown",
   "metadata": {},
   "source": [
    "#### workclass"
   ]
  },
  {
   "cell_type": "code",
   "execution_count": 217,
   "metadata": {},
   "outputs": [
    {
     "data": {
      "text/plain": [
       "array([' Private', ' Local-gov', ' ?', ' State-gov', ' Self-emp-not-inc',\n",
       "       ' Federal-gov', ' Self-emp-inc', nan, ' Without-pay'], dtype=object)"
      ]
     },
     "execution_count": 217,
     "metadata": {},
     "output_type": "execute_result"
    }
   ],
   "source": [
    "other_train.workclass.unique()"
   ]
  },
  {
   "cell_type": "markdown",
   "metadata": {},
   "source": [
    "hodnota '?' moze byt nahradena hodnotou nan"
   ]
  },
  {
   "cell_type": "code",
   "execution_count": 218,
   "metadata": {},
   "outputs": [],
   "source": [
    "other_train['workclass'] = other_train.workclass.replace(r' \\?',np.nan, regex=True)"
   ]
  },
  {
   "cell_type": "code",
   "execution_count": 219,
   "metadata": {},
   "outputs": [
    {
     "data": {
      "text/plain": [
       "array([' Private', ' Local-gov', nan, ' State-gov', ' Self-emp-not-inc',\n",
       "       ' Federal-gov', ' Self-emp-inc', ' Without-pay'], dtype=object)"
      ]
     },
     "execution_count": 219,
     "metadata": {},
     "output_type": "execute_result"
    }
   ],
   "source": [
    "other_train.workclass.unique()"
   ]
  },
  {
   "cell_type": "code",
   "execution_count": 220,
   "metadata": {},
   "outputs": [
    {
     "data": {
      "image/png": "[encoded data removed]",
      "text/plain": [
       "<Figure size 576x432 with 1 Axes>"
      ]
     },
     "metadata": {},
     "output_type": "display_data"
    }
   ],
   "source": [
    "a = analyze_cat(other_train.workclass,other_train.new_class)"
   ]
  },
  {
   "cell_type": "markdown",
   "metadata": {},
   "source": [
    "#### marital-status"
   ]
  },
  {
   "cell_type": "code",
   "execution_count": 221,
   "metadata": {},
   "outputs": [
    {
     "data": {
      "text/plain": [
       "array([' Separated', ' Divorced', ' Never-married', ' Married-civ-spouse',\n",
       "       ' Married-spouse-absent', ' Widowed', nan], dtype=object)"
      ]
     },
     "execution_count": 221,
     "metadata": {},
     "output_type": "execute_result"
    }
   ],
   "source": [
    "other_train['marital-status'].unique()"
   ]
  },
  {
   "cell_type": "code",
   "execution_count": 222,
   "metadata": {},
   "outputs": [
    {
     "data": {
      "text/html": [
       "<div>\n",
       "<style scoped>\n",
       "    .dataframe tbody tr th:only-of-type {\n",
       "        vertical-align: middle;\n",
       "    }\n",
       "\n",
       "    .dataframe tbody tr th {\n",
       "        vertical-align: top;\n",
       "    }\n",
       "\n",
       "    .dataframe thead th {\n",
       "        text-align: right;\n",
       "    }\n",
       "</style>\n",
       "<table border=\"1\" class=\"dataframe\">\n",
       "  <thead>\n",
       "    <tr style=\"text-align: right;\">\n",
       "      <th></th>\n",
       "      <th>marital-status</th>\n",
       "      <th>new_class</th>\n",
       "      <th>percentage</th>\n",
       "    </tr>\n",
       "  </thead>\n",
       "  <tbody>\n",
       "    <tr>\n",
       "      <th>0</th>\n",
       "      <td>Divorced</td>\n",
       "      <td>decreased</td>\n",
       "      <td>0.222222</td>\n",
       "    </tr>\n",
       "    <tr>\n",
       "      <th>1</th>\n",
       "      <td>Divorced</td>\n",
       "      <td>increased</td>\n",
       "      <td>0.247423</td>\n",
       "    </tr>\n",
       "    <tr>\n",
       "      <th>2</th>\n",
       "      <td>Divorced</td>\n",
       "      <td>negative</td>\n",
       "      <td>0.192130</td>\n",
       "    </tr>\n",
       "    <tr>\n",
       "      <th>3</th>\n",
       "      <td>Married-civ-spouse</td>\n",
       "      <td>decreased</td>\n",
       "      <td>0.222222</td>\n",
       "    </tr>\n",
       "    <tr>\n",
       "      <th>4</th>\n",
       "      <td>Married-civ-spouse</td>\n",
       "      <td>increased</td>\n",
       "      <td>0.164948</td>\n",
       "    </tr>\n",
       "    <tr>\n",
       "      <th>5</th>\n",
       "      <td>Married-civ-spouse</td>\n",
       "      <td>negative</td>\n",
       "      <td>0.303241</td>\n",
       "    </tr>\n",
       "    <tr>\n",
       "      <th>6</th>\n",
       "      <td>Married-spouse-absent</td>\n",
       "      <td>decreased</td>\n",
       "      <td>0.000000</td>\n",
       "    </tr>\n",
       "    <tr>\n",
       "      <th>7</th>\n",
       "      <td>Married-spouse-absent</td>\n",
       "      <td>increased</td>\n",
       "      <td>0.020619</td>\n",
       "    </tr>\n",
       "    <tr>\n",
       "      <th>8</th>\n",
       "      <td>Married-spouse-absent</td>\n",
       "      <td>negative</td>\n",
       "      <td>0.016667</td>\n",
       "    </tr>\n",
       "    <tr>\n",
       "      <th>9</th>\n",
       "      <td>Never-married</td>\n",
       "      <td>decreased</td>\n",
       "      <td>0.555556</td>\n",
       "    </tr>\n",
       "    <tr>\n",
       "      <th>10</th>\n",
       "      <td>Never-married</td>\n",
       "      <td>increased</td>\n",
       "      <td>0.402062</td>\n",
       "    </tr>\n",
       "    <tr>\n",
       "      <th>11</th>\n",
       "      <td>Never-married</td>\n",
       "      <td>negative</td>\n",
       "      <td>0.390741</td>\n",
       "    </tr>\n",
       "    <tr>\n",
       "      <th>12</th>\n",
       "      <td>Separated</td>\n",
       "      <td>decreased</td>\n",
       "      <td>0.000000</td>\n",
       "    </tr>\n",
       "    <tr>\n",
       "      <th>13</th>\n",
       "      <td>Separated</td>\n",
       "      <td>increased</td>\n",
       "      <td>0.082474</td>\n",
       "    </tr>\n",
       "    <tr>\n",
       "      <th>14</th>\n",
       "      <td>Separated</td>\n",
       "      <td>negative</td>\n",
       "      <td>0.045833</td>\n",
       "    </tr>\n",
       "    <tr>\n",
       "      <th>15</th>\n",
       "      <td>Widowed</td>\n",
       "      <td>decreased</td>\n",
       "      <td>0.000000</td>\n",
       "    </tr>\n",
       "    <tr>\n",
       "      <th>16</th>\n",
       "      <td>Widowed</td>\n",
       "      <td>increased</td>\n",
       "      <td>0.082474</td>\n",
       "    </tr>\n",
       "    <tr>\n",
       "      <th>17</th>\n",
       "      <td>Widowed</td>\n",
       "      <td>negative</td>\n",
       "      <td>0.051389</td>\n",
       "    </tr>\n",
       "  </tbody>\n",
       "</table>\n",
       "</div>"
      ],
      "text/plain": [
       "            marital-status  new_class  percentage\n",
       "0                 Divorced  decreased    0.222222\n",
       "1                 Divorced  increased    0.247423\n",
       "2                 Divorced   negative    0.192130\n",
       "3       Married-civ-spouse  decreased    0.222222\n",
       "4       Married-civ-spouse  increased    0.164948\n",
       "5       Married-civ-spouse   negative    0.303241\n",
       "6    Married-spouse-absent  decreased    0.000000\n",
       "7    Married-spouse-absent  increased    0.020619\n",
       "8    Married-spouse-absent   negative    0.016667\n",
       "9            Never-married  decreased    0.555556\n",
       "10           Never-married  increased    0.402062\n",
       "11           Never-married   negative    0.390741\n",
       "12               Separated  decreased    0.000000\n",
       "13               Separated  increased    0.082474\n",
       "14               Separated   negative    0.045833\n",
       "15                 Widowed  decreased    0.000000\n",
       "16                 Widowed  increased    0.082474\n",
       "17                 Widowed   negative    0.051389"
      ]
     },
     "execution_count": 222,
     "metadata": {},
     "output_type": "execute_result"
    },
    {
     "data": {
      "image/png": "[encoded data removed]",
      "text/plain": [
       "<Figure size 576x432 with 1 Axes>"
      ]
     },
     "metadata": {},
     "output_type": "display_data"
    }
   ],
   "source": [
    "analyze_cat(other_train['marital-status'],other_train['new_class'])"
   ]
  },
  {
   "cell_type": "markdown",
   "metadata": {},
   "source": [
    "#### native-country"
   ]
  },
  {
   "cell_type": "code",
   "execution_count": 223,
   "metadata": {},
   "outputs": [
    {
     "data": {
      "text/plain": [
       "array([' United-States', ' China', nan, ' Italy', ' Haiti', ' Peru',\n",
       "       ' Iran', ' Mexico', ' Columbia', ' Nicaragua', ' Poland',\n",
       "       ' Canada', ' ?', ' Ecuador', ' Laos', ' Cuba', ' Puerto-Rico',\n",
       "       ' Ireland', ' Vietnam', ' England', ' Germany',\n",
       "       ' Dominican-Republic', ' Jamaica', ' Taiwan', ' Philippines',\n",
       "       ' Hong', ' Honduras', ' Guatemala', ' India', ' South',\n",
       "       ' El-Salvador', ' France', ' Thailand', ' Greece', ' Japan',\n",
       "       ' Scotland', ' Outlying-US(Guam-USVI-etc)', ' Portugal'],\n",
       "      dtype=object)"
      ]
     },
     "execution_count": 223,
     "metadata": {},
     "output_type": "execute_result"
    }
   ],
   "source": [
    "other_train['native-country'].unique()"
   ]
  },
  {
   "cell_type": "markdown",
   "metadata": {},
   "source": [
    "'?' moze byt nahradeny s Nan"
   ]
  },
  {
   "cell_type": "code",
   "execution_count": 224,
   "metadata": {},
   "outputs": [],
   "source": [
    "other_train['native-country'] = other_train['native-country'].replace(r' \\?',np.nan, regex=True)"
   ]
  },
  {
   "cell_type": "code",
   "execution_count": 225,
   "metadata": {
    "scrolled": false
   },
   "outputs": [
    {
     "data": {
      "text/plain": [
       " United-States         2040\n",
       " Mexico                  33\n",
       " Germany                 16\n",
       " Philippines             12\n",
       " Italy                   10\n",
       " Jamaica                  8\n",
       " Columbia                 8\n",
       " Vietnam                  7\n",
       " Puerto-Rico              6\n",
       " Canada                   6\n",
       " England                  6\n",
       " El-Salvador              5\n",
       " Poland                   5\n",
       " Cuba                     5\n",
       " Dominican-Republic       4\n",
       "Name: native-country, dtype: int64"
      ]
     },
     "execution_count": 225,
     "metadata": {},
     "output_type": "execute_result"
    }
   ],
   "source": [
    "other_train['native-country'].value_counts().head(15)"
   ]
  },
  {
   "cell_type": "markdown",
   "metadata": {},
   "source": [
    "Drtiva vacsina ludi je zo Spojenych Statov, analyza na zaklade tohto atributu nie je uplne relevantna, lebo nie je dostatocne velka vzorka z ostatnych krajin"
   ]
  },
  {
   "cell_type": "markdown",
   "metadata": {},
   "source": [
    "#### referral source"
   ]
  },
  {
   "cell_type": "code",
   "execution_count": 226,
   "metadata": {},
   "outputs": [
    {
     "data": {
      "text/plain": [
       "array(['SVI', 'other', 'SVHC', 'STMW', 'SVHD', nan], dtype=object)"
      ]
     },
     "execution_count": 226,
     "metadata": {},
     "output_type": "execute_result"
    }
   ],
   "source": [
    "other_train['referral source'].unique()"
   ]
  },
  {
   "cell_type": "code",
   "execution_count": 227,
   "metadata": {},
   "outputs": [
    {
     "data": {
      "image/png": "[encoded data removed]",
      "text/plain": [
       "<Figure size 576x432 with 1 Axes>"
      ]
     },
     "metadata": {},
     "output_type": "display_data"
    }
   ],
   "source": [
    "a = analyze_cat(other_train['referral source'],other_train.new_class)"
   ]
  },
  {
   "cell_type": "markdown",
   "metadata": {},
   "source": [
    "#### occupation"
   ]
  },
  {
   "cell_type": "code",
   "execution_count": 228,
   "metadata": {},
   "outputs": [
    {
     "data": {
      "text/plain": [
       "array([' Adm-clerical', ' Handlers-cleaners', ' Sales', ' ?',\n",
       "       ' Other-service', ' Exec-managerial', ' Farming-fishing',\n",
       "       ' Prof-specialty', ' Craft-repair', ' Tech-support',\n",
       "       ' Machine-op-inspct', ' Transport-moving', nan, ' Protective-serv',\n",
       "       ' Priv-house-serv'], dtype=object)"
      ]
     },
     "execution_count": 228,
     "metadata": {},
     "output_type": "execute_result"
    }
   ],
   "source": [
    "other_train.occupation.unique()"
   ]
  },
  {
   "cell_type": "code",
   "execution_count": 229,
   "metadata": {},
   "outputs": [],
   "source": [
    "other_train['occupation'] = other_train['occupation'].replace(r' \\?',np.nan, regex=True)"
   ]
  },
  {
   "cell_type": "code",
   "execution_count": 230,
   "metadata": {},
   "outputs": [
    {
     "data": {
      "text/plain": [
       "array([' Adm-clerical', ' Handlers-cleaners', ' Sales', nan,\n",
       "       ' Other-service', ' Exec-managerial', ' Farming-fishing',\n",
       "       ' Prof-specialty', ' Craft-repair', ' Tech-support',\n",
       "       ' Machine-op-inspct', ' Transport-moving', ' Protective-serv',\n",
       "       ' Priv-house-serv'], dtype=object)"
      ]
     },
     "execution_count": 230,
     "metadata": {},
     "output_type": "execute_result"
    }
   ],
   "source": [
    "other_train.occupation.unique()"
   ]
  },
  {
   "cell_type": "code",
   "execution_count": 231,
   "metadata": {},
   "outputs": [
    {
     "data": {
      "image/png": "[encoded data removed]",
      "text/plain": [
       "<Figure size 576x432 with 1 Axes>"
      ]
     },
     "metadata": {},
     "output_type": "display_data"
    }
   ],
   "source": [
    "a = analyze_cat(other_train['occupation'], other_train.new_class)"
   ]
  },
  {
   "cell_type": "markdown",
   "metadata": {},
   "source": [
    "#### race"
   ]
  },
  {
   "cell_type": "code",
   "execution_count": 232,
   "metadata": {},
   "outputs": [
    {
     "data": {
      "text/plain": [
       "array([' White', ' Black', ' Asian-Pac-Islander', ' Amer-Indian-Eskimo',\n",
       "       nan, ' Other'], dtype=object)"
      ]
     },
     "execution_count": 232,
     "metadata": {},
     "output_type": "execute_result"
    }
   ],
   "source": [
    "other_train.race.unique()"
   ]
  },
  {
   "cell_type": "code",
   "execution_count": 233,
   "metadata": {},
   "outputs": [
    {
     "data": {
      "text/plain": [
       " White                 1897\n",
       " Black                  274\n",
       " Asian-Pac-Islander      66\n",
       " Other                   22\n",
       " Amer-Indian-Eskimo      19\n",
       "Name: race, dtype: int64"
      ]
     },
     "execution_count": 233,
     "metadata": {},
     "output_type": "execute_result"
    }
   ],
   "source": [
    "other_train.race.value_counts()"
   ]
  },
  {
   "cell_type": "code",
   "execution_count": 234,
   "metadata": {},
   "outputs": [
    {
     "data": {
      "image/png": "[encoded data removed]",
      "text/plain": [
       "<Figure size 576x432 with 1 Axes>"
      ]
     },
     "metadata": {},
     "output_type": "display_data"
    }
   ],
   "source": [
    "a = analyze_cat(other_train['race'],other_train['new_class'])"
   ]
  },
  {
   "cell_type": "markdown",
   "metadata": {},
   "source": [
    "Podobne ako v pripade krajin, vacsina sledovanych ludi je z bielej rasy, preto tento atribut nie je relevantny, lebo z ostatnych ras je nizky pocet ludi. Avšak môžme si všimnuť že pri niektorych kategoriach nefiguruju žiadne \"decreased\" prípady, to samoyrejme může bzť len chyba maleho počtu tychto pripadov.  "
   ]
  },
  {
   "cell_type": "markdown",
   "metadata": {},
   "source": [
    "### Textove atributy"
   ]
  },
  {
   "cell_type": "code",
   "execution_count": 235,
   "metadata": {},
   "outputs": [
    {
     "data": {
      "text/html": [
       "<div>\n",
       "<style scoped>\n",
       "    .dataframe tbody tr th:only-of-type {\n",
       "        vertical-align: middle;\n",
       "    }\n",
       "\n",
       "    .dataframe tbody tr th {\n",
       "        vertical-align: top;\n",
       "    }\n",
       "\n",
       "    .dataframe thead th {\n",
       "        text-align: right;\n",
       "    }\n",
       "</style>\n",
       "<table border=\"1\" class=\"dataframe\">\n",
       "  <thead>\n",
       "    <tr style=\"text-align: right;\">\n",
       "      <th></th>\n",
       "      <th>Unnamed: 0</th>\n",
       "      <th>name</th>\n",
       "      <th>address</th>\n",
       "      <th>query hyperthyroid</th>\n",
       "      <th>FTI measured</th>\n",
       "      <th>education</th>\n",
       "      <th>lithium</th>\n",
       "      <th>TT4</th>\n",
       "      <th>T4U</th>\n",
       "      <th>capital-loss</th>\n",
       "      <th>capital-gain</th>\n",
       "      <th>tumor</th>\n",
       "      <th>TSH</th>\n",
       "      <th>T3</th>\n",
       "      <th>fnlwgt</th>\n",
       "      <th>hours-per-week</th>\n",
       "      <th>relationship</th>\n",
       "      <th>sick</th>\n",
       "      <th>workclass</th>\n",
       "      <th>TT4 measured</th>\n",
       "      <th>class</th>\n",
       "      <th>marital-status</th>\n",
       "      <th>goitre</th>\n",
       "      <th>native-country</th>\n",
       "      <th>hypopituitary</th>\n",
       "      <th>medical_info</th>\n",
       "      <th>on antithyroid medication</th>\n",
       "      <th>referral source</th>\n",
       "      <th>education-num</th>\n",
       "      <th>occupation</th>\n",
       "      <th>TBG measured</th>\n",
       "      <th>TBG</th>\n",
       "      <th>race</th>\n",
       "      <th>FTI</th>\n",
       "      <th>new_class</th>\n",
       "    </tr>\n",
       "  </thead>\n",
       "  <tbody>\n",
       "    <tr>\n",
       "      <th>0</th>\n",
       "      <td>0</td>\n",
       "      <td>Christine Tanner</td>\n",
       "      <td>340 Moon Freeway\\nTamarafort, MO 35449</td>\n",
       "      <td>f</td>\n",
       "      <td>t</td>\n",
       "      <td>HS-grad</td>\n",
       "      <td>f</td>\n",
       "      <td>84.0</td>\n",
       "      <td>0.87</td>\n",
       "      <td>0.0</td>\n",
       "      <td>0.0</td>\n",
       "      <td>f</td>\n",
       "      <td>0.2</td>\n",
       "      <td>1.6</td>\n",
       "      <td>127573.0</td>\n",
       "      <td>38.0</td>\n",
       "      <td>Not in family</td>\n",
       "      <td>f</td>\n",
       "      <td>Private</td>\n",
       "      <td>t</td>\n",
       "      <td>negative.|165</td>\n",
       "      <td>Separated</td>\n",
       "      <td>f</td>\n",
       "      <td>United-States</td>\n",
       "      <td>f</td>\n",
       "      <td>{'query hypothyroid':'f','T4U measured':'t','p...</td>\n",
       "      <td>f</td>\n",
       "      <td>SVI</td>\n",
       "      <td>9.0</td>\n",
       "      <td>Adm-clerical</td>\n",
       "      <td>f</td>\n",
       "      <td>?</td>\n",
       "      <td>White</td>\n",
       "      <td>97.0</td>\n",
       "      <td>negative</td>\n",
       "    </tr>\n",
       "    <tr>\n",
       "      <th>1</th>\n",
       "      <td>1</td>\n",
       "      <td>Cynthia Raio</td>\n",
       "      <td>446 Lynch Prairie Apt. 742\\nKristineshire, CO ...</td>\n",
       "      <td>f</td>\n",
       "      <td>t</td>\n",
       "      <td>HS-grad</td>\n",
       "      <td>f</td>\n",
       "      <td>128.0</td>\n",
       "      <td>1.14</td>\n",
       "      <td>0.0</td>\n",
       "      <td>0.0</td>\n",
       "      <td>f</td>\n",
       "      <td>3.0</td>\n",
       "      <td>2.3</td>\n",
       "      <td>103218.0</td>\n",
       "      <td>40.0</td>\n",
       "      <td>Unmarried</td>\n",
       "      <td>f</td>\n",
       "      <td>Private</td>\n",
       "      <td>t</td>\n",
       "      <td>negative.|2191</td>\n",
       "      <td>Divorced</td>\n",
       "      <td>f</td>\n",
       "      <td>United-States</td>\n",
       "      <td>f</td>\n",
       "      <td>{'query hypothyroid':'f','T4U measured':'t','p...</td>\n",
       "      <td>f</td>\n",
       "      <td>other</td>\n",
       "      <td>9.0</td>\n",
       "      <td>Adm-clerical</td>\n",
       "      <td>f</td>\n",
       "      <td>?</td>\n",
       "      <td>Black</td>\n",
       "      <td>112.0</td>\n",
       "      <td>negative</td>\n",
       "    </tr>\n",
       "    <tr>\n",
       "      <th>2</th>\n",
       "      <td>2</td>\n",
       "      <td>Jason Muller</td>\n",
       "      <td>198 Garcia Stravenue Apt. 769\\nEast Shawnview,...</td>\n",
       "      <td>f</td>\n",
       "      <td>t</td>\n",
       "      <td>HS-grad</td>\n",
       "      <td>f</td>\n",
       "      <td>114.0</td>\n",
       "      <td>1.02</td>\n",
       "      <td>0.0</td>\n",
       "      <td>0.0</td>\n",
       "      <td>f</td>\n",
       "      <td>1.9</td>\n",
       "      <td>1.8</td>\n",
       "      <td>134181.0</td>\n",
       "      <td>50.0</td>\n",
       "      <td>Other relative</td>\n",
       "      <td>f</td>\n",
       "      <td>Local-gov</td>\n",
       "      <td>t</td>\n",
       "      <td>negative.|1019</td>\n",
       "      <td>Never-married</td>\n",
       "      <td>f</td>\n",
       "      <td>United-States</td>\n",
       "      <td>f</td>\n",
       "      <td>{'query hypothyroid':'f','T4U measured':'t','p...</td>\n",
       "      <td>f</td>\n",
       "      <td>SVHC</td>\n",
       "      <td>9.0</td>\n",
       "      <td>Handlers-cleaners</td>\n",
       "      <td>f</td>\n",
       "      <td>?</td>\n",
       "      <td>White</td>\n",
       "      <td>112.0</td>\n",
       "      <td>negative</td>\n",
       "    </tr>\n",
       "    <tr>\n",
       "      <th>3</th>\n",
       "      <td>3</td>\n",
       "      <td>Sharon Tomassi</td>\n",
       "      <td>1695 Judy Burg\\nEast Kurtland, MI 54744</td>\n",
       "      <td>f</td>\n",
       "      <td>t</td>\n",
       "      <td>Some-college</td>\n",
       "      <td>f</td>\n",
       "      <td>91.0</td>\n",
       "      <td>1.16</td>\n",
       "      <td>0.0</td>\n",
       "      <td>3418.0</td>\n",
       "      <td>f</td>\n",
       "      <td>8.5</td>\n",
       "      <td>2.1</td>\n",
       "      <td>195914.0</td>\n",
       "      <td>30.0</td>\n",
       "      <td>Own child</td>\n",
       "      <td>f</td>\n",
       "      <td>Private</td>\n",
       "      <td>t</td>\n",
       "      <td>negative.|1061</td>\n",
       "      <td>Never-married</td>\n",
       "      <td>f</td>\n",
       "      <td>United-States</td>\n",
       "      <td>f</td>\n",
       "      <td>{'query hypothyroid':'f','T4U measured':'t','p...</td>\n",
       "      <td>f</td>\n",
       "      <td>other</td>\n",
       "      <td>10.0</td>\n",
       "      <td>Sales</td>\n",
       "      <td>f</td>\n",
       "      <td>?</td>\n",
       "      <td>Black</td>\n",
       "      <td>79.0</td>\n",
       "      <td>negative</td>\n",
       "    </tr>\n",
       "    <tr>\n",
       "      <th>4</th>\n",
       "      <td>4</td>\n",
       "      <td>Christopher Sells</td>\n",
       "      <td>Unit 5029 Box 6752\\nDPO AE 90819</td>\n",
       "      <td>f</td>\n",
       "      <td>t</td>\n",
       "      <td>HS-grad</td>\n",
       "      <td>f</td>\n",
       "      <td>83.0</td>\n",
       "      <td>0.82</td>\n",
       "      <td>0.0</td>\n",
       "      <td>0.0</td>\n",
       "      <td>f</td>\n",
       "      <td>6.2</td>\n",
       "      <td>1.2</td>\n",
       "      <td>121135.0</td>\n",
       "      <td>40.0</td>\n",
       "      <td>Husband</td>\n",
       "      <td>f</td>\n",
       "      <td>NaN</td>\n",
       "      <td>t</td>\n",
       "      <td>Negative.|1173</td>\n",
       "      <td>Married-civ-spouse</td>\n",
       "      <td>f</td>\n",
       "      <td>United-States</td>\n",
       "      <td>f</td>\n",
       "      <td>{'query hypothyroid':'f','T4U measured':'t','p...</td>\n",
       "      <td>f</td>\n",
       "      <td>SVI</td>\n",
       "      <td>9.0</td>\n",
       "      <td>NaN</td>\n",
       "      <td>f</td>\n",
       "      <td>?</td>\n",
       "      <td>White</td>\n",
       "      <td>101.0</td>\n",
       "      <td>negative</td>\n",
       "    </tr>\n",
       "  </tbody>\n",
       "</table>\n",
       "</div>"
      ],
      "text/plain": [
       "   Unnamed: 0               name  \\\n",
       "0           0   Christine Tanner   \n",
       "1           1       Cynthia Raio   \n",
       "2           2       Jason Muller   \n",
       "3           3     Sharon Tomassi   \n",
       "4           4  Christopher Sells   \n",
       "\n",
       "                                             address query hyperthyroid  \\\n",
       "0             340 Moon Freeway\\nTamarafort, MO 35449                  f   \n",
       "1  446 Lynch Prairie Apt. 742\\nKristineshire, CO ...                  f   \n",
       "2  198 Garcia Stravenue Apt. 769\\nEast Shawnview,...                  f   \n",
       "3            1695 Judy Burg\\nEast Kurtland, MI 54744                  f   \n",
       "4                   Unit 5029 Box 6752\\nDPO AE 90819                  f   \n",
       "\n",
       "  FTI measured      education lithium    TT4   T4U  capital-loss  \\\n",
       "0            t        HS-grad       f   84.0  0.87           0.0   \n",
       "1            t        HS-grad       f  128.0  1.14           0.0   \n",
       "2            t        HS-grad       f  114.0  1.02           0.0   \n",
       "3            t   Some-college       f   91.0  1.16           0.0   \n",
       "4            t        HS-grad       f   83.0  0.82           0.0   \n",
       "\n",
       "   capital-gain tumor  TSH   T3    fnlwgt  hours-per-week     relationship  \\\n",
       "0           0.0     f  0.2  1.6  127573.0            38.0    Not in family   \n",
       "1           0.0     f  3.0  2.3  103218.0            40.0        Unmarried   \n",
       "2           0.0     f  1.9  1.8  134181.0            50.0   Other relative   \n",
       "3        3418.0     f  8.5  2.1  195914.0            30.0        Own child   \n",
       "4           0.0     f  6.2  1.2  121135.0            40.0          Husband   \n",
       "\n",
       "  sick   workclass TT4 measured           class       marital-status goitre  \\\n",
       "0    f     Private            t   negative.|165            Separated      f   \n",
       "1    f     Private            t  negative.|2191             Divorced      f   \n",
       "2    f   Local-gov            t  negative.|1019        Never-married      f   \n",
       "3    f     Private            t  negative.|1061        Never-married      f   \n",
       "4    f         NaN            t  Negative.|1173   Married-civ-spouse      f   \n",
       "\n",
       "   native-country hypopituitary  \\\n",
       "0   United-States             f   \n",
       "1   United-States             f   \n",
       "2   United-States             f   \n",
       "3   United-States             f   \n",
       "4   United-States             f   \n",
       "\n",
       "                                        medical_info  \\\n",
       "0  {'query hypothyroid':'f','T4U measured':'t','p...   \n",
       "1  {'query hypothyroid':'f','T4U measured':'t','p...   \n",
       "2  {'query hypothyroid':'f','T4U measured':'t','p...   \n",
       "3  {'query hypothyroid':'f','T4U measured':'t','p...   \n",
       "4  {'query hypothyroid':'f','T4U measured':'t','p...   \n",
       "\n",
       "  on antithyroid medication referral source  education-num  \\\n",
       "0                         f             SVI            9.0   \n",
       "1                         f           other            9.0   \n",
       "2                         f            SVHC            9.0   \n",
       "3                         f           other           10.0   \n",
       "4                         f             SVI            9.0   \n",
       "\n",
       "           occupation TBG measured TBG    race    FTI new_class  \n",
       "0        Adm-clerical            f   ?   White   97.0  negative  \n",
       "1        Adm-clerical            f   ?   Black  112.0  negative  \n",
       "2   Handlers-cleaners            f   ?   White  112.0  negative  \n",
       "3               Sales            f   ?   Black   79.0  negative  \n",
       "4                 NaN            f   ?   White  101.0  negative  "
      ]
     },
     "execution_count": 235,
     "metadata": {},
     "output_type": "execute_result"
    }
   ],
   "source": [
    "other_train.head()"
   ]
  },
  {
   "cell_type": "code",
   "execution_count": 236,
   "metadata": {},
   "outputs": [
    {
     "data": {
      "text/plain": [
       "\"{'query hypothyroid':'f','T4U measured':'t','pregnant':'f','thyroid surgery':'f','TSH measured':'t','query on thyroxine':'f','I131 treatment':'f','on thyroxine':'f','T3 measured':'t','psych':'f'}\""
      ]
     },
     "execution_count": 236,
     "metadata": {},
     "output_type": "execute_result"
    }
   ],
   "source": [
    "other_train.medical_info[1]"
   ]
  },
  {
   "cell_type": "markdown",
   "metadata": {},
   "source": [
    "### Name - Address"
   ]
  },
  {
   "cell_type": "markdown",
   "metadata": {},
   "source": [
    "Tieto dva atributy sa javia ako identifikatori pacienta. Zistili sme že mena pacientov nie su originálne, čo je problém pri spájani tabuliek. Pre unikátnu identifikáciu pacienta potrebujeme k menu pridať kombinaciu ineho jeho atributu, čo môže byť jeho adresa."
   ]
  },
  {
   "cell_type": "code",
   "execution_count": 237,
   "metadata": {},
   "outputs": [
    {
     "data": {
      "text/plain": [
       "2287"
      ]
     },
     "execution_count": 237,
     "metadata": {},
     "output_type": "execute_result"
    }
   ],
   "source": [
    "other_train.name.count()"
   ]
  },
  {
   "cell_type": "code",
   "execution_count": 238,
   "metadata": {},
   "outputs": [
    {
     "data": {
      "text/plain": [
       "50"
      ]
     },
     "execution_count": 238,
     "metadata": {},
     "output_type": "execute_result"
    }
   ],
   "source": [
    "(other_train.name.value_counts() > 1).sum()"
   ]
  },
  {
   "cell_type": "markdown",
   "metadata": {},
   "source": [
    "Vieme že 50 mien sa vyskytuje v zaznamoch aspon dvakrat, problemom moze byt urcit, ci sa jedna o toho isteho cloveka a ak ano, ako spojit jeho zaznamy z jednotlivych riadkov."
   ]
  },
  {
   "cell_type": "markdown",
   "metadata": {},
   "source": [
    "#### address"
   ]
  },
  {
   "cell_type": "code",
   "execution_count": 239,
   "metadata": {},
   "outputs": [
    {
     "data": {
      "text/plain": [
       "'340 Moon Freeway\\nTamarafort, MO 35449'"
      ]
     },
     "execution_count": 239,
     "metadata": {},
     "output_type": "execute_result"
    }
   ],
   "source": [
    "other_train.address[0]"
   ]
  },
  {
   "cell_type": "code",
   "execution_count": 240,
   "metadata": {},
   "outputs": [
    {
     "data": {
      "text/plain": [
       "49"
      ]
     },
     "execution_count": 240,
     "metadata": {},
     "output_type": "execute_result"
    }
   ],
   "source": [
    "(other_train.address.value_counts() > 1).sum()"
   ]
  },
  {
   "cell_type": "markdown",
   "metadata": {},
   "source": [
    "49 adries sa vyskytuje viackrat, v konbinacii s menom mozu pomerne spolahlivo urcovat jednotlive osoby (s vynimkou, ked napriklad syn a ote maju rovnake meno a byvaju na jednej adrese atd.). Podme sa teda pozrieť na skombinovanie a unikátnosť tychto atributov."
   ]
  },
  {
   "cell_type": "code",
   "execution_count": null,
   "metadata": {},
   "outputs": [],
   "source": [
    "table1 = other_train[['name','address']]\n",
    "table2 = personal_train[['name','address']]\n",
    "\n",
    "\n",
    "i = 0\n",
    "for index1, row1 in table1.iterrows():\n",
    "    for index2, row2 in table1.iterrows():\n",
    "        if (row1['name'] == row2['name']) & (row1['address'] == row2['address']):\n",
    "            i += 1\n",
    "            \n",
    "i"
   ]
  },
  {
   "cell_type": "code",
   "execution_count": null,
   "metadata": {},
   "outputs": [],
   "source": []
  },
  {
   "cell_type": "markdown",
   "metadata": {},
   "source": [
    "### medical info"
   ]
  },
  {
   "cell_type": "code",
   "execution_count": null,
   "metadata": {},
   "outputs": [],
   "source": [
    "other_train['medical_info'][0]"
   ]
  },
  {
   "cell_type": "markdown",
   "metadata": {},
   "source": [
    "tento stlpec obsahuje ocividne v sebe viac stlpcov, ktore mozu mat vypovednu hodnotu"
   ]
  },
  {
   "cell_type": "markdown",
   "metadata": {},
   "source": [
    "### Hladanie suvislosti medzi dvojicou spojitych atributov"
   ]
  },
  {
   "cell_type": "code",
   "execution_count": null,
   "metadata": {},
   "outputs": [],
   "source": [
    "other_train.columns"
   ]
  },
  {
   "cell_type": "markdown",
   "metadata": {},
   "source": [
    "Tie atributy, ktore naznacuju hodnotu merani by mohli byt napomocne pri urcovani, ci vysledky na chorobu budu celkovo negativne. Najprv sa pozrieme na korelaciu medzi ciselnymi atributmi"
   ]
  },
  {
   "cell_type": "code",
   "execution_count": null,
   "metadata": {},
   "outputs": [],
   "source": [
    "corr = other_train.corr()\n",
    "sn.heatmap(corr, \n",
    "            xticklabels=corr.columns.values,\n",
    "            yticklabels=corr.columns.values, annot=True)"
   ]
  },
  {
   "cell_type": "markdown",
   "metadata": {},
   "source": [
    "Z heatmap je vidno, ze atributy TT4 a T3 ako aj atributy TT4 a FTI maju vysoku kladnu korelaciu nad 0.5"
   ]
  },
  {
   "cell_type": "code",
   "execution_count": null,
   "metadata": {
    "scrolled": false
   },
   "outputs": [],
   "source": [
    "sn.scatterplot(other_train, vars=['TT4','T4U', 'capital-loss', 'capital-gain', 'TSH', 'T3', 'fnlwgt', 'education-num', 'FTI'], hue='new_class')"
   ]
  },
  {
   "cell_type": "markdown",
   "metadata": {},
   "source": [
    "Vztah FTI a TT4 podla grafu su do nejakej mieri (linearne) zavisle"
   ]
  },
  {
   "cell_type": "code",
   "execution_count": null,
   "metadata": {},
   "outputs": [],
   "source": [
    "sn.pairplot(other_train, vars=['TT4','FTI'], hue='new_class')"
   ]
  },
  {
   "cell_type": "markdown",
   "metadata": {},
   "source": [
    "Tieto dvojicky podla grafov maju skoro moderovanu kladnu korelaciu"
   ]
  },
  {
   "cell_type": "markdown",
   "metadata": {},
   "source": [
    "### suvislosti kategoricky-kategoricky"
   ]
  },
  {
   "cell_type": "code",
   "execution_count": null,
   "metadata": {},
   "outputs": [],
   "source": [
    "other_train.columns"
   ]
  },
  {
   "cell_type": "code",
   "execution_count": null,
   "metadata": {},
   "outputs": [],
   "source": [
    "crosst = pd.crosstab(index=other_train['sick'], \n",
    "                           columns=other_train[\"tumor\"])\n",
    "crosst"
   ]
  },
  {
   "cell_type": "markdown",
   "metadata": {},
   "source": [
    "### suvislost kategoricky-spojity"
   ]
  },
  {
   "cell_type": "code",
   "execution_count": null,
   "metadata": {},
   "outputs": [],
   "source": [
    "def fu():\n",
    "    for v in true_false_cols:\n",
    "        yield sn.boxplot(v, 'T4U', data=other_train)"
   ]
  },
  {
   "cell_type": "code",
   "execution_count": null,
   "metadata": {},
   "outputs": [],
   "source": [
    "f = fu()"
   ]
  },
  {
   "cell_type": "code",
   "execution_count": null,
   "metadata": {},
   "outputs": [],
   "source": [
    "next(f)"
   ]
  },
  {
   "cell_type": "code",
   "execution_count": null,
   "metadata": {},
   "outputs": [],
   "source": [
    "import json\n",
    "\n",
    "def convert(df,column):\n",
    "    for index,row in enumerate(df[column]):\n",
    "        if type(row) != float:\n",
    "            d = json.loads(row.replace(\"'\", \"\\\"\"))\n",
    "            for key,val in d.items():\n",
    "                df.loc[index,key] = val\n",
    "            \n",
    "    return df"
   ]
  },
  {
   "cell_type": "code",
   "execution_count": null,
   "metadata": {},
   "outputs": [],
   "source": [
    "convert(other_train,\"medical_info\")"
   ]
  },
  {
   "cell_type": "code",
   "execution_count": null,
   "metadata": {},
   "outputs": [],
   "source": [
    "analyze_cat(other_train['I131 treatment'],other_train['new_class'])"
   ]
  },
  {
   "cell_type": "code",
   "execution_count": null,
   "metadata": {},
   "outputs": [],
   "source": [
    "true_false_cols()"
   ]
  },
  {
   "cell_type": "markdown",
   "metadata": {},
   "source": [
    "### Formulacia a overenie hypotez o datach"
   ]
  },
  {
   "cell_type": "markdown",
   "metadata": {},
   "source": [
    "#### Hypoteza 1\n",
    "\n",
    "Pacienti s nizsimi hodnotami TT4 su klasifikovani ako decreased cize chori."
   ]
  },
  {
   "cell_type": "code",
   "execution_count": null,
   "metadata": {},
   "outputs": [],
   "source": [
    "sn.boxplot(x='new_class', y='TT4', data=other_train[other_train['new_class'] != 'increased'])"
   ]
  },
  {
   "cell_type": "code",
   "execution_count": null,
   "metadata": {},
   "outputs": [],
   "source": [
    "negative = other_train.loc[other_train['new_class'] == 'negative','TT4'].dropna()"
   ]
  },
  {
   "cell_type": "code",
   "execution_count": null,
   "metadata": {},
   "outputs": [],
   "source": [
    "decreased = other_train.loc[other_train['new_class'] == 'decreased','TT4'].dropna()"
   ]
  },
  {
   "cell_type": "code",
   "execution_count": null,
   "metadata": {},
   "outputs": [],
   "source": [
    "sn.distplot(negative)"
   ]
  },
  {
   "cell_type": "code",
   "execution_count": null,
   "metadata": {},
   "outputs": [],
   "source": [
    "sn.distplot(decreased)"
   ]
  },
  {
   "cell_type": "code",
   "execution_count": null,
   "metadata": {},
   "outputs": [],
   "source": [
    "def identify_outliers(a):\n",
    "    lower = a.quantile(0.25) - 1.5 * stats.iqr(a)\n",
    "    upper = a.quantile(0.75) + 1.5 * stats.iqr(a)\n",
    "    \n",
    "    return a[(a > upper) | (a < lower)]"
   ]
  },
  {
   "cell_type": "code",
   "execution_count": null,
   "metadata": {},
   "outputs": [],
   "source": [
    "dec_out = identify_outliers(decreased)\n",
    "decreased = decreased.drop(dec_out.index)"
   ]
  },
  {
   "cell_type": "code",
   "execution_count": null,
   "metadata": {},
   "outputs": [],
   "source": [
    "sn.distplot(decreased)"
   ]
  },
  {
   "cell_type": "code",
   "execution_count": null,
   "metadata": {},
   "outputs": [],
   "source": [
    "neg_out = identify_outliers(negative)\n",
    "negative = negative.drop(neg_out.index)"
   ]
  },
  {
   "cell_type": "code",
   "execution_count": null,
   "metadata": {},
   "outputs": [],
   "source": [
    "_ = sm.ProbPlot(negative, fit=True).qqplot(line='45')"
   ]
  },
  {
   "cell_type": "code",
   "execution_count": null,
   "metadata": {},
   "outputs": [],
   "source": [
    "_ = sm.ProbPlot(decreased, fit=True).qqplot(line='45')"
   ]
  },
  {
   "cell_type": "code",
   "execution_count": null,
   "metadata": {},
   "outputs": [],
   "source": [
    "stats.shapiro(negative)"
   ]
  },
  {
   "cell_type": "code",
   "execution_count": null,
   "metadata": {},
   "outputs": [],
   "source": [
    "stats.shapiro(decreased)"
   ]
  },
  {
   "cell_type": "code",
   "execution_count": null,
   "metadata": {},
   "outputs": [],
   "source": [
    "stats.mannwhitneyu(negative, decreased)"
   ]
  },
  {
   "cell_type": "code",
   "execution_count": null,
   "metadata": {},
   "outputs": [],
   "source": [
    "sms.DescrStatsW(negative).tconfint_mean()"
   ]
  },
  {
   "cell_type": "code",
   "execution_count": null,
   "metadata": {},
   "outputs": [],
   "source": [
    "sms.DescrStatsW(decreased).tconfint_mean()"
   ]
  },
  {
   "cell_type": "code",
   "execution_count": null,
   "metadata": {},
   "outputs": [],
   "source": [
    "sn.barplot(x='new_class', y='TT4', data=other_train[other_train['new_class'] != 'increased'], \n",
    "            capsize=0.1, errwidth=2, palette=sn.color_palette(\"Blues\"))"
   ]
  },
  {
   "cell_type": "markdown",
   "metadata": {},
   "source": [
    "#### Hypoteza 2"
   ]
  },
  {
   "cell_type": "markdown",
   "metadata": {},
   "source": [
    "### Identifikacia problemov a navrh ich riesenia"
   ]
  },
  {
   "cell_type": "markdown",
   "metadata": {},
   "source": [
    "1. Stlpce, kde su True False hodnoty maju viacere znacenie (t, True, f, false, False atd...) => treba zjendotit a zredukovat na dve hodnoty (+Nan)\n",
    "2. Stlpec 'medical info' obsahuje v sebe viacere stlpce => bude treba rozdelit\n",
    "3. V age je nerealna hodnota az 400 rokov \n",
    "4. V stlpci class su jednotlive katogorie namiesane s cislami a su aj v inom tvare, treba z nich extrahovat len potrebnu informaciu 4i je negative, increased alebo decreased."
   ]
  }
 ],
 "metadata": {
  "kernelspec": {
   "display_name": "Python 3",
   "language": "python",
   "name": "python3"
  },
  "language_info": {
   "codemirror_mode": {
    "name": "ipython",
    "version": 3
   },
   "file_extension": ".py",
   "mimetype": "text/x-python",
   "name": "python",
   "nbconvert_exporter": "python",
   "pygments_lexer": "ipython3",
   "version": "3.6.5"
  }
 },
 "nbformat": 4,
 "nbformat_minor": 2
}
