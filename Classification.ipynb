{
 "cells": [
  {
   "cell_type": "code",
   "execution_count": 167,
   "metadata": {},
   "outputs": [],
   "source": [
    "import pipelines_classes as our_ppl\n",
    "import pandas as pd\n",
    "import numpy as np\n",
    "import matplotlib.pyplot as plt\n",
    "import seaborn as sns\n",
    "import statsmodels.api as sm\n",
    "import statsmodels.stats.api as sms\n",
    "import scipy.stats as stats\n",
    "import json\n",
    "import re\n",
    "from sklearn.base import TransformerMixin\n",
    "from sklearn.pipeline import Pipeline, make_pipeline\n",
    "from functools import reduce\n",
    "from sklearn.linear_model import LinearRegression\n",
    "from sklearn.ensemble import RandomForestClassifier\n",
    "from scipy.stats import boxcox\n",
    "from sklearn.model_selection import cross_validate\n",
    "import category_encoders as ce\n",
    "import math\n",
    "from sklearn.tree import DecisionTreeRegressor, DecisionTreeClassifier\n",
    "from sklearn.preprocessing import MinMaxScaler\n",
    "from sklearn.base import clone\n",
    "from sklearn.metrics import accuracy_score, classification_report, confusion_matrix, f1_score, precision_score\n",
    "from sklearn.metrics import f1_score\n",
    "from sklearn.metrics import recall_score\n",
    "from sklearn.tree import export_graphviz\n",
    "# from graphviz import Source\n",
    "from IPython.display import SVG\n",
    "from sklearn.model_selection import RandomizedSearchCV\n",
    "\n",
    "\n",
    "from sklearn.tree import export_graphviz\n",
    "from graphviz import Source\n",
    "from IPython.display import SVG"
   ]
  },
  {
   "cell_type": "code",
   "execution_count": 2,
   "metadata": {},
   "outputs": [],
   "source": [
    "pd.options.display.max_columns = None"
   ]
  },
  {
   "cell_type": "code",
   "execution_count": 3,
   "metadata": {},
   "outputs": [],
   "source": [
    "other_train = pd.read_csv('31/other_train.csv')\n",
    "other_valid = pd.read_csv('31/other_valid.csv')\n",
    "other_test = pd.read_csv('31/other_test.csv')\n",
    "\n",
    "personal_train = pd.read_csv('31/personal_train.csv')\n",
    "personal_valid = pd.read_csv('31/personal_valid.csv')\n",
    "personal_test = pd.read_csv('31/personal_test.csv')"
   ]
  },
  {
   "cell_type": "code",
   "execution_count": 4,
   "metadata": {},
   "outputs": [],
   "source": [
    "result_train = our_ppl.merge_and_deduplicate(personal_train, other_train, columns=['name','address'],deduplic=[1], func=our_ppl.func)"
   ]
  },
  {
   "cell_type": "code",
   "execution_count": 5,
   "metadata": {},
   "outputs": [],
   "source": [
    "result_valid = our_ppl.merge_and_deduplicate(personal_valid, other_valid, columns=['name','address'],deduplic=[1], func=our_ppl.func)"
   ]
  },
  {
   "cell_type": "code",
   "execution_count": 6,
   "metadata": {},
   "outputs": [],
   "source": [
    "result_test = our_ppl.merge_and_deduplicate(personal_test, other_test, columns=['name','address'],deduplic=[1], func=our_ppl.func)"
   ]
  },
  {
   "cell_type": "code",
   "execution_count": 7,
   "metadata": {},
   "outputs": [
    {
     "data": {
      "text/plain": [
       "(1022, 34)"
      ]
     },
     "execution_count": 7,
     "metadata": {},
     "output_type": "execute_result"
    }
   ],
   "source": [
    "other_valid.shape"
   ]
  },
  {
   "cell_type": "code",
   "execution_count": 8,
   "metadata": {},
   "outputs": [
    {
     "data": {
      "text/plain": [
       "(972, 6)"
      ]
     },
     "execution_count": 8,
     "metadata": {},
     "output_type": "execute_result"
    }
   ],
   "source": [
    "personal_valid.shape"
   ]
  },
  {
   "cell_type": "code",
   "execution_count": 9,
   "metadata": {},
   "outputs": [
    {
     "data": {
      "text/plain": [
       "(972, 38)"
      ]
     },
     "execution_count": 9,
     "metadata": {},
     "output_type": "execute_result"
    }
   ],
   "source": [
    "result_valid.shape"
   ]
  },
  {
   "cell_type": "code",
   "execution_count": 10,
   "metadata": {},
   "outputs": [
    {
     "data": {
      "text/plain": [
       "(2237, 38)"
      ]
     },
     "execution_count": 10,
     "metadata": {},
     "output_type": "execute_result"
    }
   ],
   "source": [
    "result_train.shape"
   ]
  },
  {
   "cell_type": "code",
   "execution_count": 11,
   "metadata": {},
   "outputs": [
    {
     "name": "stdout",
     "output_type": "stream",
     "text": [
      "-- Extraction of  medical_info\n",
      "-- Transform object to numeric for:  ['FTI', 'T3', 'T4U', 'TSH', 'TT4', 'age', 'capital-gain', 'capital-loss', 'education-num', 'fnlwgt', 'hours-per-week']\n",
      "-- Replacing: ** f ** to:  f  , for:  ['on antithyroid medication', 'query hyperthyroid', 'FTI measured', 'lithium', 'tumor', 'sick', 'TT4 measured', 'goitre', 'hypopituitary', 'TBG measured', 'TSH measured', 'T3 measured', 'on thyroxine', 'query on thyroxine', 'psych', 'I131 treatment', 'query hypothyroid', 'T4U measured', 'thyroid surgery', 'pregnant']\n",
      "-- Replacing: ** t ** to:  t  , for:  ['on antithyroid medication', 'query hyperthyroid', 'FTI measured', 'lithium', 'tumor', 'sick', 'TT4 measured', 'goitre', 'hypopituitary', 'TBG measured', 'TSH measured', 'T3 measured', 'on thyroxine', 'query on thyroxine', 'psych', 'I131 treatment', 'query hypothyroid', 'T4U measured', 'thyroid surgery', 'pregnant']\n",
      "-- Replacing: ** negativ ** to:  negative  , for:  ['class']\n",
      "-- Replacing: ** increase ** to:  increased  , for:  ['class']\n",
      "-- Replacing: ** decrease ** to:  decreased  , for:  ['class']\n",
      "-- Replacing: ** ? ** to:  nan  , for:  ['marital-status', 'education', 'native-country', 'occupation', 'race', 'referral source', 'relationship', 'sex', 'sick', 'tumor', 'workclass', 'pregnant', 'thyroid surgery', 'I131 treatment', 'psych', 'query hypothyroid']\n",
      "-- Replace outliers with percentile for:  ['TT4', 'T4U', 'TSH', 'T3', 'FTI', 'age']\n",
      "pocet hodnot: 1464/2237, TT4(neg_mean_squared_error): -0.00474533776749\n",
      "pocet hodnot: 1464/2237, T4U(neg_mean_squared_error): -0.00396126538397\n",
      "pocet hodnot: 1464/2237, TSH(neg_mean_squared_error): -1.90871427118\n",
      "pocet hodnot: 1464/2237, T3(neg_mean_squared_error): -0.0763957296167\n",
      "pocet hodnot: 1464/2237, FTI(neg_mean_squared_error): -0.00433136548521\n",
      "pocet hodnot: 1464/2237, age(neg_mean_squared_error): -0.150135860699\n",
      "transform  ['TT4', 'T4U', 'TSH', 'T3', 'FTI', 'age']\n",
      "pocet predikovanych pre  TT4 :  360\n",
      "pocet predikovanych pre  T4U :  235\n",
      "pocet predikovanych pre  TSH :  232\n",
      "pocet predikovanych pre  T3 :  468\n",
      "pocet predikovanych pre  FTI :  235\n",
      "pocet predikovanych pre  age :  1\n",
      "pocet hodnot: 2000/2237, occupation(accuracy score): 0.266154755394\n",
      "pocet hodnot: 2000/2237, sex(accuracy score): 0.803504525028\n"
     ]
    },
    {
     "name": "stderr",
     "output_type": "stream",
     "text": [
      "C:\\Anaconda3\\lib\\site-packages\\sklearn\\model_selection\\_split.py:626: Warning: The least populated class in y has only 1 members, which is too few. The minimum number of members in any class cannot be less than n_splits=5.\n",
      "  % (min_groups, self.n_splits)), Warning)\n"
     ]
    },
    {
     "name": "stdout",
     "output_type": "stream",
     "text": [
      "pocet hodnot: 2000/2237, workclass(accuracy score): 0.749998054226\n",
      "pocet hodnot: 2000/2237, tumor(accuracy score): 0.975001128132\n",
      "transform  ['occupation', 'sex', 'workclass', 'tumor']\n",
      "pocet predikovanych pre  occupation :  151\n",
      "pocet predikovanych pre  sex :  88\n",
      "pocet predikovanych pre  workclass :  152\n",
      "pocet predikovanych pre  tumor :  1\n",
      "transform  ['TT4', 'T4U', 'TSH', 'T3', 'FTI', 'age']\n",
      "pocet predikovanych pre  TT4 :  360\n",
      "pocet predikovanych pre  T4U :  235\n",
      "pocet predikovanych pre  TSH :  232\n",
      "pocet predikovanych pre  T3 :  468\n",
      "pocet predikovanych pre  FTI :  235\n",
      "pocet predikovanych pre  age :  1\n",
      "transform  ['occupation', 'sex', 'workclass', 'tumor']\n",
      "pocet predikovanych pre  occupation :  151\n",
      "pocet predikovanych pre  sex :  88\n",
      "pocet predikovanych pre  workclass :  152\n",
      "pocet predikovanych pre  tumor :  1\n",
      "transform  ['TT4', 'T4U', 'TSH', 'T3', 'FTI', 'age']\n",
      "pocet predikovanych pre  TT4 :  139\n",
      "pocet predikovanych pre  T4U :  90\n",
      "pocet predikovanych pre  TSH :  85\n",
      "pocet predikovanych pre  T3 :  184\n",
      "pocet predikovanych pre  FTI :  91\n",
      "pocet predikovanych pre  age :  0\n",
      "transform  ['occupation', 'sex', 'workclass', 'tumor']\n",
      "pocet predikovanych pre  occupation :  77\n",
      "pocet predikovanych pre  sex :  40\n",
      "pocet predikovanych pre  workclass :  77\n",
      "pocet predikovanych pre  tumor :  0\n"
     ]
    }
   ],
   "source": [
    "true_false_cols = ['on antithyroid medication','query hyperthyroid','FTI measured',\n",
    "                   'lithium','tumor','sick','TT4 measured','goitre','hypopituitary',\n",
    "                   'TBG measured','TSH measured', 'T3 measured', 'on thyroxine',\n",
    "                   'query on thyroxine', 'psych', 'I131 treatment', 'query hypothyroid',\n",
    "                   'T4U measured', 'thyroid surgery', 'pregnant']\n",
    "\n",
    "numeric_columns = ['TT4', 'T4U','TSH', 'T3', 'FTI','age']\n",
    "\n",
    "all_numeric_columns = ['FTI', 'T3', 'T4U',  'TSH', 'TT4', 'age', 'capital-gain',\n",
    "                       'capital-loss', 'education-num', 'fnlwgt', 'hours-per-week']\n",
    "\n",
    "categorical_columns = ['occupation','sex','workclass', 'tumor']\n",
    "\n",
    "all_categorical_columns = ['marital-status','education','native-country','occupation',\n",
    "                       'race','referral source','relationship','sex','sick','tumor','workclass',\n",
    "                       'pregnant',\t'thyroid surgery', 'I131 treatment',  'psych', 'query hypothyroid']\n",
    "\n",
    "\n",
    "encoder = ce.OneHotEncoder()\n",
    "model_numeric = LinearRegression()\n",
    "model_categorical = RandomForestClassifier(n_estimators = 100,\n",
    "                    max_depth = 12, random_state = 8)\n",
    "\n",
    "\n",
    "ppl = Pipeline([\n",
    "    \n",
    "    ('ExtraxtMedicalInfo',our_ppl.Extraction('medical_info')),\n",
    "    ('AllNumObjectstoNumeric', our_ppl.ObjectToNumeric(all_numeric_columns)),\n",
    "    \n",
    "    \n",
    "    ('ReplaceFalseCorrect',our_ppl.StringReplacer(true_false_cols,'f','f')),\n",
    "    ('ReplaceTrueCorrect',our_ppl.StringReplacer(true_false_cols,'t','t')),\n",
    "    \n",
    "    ('ReplaceClassNegative',our_ppl.StringReplacer(['class'],'negativ','negative')),\n",
    "    ('ReplaceClassIncreased',our_ppl.StringReplacer(['class'],'increase','increased')),\n",
    "    ('ReplaceClassDecreased',our_ppl.StringReplacer(['class'],'decrease','decreased')),\n",
    "    \n",
    "    ('FindNans', our_ppl.StringReplacer(all_categorical_columns, '?', np.NaN)),\n",
    "    \n",
    "    # normalizacia\n",
    "    ('Ln', our_ppl.LogNormalization(numeric_columns)),\n",
    "    # odstranenie outlierov\n",
    "    ('ReplaceExtremes',our_ppl.ReplaceOutliersWithPercentile(numeric_columns)),\n",
    "    # doplnenie prazdnych hodnot modelmi\n",
    "    ('ReplaceNumericNansWithModel',our_ppl.ReplaceNanWithModel(numeric_columns, LinearRegression(), numeric_columns)),\n",
    "    ('ReplaceCategoricalNansWithModel', our_ppl.ReplaceCategoryNanWithModel(['occupation','sex','workclass','tumor'],\n",
    "                                                               ['occupation','sex','workclass', 'tumor', 'marital-status'],\n",
    "                                                                model_categorical, encoder)),\n",
    "    # doplnenie prazdnych hodnot v pripade velkeho poctu kategorii, ktore predpokladame, ze z pohladu analyzy nezohravaju az taku dolezitu ulohu\n",
    "    ('ReplaceWithMostFrequent', our_ppl.ReplaceMostFrequent(col_names=['native-country','FTI measured', 'relationship',\n",
    "                                                               'query hypothyroid','hours-per-week']))\n",
    "    \n",
    "#     (\"SelectColumns\",our_ppl.Selector(columns = []))\n",
    "    \n",
    "])\n",
    "\n",
    "model =ppl.fit(result_train)\n",
    "X_train = ppl.transform(result_train)\n",
    "X_valid = ppl.transform(result_valid)"
   ]
  },
  {
   "cell_type": "code",
   "execution_count": null,
   "metadata": {},
   "outputs": [],
   "source": [
    "X_train.head()"
   ]
  },
  {
   "cell_type": "code",
   "execution_count": null,
   "metadata": {},
   "outputs": [],
   "source": [
    "X_valid.head()"
   ]
  },
  {
   "cell_type": "markdown",
   "metadata": {},
   "source": [
    "## Manualne pravidla"
   ]
  },
  {
   "cell_type": "markdown",
   "metadata": {},
   "source": [
    "Na manualnu predikciu pouzijeme ciselne atributy, najma intenzity proteinov. vykreslime scatterploty, aby sme videli, kde by sme mohli urcit manualne hranicu "
   ]
  },
  {
   "cell_type": "code",
   "execution_count": null,
   "metadata": {
    "scrolled": false
   },
   "outputs": [],
   "source": [
    "sns.pairplot(X_train, vars=['TT4','T4U', 'capital-loss', 'capital-gain', 'TSH', 'T3', 'fnlwgt', 'education-num', 'FTI'], hue='class')"
   ]
  },
  {
   "cell_type": "code",
   "execution_count": null,
   "metadata": {
    "scrolled": true
   },
   "outputs": [],
   "source": [
    "sns.scatterplot(x = \"T4U\", y = 'TT4', data = X_train, hue = 'class')\n",
    "plt.plot([0.22,0.22],[4.75,5.5],linewidth = 2,color = 'red')\n",
    "plt.plot([0.22,0.5],[4.75,4.75],linewidth = 2,color = 'red')"
   ]
  },
  {
   "cell_type": "markdown",
   "metadata": {},
   "source": [
    "Na zaklade atributov T4U a TT4 vieme urcit oblast, kde sa nachadzaju prevazne meranie z kategorie 'increased'"
   ]
  },
  {
   "cell_type": "code",
   "execution_count": 175,
   "metadata": {},
   "outputs": [
    {
     "data": {
      "text/plain": [
       "[<matplotlib.lines.Line2D at 0x198de20cf60>]"
      ]
     },
     "execution_count": 175,
     "metadata": {},
     "output_type": "execute_result"
    },
    {
     "data": {
      "image/png": "[encoded data removed]",
      "text/plain": [
       "<matplotlib.figure.Figure at 0x198de4f3d68>"
      ]
     },
     "metadata": {},
     "output_type": "display_data"
    }
   ],
   "source": [
    "sns.scatterplot(x = \"T3\", y = 'TT4', data = X_train, hue = 'class')\n",
    "plt.plot([1.05,1.05],[3.75,5.5],linewidth = 2,color = 'red')"
   ]
  },
  {
   "cell_type": "markdown",
   "metadata": {},
   "source": [
    "Na zaklade atributu T3 vieme urcit hranicu, nad ktorou sa nachadzaju prevazne hodnoty 'increased'."
   ]
  },
  {
   "cell_type": "code",
   "execution_count": 179,
   "metadata": {},
   "outputs": [
    {
     "data": {
      "text/plain": [
       "[<matplotlib.lines.Line2D at 0x198e001a240>]"
      ]
     },
     "execution_count": 179,
     "metadata": {},
     "output_type": "execute_result"
    },
    {
     "data": {
      "image/png": "[encoded data removed]",
      "text/plain": [
       "<matplotlib.figure.Figure at 0x198e001ac18>"
      ]
     },
     "metadata": {},
     "output_type": "display_data"
    }
   ],
   "source": [
    "sns.scatterplot(x = \"TT4\", y = 'FTI', data = X_train, hue = 'class')\n",
    "plt.plot([4.3,5.3],[4,5.2],linewidth = 2,color = 'red')\n",
    "plt.plot([4,4.75],[4.4,5.3],linewidth = 2,color = 'green')"
   ]
  },
  {
   "cell_type": "markdown",
   "metadata": {},
   "source": [
    "Na zaklade atributov TT4 a FTI vieme najst priblizne hranice (pre jednoduchost su to len priamky), na zaklade ktorych vieme rozdelit merania do troch kategorii"
   ]
  },
  {
   "cell_type": "markdown",
   "metadata": {},
   "source": [
    "Zostavime funkciu, ktora na zaklade stanovenych hranic zaradi jednotlive merania do kategorii"
   ]
  },
  {
   "cell_type": "code",
   "execution_count": 55,
   "metadata": {},
   "outputs": [],
   "source": [
    "def manual_features(df):\n",
    "    predicted = []\n",
    "    for index,row in df.iterrows():\n",
    "        pred = 0\n",
    "         \n",
    "        if row['T4U'] > 0.22 and row['TT4'] > 4.75:\n",
    "            pred +=1\n",
    "            \n",
    "        if row['T3'] > 1.05:\n",
    "            pred +=1\n",
    "        \n",
    "        if 1.2 * row['TT4'] - 1.16 > row['FTI']:\n",
    "            pred +=1\n",
    "        elif 1.2 * row['TT4'] - 0.4 < row['FTI']:\n",
    "            pred -=1\n",
    "        \n",
    "        if pred > 2:\n",
    "            predicted.append('increased')\n",
    "        elif pred < 0:\n",
    "            predicted.append('decreased')\n",
    "        else:\n",
    "            predicted.append('negative')\n",
    "    \n",
    "    return predicted\n",
    "            \n",
    "    "
   ]
  },
  {
   "cell_type": "code",
   "execution_count": 183,
   "metadata": {},
   "outputs": [],
   "source": [
    "pred = manual_features(X_valid)"
   ]
  },
  {
   "cell_type": "code",
   "execution_count": 184,
   "metadata": {},
   "outputs": [
    {
     "data": {
      "text/plain": [
       "0.96913580246913578"
      ]
     },
     "execution_count": 184,
     "metadata": {},
     "output_type": "execute_result"
    }
   ],
   "source": [
    "accuracy_score(pred, X_valid['class'])"
   ]
  },
  {
   "cell_type": "code",
   "execution_count": 185,
   "metadata": {},
   "outputs": [
    {
     "data": {
      "text/plain": [
       "0.68134185303514372"
      ]
     },
     "execution_count": 185,
     "metadata": {},
     "output_type": "execute_result"
    }
   ],
   "source": [
    "f1_score(X_valid['class'], pred, average='macro') "
   ]
  },
  {
   "cell_type": "code",
   "execution_count": 186,
   "metadata": {},
   "outputs": [
    {
     "data": {
      "text/plain": [
       "0.96913580246913589"
      ]
     },
     "execution_count": 186,
     "metadata": {},
     "output_type": "execute_result"
    }
   ],
   "source": [
    "f1_score(X_valid['class'], pred, average='micro') "
   ]
  },
  {
   "cell_type": "code",
   "execution_count": 187,
   "metadata": {},
   "outputs": [
    {
     "data": {
      "text/plain": [
       "array([[  4,   0,   7],\n",
       "       [  0,  14,  11],\n",
       "       [  1,  11, 924]], dtype=int64)"
      ]
     },
     "execution_count": 187,
     "metadata": {},
     "output_type": "execute_result"
    }
   ],
   "source": [
    "confusion_matrix(pred, X_valid['class'])"
   ]
  },
  {
   "cell_type": "markdown",
   "metadata": {},
   "source": [
    "Vidime, ze manualny klasifikator dosiahol accuracy score nad validacnou vzorkou 96.9 percent, ale tento udaj je nie uplne smerodajny, kedze drtiva vacsina merani je z triedy 'negative' (teda keby pre kazde meranie predikujeme 'negative' dosiahli by sme uspesnost okolo 95 percent). Z confusion matrix vidime, ze sme spravne urcili 4 z piatich merani so snizenou hondnotou proteinov, ale v pripade zvysenej hladiny mame horsiu uspesnost, nasli sme len 14 z 25 pripadov. Vacsinou negativnych sme urcili spravne, male mnozstvo (oproti celkovemu mnozstvu) z nich bolo identifikovane, ako chori pacienti."
   ]
  },
  {
   "cell_type": "markdown",
   "metadata": {},
   "source": [
    "## Klasifikator s vyuzitim rozhodovacich stromov"
   ]
  },
  {
   "cell_type": "markdown",
   "metadata": {},
   "source": [
    "### 1. Decision tree"
   ]
  },
  {
   "cell_type": "markdown",
   "metadata": {},
   "source": [
    "Ako prve pouzijeme decision tree"
   ]
  },
  {
   "cell_type": "markdown",
   "metadata": {},
   "source": [
    "##### 1.1 Priprava dat (vyber atributov a ich oneHot encoding)"
   ]
  },
  {
   "cell_type": "code",
   "execution_count": 42,
   "metadata": {},
   "outputs": [],
   "source": [
    "encoder = ce.OneHotEncoder(cols = [])\n",
    "\n",
    "columns_dt = ['age', 'sex', 'FTI',\n",
    "        'T3', 'T4U','TSH', 'TT4',\n",
    "         'capital-loss', \n",
    "       'education',  'fnlwgt', 'goitre', 'hours-per-week',\n",
    "       'hypopituitary', 'lithium', 'marital-status',\n",
    "       'native-country', 'occupation', 'on antithyroid medication',\n",
    "       'query hyperthyroid', 'race', 'referral source', 'relationship', 'sick',\n",
    "       'tumor', 'workclass', 'query hypothyroid','pregnant',\n",
    "       'thyroid surgery', 'query on thyroxine',\n",
    "       'I131 treatment', 'on thyroxine','psych','class']\n",
    "\n",
    "ctg_to_encode = ['sex','education','goitre','hypopituitary','lithium','marital-status',\n",
    "                 'native-country','occupation','on antithyroid medication','query hyperthyroid',\n",
    "                 'race', 'referral source', 'relationship', 'sick',\n",
    "                 'tumor', 'workclass', 'query hypothyroid','pregnant',\n",
    "                 'thyroid surgery', 'query on thyroxine',\n",
    "                 'I131 treatment', 'on thyroxine','psych'\n",
    "                ]\n",
    "ppl_dt = Pipeline([\n",
    "    (\"SelectColumns\",our_ppl.Selector(columns = columns_dt)),\n",
    "     (\"EncodeCatego\",ce.OneHotEncoder(cols = ctg_to_encode))    \n",
    "])\n",
    "\n",
    "\n",
    "model =ppl_dt.fit(X_train)\n",
    "X_train_dt = ppl_dt.transform(X_train)\n",
    "X_valid_dt = ppl_dt.transform(X_valid)"
   ]
  },
  {
   "cell_type": "code",
   "execution_count": null,
   "metadata": {},
   "outputs": [],
   "source": [
    "X_train_dt.head()"
   ]
  },
  {
   "cell_type": "markdown",
   "metadata": {},
   "source": [
    "##### 1.2 Pozorovanie modelov DecisionTree s rozdielnymi hlbkami "
   ]
  },
  {
   "cell_type": "code",
   "execution_count": 224,
   "metadata": {},
   "outputs": [],
   "source": [
    "def train_dt(max_depth = 10, X_train = [],X_test=[],y_train=[],y_test=[]):\n",
    "    results = []\n",
    "    for i in range(2, max_depth):  \n",
    "        row = {'model_complexity': i}\n",
    "\n",
    "        clf_d = DecisionTreeClassifier(max_depth = i)\n",
    "\n",
    "        pred = clf_d.fit(X_train,y_train).predict(X_train)\n",
    "        row['train'] = accuracy_score(y_train, pred)\n",
    "\n",
    "        pred = clf_d.predict(X_test)\n",
    "        row['test'] = f1_score(y_test, pred, average='micro')\n",
    "        row['score_f'] = f1_score(y_test, pred, average='macro')\n",
    "\n",
    "        results.append(row)\n",
    "        \n",
    "    return results"
   ]
  },
  {
   "cell_type": "code",
   "execution_count": 199,
   "metadata": {
    "scrolled": true
   },
   "outputs": [
    {
     "name": "stderr",
     "output_type": "stream",
     "text": [
      "C:\\Anaconda3\\lib\\site-packages\\sklearn\\metrics\\classification.py:1143: UndefinedMetricWarning: F-score is ill-defined and being set to 0.0 in labels with no predicted samples.\n",
      "  'precision', 'predicted', average, warn_for)\n",
      "C:\\Anaconda3\\lib\\site-packages\\sklearn\\metrics\\classification.py:1143: UndefinedMetricWarning: F-score is ill-defined and being set to 0.0 in labels with no predicted samples.\n",
      "  'precision', 'predicted', average, warn_for)\n",
      "C:\\Anaconda3\\lib\\site-packages\\sklearn\\metrics\\classification.py:1143: UndefinedMetricWarning: F-score is ill-defined and being set to 0.0 in labels with no predicted samples.\n",
      "  'precision', 'predicted', average, warn_for)\n"
     ]
    },
    {
     "data": {
      "text/plain": [
       "[{'model_complexity': 2,\n",
       "  'train': 0.97049620026821637,\n",
       "  'test': 0.97325102880658432,\n",
       "  'score_f': 0.51922398589065255},\n",
       " {'model_complexity': 3,\n",
       "  'train': 0.975860527492177,\n",
       "  'test': 0.97530864197530864,\n",
       "  'score_f': 0.53318216175359023},\n",
       " {'model_complexity': 4,\n",
       "  'train': 0.97854269110415737,\n",
       "  'test': 0.98045267489711929,\n",
       "  'score_f': 0.56609524648921794},\n",
       " {'model_complexity': 5,\n",
       "  'train': 0.983907018328118,\n",
       "  'test': 0.96810699588477367,\n",
       "  'score_f': 0.62658765432098762},\n",
       " {'model_complexity': 6,\n",
       "  'train': 0.99061242735806887,\n",
       "  'test': 0.9711934156378601,\n",
       "  'score_f': 0.54655061250805936},\n",
       " {'model_complexity': 7,\n",
       "  'train': 0.99508270004470267,\n",
       "  'test': 0.97325102880658432,\n",
       "  'score_f': 0.65778323331514821},\n",
       " {'model_complexity': 8,\n",
       "  'train': 0.99687080911935633,\n",
       "  'test': 0.97325102880658432,\n",
       "  'score_f': 0.66205182818601349},\n",
       " {'model_complexity': 9,\n",
       "  'train': 0.99776486365668304,\n",
       "  'test': 0.97222222222222221,\n",
       "  'score_f': 0.60905178899220613},\n",
       " {'model_complexity': 10,\n",
       "  'train': 0.99865891819400987,\n",
       "  'test': 0.96810699588477367,\n",
       "  'score_f': 0.64443664228491815},\n",
       " {'model_complexity': 11,\n",
       "  'train': 0.99910594546267317,\n",
       "  'test': 0.96707818930041156,\n",
       "  'score_f': 0.63415481871301982},\n",
       " {'model_complexity': 12,\n",
       "  'train': 0.99955297273133659,\n",
       "  'test': 0.96296296296296291,\n",
       "  'score_f': 0.61027813993915692},\n",
       " {'model_complexity': 13,\n",
       "  'train': 1.0,\n",
       "  'test': 0.96604938271604923,\n",
       "  'score_f': 0.63756141230780849},\n",
       " {'model_complexity': 14,\n",
       "  'train': 1.0,\n",
       "  'test': 0.96810699588477367,\n",
       "  'score_f': 0.63727699171482888},\n",
       " {'model_complexity': 15,\n",
       "  'train': 1.0,\n",
       "  'test': 0.96810699588477367,\n",
       "  'score_f': 0.65787098223533158},\n",
       " {'model_complexity': 16,\n",
       "  'train': 1.0,\n",
       "  'test': 0.96399176954732524,\n",
       "  'score_f': 0.62400126949635848},\n",
       " {'model_complexity': 17,\n",
       "  'train': 1.0,\n",
       "  'test': 0.96604938271604923,\n",
       "  'score_f': 0.58347502612330204},\n",
       " {'model_complexity': 18,\n",
       "  'train': 1.0,\n",
       "  'test': 0.96707818930041156,\n",
       "  'score_f': 0.64986363097355637},\n",
       " {'model_complexity': 19,\n",
       "  'train': 1.0,\n",
       "  'test': 0.96913580246913589,\n",
       "  'score_f': 0.65259910575830471},\n",
       " {'model_complexity': 20,\n",
       "  'train': 1.0,\n",
       "  'test': 0.96604938271604923,\n",
       "  'score_f': 0.63431301089873038},\n",
       " {'model_complexity': 21,\n",
       "  'train': 1.0,\n",
       "  'test': 0.96502057613168724,\n",
       "  'score_f': 0.62727920227920231},\n",
       " {'model_complexity': 22,\n",
       "  'train': 1.0,\n",
       "  'test': 0.96707818930041156,\n",
       "  'score_f': 0.63599410103730614},\n",
       " {'model_complexity': 23,\n",
       "  'train': 1.0,\n",
       "  'test': 0.96810699588477367,\n",
       "  'score_f': 0.64231727904617397},\n",
       " {'model_complexity': 24,\n",
       "  'train': 1.0,\n",
       "  'test': 0.96913580246913589,\n",
       "  'score_f': 0.64108757239128522},\n",
       " {'model_complexity': 25,\n",
       "  'train': 1.0,\n",
       "  'test': 0.96296296296296291,\n",
       "  'score_f': 0.61027813993915692},\n",
       " {'model_complexity': 26,\n",
       "  'train': 1.0,\n",
       "  'test': 0.97016460905349799,\n",
       "  'score_f': 0.6603470138674693},\n",
       " {'model_complexity': 27,\n",
       "  'train': 1.0,\n",
       "  'test': 0.96502057613168724,\n",
       "  'score_f': 0.62727920227920231},\n",
       " {'model_complexity': 28,\n",
       "  'train': 1.0,\n",
       "  'test': 0.96296296296296291,\n",
       "  'score_f': 0.61581196581196584},\n",
       " {'model_complexity': 29,\n",
       "  'train': 1.0,\n",
       "  'test': 0.97016460905349799,\n",
       "  'score_f': 0.65628645071403691},\n",
       " {'model_complexity': 30,\n",
       "  'train': 1.0,\n",
       "  'test': 0.96707818930041156,\n",
       "  'score_f': 0.63874643874643866},\n",
       " {'model_complexity': 31,\n",
       "  'train': 1.0,\n",
       "  'test': 0.96810699588477367,\n",
       "  'score_f': 0.65324595103578165},\n",
       " {'model_complexity': 32,\n",
       "  'train': 1.0,\n",
       "  'test': 0.96399176954732524,\n",
       "  'score_f': 0.61357661552812237},\n",
       " {'model_complexity': 33,\n",
       "  'train': 1.0,\n",
       "  'test': 0.96707818930041156,\n",
       "  'score_f': 0.63358926070790478},\n",
       " {'model_complexity': 34,\n",
       "  'train': 1.0,\n",
       "  'test': 0.96604938271604923,\n",
       "  'score_f': 0.64221463266307321},\n",
       " {'model_complexity': 35,\n",
       "  'train': 1.0,\n",
       "  'test': 0.96604938271604923,\n",
       "  'score_f': 0.62542680362147562},\n",
       " {'model_complexity': 36,\n",
       "  'train': 1.0,\n",
       "  'test': 0.96913580246913589,\n",
       "  'score_f': 0.65673847511212413},\n",
       " {'model_complexity': 37,\n",
       "  'train': 1.0,\n",
       "  'test': 0.97016460905349799,\n",
       "  'score_f': 0.66490094161958568},\n",
       " {'model_complexity': 38,\n",
       "  'train': 1.0,\n",
       "  'test': 0.96296296296296291,\n",
       "  'score_f': 0.61027813993915692},\n",
       " {'model_complexity': 39,\n",
       "  'train': 1.0,\n",
       "  'test': 0.96707818930041156,\n",
       "  'score_f': 0.64488885621155312},\n",
       " {'model_complexity': 40,\n",
       "  'train': 1.0,\n",
       "  'test': 0.96604938271604923,\n",
       "  'score_f': 0.63528654694069875},\n",
       " {'model_complexity': 41,\n",
       "  'train': 1.0,\n",
       "  'test': 0.96810699588477367,\n",
       "  'score_f': 0.64231727904617397},\n",
       " {'model_complexity': 42,\n",
       "  'train': 1.0,\n",
       "  'test': 0.96296296296296291,\n",
       "  'score_f': 0.61527267332474656},\n",
       " {'model_complexity': 43,\n",
       "  'train': 1.0,\n",
       "  'test': 0.96707818930041156,\n",
       "  'score_f': 0.64986363097355637},\n",
       " {'model_complexity': 44,\n",
       "  'train': 1.0,\n",
       "  'test': 0.96296296296296291,\n",
       "  'score_f': 0.56832693923662214},\n",
       " {'model_complexity': 45,\n",
       "  'train': 1.0,\n",
       "  'test': 0.96707818930041156,\n",
       "  'score_f': 0.63415481871301982},\n",
       " {'model_complexity': 46,\n",
       "  'train': 1.0,\n",
       "  'test': 0.96502057613168724,\n",
       "  'score_f': 0.62655814131223975},\n",
       " {'model_complexity': 47,\n",
       "  'train': 1.0,\n",
       "  'test': 0.96502057613168724,\n",
       "  'score_f': 0.62394282857754968},\n",
       " {'model_complexity': 48,\n",
       "  'train': 1.0,\n",
       "  'test': 0.96090534979423869,\n",
       "  'score_f': 0.60901074498504904},\n",
       " {'model_complexity': 49,\n",
       "  'train': 1.0,\n",
       "  'test': 0.96502057613168724,\n",
       "  'score_f': 0.62230482055308167}]"
      ]
     },
     "execution_count": 199,
     "metadata": {},
     "output_type": "execute_result"
    }
   ],
   "source": [
    "results = train_dt(50,\n",
    "                   X_train_dt[X_train_dt.columns.difference(['class'])],\n",
    "                   X_valid_dt[X_valid_dt.columns.difference(['class'])],\n",
    "                   X_train_dt['class'],\n",
    "                   X_valid_dt['class']\n",
    "                  )\n",
    "results"
   ]
  },
  {
   "cell_type": "code",
   "execution_count": 200,
   "metadata": {
    "scrolled": true
   },
   "outputs": [
    {
     "data": {
      "text/plain": [
       "[<matplotlib.lines.Line2D at 0x198dff41da0>]"
      ]
     },
     "execution_count": 200,
     "metadata": {},
     "output_type": "execute_result"
    },
    {
     "data": {
      "image/png": "[encoded data removed]",
      "text/plain": [
       "<matplotlib.figure.Figure at 0x198dff18630>"
      ]
     },
     "metadata": {},
     "output_type": "display_data"
    }
   ],
   "source": [
    "\n",
    "plt.plot([row['train'] for row in results])\n",
    "plt.plot([row['test'] for row in results])\n",
    "plt.plot([row['score_f'] for row in results])"
   ]
  },
  {
   "cell_type": "markdown",
   "metadata": {},
   "source": [
    "Pri hlbke 3 az 4 je hranica, za ktorou nastava pretrenovanie, model dava lepsie vysledky na trenovacich datach, ale postupne horsie na testovacich."
   ]
  },
  {
   "cell_type": "markdown",
   "metadata": {},
   "source": [
    "##### 1.3 Vizualizacia rozhodovacích stromov\n",
    "\n",
    "Pomocou grafu vizualizujeme rozhodovanie jedneho z decision tree modelov, ktory dosahoval dobre vysledky predikcie. "
   ]
  },
  {
   "cell_type": "code",
   "execution_count": 171,
   "metadata": {},
   "outputs": [],
   "source": [
    "def evaluate(prediciton,correct_vals):\n",
    "    print('accuracy: ',accuracy_score(correct_vals, prediciton))\n",
    "#     print('recall: ',recall_score(correct_vals, prediciton, average = \"weighted\"))\n",
    "#     print('precision: ',precision_score(correct_vals, prediciton, average = \"weighted\"))\n",
    "#     print('f1_micro: ',f1_score( prediciton, correct_vals, average = 'micro'))\n",
    "#     print('f1_macro: ',f1_score(prediciton,correct_vals, average = 'macro'))\n",
    "#     print('f1_weighted: ',f1_score(prediciton,correct_vals,average='weighted'))\n",
    "    print(classification_report(prediciton,correct_vals))\n",
    "    \n",
    "    "
   ]
  },
  {
   "cell_type": "markdown",
   "metadata": {},
   "source": [
    "Pri vizualizacii sme zvolili strom s hlbkov 4, ktorá sa bude jednoduchšie vizualizovať a zároveň ma nejlepšei výsledky"
   ]
  },
  {
   "cell_type": "code",
   "execution_count": 172,
   "metadata": {},
   "outputs": [
    {
     "name": "stdout",
     "output_type": "stream",
     "text": [
      "accuracy:  0.980452674897\n",
      "              precision    recall  f1-score   support\n",
      "\n",
      "   decreased       0.00      0.00      0.00         0\n",
      "   increased       0.68      0.74      0.71        23\n",
      "    negative       0.99      0.99      0.99       949\n",
      "\n",
      "   micro avg       0.98      0.98      0.98       972\n",
      "   macro avg       0.56      0.58      0.57       972\n",
      "weighted avg       0.99      0.98      0.98       972\n",
      "\n"
     ]
    },
    {
     "name": "stderr",
     "output_type": "stream",
     "text": [
      "C:\\Anaconda3\\lib\\site-packages\\sklearn\\metrics\\classification.py:1145: UndefinedMetricWarning: Recall and F-score are ill-defined and being set to 0.0 in labels with no true samples.\n",
      "  'recall', 'true', average, warn_for)\n",
      "C:\\Anaconda3\\lib\\site-packages\\sklearn\\metrics\\classification.py:1145: UndefinedMetricWarning: Recall and F-score are ill-defined and being set to 0.0 in labels with no true samples.\n",
      "  'recall', 'true', average, warn_for)\n",
      "C:\\Anaconda3\\lib\\site-packages\\sklearn\\metrics\\classification.py:1145: UndefinedMetricWarning: Recall and F-score are ill-defined and being set to 0.0 in labels with no true samples.\n",
      "  'recall', 'true', average, warn_for)\n"
     ]
    }
   ],
   "source": [
    "clf_d = DecisionTreeClassifier(max_depth = 4)    \n",
    "pred = clf_d.fit(X_train_dt[X_train_dt.columns.difference(['class'])],X_train_dt['class']).predict(X_valid_dt[X_valid_dt.columns.difference(['class'])])\n",
    "evaluate(pred,X_valid_dt['class'])\n"
   ]
  },
  {
   "cell_type": "code",
   "execution_count": 203,
   "metadata": {},
   "outputs": [
    {
     "data": {
      "image/svg+xml": [
       "<svg height=\"552pt\" viewBox=\"0.00 0.00 1984.50 552.00\" width=\"1985pt\" xmlns=\"http://www.w3.org/2000/svg\" xmlns:xlink=\"http://www.w3.org/1999/xlink\">\n",
       "<g class=\"graph\" id=\"graph0\" transform=\"scale(1 1) rotate(0) translate(4 548)\">\n",
       "<title>Tree</title>\n",
       "<polygon fill=\"white\" points=\"-4,4 -4,-548 1980.5,-548 1980.5,4 -4,4\" stroke=\"none\"/>\n",
       "<!-- 0 -->\n",
       "<g class=\"node\" id=\"node1\"><title>0</title>\n",
       "<path d=\"M1120.5,-544C1120.5,-544 998.5,-544 998.5,-544 992.5,-544 986.5,-538 986.5,-532 986.5,-532 986.5,-473 986.5,-473 986.5,-467 992.5,-461 998.5,-461 998.5,-461 1120.5,-461 1120.5,-461 1126.5,-461 1132.5,-467 1132.5,-473 1132.5,-473 1132.5,-532 1132.5,-532 1132.5,-538 1126.5,-544 1120.5,-544\" fill=\"#8139e5\" fill-opacity=\"0.949020\" stroke=\"black\"/>\n",
       "<text font-family=\"Helvetica,sans-Serif\" font-size=\"14.00\" text-anchor=\"middle\" x=\"1059.5\" y=\"-528.8\">T4U &lt;= 0.243</text>\n",
       "<text font-family=\"Helvetica,sans-Serif\" font-size=\"14.00\" text-anchor=\"middle\" x=\"1059.5\" y=\"-513.8\">gini = 0.091</text>\n",
       "<text font-family=\"Helvetica,sans-Serif\" font-size=\"14.00\" text-anchor=\"middle\" x=\"1059.5\" y=\"-498.8\">samples = 2237</text>\n",
       "<text font-family=\"Helvetica,sans-Serif\" font-size=\"14.00\" text-anchor=\"middle\" x=\"1059.5\" y=\"-483.8\">value = [9, 97, 2131]</text>\n",
       "<text font-family=\"Helvetica,sans-Serif\" font-size=\"14.00\" text-anchor=\"middle\" x=\"1059.5\" y=\"-468.8\">class = negative</text>\n",
       "</g>\n",
       "<!-- 1 -->\n",
       "<g class=\"node\" id=\"node2\"><title>1</title>\n",
       "<path d=\"M910.5,-425C910.5,-425 788.5,-425 788.5,-425 782.5,-425 776.5,-419 776.5,-413 776.5,-413 776.5,-354 776.5,-354 776.5,-348 782.5,-342 788.5,-342 788.5,-342 910.5,-342 910.5,-342 916.5,-342 922.5,-348 922.5,-354 922.5,-354 922.5,-413 922.5,-413 922.5,-419 916.5,-425 910.5,-425\" fill=\"#8139e5\" fill-opacity=\"0.980392\" stroke=\"black\"/>\n",
       "<text font-family=\"Helvetica,sans-Serif\" font-size=\"14.00\" text-anchor=\"middle\" x=\"849.5\" y=\"-409.8\">T3 &lt;= 1.061</text>\n",
       "<text font-family=\"Helvetica,sans-Serif\" font-size=\"14.00\" text-anchor=\"middle\" x=\"849.5\" y=\"-394.8\">gini = 0.037</text>\n",
       "<text font-family=\"Helvetica,sans-Serif\" font-size=\"14.00\" text-anchor=\"middle\" x=\"849.5\" y=\"-379.8\">samples = 2101</text>\n",
       "<text font-family=\"Helvetica,sans-Serif\" font-size=\"14.00\" text-anchor=\"middle\" x=\"849.5\" y=\"-364.8\">value = [9, 30, 2062]</text>\n",
       "<text font-family=\"Helvetica,sans-Serif\" font-size=\"14.00\" text-anchor=\"middle\" x=\"849.5\" y=\"-349.8\">class = negative</text>\n",
       "</g>\n",
       "<!-- 0&#45;&gt;1 -->\n",
       "<g class=\"edge\" id=\"edge1\"><title>0-&gt;1</title>\n",
       "<path d=\"M986.642,-460.907C968.724,-450.925 949.425,-440.172 931.123,-429.976\" fill=\"none\" stroke=\"black\"/>\n",
       "<polygon fill=\"black\" points=\"932.669,-426.83 922.23,-425.021 929.262,-432.945 932.669,-426.83\" stroke=\"black\"/>\n",
       "<text font-family=\"Helvetica,sans-Serif\" font-size=\"14.00\" text-anchor=\"middle\" x=\"929.069\" y=\"-445.367\">True</text>\n",
       "</g>\n",
       "<!-- 16 -->\n",
       "<g class=\"node\" id=\"node17\"><title>16</title>\n",
       "<path d=\"M1364,-425C1364,-425 1259,-425 1259,-425 1253,-425 1247,-419 1247,-413 1247,-413 1247,-354 1247,-354 1247,-348 1253,-342 1259,-342 1259,-342 1364,-342 1364,-342 1370,-342 1376,-348 1376,-354 1376,-354 1376,-413 1376,-413 1376,-419 1370,-425 1364,-425\" fill=\"#8139e5\" fill-opacity=\"0.027451\" stroke=\"black\"/>\n",
       "<text font-family=\"Helvetica,sans-Serif\" font-size=\"14.00\" text-anchor=\"middle\" x=\"1311.5\" y=\"-409.8\">T3 &lt;= 1.031</text>\n",
       "<text font-family=\"Helvetica,sans-Serif\" font-size=\"14.00\" text-anchor=\"middle\" x=\"1311.5\" y=\"-394.8\">gini = 0.5</text>\n",
       "<text font-family=\"Helvetica,sans-Serif\" font-size=\"14.00\" text-anchor=\"middle\" x=\"1311.5\" y=\"-379.8\">samples = 136</text>\n",
       "<text font-family=\"Helvetica,sans-Serif\" font-size=\"14.00\" text-anchor=\"middle\" x=\"1311.5\" y=\"-364.8\">value = [0, 67, 69]</text>\n",
       "<text font-family=\"Helvetica,sans-Serif\" font-size=\"14.00\" text-anchor=\"middle\" x=\"1311.5\" y=\"-349.8\">class = negative</text>\n",
       "</g>\n",
       "<!-- 0&#45;&gt;16 -->\n",
       "<g class=\"edge\" id=\"edge16\"><title>0-&gt;16</title>\n",
       "<path d=\"M1132.73,-467.502C1165.67,-452.207 1204.49,-434.185 1237.52,-418.849\" fill=\"none\" stroke=\"black\"/>\n",
       "<polygon fill=\"black\" points=\"1239.07,-421.985 1246.67,-414.6 1236.13,-415.636 1239.07,-421.985\" stroke=\"black\"/>\n",
       "<text font-family=\"Helvetica,sans-Serif\" font-size=\"14.00\" text-anchor=\"middle\" x=\"1238.08\" y=\"-434.378\">False</text>\n",
       "</g>\n",
       "<!-- 2 -->\n",
       "<g class=\"node\" id=\"node3\"><title>2</title>\n",
       "<path d=\"M479,-306C479,-306 366,-306 366,-306 360,-306 354,-300 354,-294 354,-294 354,-235 354,-235 354,-229 360,-223 366,-223 366,-223 479,-223 479,-223 485,-223 491,-229 491,-235 491,-235 491,-294 491,-294 491,-300 485,-306 479,-306\" fill=\"#8139e5\" fill-opacity=\"0.992157\" stroke=\"black\"/>\n",
       "<text font-family=\"Helvetica,sans-Serif\" font-size=\"14.00\" text-anchor=\"middle\" x=\"422.5\" y=\"-290.8\">T4U &lt;= -0.281</text>\n",
       "<text font-family=\"Helvetica,sans-Serif\" font-size=\"14.00\" text-anchor=\"middle\" x=\"422.5\" y=\"-275.8\">gini = 0.014</text>\n",
       "<text font-family=\"Helvetica,sans-Serif\" font-size=\"14.00\" text-anchor=\"middle\" x=\"422.5\" y=\"-260.8\">samples = 1976</text>\n",
       "<text font-family=\"Helvetica,sans-Serif\" font-size=\"14.00\" text-anchor=\"middle\" x=\"422.5\" y=\"-245.8\">value = [9, 5, 1962]</text>\n",
       "<text font-family=\"Helvetica,sans-Serif\" font-size=\"14.00\" text-anchor=\"middle\" x=\"422.5\" y=\"-230.8\">class = negative</text>\n",
       "</g>\n",
       "<!-- 1&#45;&gt;2 -->\n",
       "<g class=\"edge\" id=\"edge2\"><title>1-&gt;2</title>\n",
       "<path d=\"M776.096,-362.387C699.378,-341.366 579.45,-308.505 500.912,-286.985\" fill=\"none\" stroke=\"black\"/>\n",
       "<polygon fill=\"black\" points=\"501.638,-283.555 491.069,-284.288 499.788,-290.306 501.638,-283.555\" stroke=\"black\"/>\n",
       "</g>\n",
       "<!-- 9 -->\n",
       "<g class=\"node\" id=\"node10\"><title>9</title>\n",
       "<path d=\"M906,-306C906,-306 793,-306 793,-306 787,-306 781,-300 781,-294 781,-294 781,-235 781,-235 781,-229 787,-223 793,-223 793,-223 906,-223 906,-223 912,-223 918,-229 918,-235 918,-235 918,-294 918,-294 918,-300 912,-306 906,-306\" fill=\"#8139e5\" fill-opacity=\"0.749020\" stroke=\"black\"/>\n",
       "<text font-family=\"Helvetica,sans-Serif\" font-size=\"14.00\" text-anchor=\"middle\" x=\"849.5\" y=\"-290.8\">TSH &lt;= 1.082</text>\n",
       "<text font-family=\"Helvetica,sans-Serif\" font-size=\"14.00\" text-anchor=\"middle\" x=\"849.5\" y=\"-275.8\">gini = 0.32</text>\n",
       "<text font-family=\"Helvetica,sans-Serif\" font-size=\"14.00\" text-anchor=\"middle\" x=\"849.5\" y=\"-260.8\">samples = 125</text>\n",
       "<text font-family=\"Helvetica,sans-Serif\" font-size=\"14.00\" text-anchor=\"middle\" x=\"849.5\" y=\"-245.8\">value = [0, 25, 100]</text>\n",
       "<text font-family=\"Helvetica,sans-Serif\" font-size=\"14.00\" text-anchor=\"middle\" x=\"849.5\" y=\"-230.8\">class = negative</text>\n",
       "</g>\n",
       "<!-- 1&#45;&gt;9 -->\n",
       "<g class=\"edge\" id=\"edge9\"><title>1-&gt;9</title>\n",
       "<path d=\"M849.5,-341.907C849.5,-333.649 849.5,-324.864 849.5,-316.302\" fill=\"none\" stroke=\"black\"/>\n",
       "<polygon fill=\"black\" points=\"853,-316.021 849.5,-306.021 846,-316.021 853,-316.021\" stroke=\"black\"/>\n",
       "</g>\n",
       "<!-- 3 -->\n",
       "<g class=\"node\" id=\"node4\"><title>3</title>\n",
       "<path d=\"M252,-187C252,-187 147,-187 147,-187 141,-187 135,-181 135,-175 135,-175 135,-116 135,-116 135,-110 141,-104 147,-104 147,-104 252,-104 252,-104 258,-104 264,-110 264,-116 264,-116 264,-175 264,-175 264,-181 258,-187 252,-187\" fill=\"#8139e5\" fill-opacity=\"0.921569\" stroke=\"black\"/>\n",
       "<text font-family=\"Helvetica,sans-Serif\" font-size=\"14.00\" text-anchor=\"middle\" x=\"199.5\" y=\"-171.8\">TT4 &lt;= 4.161</text>\n",
       "<text font-family=\"Helvetica,sans-Serif\" font-size=\"14.00\" text-anchor=\"middle\" x=\"199.5\" y=\"-156.8\">gini = 0.137</text>\n",
       "<text font-family=\"Helvetica,sans-Serif\" font-size=\"14.00\" text-anchor=\"middle\" x=\"199.5\" y=\"-141.8\">samples = 122</text>\n",
       "<text font-family=\"Helvetica,sans-Serif\" font-size=\"14.00\" text-anchor=\"middle\" x=\"199.5\" y=\"-126.8\">value = [9, 0, 113]</text>\n",
       "<text font-family=\"Helvetica,sans-Serif\" font-size=\"14.00\" text-anchor=\"middle\" x=\"199.5\" y=\"-111.8\">class = negative</text>\n",
       "</g>\n",
       "<!-- 2&#45;&gt;3 -->\n",
       "<g class=\"edge\" id=\"edge3\"><title>2-&gt;3</title>\n",
       "<path d=\"M353.773,-227.441C328.245,-214.048 299.191,-198.804 273.233,-185.185\" fill=\"none\" stroke=\"black\"/>\n",
       "<polygon fill=\"black\" points=\"274.673,-181.988 264.192,-180.441 271.421,-188.187 274.673,-181.988\" stroke=\"black\"/>\n",
       "</g>\n",
       "<!-- 6 -->\n",
       "<g class=\"node\" id=\"node7\"><title>6</title>\n",
       "<path d=\"M479,-187C479,-187 366,-187 366,-187 360,-187 354,-181 354,-175 354,-175 354,-116 354,-116 354,-110 360,-104 366,-104 366,-104 479,-104 479,-104 485,-104 491,-110 491,-116 491,-116 491,-175 491,-175 491,-181 485,-187 479,-187\" fill=\"#8139e5\" fill-opacity=\"0.996078\" stroke=\"black\"/>\n",
       "<text font-family=\"Helvetica,sans-Serif\" font-size=\"14.00\" text-anchor=\"middle\" x=\"422.5\" y=\"-171.8\">TT4 &lt;= 5.072</text>\n",
       "<text font-family=\"Helvetica,sans-Serif\" font-size=\"14.00\" text-anchor=\"middle\" x=\"422.5\" y=\"-156.8\">gini = 0.005</text>\n",
       "<text font-family=\"Helvetica,sans-Serif\" font-size=\"14.00\" text-anchor=\"middle\" x=\"422.5\" y=\"-141.8\">samples = 1854</text>\n",
       "<text font-family=\"Helvetica,sans-Serif\" font-size=\"14.00\" text-anchor=\"middle\" x=\"422.5\" y=\"-126.8\">value = [0, 5, 1849]</text>\n",
       "<text font-family=\"Helvetica,sans-Serif\" font-size=\"14.00\" text-anchor=\"middle\" x=\"422.5\" y=\"-111.8\">class = negative</text>\n",
       "</g>\n",
       "<!-- 2&#45;&gt;6 -->\n",
       "<g class=\"edge\" id=\"edge6\"><title>2-&gt;6</title>\n",
       "<path d=\"M422.5,-222.907C422.5,-214.649 422.5,-205.864 422.5,-197.302\" fill=\"none\" stroke=\"black\"/>\n",
       "<polygon fill=\"black\" points=\"426,-197.021 422.5,-187.021 419,-197.021 426,-197.021\" stroke=\"black\"/>\n",
       "</g>\n",
       "<!-- 4 -->\n",
       "<g class=\"node\" id=\"node5\"><title>4</title>\n",
       "<path d=\"M109,-68C109,-68 12,-68 12,-68 6,-68 0,-62 0,-56 0,-56 0,-12 0,-12 0,-6 6,-0 12,-0 12,-0 109,-0 109,-0 115,-0 121,-6 121,-12 121,-12 121,-56 121,-56 121,-62 115,-68 109,-68\" fill=\"#8139e5\" fill-opacity=\"0.619608\" stroke=\"black\"/>\n",
       "<text font-family=\"Helvetica,sans-Serif\" font-size=\"14.00\" text-anchor=\"middle\" x=\"60.5\" y=\"-52.8\">gini = 0.4</text>\n",
       "<text font-family=\"Helvetica,sans-Serif\" font-size=\"14.00\" text-anchor=\"middle\" x=\"60.5\" y=\"-37.8\">samples = 29</text>\n",
       "<text font-family=\"Helvetica,sans-Serif\" font-size=\"14.00\" text-anchor=\"middle\" x=\"60.5\" y=\"-22.8\">value = [8, 0, 21]</text>\n",
       "<text font-family=\"Helvetica,sans-Serif\" font-size=\"14.00\" text-anchor=\"middle\" x=\"60.5\" y=\"-7.8\">class = negative</text>\n",
       "</g>\n",
       "<!-- 3&#45;&gt;4 -->\n",
       "<g class=\"edge\" id=\"edge4\"><title>3-&gt;4</title>\n",
       "<path d=\"M147.742,-103.726C135.7,-94.2406 122.898,-84.1551 110.916,-74.7159\" fill=\"none\" stroke=\"black\"/>\n",
       "<polygon fill=\"black\" points=\"112.792,-71.7385 102.771,-68.2996 108.46,-77.2372 112.792,-71.7385\" stroke=\"black\"/>\n",
       "</g>\n",
       "<!-- 5 -->\n",
       "<g class=\"node\" id=\"node6\"><title>5</title>\n",
       "<path d=\"M248,-68C248,-68 151,-68 151,-68 145,-68 139,-62 139,-56 139,-56 139,-12 139,-12 139,-6 145,-0 151,-0 151,-0 248,-0 248,-0 254,-0 260,-6 260,-12 260,-12 260,-56 260,-56 260,-62 254,-68 248,-68\" fill=\"#8139e5\" fill-opacity=\"0.988235\" stroke=\"black\"/>\n",
       "<text font-family=\"Helvetica,sans-Serif\" font-size=\"14.00\" text-anchor=\"middle\" x=\"199.5\" y=\"-52.8\">gini = 0.021</text>\n",
       "<text font-family=\"Helvetica,sans-Serif\" font-size=\"14.00\" text-anchor=\"middle\" x=\"199.5\" y=\"-37.8\">samples = 93</text>\n",
       "<text font-family=\"Helvetica,sans-Serif\" font-size=\"14.00\" text-anchor=\"middle\" x=\"199.5\" y=\"-22.8\">value = [1, 0, 92]</text>\n",
       "<text font-family=\"Helvetica,sans-Serif\" font-size=\"14.00\" text-anchor=\"middle\" x=\"199.5\" y=\"-7.8\">class = negative</text>\n",
       "</g>\n",
       "<!-- 3&#45;&gt;5 -->\n",
       "<g class=\"edge\" id=\"edge5\"><title>3-&gt;5</title>\n",
       "<path d=\"M199.5,-103.726C199.5,-95.5175 199.5,-86.8595 199.5,-78.56\" fill=\"none\" stroke=\"black\"/>\n",
       "<polygon fill=\"black\" points=\"203,-78.2996 199.5,-68.2996 196,-78.2996 203,-78.2996\" stroke=\"black\"/>\n",
       "</g>\n",
       "<!-- 7 -->\n",
       "<g class=\"node\" id=\"node8\"><title>7</title>\n",
       "<path d=\"M403,-68C403,-68 290,-68 290,-68 284,-68 278,-62 278,-56 278,-56 278,-12 278,-12 278,-6 284,-0 290,-0 290,-0 403,-0 403,-0 409,-0 415,-6 415,-12 415,-12 415,-56 415,-56 415,-62 409,-68 403,-68\" fill=\"#8139e5\" stroke=\"black\"/>\n",
       "<text font-family=\"Helvetica,sans-Serif\" font-size=\"14.00\" text-anchor=\"middle\" x=\"346.5\" y=\"-52.8\">gini = 0.0</text>\n",
       "<text font-family=\"Helvetica,sans-Serif\" font-size=\"14.00\" text-anchor=\"middle\" x=\"346.5\" y=\"-37.8\">samples = 1781</text>\n",
       "<text font-family=\"Helvetica,sans-Serif\" font-size=\"14.00\" text-anchor=\"middle\" x=\"346.5\" y=\"-22.8\">value = [0, 0, 1781]</text>\n",
       "<text font-family=\"Helvetica,sans-Serif\" font-size=\"14.00\" text-anchor=\"middle\" x=\"346.5\" y=\"-7.8\">class = negative</text>\n",
       "</g>\n",
       "<!-- 6&#45;&gt;7 -->\n",
       "<g class=\"edge\" id=\"edge7\"><title>6-&gt;7</title>\n",
       "<path d=\"M394.2,-103.726C388.06,-94.879 381.557,-85.51 375.394,-76.6303\" fill=\"none\" stroke=\"black\"/>\n",
       "<polygon fill=\"black\" points=\"378.189,-74.5191 369.612,-68.2996 372.439,-78.5104 378.189,-74.5191\" stroke=\"black\"/>\n",
       "</g>\n",
       "<!-- 8 -->\n",
       "<g class=\"node\" id=\"node9\"><title>8</title>\n",
       "<path d=\"M542,-68C542,-68 445,-68 445,-68 439,-68 433,-62 433,-56 433,-56 433,-12 433,-12 433,-6 439,-0 445,-0 445,-0 542,-0 542,-0 548,-0 554,-6 554,-12 554,-12 554,-56 554,-56 554,-62 548,-68 542,-68\" fill=\"#8139e5\" fill-opacity=\"0.925490\" stroke=\"black\"/>\n",
       "<text font-family=\"Helvetica,sans-Serif\" font-size=\"14.00\" text-anchor=\"middle\" x=\"493.5\" y=\"-52.8\">gini = 0.128</text>\n",
       "<text font-family=\"Helvetica,sans-Serif\" font-size=\"14.00\" text-anchor=\"middle\" x=\"493.5\" y=\"-37.8\">samples = 73</text>\n",
       "<text font-family=\"Helvetica,sans-Serif\" font-size=\"14.00\" text-anchor=\"middle\" x=\"493.5\" y=\"-22.8\">value = [0, 5, 68]</text>\n",
       "<text font-family=\"Helvetica,sans-Serif\" font-size=\"14.00\" text-anchor=\"middle\" x=\"493.5\" y=\"-7.8\">class = negative</text>\n",
       "</g>\n",
       "<!-- 6&#45;&gt;8 -->\n",
       "<g class=\"edge\" id=\"edge8\"><title>6-&gt;8</title>\n",
       "<path d=\"M448.938,-103.726C454.615,-94.9703 460.624,-85.7032 466.329,-76.9051\" fill=\"none\" stroke=\"black\"/>\n",
       "<polygon fill=\"black\" points=\"469.405,-78.5943 471.908,-68.2996 463.531,-74.786 469.405,-78.5943\" stroke=\"black\"/>\n",
       "</g>\n",
       "<!-- 10 -->\n",
       "<g class=\"node\" id=\"node11\"><title>10</title>\n",
       "<path d=\"M819,-187C819,-187 714,-187 714,-187 708,-187 702,-181 702,-175 702,-175 702,-116 702,-116 702,-110 708,-104 714,-104 714,-104 819,-104 819,-104 825,-104 831,-110 831,-116 831,-116 831,-175 831,-175 831,-181 825,-187 819,-187\" fill=\"#8139e5\" fill-opacity=\"0.847059\" stroke=\"black\"/>\n",
       "<text font-family=\"Helvetica,sans-Serif\" font-size=\"14.00\" text-anchor=\"middle\" x=\"766.5\" y=\"-171.8\">T4U &lt;= 0.091</text>\n",
       "<text font-family=\"Helvetica,sans-Serif\" font-size=\"14.00\" text-anchor=\"middle\" x=\"766.5\" y=\"-156.8\">gini = 0.232</text>\n",
       "<text font-family=\"Helvetica,sans-Serif\" font-size=\"14.00\" text-anchor=\"middle\" x=\"766.5\" y=\"-141.8\">samples = 112</text>\n",
       "<text font-family=\"Helvetica,sans-Serif\" font-size=\"14.00\" text-anchor=\"middle\" x=\"766.5\" y=\"-126.8\">value = [0, 15, 97]</text>\n",
       "<text font-family=\"Helvetica,sans-Serif\" font-size=\"14.00\" text-anchor=\"middle\" x=\"766.5\" y=\"-111.8\">class = negative</text>\n",
       "</g>\n",
       "<!-- 9&#45;&gt;10 -->\n",
       "<g class=\"edge\" id=\"edge10\"><title>9-&gt;10</title>\n",
       "<path d=\"M820.704,-222.907C814.394,-214.014 807.652,-204.509 801.141,-195.331\" fill=\"none\" stroke=\"black\"/>\n",
       "<polygon fill=\"black\" points=\"803.886,-193.152 795.246,-187.021 798.177,-197.202 803.886,-193.152\" stroke=\"black\"/>\n",
       "</g>\n",
       "<!-- 13 -->\n",
       "<g class=\"node\" id=\"node14\"><title>13</title>\n",
       "<path d=\"M1004,-187C1004,-187 861,-187 861,-187 855,-187 849,-181 849,-175 849,-175 849,-116 849,-116 849,-110 855,-104 861,-104 861,-104 1004,-104 1004,-104 1010,-104 1016,-110 1016,-116 1016,-116 1016,-175 1016,-175 1016,-181 1010,-187 1004,-187\" fill=\"#39e581\" fill-opacity=\"0.701961\" stroke=\"black\"/>\n",
       "<text font-family=\"Helvetica,sans-Serif\" font-size=\"14.00\" text-anchor=\"middle\" x=\"932.5\" y=\"-171.8\">hours-per-week &lt;= 47.0</text>\n",
       "<text font-family=\"Helvetica,sans-Serif\" font-size=\"14.00\" text-anchor=\"middle\" x=\"932.5\" y=\"-156.8\">gini = 0.355</text>\n",
       "<text font-family=\"Helvetica,sans-Serif\" font-size=\"14.00\" text-anchor=\"middle\" x=\"932.5\" y=\"-141.8\">samples = 13</text>\n",
       "<text font-family=\"Helvetica,sans-Serif\" font-size=\"14.00\" text-anchor=\"middle\" x=\"932.5\" y=\"-126.8\">value = [0, 10, 3]</text>\n",
       "<text font-family=\"Helvetica,sans-Serif\" font-size=\"14.00\" text-anchor=\"middle\" x=\"932.5\" y=\"-111.8\">class = increased</text>\n",
       "</g>\n",
       "<!-- 9&#45;&gt;13 -->\n",
       "<g class=\"edge\" id=\"edge13\"><title>9-&gt;13</title>\n",
       "<path d=\"M878.296,-222.907C884.606,-214.014 891.348,-204.509 897.859,-195.331\" fill=\"none\" stroke=\"black\"/>\n",
       "<polygon fill=\"black\" points=\"900.823,-197.202 903.754,-187.021 895.114,-193.152 900.823,-197.202\" stroke=\"black\"/>\n",
       "</g>\n",
       "<!-- 11 -->\n",
       "<g class=\"node\" id=\"node12\"><title>11</title>\n",
       "<path d=\"M681,-68C681,-68 584,-68 584,-68 578,-68 572,-62 572,-56 572,-56 572,-12 572,-12 572,-6 578,-0 584,-0 584,-0 681,-0 681,-0 687,-0 693,-6 693,-12 693,-12 693,-56 693,-56 693,-62 687,-68 681,-68\" fill=\"#8139e5\" fill-opacity=\"0.972549\" stroke=\"black\"/>\n",
       "<text font-family=\"Helvetica,sans-Serif\" font-size=\"14.00\" text-anchor=\"middle\" x=\"632.5\" y=\"-52.8\">gini = 0.053</text>\n",
       "<text font-family=\"Helvetica,sans-Serif\" font-size=\"14.00\" text-anchor=\"middle\" x=\"632.5\" y=\"-37.8\">samples = 73</text>\n",
       "<text font-family=\"Helvetica,sans-Serif\" font-size=\"14.00\" text-anchor=\"middle\" x=\"632.5\" y=\"-22.8\">value = [0, 2, 71]</text>\n",
       "<text font-family=\"Helvetica,sans-Serif\" font-size=\"14.00\" text-anchor=\"middle\" x=\"632.5\" y=\"-7.8\">class = negative</text>\n",
       "</g>\n",
       "<!-- 10&#45;&gt;11 -->\n",
       "<g class=\"edge\" id=\"edge11\"><title>10-&gt;11</title>\n",
       "<path d=\"M716.603,-103.726C704.995,-94.2406 692.653,-84.1551 681.102,-74.7159\" fill=\"none\" stroke=\"black\"/>\n",
       "<polygon fill=\"black\" points=\"683.208,-71.9171 673.25,-68.2996 678.779,-77.3375 683.208,-71.9171\" stroke=\"black\"/>\n",
       "</g>\n",
       "<!-- 12 -->\n",
       "<g class=\"node\" id=\"node13\"><title>12</title>\n",
       "<path d=\"M828,-68C828,-68 723,-68 723,-68 717,-68 711,-62 711,-56 711,-56 711,-12 711,-12 711,-6 717,-0 723,-0 723,-0 828,-0 828,-0 834,-0 840,-6 840,-12 840,-12 840,-56 840,-56 840,-62 834,-68 828,-68\" fill=\"#8139e5\" fill-opacity=\"0.498039\" stroke=\"black\"/>\n",
       "<text font-family=\"Helvetica,sans-Serif\" font-size=\"14.00\" text-anchor=\"middle\" x=\"775.5\" y=\"-52.8\">gini = 0.444</text>\n",
       "<text font-family=\"Helvetica,sans-Serif\" font-size=\"14.00\" text-anchor=\"middle\" x=\"775.5\" y=\"-37.8\">samples = 39</text>\n",
       "<text font-family=\"Helvetica,sans-Serif\" font-size=\"14.00\" text-anchor=\"middle\" x=\"775.5\" y=\"-22.8\">value = [0, 13, 26]</text>\n",
       "<text font-family=\"Helvetica,sans-Serif\" font-size=\"14.00\" text-anchor=\"middle\" x=\"775.5\" y=\"-7.8\">class = negative</text>\n",
       "</g>\n",
       "<!-- 10&#45;&gt;12 -->\n",
       "<g class=\"edge\" id=\"edge12\"><title>10-&gt;12</title>\n",
       "<path d=\"M769.851,-103.726C770.533,-95.4263 771.253,-86.6671 771.942,-78.2834\" fill=\"none\" stroke=\"black\"/>\n",
       "<polygon fill=\"black\" points=\"775.432,-78.5527 772.763,-68.2996 768.456,-77.9793 775.432,-78.5527\" stroke=\"black\"/>\n",
       "</g>\n",
       "<!-- 14 -->\n",
       "<g class=\"node\" id=\"node15\"><title>14</title>\n",
       "<path d=\"M974.5,-68C974.5,-68 870.5,-68 870.5,-68 864.5,-68 858.5,-62 858.5,-56 858.5,-56 858.5,-12 858.5,-12 858.5,-6 864.5,-0 870.5,-0 870.5,-0 974.5,-0 974.5,-0 980.5,-0 986.5,-6 986.5,-12 986.5,-12 986.5,-56 986.5,-56 986.5,-62 980.5,-68 974.5,-68\" fill=\"#39e581\" fill-opacity=\"0.901961\" stroke=\"black\"/>\n",
       "<text font-family=\"Helvetica,sans-Serif\" font-size=\"14.00\" text-anchor=\"middle\" x=\"922.5\" y=\"-52.8\">gini = 0.165</text>\n",
       "<text font-family=\"Helvetica,sans-Serif\" font-size=\"14.00\" text-anchor=\"middle\" x=\"922.5\" y=\"-37.8\">samples = 11</text>\n",
       "<text font-family=\"Helvetica,sans-Serif\" font-size=\"14.00\" text-anchor=\"middle\" x=\"922.5\" y=\"-22.8\">value = [0, 10, 1]</text>\n",
       "<text font-family=\"Helvetica,sans-Serif\" font-size=\"14.00\" text-anchor=\"middle\" x=\"922.5\" y=\"-7.8\">class = increased</text>\n",
       "</g>\n",
       "<!-- 13&#45;&gt;14 -->\n",
       "<g class=\"edge\" id=\"edge14\"><title>13-&gt;14</title>\n",
       "<path d=\"M928.776,-103.726C928.018,-95.4263 927.218,-86.6671 926.453,-78.2834\" fill=\"none\" stroke=\"black\"/>\n",
       "<polygon fill=\"black\" points=\"929.936,-77.9398 925.541,-68.2996 922.965,-78.5765 929.936,-77.9398\" stroke=\"black\"/>\n",
       "</g>\n",
       "<!-- 15 -->\n",
       "<g class=\"node\" id=\"node16\"><title>15</title>\n",
       "<path d=\"M1112,-68C1112,-68 1017,-68 1017,-68 1011,-68 1005,-62 1005,-56 1005,-56 1005,-12 1005,-12 1005,-6 1011,-0 1017,-0 1017,-0 1112,-0 1112,-0 1118,-0 1124,-6 1124,-12 1124,-12 1124,-56 1124,-56 1124,-62 1118,-68 1112,-68\" fill=\"#8139e5\" stroke=\"black\"/>\n",
       "<text font-family=\"Helvetica,sans-Serif\" font-size=\"14.00\" text-anchor=\"middle\" x=\"1064.5\" y=\"-52.8\">gini = 0.0</text>\n",
       "<text font-family=\"Helvetica,sans-Serif\" font-size=\"14.00\" text-anchor=\"middle\" x=\"1064.5\" y=\"-37.8\">samples = 2</text>\n",
       "<text font-family=\"Helvetica,sans-Serif\" font-size=\"14.00\" text-anchor=\"middle\" x=\"1064.5\" y=\"-22.8\">value = [0, 0, 2]</text>\n",
       "<text font-family=\"Helvetica,sans-Serif\" font-size=\"14.00\" text-anchor=\"middle\" x=\"1064.5\" y=\"-7.8\">class = negative</text>\n",
       "</g>\n",
       "<!-- 13&#45;&gt;15 -->\n",
       "<g class=\"edge\" id=\"edge15\"><title>13-&gt;15</title>\n",
       "<path d=\"M981.652,-103.726C993.087,-94.2406 1005.24,-84.1551 1016.62,-74.7159\" fill=\"none\" stroke=\"black\"/>\n",
       "<polygon fill=\"black\" points=\"1018.9,-77.3781 1024.36,-68.2996 1014.43,-71.9905 1018.9,-77.3781\" stroke=\"black\"/>\n",
       "</g>\n",
       "<!-- 17 -->\n",
       "<g class=\"node\" id=\"node18\"><title>17</title>\n",
       "<path d=\"M1364,-306C1364,-306 1259,-306 1259,-306 1253,-306 1247,-300 1247,-294 1247,-294 1247,-235 1247,-235 1247,-229 1253,-223 1259,-223 1259,-223 1364,-223 1364,-223 1370,-223 1376,-229 1376,-235 1376,-235 1376,-294 1376,-294 1376,-300 1370,-306 1364,-306\" fill=\"#8139e5\" fill-opacity=\"0.764706\" stroke=\"black\"/>\n",
       "<text font-family=\"Helvetica,sans-Serif\" font-size=\"14.00\" text-anchor=\"middle\" x=\"1311.5\" y=\"-290.8\">age &lt;= 4.376</text>\n",
       "<text font-family=\"Helvetica,sans-Serif\" font-size=\"14.00\" text-anchor=\"middle\" x=\"1311.5\" y=\"-275.8\">gini = 0.309</text>\n",
       "<text font-family=\"Helvetica,sans-Serif\" font-size=\"14.00\" text-anchor=\"middle\" x=\"1311.5\" y=\"-260.8\">samples = 68</text>\n",
       "<text font-family=\"Helvetica,sans-Serif\" font-size=\"14.00\" text-anchor=\"middle\" x=\"1311.5\" y=\"-245.8\">value = [0, 13, 55]</text>\n",
       "<text font-family=\"Helvetica,sans-Serif\" font-size=\"14.00\" text-anchor=\"middle\" x=\"1311.5\" y=\"-230.8\">class = negative</text>\n",
       "</g>\n",
       "<!-- 16&#45;&gt;17 -->\n",
       "<g class=\"edge\" id=\"edge17\"><title>16-&gt;17</title>\n",
       "<path d=\"M1311.5,-341.907C1311.5,-333.649 1311.5,-324.864 1311.5,-316.302\" fill=\"none\" stroke=\"black\"/>\n",
       "<polygon fill=\"black\" points=\"1315,-316.021 1311.5,-306.021 1308,-316.021 1315,-316.021\" stroke=\"black\"/>\n",
       "</g>\n",
       "<!-- 22 -->\n",
       "<g class=\"node\" id=\"node23\"><title>22</title>\n",
       "<path d=\"M1648,-306C1648,-306 1543,-306 1543,-306 1537,-306 1531,-300 1531,-294 1531,-294 1531,-235 1531,-235 1531,-229 1537,-223 1543,-223 1543,-223 1648,-223 1648,-223 1654,-223 1660,-229 1660,-235 1660,-235 1660,-294 1660,-294 1660,-300 1654,-306 1648,-306\" fill=\"#39e581\" fill-opacity=\"0.741176\" stroke=\"black\"/>\n",
       "<text font-family=\"Helvetica,sans-Serif\" font-size=\"14.00\" text-anchor=\"middle\" x=\"1595.5\" y=\"-290.8\">age &lt;= 3.238</text>\n",
       "<text font-family=\"Helvetica,sans-Serif\" font-size=\"14.00\" text-anchor=\"middle\" x=\"1595.5\" y=\"-275.8\">gini = 0.327</text>\n",
       "<text font-family=\"Helvetica,sans-Serif\" font-size=\"14.00\" text-anchor=\"middle\" x=\"1595.5\" y=\"-260.8\">samples = 68</text>\n",
       "<text font-family=\"Helvetica,sans-Serif\" font-size=\"14.00\" text-anchor=\"middle\" x=\"1595.5\" y=\"-245.8\">value = [0, 54, 14]</text>\n",
       "<text font-family=\"Helvetica,sans-Serif\" font-size=\"14.00\" text-anchor=\"middle\" x=\"1595.5\" y=\"-230.8\">class = increased</text>\n",
       "</g>\n",
       "<!-- 16&#45;&gt;22 -->\n",
       "<g class=\"edge\" id=\"edge22\"><title>16-&gt;22</title>\n",
       "<path d=\"M1376.3,-355.804C1419.55,-337.985 1476.54,-314.51 1521.56,-295.96\" fill=\"none\" stroke=\"black\"/>\n",
       "<polygon fill=\"black\" points=\"1523.07,-299.126 1530.98,-292.081 1520.4,-292.654 1523.07,-299.126\" stroke=\"black\"/>\n",
       "</g>\n",
       "<!-- 18 -->\n",
       "<g class=\"node\" id=\"node19\"><title>18</title>\n",
       "<path d=\"M1293.5,-187C1293.5,-187 1177.5,-187 1177.5,-187 1171.5,-187 1165.5,-181 1165.5,-175 1165.5,-175 1165.5,-116 1165.5,-116 1165.5,-110 1171.5,-104 1177.5,-104 1177.5,-104 1293.5,-104 1293.5,-104 1299.5,-104 1305.5,-110 1305.5,-116 1305.5,-116 1305.5,-175 1305.5,-175 1305.5,-181 1299.5,-187 1293.5,-187\" fill=\"#8139e5\" fill-opacity=\"0.800000\" stroke=\"black\"/>\n",
       "<text font-family=\"Helvetica,sans-Serif\" font-size=\"14.00\" text-anchor=\"middle\" x=\"1235.5\" y=\"-171.8\">workclass_5 &lt;= 0.5</text>\n",
       "<text font-family=\"Helvetica,sans-Serif\" font-size=\"14.00\" text-anchor=\"middle\" x=\"1235.5\" y=\"-156.8\">gini = 0.278</text>\n",
       "<text font-family=\"Helvetica,sans-Serif\" font-size=\"14.00\" text-anchor=\"middle\" x=\"1235.5\" y=\"-141.8\">samples = 66</text>\n",
       "<text font-family=\"Helvetica,sans-Serif\" font-size=\"14.00\" text-anchor=\"middle\" x=\"1235.5\" y=\"-126.8\">value = [0, 11, 55]</text>\n",
       "<text font-family=\"Helvetica,sans-Serif\" font-size=\"14.00\" text-anchor=\"middle\" x=\"1235.5\" y=\"-111.8\">class = negative</text>\n",
       "</g>\n",
       "<!-- 17&#45;&gt;18 -->\n",
       "<g class=\"edge\" id=\"edge18\"><title>17-&gt;18</title>\n",
       "<path d=\"M1285.13,-222.907C1279.41,-214.105 1273.31,-204.703 1267.4,-195.612\" fill=\"none\" stroke=\"black\"/>\n",
       "<polygon fill=\"black\" points=\"1270.2,-193.5 1261.82,-187.021 1264.33,-197.313 1270.2,-193.5\" stroke=\"black\"/>\n",
       "</g>\n",
       "<!-- 21 -->\n",
       "<g class=\"node\" id=\"node22\"><title>21</title>\n",
       "<path d=\"M1439.5,-179.5C1439.5,-179.5 1335.5,-179.5 1335.5,-179.5 1329.5,-179.5 1323.5,-173.5 1323.5,-167.5 1323.5,-167.5 1323.5,-123.5 1323.5,-123.5 1323.5,-117.5 1329.5,-111.5 1335.5,-111.5 1335.5,-111.5 1439.5,-111.5 1439.5,-111.5 1445.5,-111.5 1451.5,-117.5 1451.5,-123.5 1451.5,-123.5 1451.5,-167.5 1451.5,-167.5 1451.5,-173.5 1445.5,-179.5 1439.5,-179.5\" fill=\"#39e581\" stroke=\"black\"/>\n",
       "<text font-family=\"Helvetica,sans-Serif\" font-size=\"14.00\" text-anchor=\"middle\" x=\"1387.5\" y=\"-164.3\">gini = 0.0</text>\n",
       "<text font-family=\"Helvetica,sans-Serif\" font-size=\"14.00\" text-anchor=\"middle\" x=\"1387.5\" y=\"-149.3\">samples = 2</text>\n",
       "<text font-family=\"Helvetica,sans-Serif\" font-size=\"14.00\" text-anchor=\"middle\" x=\"1387.5\" y=\"-134.3\">value = [0, 2, 0]</text>\n",
       "<text font-family=\"Helvetica,sans-Serif\" font-size=\"14.00\" text-anchor=\"middle\" x=\"1387.5\" y=\"-119.3\">class = increased</text>\n",
       "</g>\n",
       "<!-- 17&#45;&gt;21 -->\n",
       "<g class=\"edge\" id=\"edge21\"><title>17-&gt;21</title>\n",
       "<path d=\"M1337.87,-222.907C1345.18,-211.652 1353.13,-199.418 1360.47,-188.106\" fill=\"none\" stroke=\"black\"/>\n",
       "<polygon fill=\"black\" points=\"1363.44,-189.96 1365.96,-179.667 1357.57,-186.146 1363.44,-189.96\" stroke=\"black\"/>\n",
       "</g>\n",
       "<!-- 19 -->\n",
       "<g class=\"node\" id=\"node20\"><title>19</title>\n",
       "<path d=\"M1251,-68C1251,-68 1154,-68 1154,-68 1148,-68 1142,-62 1142,-56 1142,-56 1142,-12 1142,-12 1142,-6 1148,-0 1154,-0 1154,-0 1251,-0 1251,-0 1257,-0 1263,-6 1263,-12 1263,-12 1263,-56 1263,-56 1263,-62 1257,-68 1251,-68\" fill=\"#8139e5\" fill-opacity=\"0.831373\" stroke=\"black\"/>\n",
       "<text font-family=\"Helvetica,sans-Serif\" font-size=\"14.00\" text-anchor=\"middle\" x=\"1202.5\" y=\"-52.8\">gini = 0.245</text>\n",
       "<text font-family=\"Helvetica,sans-Serif\" font-size=\"14.00\" text-anchor=\"middle\" x=\"1202.5\" y=\"-37.8\">samples = 63</text>\n",
       "<text font-family=\"Helvetica,sans-Serif\" font-size=\"14.00\" text-anchor=\"middle\" x=\"1202.5\" y=\"-22.8\">value = [0, 9, 54]</text>\n",
       "<text font-family=\"Helvetica,sans-Serif\" font-size=\"14.00\" text-anchor=\"middle\" x=\"1202.5\" y=\"-7.8\">class = negative</text>\n",
       "</g>\n",
       "<!-- 18&#45;&gt;19 -->\n",
       "<g class=\"edge\" id=\"edge19\"><title>18-&gt;19</title>\n",
       "<path d=\"M1223.21,-103.726C1220.68,-95.3351 1218.01,-86.4745 1215.46,-78.0072\" fill=\"none\" stroke=\"black\"/>\n",
       "<polygon fill=\"black\" points=\"1218.77,-76.8643 1212.54,-68.2996 1212.07,-78.8842 1218.77,-76.8643\" stroke=\"black\"/>\n",
       "</g>\n",
       "<!-- 20 -->\n",
       "<g class=\"node\" id=\"node21\"><title>20</title>\n",
       "<path d=\"M1397.5,-68C1397.5,-68 1293.5,-68 1293.5,-68 1287.5,-68 1281.5,-62 1281.5,-56 1281.5,-56 1281.5,-12 1281.5,-12 1281.5,-6 1287.5,-0 1293.5,-0 1293.5,-0 1397.5,-0 1397.5,-0 1403.5,-0 1409.5,-6 1409.5,-12 1409.5,-12 1409.5,-56 1409.5,-56 1409.5,-62 1403.5,-68 1397.5,-68\" fill=\"#39e581\" fill-opacity=\"0.498039\" stroke=\"black\"/>\n",
       "<text font-family=\"Helvetica,sans-Serif\" font-size=\"14.00\" text-anchor=\"middle\" x=\"1345.5\" y=\"-52.8\">gini = 0.444</text>\n",
       "<text font-family=\"Helvetica,sans-Serif\" font-size=\"14.00\" text-anchor=\"middle\" x=\"1345.5\" y=\"-37.8\">samples = 3</text>\n",
       "<text font-family=\"Helvetica,sans-Serif\" font-size=\"14.00\" text-anchor=\"middle\" x=\"1345.5\" y=\"-22.8\">value = [0, 2, 1]</text>\n",
       "<text font-family=\"Helvetica,sans-Serif\" font-size=\"14.00\" text-anchor=\"middle\" x=\"1345.5\" y=\"-7.8\">class = increased</text>\n",
       "</g>\n",
       "<!-- 18&#45;&gt;20 -->\n",
       "<g class=\"edge\" id=\"edge20\"><title>18-&gt;20</title>\n",
       "<path d=\"M1276.46,-103.726C1285.71,-94.5142 1295.54,-84.7364 1304.78,-75.5343\" fill=\"none\" stroke=\"black\"/>\n",
       "<polygon fill=\"black\" points=\"1307.43,-77.8351 1312.05,-68.2996 1302.49,-72.8741 1307.43,-77.8351\" stroke=\"black\"/>\n",
       "</g>\n",
       "<!-- 23 -->\n",
       "<g class=\"node\" id=\"node24\"><title>23</title>\n",
       "<path d=\"M1643,-187C1643,-187 1548,-187 1548,-187 1542,-187 1536,-181 1536,-175 1536,-175 1536,-116 1536,-116 1536,-110 1542,-104 1548,-104 1548,-104 1643,-104 1643,-104 1649,-104 1655,-110 1655,-116 1655,-116 1655,-175 1655,-175 1655,-181 1649,-187 1643,-187\" fill=\"#8139e5\" fill-opacity=\"0.376471\" stroke=\"black\"/>\n",
       "<text font-family=\"Helvetica,sans-Serif\" font-size=\"14.00\" text-anchor=\"middle\" x=\"1595.5\" y=\"-171.8\">TT4 &lt;= 4.852</text>\n",
       "<text font-family=\"Helvetica,sans-Serif\" font-size=\"14.00\" text-anchor=\"middle\" x=\"1595.5\" y=\"-156.8\">gini = 0.473</text>\n",
       "<text font-family=\"Helvetica,sans-Serif\" font-size=\"14.00\" text-anchor=\"middle\" x=\"1595.5\" y=\"-141.8\">samples = 13</text>\n",
       "<text font-family=\"Helvetica,sans-Serif\" font-size=\"14.00\" text-anchor=\"middle\" x=\"1595.5\" y=\"-126.8\">value = [0, 5, 8]</text>\n",
       "<text font-family=\"Helvetica,sans-Serif\" font-size=\"14.00\" text-anchor=\"middle\" x=\"1595.5\" y=\"-111.8\">class = negative</text>\n",
       "</g>\n",
       "<!-- 22&#45;&gt;23 -->\n",
       "<g class=\"edge\" id=\"edge23\"><title>22-&gt;23</title>\n",
       "<path d=\"M1595.5,-222.907C1595.5,-214.649 1595.5,-205.864 1595.5,-197.302\" fill=\"none\" stroke=\"black\"/>\n",
       "<polygon fill=\"black\" points=\"1599,-197.021 1595.5,-187.021 1592,-197.021 1599,-197.021\" stroke=\"black\"/>\n",
       "</g>\n",
       "<!-- 26 -->\n",
       "<g class=\"node\" id=\"node27\"><title>26</title>\n",
       "<path d=\"M1822.5,-187C1822.5,-187 1718.5,-187 1718.5,-187 1712.5,-187 1706.5,-181 1706.5,-175 1706.5,-175 1706.5,-116 1706.5,-116 1706.5,-110 1712.5,-104 1718.5,-104 1718.5,-104 1822.5,-104 1822.5,-104 1828.5,-104 1834.5,-110 1834.5,-116 1834.5,-116 1834.5,-175 1834.5,-175 1834.5,-181 1828.5,-187 1822.5,-187\" fill=\"#39e581\" fill-opacity=\"0.878431\" stroke=\"black\"/>\n",
       "<text font-family=\"Helvetica,sans-Serif\" font-size=\"14.00\" text-anchor=\"middle\" x=\"1770.5\" y=\"-171.8\">tumor_1 &lt;= 0.5</text>\n",
       "<text font-family=\"Helvetica,sans-Serif\" font-size=\"14.00\" text-anchor=\"middle\" x=\"1770.5\" y=\"-156.8\">gini = 0.194</text>\n",
       "<text font-family=\"Helvetica,sans-Serif\" font-size=\"14.00\" text-anchor=\"middle\" x=\"1770.5\" y=\"-141.8\">samples = 55</text>\n",
       "<text font-family=\"Helvetica,sans-Serif\" font-size=\"14.00\" text-anchor=\"middle\" x=\"1770.5\" y=\"-126.8\">value = [0, 49, 6]</text>\n",
       "<text font-family=\"Helvetica,sans-Serif\" font-size=\"14.00\" text-anchor=\"middle\" x=\"1770.5\" y=\"-111.8\">class = increased</text>\n",
       "</g>\n",
       "<!-- 22&#45;&gt;26 -->\n",
       "<g class=\"edge\" id=\"edge26\"><title>22-&gt;26</title>\n",
       "<path d=\"M1656.22,-222.907C1670.74,-213.197 1686.35,-202.758 1701.23,-192.811\" fill=\"none\" stroke=\"black\"/>\n",
       "<polygon fill=\"black\" points=\"1703.52,-195.488 1709.89,-187.021 1699.63,-189.669 1703.52,-195.488\" stroke=\"black\"/>\n",
       "</g>\n",
       "<!-- 24 -->\n",
       "<g class=\"node\" id=\"node25\"><title>24</title>\n",
       "<path d=\"M1543.5,-68C1543.5,-68 1439.5,-68 1439.5,-68 1433.5,-68 1427.5,-62 1427.5,-56 1427.5,-56 1427.5,-12 1427.5,-12 1427.5,-6 1433.5,-0 1439.5,-0 1439.5,-0 1543.5,-0 1543.5,-0 1549.5,-0 1555.5,-6 1555.5,-12 1555.5,-12 1555.5,-56 1555.5,-56 1555.5,-62 1549.5,-68 1543.5,-68\" fill=\"#39e581\" stroke=\"black\"/>\n",
       "<text font-family=\"Helvetica,sans-Serif\" font-size=\"14.00\" text-anchor=\"middle\" x=\"1491.5\" y=\"-52.8\">gini = 0.0</text>\n",
       "<text font-family=\"Helvetica,sans-Serif\" font-size=\"14.00\" text-anchor=\"middle\" x=\"1491.5\" y=\"-37.8\">samples = 2</text>\n",
       "<text font-family=\"Helvetica,sans-Serif\" font-size=\"14.00\" text-anchor=\"middle\" x=\"1491.5\" y=\"-22.8\">value = [0, 2, 0]</text>\n",
       "<text font-family=\"Helvetica,sans-Serif\" font-size=\"14.00\" text-anchor=\"middle\" x=\"1491.5\" y=\"-7.8\">class = increased</text>\n",
       "</g>\n",
       "<!-- 23&#45;&gt;24 -->\n",
       "<g class=\"edge\" id=\"edge24\"><title>23-&gt;24</title>\n",
       "<path d=\"M1556.77,-103.726C1548.11,-94.6054 1538.92,-84.93 1530.26,-75.8078\" fill=\"none\" stroke=\"black\"/>\n",
       "<polygon fill=\"black\" points=\"1532.55,-73.1401 1523.13,-68.2996 1527.48,-77.9608 1532.55,-73.1401\" stroke=\"black\"/>\n",
       "</g>\n",
       "<!-- 25 -->\n",
       "<g class=\"node\" id=\"node26\"><title>25</title>\n",
       "<path d=\"M1681,-68C1681,-68 1586,-68 1586,-68 1580,-68 1574,-62 1574,-56 1574,-56 1574,-12 1574,-12 1574,-6 1580,-0 1586,-0 1586,-0 1681,-0 1681,-0 1687,-0 1693,-6 1693,-12 1693,-12 1693,-56 1693,-56 1693,-62 1687,-68 1681,-68\" fill=\"#8139e5\" fill-opacity=\"0.623529\" stroke=\"black\"/>\n",
       "<text font-family=\"Helvetica,sans-Serif\" font-size=\"14.00\" text-anchor=\"middle\" x=\"1633.5\" y=\"-52.8\">gini = 0.397</text>\n",
       "<text font-family=\"Helvetica,sans-Serif\" font-size=\"14.00\" text-anchor=\"middle\" x=\"1633.5\" y=\"-37.8\">samples = 11</text>\n",
       "<text font-family=\"Helvetica,sans-Serif\" font-size=\"14.00\" text-anchor=\"middle\" x=\"1633.5\" y=\"-22.8\">value = [0, 3, 8]</text>\n",
       "<text font-family=\"Helvetica,sans-Serif\" font-size=\"14.00\" text-anchor=\"middle\" x=\"1633.5\" y=\"-7.8\">class = negative</text>\n",
       "</g>\n",
       "<!-- 23&#45;&gt;25 -->\n",
       "<g class=\"edge\" id=\"edge25\"><title>23-&gt;25</title>\n",
       "<path d=\"M1609.65,-103.726C1612.56,-95.3351 1615.64,-86.4745 1618.58,-78.0072\" fill=\"none\" stroke=\"black\"/>\n",
       "<polygon fill=\"black\" points=\"1621.97,-78.8944 1621.94,-68.2996 1615.36,-76.5994 1621.97,-78.8944\" stroke=\"black\"/>\n",
       "</g>\n",
       "<!-- 27 -->\n",
       "<g class=\"node\" id=\"node28\"><title>27</title>\n",
       "<path d=\"M1818,-68C1818,-68 1723,-68 1723,-68 1717,-68 1711,-62 1711,-56 1711,-56 1711,-12 1711,-12 1711,-6 1717,-0 1723,-0 1723,-0 1818,-0 1818,-0 1824,-0 1830,-6 1830,-12 1830,-12 1830,-56 1830,-56 1830,-62 1824,-68 1818,-68\" fill=\"#8139e5\" fill-opacity=\"0.498039\" stroke=\"black\"/>\n",
       "<text font-family=\"Helvetica,sans-Serif\" font-size=\"14.00\" text-anchor=\"middle\" x=\"1770.5\" y=\"-52.8\">gini = 0.444</text>\n",
       "<text font-family=\"Helvetica,sans-Serif\" font-size=\"14.00\" text-anchor=\"middle\" x=\"1770.5\" y=\"-37.8\">samples = 3</text>\n",
       "<text font-family=\"Helvetica,sans-Serif\" font-size=\"14.00\" text-anchor=\"middle\" x=\"1770.5\" y=\"-22.8\">value = [0, 1, 2]</text>\n",
       "<text font-family=\"Helvetica,sans-Serif\" font-size=\"14.00\" text-anchor=\"middle\" x=\"1770.5\" y=\"-7.8\">class = negative</text>\n",
       "</g>\n",
       "<!-- 26&#45;&gt;27 -->\n",
       "<g class=\"edge\" id=\"edge27\"><title>26-&gt;27</title>\n",
       "<path d=\"M1770.5,-103.726C1770.5,-95.5175 1770.5,-86.8595 1770.5,-78.56\" fill=\"none\" stroke=\"black\"/>\n",
       "<polygon fill=\"black\" points=\"1774,-78.2996 1770.5,-68.2996 1767,-78.2996 1774,-78.2996\" stroke=\"black\"/>\n",
       "</g>\n",
       "<!-- 28 -->\n",
       "<g class=\"node\" id=\"node29\"><title>28</title>\n",
       "<path d=\"M1964.5,-68C1964.5,-68 1860.5,-68 1860.5,-68 1854.5,-68 1848.5,-62 1848.5,-56 1848.5,-56 1848.5,-12 1848.5,-12 1848.5,-6 1854.5,-0 1860.5,-0 1860.5,-0 1964.5,-0 1964.5,-0 1970.5,-0 1976.5,-6 1976.5,-12 1976.5,-12 1976.5,-56 1976.5,-56 1976.5,-62 1970.5,-68 1964.5,-68\" fill=\"#39e581\" fill-opacity=\"0.917647\" stroke=\"black\"/>\n",
       "<text font-family=\"Helvetica,sans-Serif\" font-size=\"14.00\" text-anchor=\"middle\" x=\"1912.5\" y=\"-52.8\">gini = 0.142</text>\n",
       "<text font-family=\"Helvetica,sans-Serif\" font-size=\"14.00\" text-anchor=\"middle\" x=\"1912.5\" y=\"-37.8\">samples = 52</text>\n",
       "<text font-family=\"Helvetica,sans-Serif\" font-size=\"14.00\" text-anchor=\"middle\" x=\"1912.5\" y=\"-22.8\">value = [0, 48, 4]</text>\n",
       "<text font-family=\"Helvetica,sans-Serif\" font-size=\"14.00\" text-anchor=\"middle\" x=\"1912.5\" y=\"-7.8\">class = increased</text>\n",
       "</g>\n",
       "<!-- 26&#45;&gt;28 -->\n",
       "<g class=\"edge\" id=\"edge28\"><title>26-&gt;28</title>\n",
       "<path d=\"M1823.38,-103.726C1835.79,-94.1494 1849.01,-83.9611 1861.35,-74.4438\" fill=\"none\" stroke=\"black\"/>\n",
       "<polygon fill=\"black\" points=\"1863.54,-77.1778 1869.32,-68.2996 1859.26,-71.6345 1863.54,-77.1778\" stroke=\"black\"/>\n",
       "</g>\n",
       "</g>\n",
       "</svg>"
      ],
      "text/plain": [
       "<IPython.core.display.SVG object>"
      ]
     },
     "metadata": {},
     "output_type": "display_data"
    },
    {
     "data": {
      "text/html": [
       "<style>svg{width:50% !important;height:20% !important;}</style>"
      ],
      "text/plain": [
       "<IPython.core.display.HTML object>"
      ]
     },
     "execution_count": 203,
     "metadata": {},
     "output_type": "execute_result"
    }
   ],
   "source": [
    "graph = Source(export_graphviz(clf_d, \n",
    "                               out_file=None,\n",
    "                               feature_names=X_train_dt.columns.difference(['class']),\n",
    "                               class_names=['decreased','increased','negative'],\n",
    "                               filled = True,\n",
    "                              rounded = True\n",
    "                              ))\n",
    "\n",
    "display(SVG(graph.pipe(format='svg')))\n",
    "\n",
    "from IPython.display import HTML # toto je tu len pre to aby sa mi obrazok zmestil na obrazovku\n",
    "style = \"<style>svg{width:50% !important;height:20% !important;}</style>\"\n",
    "HTML(style)"
   ]
  },
  {
   "cell_type": "markdown",
   "metadata": {},
   "source": [
    "Z vizualizácie mozeme citat kolko pripadov z jednotlivych kategorií bolo zaklasifikovaných pomocou jednotlivých pravidiel v strome. \n",
    "Napríklad kategoria **increased** sa najuspešnejšie podarila klasifikovat pomocou atributov **T4U, T3, age a tumor**.\n",
    "Kategoria **decreased** bola klasifikovaná najuspešnejšie v jednej vetve **T4U, T3, T4U, TT4**\n",
    "Pri klasifikovanie kategorie **negativ** asi najviac pomohol atribut **T4U**\n",
    "\n",
    "Ako sa ukázalo, rozhodovací strom sa naučil pravidla na atribútoch, ktore sme používali v manualnej predikcii. To naznačuje, že naše úvahy boli správne. \n"
   ]
  },
  {
   "cell_type": "markdown",
   "metadata": {},
   "source": [
    "##### 1.4. Vyber atributov "
   ]
  },
  {
   "cell_type": "markdown",
   "metadata": {},
   "source": [
    "Pozrieme sa na strom bez obmedzeni hlbky a na uzitocnost jednotlivych atributov, ako velmi su napomocne pri predikcii"
   ]
  },
  {
   "cell_type": "code",
   "execution_count": 28,
   "metadata": {},
   "outputs": [],
   "source": [
    "clf_d = DecisionTreeClassifier()\n",
    "\n",
    "clf_d = clf_d.fit(X_train_dt[X_train_dt.columns.difference(['class'])],X_train_dt['class'])"
   ]
  },
  {
   "cell_type": "code",
   "execution_count": 29,
   "metadata": {},
   "outputs": [
    {
     "data": {
      "text/plain": [
       "(2237, 160)"
      ]
     },
     "execution_count": 29,
     "metadata": {},
     "output_type": "execute_result"
    }
   ],
   "source": [
    "X_train_dt[X_train_dt.columns.difference(['class'])].shape"
   ]
  },
  {
   "cell_type": "code",
   "execution_count": 30,
   "metadata": {},
   "outputs": [
    {
     "data": {
      "text/plain": [
       "array([ 0.04430285,  0.        ,  0.        ,  0.        ,  0.1661409 ,\n",
       "        0.34439269,  0.07666508,  0.05832728,  0.06632338,  0.00404722,\n",
       "        0.        ,  0.        ,  0.        ,  0.00887859,  0.        ,\n",
       "        0.        ,  0.        ,  0.        ,  0.        ,  0.        ,\n",
       "        0.        ,  0.        ,  0.        ,  0.        ,  0.        ,\n",
       "        0.        ,  0.        ,  0.        ,  0.03866306,  0.        ,\n",
       "        0.00736473,  0.        ,  0.02896949,  0.        ,  0.        ,\n",
       "        0.        ,  0.        ,  0.        ,  0.        ,  0.        ,\n",
       "        0.01361211,  0.        ,  0.        ,  0.        ,  0.        ,\n",
       "        0.        ,  0.        ,  0.00473122,  0.00857058,  0.        ,\n",
       "        0.        ,  0.        ,  0.        ,  0.        ,  0.        ,\n",
       "        0.        ,  0.        ,  0.00785973,  0.        ,  0.        ,\n",
       "        0.        ,  0.        ,  0.        ,  0.        ,  0.        ,\n",
       "        0.        ,  0.        ,  0.        ,  0.        ,  0.00760619,\n",
       "        0.        ,  0.        ,  0.        ,  0.        ,  0.        ,\n",
       "        0.        ,  0.        ,  0.        ,  0.        ,  0.        ,\n",
       "        0.        ,  0.        ,  0.        ,  0.        ,  0.        ,\n",
       "        0.        ,  0.        ,  0.        ,  0.00535614,  0.        ,\n",
       "        0.        ,  0.00876898,  0.        ,  0.        ,  0.00403572,\n",
       "        0.0083363 ,  0.        ,  0.        ,  0.        ,  0.        ,\n",
       "        0.        ,  0.        ,  0.        ,  0.        ,  0.        ,\n",
       "        0.        ,  0.        ,  0.00493255,  0.        ,  0.        ,\n",
       "        0.        ,  0.        ,  0.        ,  0.        ,  0.004371  ,\n",
       "        0.        ,  0.        ,  0.        ,  0.        ,  0.01331788,\n",
       "        0.        ,  0.00946156,  0.        ,  0.        ,  0.        ,\n",
       "        0.        ,  0.        ,  0.01315347,  0.00315135,  0.        ,\n",
       "        0.        ,  0.        ,  0.        ,  0.        ,  0.        ,\n",
       "        0.        ,  0.        ,  0.        ,  0.        ,  0.        ,\n",
       "        0.        ,  0.00493255,  0.00657673,  0.        ,  0.00473525,\n",
       "        0.        ,  0.        ,  0.        ,  0.        ,  0.        ,\n",
       "        0.00973172,  0.        ,  0.        ,  0.        ,  0.00493255,\n",
       "        0.        ,  0.        ,  0.00775115,  0.        ,  0.        ])"
      ]
     },
     "execution_count": 30,
     "metadata": {},
     "output_type": "execute_result"
    }
   ],
   "source": [
    "clf_d.feature_importances_"
   ]
  },
  {
   "cell_type": "markdown",
   "metadata": {},
   "source": [
    "Vidime, ze vela atributov nezavazilo pri rozhodovani vobec, tie mozeme vynechat"
   ]
  },
  {
   "cell_type": "code",
   "execution_count": 31,
   "metadata": {},
   "outputs": [],
   "source": [
    "new_cols = [X_train_dt.columns.difference(['class'])[x] for x in range(0,len(X_train_dt.columns.difference(['class']))) if clf_d.feature_importances_[x] != 0]"
   ]
  },
  {
   "cell_type": "markdown",
   "metadata": {},
   "source": [
    "Overme aku uspesnost bude dosahovat strom len na vybranych atributoch "
   ]
  },
  {
   "cell_type": "code",
   "execution_count": 204,
   "metadata": {},
   "outputs": [
    {
     "name": "stderr",
     "output_type": "stream",
     "text": [
      "C:\\Anaconda3\\lib\\site-packages\\sklearn\\metrics\\classification.py:1143: UndefinedMetricWarning: F-score is ill-defined and being set to 0.0 in labels with no predicted samples.\n",
      "  'precision', 'predicted', average, warn_for)\n",
      "C:\\Anaconda3\\lib\\site-packages\\sklearn\\metrics\\classification.py:1143: UndefinedMetricWarning: F-score is ill-defined and being set to 0.0 in labels with no predicted samples.\n",
      "  'precision', 'predicted', average, warn_for)\n",
      "C:\\Anaconda3\\lib\\site-packages\\sklearn\\metrics\\classification.py:1143: UndefinedMetricWarning: F-score is ill-defined and being set to 0.0 in labels with no predicted samples.\n",
      "  'precision', 'predicted', average, warn_for)\n"
     ]
    }
   ],
   "source": [
    "results = train_dt(50,\n",
    "                   X_train_dt[new_cols],\n",
    "                   X_valid_dt[new_cols],\n",
    "                   X_train_dt['class'],\n",
    "                   X_valid_dt['class']\n",
    "                  )"
   ]
  },
  {
   "cell_type": "code",
   "execution_count": 205,
   "metadata": {},
   "outputs": [
    {
     "data": {
      "text/plain": [
       "[<matplotlib.lines.Line2D at 0x198dffe5be0>]"
      ]
     },
     "execution_count": 205,
     "metadata": {},
     "output_type": "execute_result"
    },
    {
     "data": {
      "image/png": "[encoded data removed]",
      "text/plain": [
       "<matplotlib.figure.Figure at 0x198dff19ac8>"
      ]
     },
     "metadata": {},
     "output_type": "display_data"
    }
   ],
   "source": [
    "plt.plot([row['train'] for row in results])\n",
    "plt.plot([row['test'] for row in results])\n",
    "plt.plot([row['score_f'] for row in results])"
   ]
  },
  {
   "cell_type": "markdown",
   "metadata": {},
   "source": [
    "Môžeme vidieť, že rozhodovaci strom na vybranej sade atributov dosahuje rovnake vysledky ako pri velkom mnozstve atributov.  "
   ]
  },
  {
   "cell_type": "markdown",
   "metadata": {},
   "source": [
    "##### 1.5 Vyber hyperparametrov"
   ]
  },
  {
   "cell_type": "markdown",
   "metadata": {},
   "source": [
    "Nastavime, ktore parametre chceme vyladit a z akeho rozsahu."
   ]
  },
  {
   "cell_type": "code",
   "execution_count": 216,
   "metadata": {},
   "outputs": [],
   "source": [
    "ind_params = {'random_state': 0}\n",
    "\n",
    "random_params = {\n",
    "    'max_depth': stats.randint(1,30),\n",
    "    'criterion': ['gini', 'entropy'],\n",
    "    'splitter': ['best','random'],\n",
    "    'min_samples_leaf': stats.randint(1,5)\n",
    "}\n",
    "\n",
    "clf = DecisionTreeClassifier"
   ]
  },
  {
   "cell_type": "markdown",
   "metadata": {},
   "source": [
    "Parametre ktore budeme optimalizovat:\n",
    "* maximalna hlbka stromu od **1** po **30**\n",
    "* funkcia urcujuca kvalitu vetvenia **gini** alebo **entropy**\n",
    "* pravidlo vyberu vetvenia **best** alebo **random**\n",
    "* minimalny pocet pozorovani ktore mozu tvorit jeden uzol od **1** do **5**"
   ]
  },
  {
   "cell_type": "markdown",
   "metadata": {},
   "source": [
    "Pouzijeme RandomSearch"
   ]
  },
  {
   "cell_type": "code",
   "execution_count": 217,
   "metadata": {},
   "outputs": [],
   "source": [
    "random_optimization = RandomizedSearchCV(clf(**ind_params), param_distributions = random_params, \n",
    "                               n_iter = 1000, scoring = 'f1_macro', cv = 10, verbose=True,\n",
    "                                         random_state=42, n_jobs = -1)"
   ]
  },
  {
   "cell_type": "code",
   "execution_count": 218,
   "metadata": {},
   "outputs": [
    {
     "name": "stdout",
     "output_type": "stream",
     "text": [
      "Fitting 10 folds for each of 1000 candidates, totalling 10000 fits\n"
     ]
    },
    {
     "name": "stderr",
     "output_type": "stream",
     "text": [
      "C:\\Anaconda3\\lib\\site-packages\\sklearn\\model_selection\\_split.py:626: Warning: The least populated class in y has only 9 members, which is too few. The minimum number of members in any class cannot be less than n_splits=10.\n",
      "  % (min_groups, self.n_splits)), Warning)\n",
      "[Parallel(n_jobs=-1)]: Using backend LokyBackend with 8 concurrent workers.\n",
      "[Parallel(n_jobs=-1)]: Done 124 tasks      | elapsed:    0.8s\n",
      "[Parallel(n_jobs=-1)]: Done 1024 tasks      | elapsed:    5.9s\n",
      "[Parallel(n_jobs=-1)]: Done 2524 tasks      | elapsed:   14.6s\n",
      "[Parallel(n_jobs=-1)]: Done 4624 tasks      | elapsed:   26.4s\n",
      "[Parallel(n_jobs=-1)]: Done 7324 tasks      | elapsed:   41.9s\n"
     ]
    },
    {
     "name": "stdout",
     "output_type": "stream",
     "text": [
      "Wall time: 57.2 s\n"
     ]
    },
    {
     "name": "stderr",
     "output_type": "stream",
     "text": [
      "[Parallel(n_jobs=-1)]: Done 10000 out of 10000 | elapsed:   56.7s finished\n",
      "C:\\Anaconda3\\lib\\site-packages\\sklearn\\model_selection\\_search.py:841: DeprecationWarning: The default of the `iid` parameter will change from True to False in version 0.22 and will be removed in 0.24. This will change numeric results when test-set sizes are unequal.\n",
      "  DeprecationWarning)\n"
     ]
    },
    {
     "data": {
      "text/plain": [
       "RandomizedSearchCV(cv=10, error_score='raise-deprecating',\n",
       "          estimator=DecisionTreeClassifier(class_weight=None, criterion='gini', max_depth=None,\n",
       "            max_features=None, max_leaf_nodes=None,\n",
       "            min_impurity_decrease=0.0, min_impurity_split=None,\n",
       "            min_samples_leaf=1, min_samples_split=2,\n",
       "            min_weight_fraction_leaf=0.0, presort=False, random_state=0,\n",
       "            splitter='best'),\n",
       "          fit_params=None, iid='warn', n_iter=1000, n_jobs=-1,\n",
       "          param_distributions={'max_depth': <scipy.stats._distn_infrastructure.rv_frozen object at 0x00000198DB1C6BA8>, 'criterion': ['gini', 'entropy'], 'splitter': ['best', 'random'], 'min_samples_leaf': <scipy.stats._distn_infrastructure.rv_frozen object at 0x00000198DA42D4A8>},\n",
       "          pre_dispatch='2*n_jobs', random_state=42, refit=True,\n",
       "          return_train_score='warn', scoring='f1_macro', verbose=True)"
      ]
     },
     "execution_count": 218,
     "metadata": {},
     "output_type": "execute_result"
    }
   ],
   "source": [
    "%%time\n",
    "random_optimization.fit(X_train_dt[new_cols], X_train_dt['class'])"
   ]
  },
  {
   "cell_type": "code",
   "execution_count": 219,
   "metadata": {},
   "outputs": [
    {
     "data": {
      "text/plain": [
       "DecisionTreeClassifier(class_weight=None, criterion='entropy', max_depth=9,\n",
       "            max_features=None, max_leaf_nodes=None,\n",
       "            min_impurity_decrease=0.0, min_impurity_split=None,\n",
       "            min_samples_leaf=2, min_samples_split=2,\n",
       "            min_weight_fraction_leaf=0.0, presort=False, random_state=0,\n",
       "            splitter='best')"
      ]
     },
     "execution_count": 219,
     "metadata": {},
     "output_type": "execute_result"
    }
   ],
   "source": [
    "random_optimization.best_estimator_"
   ]
  },
  {
   "cell_type": "code",
   "execution_count": 220,
   "metadata": {},
   "outputs": [
    {
     "data": {
      "text/plain": [
       "array([ 0.70144385,  0.70144385,  0.70144385,  0.70144385,  0.70144385,\n",
       "        0.70144385,  0.70144385,  0.70144385,  0.70144385,  0.70781249])"
      ]
     },
     "execution_count": 220,
     "metadata": {},
     "output_type": "execute_result"
    }
   ],
   "source": [
    "np.sort(random_optimization.cv_results_['mean_test_score'])[-10:]"
   ]
  },
  {
   "cell_type": "markdown",
   "metadata": {},
   "source": [
    "Vidime, ze niekolko najlepsich nastaveni dalo velmi podobne vysledky"
   ]
  },
  {
   "cell_type": "code",
   "execution_count": 221,
   "metadata": {},
   "outputs": [],
   "source": [
    "indexes = np.argsort(random_optimization.cv_results_['mean_test_score'])[-10:]"
   ]
  },
  {
   "cell_type": "code",
   "execution_count": 222,
   "metadata": {},
   "outputs": [
    {
     "name": "stdout",
     "output_type": "stream",
     "text": [
      "{'criterion': 'entropy', 'max_depth': 13, 'min_samples_leaf': 2, 'splitter': 'best'}\n",
      "{'criterion': 'entropy', 'max_depth': 13, 'min_samples_leaf': 2, 'splitter': 'best'}\n",
      "{'criterion': 'entropy', 'max_depth': 19, 'min_samples_leaf': 2, 'splitter': 'best'}\n",
      "{'criterion': 'entropy', 'max_depth': 28, 'min_samples_leaf': 2, 'splitter': 'best'}\n",
      "{'criterion': 'entropy', 'max_depth': 13, 'min_samples_leaf': 2, 'splitter': 'best'}\n",
      "{'criterion': 'entropy', 'max_depth': 11, 'min_samples_leaf': 2, 'splitter': 'best'}\n",
      "{'criterion': 'entropy', 'max_depth': 10, 'min_samples_leaf': 2, 'splitter': 'best'}\n",
      "{'criterion': 'entropy', 'max_depth': 28, 'min_samples_leaf': 2, 'splitter': 'best'}\n",
      "{'criterion': 'entropy', 'max_depth': 27, 'min_samples_leaf': 2, 'splitter': 'best'}\n",
      "{'criterion': 'entropy', 'max_depth': 9, 'min_samples_leaf': 2, 'splitter': 'best'}\n"
     ]
    }
   ],
   "source": [
    "for x in indexes:\n",
    "    print(random_optimization.cv_results_['params'][x])"
   ]
  },
  {
   "cell_type": "markdown",
   "metadata": {},
   "source": [
    "Pre 10 najlepsich nastaveni (na zaklade priemerneho skore z cross validacie) mame velku premenlivost nastaveni, napriklad maximalna hlbka od 9 az do 28."
   ]
  },
  {
   "cell_type": "markdown",
   "metadata": {},
   "source": [
    "##### 1.6 Vizualizacia vysledneho rozhodovacieho stromu"
   ]
  },
  {
   "cell_type": "code",
   "execution_count": 229,
   "metadata": {},
   "outputs": [
    {
     "name": "stdout",
     "output_type": "stream",
     "text": [
      "accuracy:  0.955761316872\n",
      "f1_micro:  0.955761316872\n",
      "f1_macro:  0.56545497076\n",
      "recall:  0.955761316872\n"
     ]
    }
   ],
   "source": [
    "clf_d_b = DecisionTreeClassifier(max_depth = 9, criterion = 'entropy', min_samples_leaf = 2, splitter = 'best')  \n",
    "\n",
    "pred = clf_d_b.fit(X_train_dt[new_cols],X_train_dt['class']).predict(X_valid_dt[new_cols])\n",
    "evaluate(pred,X_valid_dt['class'])"
   ]
  },
  {
   "cell_type": "code",
   "execution_count": 235,
   "metadata": {},
   "outputs": [
    {
     "data": {
      "image/svg+xml": [
       "<svg height=\"1147pt\" viewBox=\"0.00 0.00 3167.50 1147.00\" width=\"3168pt\" xmlns=\"http://www.w3.org/2000/svg\" xmlns:xlink=\"http://www.w3.org/1999/xlink\">\n",
       "<g class=\"graph\" id=\"graph0\" transform=\"scale(1 1) rotate(0) translate(4 1143)\">\n",
       "<title>Tree</title>\n",
       "<polygon fill=\"white\" points=\"-4,4 -4,-1143 3163.5,-1143 3163.5,4 -4,4\" stroke=\"none\"/>\n",
       "<!-- 0 -->\n",
       "<g class=\"node\" id=\"node1\"><title>0</title>\n",
       "<polygon fill=\"#8139e5\" fill-opacity=\"0.949020\" points=\"1206,-1139 1074,-1139 1074,-1056 1206,-1056 1206,-1139\" stroke=\"black\"/>\n",
       "<text font-family=\"Times New Roman,serif\" font-size=\"14.00\" text-anchor=\"middle\" x=\"1140\" y=\"-1123.8\">T3 &lt;= 1.031</text>\n",
       "<text font-family=\"Times New Roman,serif\" font-size=\"14.00\" text-anchor=\"middle\" x=\"1140\" y=\"-1108.8\">entropy = 0.295</text>\n",
       "<text font-family=\"Times New Roman,serif\" font-size=\"14.00\" text-anchor=\"middle\" x=\"1140\" y=\"-1093.8\">samples = 2237</text>\n",
       "<text font-family=\"Times New Roman,serif\" font-size=\"14.00\" text-anchor=\"middle\" x=\"1140\" y=\"-1078.8\">value = [9, 97, 2131]</text>\n",
       "<text font-family=\"Times New Roman,serif\" font-size=\"14.00\" text-anchor=\"middle\" x=\"1140\" y=\"-1063.8\">class = negative</text>\n",
       "</g>\n",
       "<!-- 1 -->\n",
       "<g class=\"node\" id=\"node2\"><title>1</title>\n",
       "<polygon fill=\"#8139e5\" fill-opacity=\"0.988235\" points=\"920,-1020 788,-1020 788,-937 920,-937 920,-1020\" stroke=\"black\"/>\n",
       "<text font-family=\"Times New Roman,serif\" font-size=\"14.00\" text-anchor=\"middle\" x=\"854\" y=\"-1004.8\">T4U &lt;= 0.17</text>\n",
       "<text font-family=\"Times New Roman,serif\" font-size=\"14.00\" text-anchor=\"middle\" x=\"854\" y=\"-989.8\">entropy = 0.114</text>\n",
       "<text font-family=\"Times New Roman,serif\" font-size=\"14.00\" text-anchor=\"middle\" x=\"854\" y=\"-974.8\">samples = 2043</text>\n",
       "<text font-family=\"Times New Roman,serif\" font-size=\"14.00\" text-anchor=\"middle\" x=\"854\" y=\"-959.8\">value = [9, 18, 2016]</text>\n",
       "<text font-family=\"Times New Roman,serif\" font-size=\"14.00\" text-anchor=\"middle\" x=\"854\" y=\"-944.8\">class = negative</text>\n",
       "</g>\n",
       "<!-- 0&#45;&gt;1 -->\n",
       "<g class=\"edge\" id=\"edge1\"><title>0-&gt;1</title>\n",
       "<path d=\"M1073.67,-1069.36C1030.69,-1051.78 974.584,-1028.83 929.836,-1010.52\" fill=\"none\" stroke=\"black\"/>\n",
       "<polygon fill=\"black\" points=\"931.049,-1007.24 920.468,-1006.69 928.398,-1013.72 931.049,-1007.24\" stroke=\"black\"/>\n",
       "<text font-family=\"Times New Roman,serif\" font-size=\"14.00\" text-anchor=\"middle\" x=\"930.136\" y=\"-1026.05\">True</text>\n",
       "</g>\n",
       "<!-- 42 -->\n",
       "<g class=\"node\" id=\"node43\"><title>42</title>\n",
       "<polygon fill=\"#8139e5\" fill-opacity=\"0.313725\" points=\"1489.5,-1020 1364.5,-1020 1364.5,-937 1489.5,-937 1489.5,-1020\" stroke=\"black\"/>\n",
       "<text font-family=\"Times New Roman,serif\" font-size=\"14.00\" text-anchor=\"middle\" x=\"1427\" y=\"-1004.8\">T4U &lt;= 0.127</text>\n",
       "<text font-family=\"Times New Roman,serif\" font-size=\"14.00\" text-anchor=\"middle\" x=\"1427\" y=\"-989.8\">entropy = 0.975</text>\n",
       "<text font-family=\"Times New Roman,serif\" font-size=\"14.00\" text-anchor=\"middle\" x=\"1427\" y=\"-974.8\">samples = 194</text>\n",
       "<text font-family=\"Times New Roman,serif\" font-size=\"14.00\" text-anchor=\"middle\" x=\"1427\" y=\"-959.8\">value = [0, 79, 115]</text>\n",
       "<text font-family=\"Times New Roman,serif\" font-size=\"14.00\" text-anchor=\"middle\" x=\"1427\" y=\"-944.8\">class = negative</text>\n",
       "</g>\n",
       "<!-- 0&#45;&gt;42 -->\n",
       "<g class=\"edge\" id=\"edge42\"><title>0-&gt;42</title>\n",
       "<path d=\"M1206.2,-1069.51C1250.56,-1051.43 1308.96,-1027.62 1354.56,-1009.03\" fill=\"none\" stroke=\"black\"/>\n",
       "<polygon fill=\"black\" points=\"1356.14,-1012.17 1364.08,-1005.15 1353.5,-1005.68 1356.14,-1012.17\" stroke=\"black\"/>\n",
       "<text font-family=\"Times New Roman,serif\" font-size=\"14.00\" text-anchor=\"middle\" x=\"1354.39\" y=\"-1024.49\">False</text>\n",
       "</g>\n",
       "<!-- 2 -->\n",
       "<g class=\"node\" id=\"node3\"><title>2</title>\n",
       "<polygon fill=\"#8139e5\" fill-opacity=\"0.996078\" points=\"680.5,-901 555.5,-901 555.5,-818 680.5,-818 680.5,-901\" stroke=\"black\"/>\n",
       "<text font-family=\"Times New Roman,serif\" font-size=\"14.00\" text-anchor=\"middle\" x=\"618\" y=\"-885.8\">T4U &lt;= -0.281</text>\n",
       "<text font-family=\"Times New Roman,serif\" font-size=\"14.00\" text-anchor=\"middle\" x=\"618\" y=\"-870.8\">entropy = 0.044</text>\n",
       "<text font-family=\"Times New Roman,serif\" font-size=\"14.00\" text-anchor=\"middle\" x=\"618\" y=\"-855.8\">samples = 1894</text>\n",
       "<text font-family=\"Times New Roman,serif\" font-size=\"14.00\" text-anchor=\"middle\" x=\"618\" y=\"-840.8\">value = [9, 0, 1885]</text>\n",
       "<text font-family=\"Times New Roman,serif\" font-size=\"14.00\" text-anchor=\"middle\" x=\"618\" y=\"-825.8\">class = negative</text>\n",
       "</g>\n",
       "<!-- 1&#45;&gt;2 -->\n",
       "<g class=\"edge\" id=\"edge2\"><title>1-&gt;2</title>\n",
       "<path d=\"M787.947,-944.753C757.416,-929.617 721.088,-911.607 689.872,-896.131\" fill=\"none\" stroke=\"black\"/>\n",
       "<polygon fill=\"black\" points=\"691.301,-892.934 680.787,-891.628 688.192,-899.205 691.301,-892.934\" stroke=\"black\"/>\n",
       "</g>\n",
       "<!-- 19 -->\n",
       "<g class=\"node\" id=\"node20\"><title>19</title>\n",
       "<polygon fill=\"#8139e5\" fill-opacity=\"0.862745\" points=\"916.5,-901 791.5,-901 791.5,-818 916.5,-818 916.5,-901\" stroke=\"black\"/>\n",
       "<text font-family=\"Times New Roman,serif\" font-size=\"14.00\" text-anchor=\"middle\" x=\"854\" y=\"-885.8\">TT4 &lt;= 5.072</text>\n",
       "<text font-family=\"Times New Roman,serif\" font-size=\"14.00\" text-anchor=\"middle\" x=\"854\" y=\"-870.8\">entropy = 0.532</text>\n",
       "<text font-family=\"Times New Roman,serif\" font-size=\"14.00\" text-anchor=\"middle\" x=\"854\" y=\"-855.8\">samples = 149</text>\n",
       "<text font-family=\"Times New Roman,serif\" font-size=\"14.00\" text-anchor=\"middle\" x=\"854\" y=\"-840.8\">value = [0, 18, 131]</text>\n",
       "<text font-family=\"Times New Roman,serif\" font-size=\"14.00\" text-anchor=\"middle\" x=\"854\" y=\"-825.8\">class = negative</text>\n",
       "</g>\n",
       "<!-- 1&#45;&gt;19 -->\n",
       "<g class=\"edge\" id=\"edge19\"><title>1-&gt;19</title>\n",
       "<path d=\"M854,-936.907C854,-928.649 854,-919.864 854,-911.302\" fill=\"none\" stroke=\"black\"/>\n",
       "<polygon fill=\"black\" points=\"857.5,-911.021 854,-901.021 850.5,-911.021 857.5,-911.021\" stroke=\"black\"/>\n",
       "</g>\n",
       "<!-- 3 -->\n",
       "<g class=\"node\" id=\"node4\"><title>3</title>\n",
       "<polygon fill=\"#8139e5\" fill-opacity=\"0.921569\" points=\"476.5,-782 357.5,-782 357.5,-699 476.5,-699 476.5,-782\" stroke=\"black\"/>\n",
       "<text font-family=\"Times New Roman,serif\" font-size=\"14.00\" text-anchor=\"middle\" x=\"417\" y=\"-766.8\">TT4 &lt;= 4.161</text>\n",
       "<text font-family=\"Times New Roman,serif\" font-size=\"14.00\" text-anchor=\"middle\" x=\"417\" y=\"-751.8\">entropy = 0.38</text>\n",
       "<text font-family=\"Times New Roman,serif\" font-size=\"14.00\" text-anchor=\"middle\" x=\"417\" y=\"-736.8\">samples = 122</text>\n",
       "<text font-family=\"Times New Roman,serif\" font-size=\"14.00\" text-anchor=\"middle\" x=\"417\" y=\"-721.8\">value = [9, 0, 113]</text>\n",
       "<text font-family=\"Times New Roman,serif\" font-size=\"14.00\" text-anchor=\"middle\" x=\"417\" y=\"-706.8\">class = negative</text>\n",
       "</g>\n",
       "<!-- 2&#45;&gt;3 -->\n",
       "<g class=\"edge\" id=\"edge3\"><title>2-&gt;3</title>\n",
       "<path d=\"M555.229,-821.962C533.061,-809.058 508.028,-794.486 485.416,-781.324\" fill=\"none\" stroke=\"black\"/>\n",
       "<polygon fill=\"black\" points=\"486.954,-778.17 476.551,-776.164 483.433,-784.22 486.954,-778.17\" stroke=\"black\"/>\n",
       "</g>\n",
       "<!-- 18 -->\n",
       "<g class=\"node\" id=\"node19\"><title>18</title>\n",
       "<polygon fill=\"#8139e5\" points=\"680.5,-774.5 555.5,-774.5 555.5,-706.5 680.5,-706.5 680.5,-774.5\" stroke=\"black\"/>\n",
       "<text font-family=\"Times New Roman,serif\" font-size=\"14.00\" text-anchor=\"middle\" x=\"618\" y=\"-759.3\">entropy = 0.0</text>\n",
       "<text font-family=\"Times New Roman,serif\" font-size=\"14.00\" text-anchor=\"middle\" x=\"618\" y=\"-744.3\">samples = 1772</text>\n",
       "<text font-family=\"Times New Roman,serif\" font-size=\"14.00\" text-anchor=\"middle\" x=\"618\" y=\"-729.3\">value = [0, 0, 1772]</text>\n",
       "<text font-family=\"Times New Roman,serif\" font-size=\"14.00\" text-anchor=\"middle\" x=\"618\" y=\"-714.3\">class = negative</text>\n",
       "</g>\n",
       "<!-- 2&#45;&gt;18 -->\n",
       "<g class=\"edge\" id=\"edge18\"><title>2-&gt;18</title>\n",
       "<path d=\"M618,-817.907C618,-807.204 618,-795.615 618,-784.776\" fill=\"none\" stroke=\"black\"/>\n",
       "<polygon fill=\"black\" points=\"621.5,-784.667 618,-774.667 614.5,-784.667 621.5,-784.667\" stroke=\"black\"/>\n",
       "</g>\n",
       "<!-- 4 -->\n",
       "<g class=\"node\" id=\"node5\"><title>4</title>\n",
       "<polygon fill=\"#8139e5\" fill-opacity=\"0.619608\" points=\"262,-663 150,-663 150,-580 262,-580 262,-663\" stroke=\"black\"/>\n",
       "<text font-family=\"Times New Roman,serif\" font-size=\"14.00\" text-anchor=\"middle\" x=\"206\" y=\"-647.8\">T4U &lt;= -0.357</text>\n",
       "<text font-family=\"Times New Roman,serif\" font-size=\"14.00\" text-anchor=\"middle\" x=\"206\" y=\"-632.8\">entropy = 0.85</text>\n",
       "<text font-family=\"Times New Roman,serif\" font-size=\"14.00\" text-anchor=\"middle\" x=\"206\" y=\"-617.8\">samples = 29</text>\n",
       "<text font-family=\"Times New Roman,serif\" font-size=\"14.00\" text-anchor=\"middle\" x=\"206\" y=\"-602.8\">value = [8, 0, 21]</text>\n",
       "<text font-family=\"Times New Roman,serif\" font-size=\"14.00\" text-anchor=\"middle\" x=\"206\" y=\"-587.8\">class = negative</text>\n",
       "</g>\n",
       "<!-- 3&#45;&gt;4 -->\n",
       "<g class=\"edge\" id=\"edge4\"><title>3-&gt;4</title>\n",
       "<path d=\"M357.382,-706.442C330.441,-691.503 298.542,-673.815 270.989,-658.537\" fill=\"none\" stroke=\"black\"/>\n",
       "<polygon fill=\"black\" points=\"272.651,-655.456 262.208,-653.667 269.256,-661.578 272.651,-655.456\" stroke=\"black\"/>\n",
       "</g>\n",
       "<!-- 15 -->\n",
       "<g class=\"node\" id=\"node16\"><title>15</title>\n",
       "<polygon fill=\"#8139e5\" fill-opacity=\"0.988235\" points=\"473,-663 361,-663 361,-580 473,-580 473,-663\" stroke=\"black\"/>\n",
       "<text font-family=\"Times New Roman,serif\" font-size=\"14.00\" text-anchor=\"middle\" x=\"417\" y=\"-647.8\">age &lt;= 4.437</text>\n",
       "<text font-family=\"Times New Roman,serif\" font-size=\"14.00\" text-anchor=\"middle\" x=\"417\" y=\"-632.8\">entropy = 0.086</text>\n",
       "<text font-family=\"Times New Roman,serif\" font-size=\"14.00\" text-anchor=\"middle\" x=\"417\" y=\"-617.8\">samples = 93</text>\n",
       "<text font-family=\"Times New Roman,serif\" font-size=\"14.00\" text-anchor=\"middle\" x=\"417\" y=\"-602.8\">value = [1, 0, 92]</text>\n",
       "<text font-family=\"Times New Roman,serif\" font-size=\"14.00\" text-anchor=\"middle\" x=\"417\" y=\"-587.8\">class = negative</text>\n",
       "</g>\n",
       "<!-- 3&#45;&gt;15 -->\n",
       "<g class=\"edge\" id=\"edge15\"><title>3-&gt;15</title>\n",
       "<path d=\"M417,-698.907C417,-690.649 417,-681.864 417,-673.302\" fill=\"none\" stroke=\"black\"/>\n",
       "<polygon fill=\"black\" points=\"420.5,-673.021 417,-663.021 413.5,-673.021 420.5,-673.021\" stroke=\"black\"/>\n",
       "</g>\n",
       "<!-- 5 -->\n",
       "<g class=\"node\" id=\"node6\"><title>5</title>\n",
       "<polygon fill=\"#8139e5\" points=\"112,-536.5 7.10543e-015,-536.5 7.10543e-015,-468.5 112,-468.5 112,-536.5\" stroke=\"black\"/>\n",
       "<text font-family=\"Times New Roman,serif\" font-size=\"14.00\" text-anchor=\"middle\" x=\"56\" y=\"-521.3\">entropy = 0.0</text>\n",
       "<text font-family=\"Times New Roman,serif\" font-size=\"14.00\" text-anchor=\"middle\" x=\"56\" y=\"-506.3\">samples = 13</text>\n",
       "<text font-family=\"Times New Roman,serif\" font-size=\"14.00\" text-anchor=\"middle\" x=\"56\" y=\"-491.3\">value = [0, 0, 13]</text>\n",
       "<text font-family=\"Times New Roman,serif\" font-size=\"14.00\" text-anchor=\"middle\" x=\"56\" y=\"-476.3\">class = negative</text>\n",
       "</g>\n",
       "<!-- 4&#45;&gt;5 -->\n",
       "<g class=\"edge\" id=\"edge5\"><title>4-&gt;5</title>\n",
       "<path d=\"M153.958,-579.907C138.68,-567.99 121.994,-554.976 106.795,-543.12\" fill=\"none\" stroke=\"black\"/>\n",
       "<polygon fill=\"black\" points=\"108.559,-540.058 98.5217,-536.667 104.254,-545.577 108.559,-540.058\" stroke=\"black\"/>\n",
       "</g>\n",
       "<!-- 6 -->\n",
       "<g class=\"node\" id=\"node7\"><title>6</title>\n",
       "<polygon fill=\"none\" points=\"282,-544 130,-544 130,-461 282,-461 282,-544\" stroke=\"black\"/>\n",
       "<text font-family=\"Times New Roman,serif\" font-size=\"14.00\" text-anchor=\"middle\" x=\"206\" y=\"-528.8\">hours-per-week &lt;= 39.0</text>\n",
       "<text font-family=\"Times New Roman,serif\" font-size=\"14.00\" text-anchor=\"middle\" x=\"206\" y=\"-513.8\">entropy = 1.0</text>\n",
       "<text font-family=\"Times New Roman,serif\" font-size=\"14.00\" text-anchor=\"middle\" x=\"206\" y=\"-498.8\">samples = 16</text>\n",
       "<text font-family=\"Times New Roman,serif\" font-size=\"14.00\" text-anchor=\"middle\" x=\"206\" y=\"-483.8\">value = [8, 0, 8]</text>\n",
       "<text font-family=\"Times New Roman,serif\" font-size=\"14.00\" text-anchor=\"middle\" x=\"206\" y=\"-468.8\">class = decreased</text>\n",
       "</g>\n",
       "<!-- 4&#45;&gt;6 -->\n",
       "<g class=\"edge\" id=\"edge6\"><title>4-&gt;6</title>\n",
       "<path d=\"M206,-579.907C206,-571.649 206,-562.864 206,-554.302\" fill=\"none\" stroke=\"black\"/>\n",
       "<polygon fill=\"black\" points=\"209.5,-554.021 206,-544.021 202.5,-554.021 209.5,-554.021\" stroke=\"black\"/>\n",
       "</g>\n",
       "<!-- 7 -->\n",
       "<g class=\"node\" id=\"node8\"><title>7</title>\n",
       "<polygon fill=\"#8139e5\" points=\"194.5,-417.5 89.5,-417.5 89.5,-349.5 194.5,-349.5 194.5,-417.5\" stroke=\"black\"/>\n",
       "<text font-family=\"Times New Roman,serif\" font-size=\"14.00\" text-anchor=\"middle\" x=\"142\" y=\"-402.3\">entropy = 0.0</text>\n",
       "<text font-family=\"Times New Roman,serif\" font-size=\"14.00\" text-anchor=\"middle\" x=\"142\" y=\"-387.3\">samples = 3</text>\n",
       "<text font-family=\"Times New Roman,serif\" font-size=\"14.00\" text-anchor=\"middle\" x=\"142\" y=\"-372.3\">value = [0, 0, 3]</text>\n",
       "<text font-family=\"Times New Roman,serif\" font-size=\"14.00\" text-anchor=\"middle\" x=\"142\" y=\"-357.3\">class = negative</text>\n",
       "</g>\n",
       "<!-- 6&#45;&gt;7 -->\n",
       "<g class=\"edge\" id=\"edge7\"><title>6-&gt;7</title>\n",
       "<path d=\"M183.796,-460.907C177.76,-449.873 171.209,-437.898 165.124,-426.773\" fill=\"none\" stroke=\"black\"/>\n",
       "<polygon fill=\"black\" points=\"168.012,-424.76 160.143,-417.667 161.871,-428.12 168.012,-424.76\" stroke=\"black\"/>\n",
       "</g>\n",
       "<!-- 8 -->\n",
       "<g class=\"node\" id=\"node9\"><title>8</title>\n",
       "<polygon fill=\"#e58139\" fill-opacity=\"0.376471\" points=\"329,-425 213,-425 213,-342 329,-342 329,-425\" stroke=\"black\"/>\n",
       "<text font-family=\"Times New Roman,serif\" font-size=\"14.00\" text-anchor=\"middle\" x=\"271\" y=\"-409.8\">FTI &lt;= 4.394</text>\n",
       "<text font-family=\"Times New Roman,serif\" font-size=\"14.00\" text-anchor=\"middle\" x=\"271\" y=\"-394.8\">entropy = 0.961</text>\n",
       "<text font-family=\"Times New Roman,serif\" font-size=\"14.00\" text-anchor=\"middle\" x=\"271\" y=\"-379.8\">samples = 13</text>\n",
       "<text font-family=\"Times New Roman,serif\" font-size=\"14.00\" text-anchor=\"middle\" x=\"271\" y=\"-364.8\">value = [8, 0, 5]</text>\n",
       "<text font-family=\"Times New Roman,serif\" font-size=\"14.00\" text-anchor=\"middle\" x=\"271\" y=\"-349.8\">class = decreased</text>\n",
       "</g>\n",
       "<!-- 6&#45;&gt;8 -->\n",
       "<g class=\"edge\" id=\"edge8\"><title>6-&gt;8</title>\n",
       "<path d=\"M228.551,-460.907C233.391,-452.195 238.557,-442.897 243.559,-433.893\" fill=\"none\" stroke=\"black\"/>\n",
       "<polygon fill=\"black\" points=\"246.692,-435.462 248.488,-425.021 240.572,-432.063 246.692,-435.462\" stroke=\"black\"/>\n",
       "</g>\n",
       "<!-- 9 -->\n",
       "<g class=\"node\" id=\"node10\"><title>9</title>\n",
       "<polygon fill=\"#e58139\" points=\"228,-298.5 112,-298.5 112,-230.5 228,-230.5 228,-298.5\" stroke=\"black\"/>\n",
       "<text font-family=\"Times New Roman,serif\" font-size=\"14.00\" text-anchor=\"middle\" x=\"170\" y=\"-283.3\">entropy = 0.0</text>\n",
       "<text font-family=\"Times New Roman,serif\" font-size=\"14.00\" text-anchor=\"middle\" x=\"170\" y=\"-268.3\">samples = 4</text>\n",
       "<text font-family=\"Times New Roman,serif\" font-size=\"14.00\" text-anchor=\"middle\" x=\"170\" y=\"-253.3\">value = [4, 0, 0]</text>\n",
       "<text font-family=\"Times New Roman,serif\" font-size=\"14.00\" text-anchor=\"middle\" x=\"170\" y=\"-238.3\">class = decreased</text>\n",
       "</g>\n",
       "<!-- 8&#45;&gt;9 -->\n",
       "<g class=\"edge\" id=\"edge9\"><title>8-&gt;9</title>\n",
       "<path d=\"M235.959,-341.907C226.052,-330.432 215.267,-317.938 205.343,-306.442\" fill=\"none\" stroke=\"black\"/>\n",
       "<polygon fill=\"black\" points=\"207.815,-303.95 198.631,-298.667 202.516,-308.524 207.815,-303.95\" stroke=\"black\"/>\n",
       "</g>\n",
       "<!-- 10 -->\n",
       "<g class=\"node\" id=\"node11\"><title>10</title>\n",
       "<polygon fill=\"#8139e5\" fill-opacity=\"0.200000\" points=\"352,-306 246,-306 246,-223 352,-223 352,-306\" stroke=\"black\"/>\n",
       "<text font-family=\"Times New Roman,serif\" font-size=\"14.00\" text-anchor=\"middle\" x=\"299\" y=\"-290.8\">FTI &lt;= 4.519</text>\n",
       "<text font-family=\"Times New Roman,serif\" font-size=\"14.00\" text-anchor=\"middle\" x=\"299\" y=\"-275.8\">entropy = 0.991</text>\n",
       "<text font-family=\"Times New Roman,serif\" font-size=\"14.00\" text-anchor=\"middle\" x=\"299\" y=\"-260.8\">samples = 9</text>\n",
       "<text font-family=\"Times New Roman,serif\" font-size=\"14.00\" text-anchor=\"middle\" x=\"299\" y=\"-245.8\">value = [4, 0, 5]</text>\n",
       "<text font-family=\"Times New Roman,serif\" font-size=\"14.00\" text-anchor=\"middle\" x=\"299\" y=\"-230.8\">class = negative</text>\n",
       "</g>\n",
       "<!-- 8&#45;&gt;10 -->\n",
       "<g class=\"edge\" id=\"edge10\"><title>8-&gt;10</title>\n",
       "<path d=\"M280.714,-341.907C282.713,-333.558 284.839,-324.671 286.91,-316.02\" fill=\"none\" stroke=\"black\"/>\n",
       "<polygon fill=\"black\" points=\"290.379,-316.561 289.303,-306.021 283.571,-314.932 290.379,-316.561\" stroke=\"black\"/>\n",
       "</g>\n",
       "<!-- 11 -->\n",
       "<g class=\"node\" id=\"node12\"><title>11</title>\n",
       "<polygon fill=\"#8139e5\" points=\"287.5,-179.5 182.5,-179.5 182.5,-111.5 287.5,-111.5 287.5,-179.5\" stroke=\"black\"/>\n",
       "<text font-family=\"Times New Roman,serif\" font-size=\"14.00\" text-anchor=\"middle\" x=\"235\" y=\"-164.3\">entropy = 0.0</text>\n",
       "<text font-family=\"Times New Roman,serif\" font-size=\"14.00\" text-anchor=\"middle\" x=\"235\" y=\"-149.3\">samples = 3</text>\n",
       "<text font-family=\"Times New Roman,serif\" font-size=\"14.00\" text-anchor=\"middle\" x=\"235\" y=\"-134.3\">value = [0, 0, 3]</text>\n",
       "<text font-family=\"Times New Roman,serif\" font-size=\"14.00\" text-anchor=\"middle\" x=\"235\" y=\"-119.3\">class = negative</text>\n",
       "</g>\n",
       "<!-- 10&#45;&gt;11 -->\n",
       "<g class=\"edge\" id=\"edge11\"><title>10-&gt;11</title>\n",
       "<path d=\"M276.796,-222.907C270.76,-211.873 264.209,-199.898 258.124,-188.773\" fill=\"none\" stroke=\"black\"/>\n",
       "<polygon fill=\"black\" points=\"261.012,-186.76 253.143,-179.667 254.871,-190.12 261.012,-186.76\" stroke=\"black\"/>\n",
       "</g>\n",
       "<!-- 12 -->\n",
       "<g class=\"node\" id=\"node13\"><title>12</title>\n",
       "<polygon fill=\"#e58139\" fill-opacity=\"0.498039\" points=\"422,-187 306,-187 306,-104 422,-104 422,-187\" stroke=\"black\"/>\n",
       "<text font-family=\"Times New Roman,serif\" font-size=\"14.00\" text-anchor=\"middle\" x=\"364\" y=\"-171.8\">TSH &lt;= 0.097</text>\n",
       "<text font-family=\"Times New Roman,serif\" font-size=\"14.00\" text-anchor=\"middle\" x=\"364\" y=\"-156.8\">entropy = 0.918</text>\n",
       "<text font-family=\"Times New Roman,serif\" font-size=\"14.00\" text-anchor=\"middle\" x=\"364\" y=\"-141.8\">samples = 6</text>\n",
       "<text font-family=\"Times New Roman,serif\" font-size=\"14.00\" text-anchor=\"middle\" x=\"364\" y=\"-126.8\">value = [4, 0, 2]</text>\n",
       "<text font-family=\"Times New Roman,serif\" font-size=\"14.00\" text-anchor=\"middle\" x=\"364\" y=\"-111.8\">class = decreased</text>\n",
       "</g>\n",
       "<!-- 10&#45;&gt;12 -->\n",
       "<g class=\"edge\" id=\"edge12\"><title>10-&gt;12</title>\n",
       "<path d=\"M321.551,-222.907C326.391,-214.195 331.557,-204.897 336.559,-195.893\" fill=\"none\" stroke=\"black\"/>\n",
       "<polygon fill=\"black\" points=\"339.692,-197.462 341.488,-187.021 333.572,-194.063 339.692,-197.462\" stroke=\"black\"/>\n",
       "</g>\n",
       "<!-- 13 -->\n",
       "<g class=\"node\" id=\"node14\"><title>13</title>\n",
       "<polygon fill=\"#8139e5\" fill-opacity=\"0.498039\" points=\"336,-68 230,-68 230,-0 336,-0 336,-68\" stroke=\"black\"/>\n",
       "<text font-family=\"Times New Roman,serif\" font-size=\"14.00\" text-anchor=\"middle\" x=\"283\" y=\"-52.8\">entropy = 0.918</text>\n",
       "<text font-family=\"Times New Roman,serif\" font-size=\"14.00\" text-anchor=\"middle\" x=\"283\" y=\"-37.8\">samples = 3</text>\n",
       "<text font-family=\"Times New Roman,serif\" font-size=\"14.00\" text-anchor=\"middle\" x=\"283\" y=\"-22.8\">value = [1, 0, 2]</text>\n",
       "<text font-family=\"Times New Roman,serif\" font-size=\"14.00\" text-anchor=\"middle\" x=\"283\" y=\"-7.8\">class = negative</text>\n",
       "</g>\n",
       "<!-- 12&#45;&gt;13 -->\n",
       "<g class=\"edge\" id=\"edge13\"><title>12-&gt;13</title>\n",
       "<path d=\"M333.839,-103.726C327.227,-94.7878 320.221,-85.3168 313.592,-76.3558\" fill=\"none\" stroke=\"black\"/>\n",
       "<polygon fill=\"black\" points=\"316.393,-74.2576 307.633,-68.2996 310.766,-78.4206 316.393,-74.2576\" stroke=\"black\"/>\n",
       "</g>\n",
       "<!-- 14 -->\n",
       "<g class=\"node\" id=\"node15\"><title>14</title>\n",
       "<polygon fill=\"#e58139\" points=\"470,-68 354,-68 354,-0 470,-0 470,-68\" stroke=\"black\"/>\n",
       "<text font-family=\"Times New Roman,serif\" font-size=\"14.00\" text-anchor=\"middle\" x=\"412\" y=\"-52.8\">entropy = 0.0</text>\n",
       "<text font-family=\"Times New Roman,serif\" font-size=\"14.00\" text-anchor=\"middle\" x=\"412\" y=\"-37.8\">samples = 3</text>\n",
       "<text font-family=\"Times New Roman,serif\" font-size=\"14.00\" text-anchor=\"middle\" x=\"412\" y=\"-22.8\">value = [3, 0, 0]</text>\n",
       "<text font-family=\"Times New Roman,serif\" font-size=\"14.00\" text-anchor=\"middle\" x=\"412\" y=\"-7.8\">class = decreased</text>\n",
       "</g>\n",
       "<!-- 12&#45;&gt;14 -->\n",
       "<g class=\"edge\" id=\"edge14\"><title>12-&gt;14</title>\n",
       "<path d=\"M381.873,-103.726C385.592,-95.2439 389.52,-86.2819 393.269,-77.7312\" fill=\"none\" stroke=\"black\"/>\n",
       "<polygon fill=\"black\" points=\"396.594,-78.8635 397.403,-68.2996 390.183,-76.0531 396.594,-78.8635\" stroke=\"black\"/>\n",
       "</g>\n",
       "<!-- 16 -->\n",
       "<g class=\"node\" id=\"node17\"><title>16</title>\n",
       "<polygon fill=\"#8139e5\" points=\"412,-536.5 300,-536.5 300,-468.5 412,-468.5 412,-536.5\" stroke=\"black\"/>\n",
       "<text font-family=\"Times New Roman,serif\" font-size=\"14.00\" text-anchor=\"middle\" x=\"356\" y=\"-521.3\">entropy = 0.0</text>\n",
       "<text font-family=\"Times New Roman,serif\" font-size=\"14.00\" text-anchor=\"middle\" x=\"356\" y=\"-506.3\">samples = 91</text>\n",
       "<text font-family=\"Times New Roman,serif\" font-size=\"14.00\" text-anchor=\"middle\" x=\"356\" y=\"-491.3\">value = [0, 0, 91]</text>\n",
       "<text font-family=\"Times New Roman,serif\" font-size=\"14.00\" text-anchor=\"middle\" x=\"356\" y=\"-476.3\">class = negative</text>\n",
       "</g>\n",
       "<!-- 15&#45;&gt;16 -->\n",
       "<g class=\"edge\" id=\"edge16\"><title>15-&gt;16</title>\n",
       "<path d=\"M395.836,-579.907C390.083,-568.873 383.84,-556.898 378.04,-545.773\" fill=\"none\" stroke=\"black\"/>\n",
       "<polygon fill=\"black\" points=\"381.019,-543.916 373.292,-536.667 374.812,-547.152 381.019,-543.916\" stroke=\"black\"/>\n",
       "</g>\n",
       "<!-- 17 -->\n",
       "<g class=\"node\" id=\"node18\"><title>17</title>\n",
       "<polygon fill=\"none\" points=\"546,-536.5 430,-536.5 430,-468.5 546,-468.5 546,-536.5\" stroke=\"black\"/>\n",
       "<text font-family=\"Times New Roman,serif\" font-size=\"14.00\" text-anchor=\"middle\" x=\"488\" y=\"-521.3\">entropy = 1.0</text>\n",
       "<text font-family=\"Times New Roman,serif\" font-size=\"14.00\" text-anchor=\"middle\" x=\"488\" y=\"-506.3\">samples = 2</text>\n",
       "<text font-family=\"Times New Roman,serif\" font-size=\"14.00\" text-anchor=\"middle\" x=\"488\" y=\"-491.3\">value = [1, 0, 1]</text>\n",
       "<text font-family=\"Times New Roman,serif\" font-size=\"14.00\" text-anchor=\"middle\" x=\"488\" y=\"-476.3\">class = decreased</text>\n",
       "</g>\n",
       "<!-- 15&#45;&gt;17 -->\n",
       "<g class=\"edge\" id=\"edge17\"><title>15-&gt;17</title>\n",
       "<path d=\"M441.633,-579.907C448.396,-568.763 455.742,-556.658 462.55,-545.439\" fill=\"none\" stroke=\"black\"/>\n",
       "<polygon fill=\"black\" points=\"465.677,-547.032 467.873,-536.667 459.693,-543.4 465.677,-547.032\" stroke=\"black\"/>\n",
       "</g>\n",
       "<!-- 20 -->\n",
       "<g class=\"node\" id=\"node21\"><title>20</title>\n",
       "<polygon fill=\"#8139e5\" fill-opacity=\"0.929412\" points=\"818.5,-782 699.5,-782 699.5,-699 818.5,-699 818.5,-782\" stroke=\"black\"/>\n",
       "<text font-family=\"Times New Roman,serif\" font-size=\"14.00\" text-anchor=\"middle\" x=\"759\" y=\"-766.8\">T4U &lt;= 0.243</text>\n",
       "<text font-family=\"Times New Roman,serif\" font-size=\"14.00\" text-anchor=\"middle\" x=\"759\" y=\"-751.8\">entropy = 0.351</text>\n",
       "<text font-family=\"Times New Roman,serif\" font-size=\"14.00\" text-anchor=\"middle\" x=\"759\" y=\"-736.8\">samples = 121</text>\n",
       "<text font-family=\"Times New Roman,serif\" font-size=\"14.00\" text-anchor=\"middle\" x=\"759\" y=\"-721.8\">value = [0, 8, 113]</text>\n",
       "<text font-family=\"Times New Roman,serif\" font-size=\"14.00\" text-anchor=\"middle\" x=\"759\" y=\"-706.8\">class = negative</text>\n",
       "</g>\n",
       "<!-- 19&#45;&gt;20 -->\n",
       "<g class=\"edge\" id=\"edge20\"><title>19-&gt;20</title>\n",
       "<path d=\"M821.04,-817.907C813.745,-808.923 805.944,-799.315 798.421,-790.05\" fill=\"none\" stroke=\"black\"/>\n",
       "<polygon fill=\"black\" points=\"800.922,-787.578 791.902,-782.021 795.488,-791.99 800.922,-787.578\" stroke=\"black\"/>\n",
       "</g>\n",
       "<!-- 35 -->\n",
       "<g class=\"node\" id=\"node36\"><title>35</title>\n",
       "<polygon fill=\"#8139e5\" fill-opacity=\"0.443137\" points=\"1007.5,-782 888.5,-782 888.5,-699 1007.5,-699 1007.5,-782\" stroke=\"black\"/>\n",
       "<text font-family=\"Times New Roman,serif\" font-size=\"14.00\" text-anchor=\"middle\" x=\"948\" y=\"-766.8\">TT4 &lt;= 5.154</text>\n",
       "<text font-family=\"Times New Roman,serif\" font-size=\"14.00\" text-anchor=\"middle\" x=\"948\" y=\"-751.8\">entropy = 0.94</text>\n",
       "<text font-family=\"Times New Roman,serif\" font-size=\"14.00\" text-anchor=\"middle\" x=\"948\" y=\"-736.8\">samples = 28</text>\n",
       "<text font-family=\"Times New Roman,serif\" font-size=\"14.00\" text-anchor=\"middle\" x=\"948\" y=\"-721.8\">value = [0, 10, 18]</text>\n",
       "<text font-family=\"Times New Roman,serif\" font-size=\"14.00\" text-anchor=\"middle\" x=\"948\" y=\"-706.8\">class = negative</text>\n",
       "</g>\n",
       "<!-- 19&#45;&gt;35 -->\n",
       "<g class=\"edge\" id=\"edge35\"><title>19-&gt;35</title>\n",
       "<path d=\"M886.613,-817.907C893.831,-808.923 901.55,-799.315 908.994,-790.05\" fill=\"none\" stroke=\"black\"/>\n",
       "<polygon fill=\"black\" points=\"911.91,-792.009 915.445,-782.021 906.453,-787.624 911.91,-792.009\" stroke=\"black\"/>\n",
       "</g>\n",
       "<!-- 21 -->\n",
       "<g class=\"node\" id=\"node22\"><title>21</title>\n",
       "<polygon fill=\"#8139e5\" points=\"685,-655.5 573,-655.5 573,-587.5 685,-587.5 685,-655.5\" stroke=\"black\"/>\n",
       "<text font-family=\"Times New Roman,serif\" font-size=\"14.00\" text-anchor=\"middle\" x=\"629\" y=\"-640.3\">entropy = 0.0</text>\n",
       "<text font-family=\"Times New Roman,serif\" font-size=\"14.00\" text-anchor=\"middle\" x=\"629\" y=\"-625.3\">samples = 70</text>\n",
       "<text font-family=\"Times New Roman,serif\" font-size=\"14.00\" text-anchor=\"middle\" x=\"629\" y=\"-610.3\">value = [0, 0, 70]</text>\n",
       "<text font-family=\"Times New Roman,serif\" font-size=\"14.00\" text-anchor=\"middle\" x=\"629\" y=\"-595.3\">class = negative</text>\n",
       "</g>\n",
       "<!-- 20&#45;&gt;21 -->\n",
       "<g class=\"edge\" id=\"edge21\"><title>20-&gt;21</title>\n",
       "<path d=\"M713.897,-698.907C700.778,-687.101 686.463,-674.217 673.388,-662.45\" fill=\"none\" stroke=\"black\"/>\n",
       "<polygon fill=\"black\" points=\"675.627,-659.755 665.852,-655.667 670.944,-664.958 675.627,-659.755\" stroke=\"black\"/>\n",
       "</g>\n",
       "<!-- 22 -->\n",
       "<g class=\"node\" id=\"node23\"><title>22</title>\n",
       "<polygon fill=\"#8139e5\" fill-opacity=\"0.815686\" points=\"815,-663 703,-663 703,-580 815,-580 815,-663\" stroke=\"black\"/>\n",
       "<text font-family=\"Times New Roman,serif\" font-size=\"14.00\" text-anchor=\"middle\" x=\"759\" y=\"-647.8\">age &lt;= 3.861</text>\n",
       "<text font-family=\"Times New Roman,serif\" font-size=\"14.00\" text-anchor=\"middle\" x=\"759\" y=\"-632.8\">entropy = 0.627</text>\n",
       "<text font-family=\"Times New Roman,serif\" font-size=\"14.00\" text-anchor=\"middle\" x=\"759\" y=\"-617.8\">samples = 51</text>\n",
       "<text font-family=\"Times New Roman,serif\" font-size=\"14.00\" text-anchor=\"middle\" x=\"759\" y=\"-602.8\">value = [0, 8, 43]</text>\n",
       "<text font-family=\"Times New Roman,serif\" font-size=\"14.00\" text-anchor=\"middle\" x=\"759\" y=\"-587.8\">class = negative</text>\n",
       "</g>\n",
       "<!-- 20&#45;&gt;22 -->\n",
       "<g class=\"edge\" id=\"edge22\"><title>20-&gt;22</title>\n",
       "<path d=\"M759,-698.907C759,-690.649 759,-681.864 759,-673.302\" fill=\"none\" stroke=\"black\"/>\n",
       "<polygon fill=\"black\" points=\"762.5,-673.021 759,-663.021 755.5,-673.021 762.5,-673.021\" stroke=\"black\"/>\n",
       "</g>\n",
       "<!-- 23 -->\n",
       "<g class=\"node\" id=\"node24\"><title>23</title>\n",
       "<polygon fill=\"#8139e5\" fill-opacity=\"0.964706\" points=\"676,-544 564,-544 564,-461 676,-461 676,-544\" stroke=\"black\"/>\n",
       "<text font-family=\"Times New Roman,serif\" font-size=\"14.00\" text-anchor=\"middle\" x=\"620\" y=\"-528.8\">T4U &lt;= 0.259</text>\n",
       "<text font-family=\"Times New Roman,serif\" font-size=\"14.00\" text-anchor=\"middle\" x=\"620\" y=\"-513.8\">entropy = 0.222</text>\n",
       "<text font-family=\"Times New Roman,serif\" font-size=\"14.00\" text-anchor=\"middle\" x=\"620\" y=\"-498.8\">samples = 28</text>\n",
       "<text font-family=\"Times New Roman,serif\" font-size=\"14.00\" text-anchor=\"middle\" x=\"620\" y=\"-483.8\">value = [0, 1, 27]</text>\n",
       "<text font-family=\"Times New Roman,serif\" font-size=\"14.00\" text-anchor=\"middle\" x=\"620\" y=\"-468.8\">class = negative</text>\n",
       "</g>\n",
       "<!-- 22&#45;&gt;23 -->\n",
       "<g class=\"edge\" id=\"edge23\"><title>22-&gt;23</title>\n",
       "<path d=\"M710.775,-579.907C699.562,-570.469 687.531,-560.343 676.015,-550.649\" fill=\"none\" stroke=\"black\"/>\n",
       "<polygon fill=\"black\" points=\"678.045,-547.783 668.14,-544.021 673.537,-553.138 678.045,-547.783\" stroke=\"black\"/>\n",
       "</g>\n",
       "<!-- 26 -->\n",
       "<g class=\"node\" id=\"node27\"><title>26</title>\n",
       "<polygon fill=\"#8139e5\" fill-opacity=\"0.560784\" points=\"815,-544 703,-544 703,-461 815,-461 815,-544\" stroke=\"black\"/>\n",
       "<text font-family=\"Times New Roman,serif\" font-size=\"14.00\" text-anchor=\"middle\" x=\"759\" y=\"-528.8\">TSH &lt;= 1.677</text>\n",
       "<text font-family=\"Times New Roman,serif\" font-size=\"14.00\" text-anchor=\"middle\" x=\"759\" y=\"-513.8\">entropy = 0.887</text>\n",
       "<text font-family=\"Times New Roman,serif\" font-size=\"14.00\" text-anchor=\"middle\" x=\"759\" y=\"-498.8\">samples = 23</text>\n",
       "<text font-family=\"Times New Roman,serif\" font-size=\"14.00\" text-anchor=\"middle\" x=\"759\" y=\"-483.8\">value = [0, 7, 16]</text>\n",
       "<text font-family=\"Times New Roman,serif\" font-size=\"14.00\" text-anchor=\"middle\" x=\"759\" y=\"-468.8\">class = negative</text>\n",
       "</g>\n",
       "<!-- 22&#45;&gt;26 -->\n",
       "<g class=\"edge\" id=\"edge26\"><title>22-&gt;26</title>\n",
       "<path d=\"M759,-579.907C759,-571.649 759,-562.864 759,-554.302\" fill=\"none\" stroke=\"black\"/>\n",
       "<polygon fill=\"black\" points=\"762.5,-554.021 759,-544.021 755.5,-554.021 762.5,-554.021\" stroke=\"black\"/>\n",
       "</g>\n",
       "<!-- 24 -->\n",
       "<g class=\"node\" id=\"node25\"><title>24</title>\n",
       "<polygon fill=\"none\" points=\"535.5,-417.5 422.5,-417.5 422.5,-349.5 535.5,-349.5 535.5,-417.5\" stroke=\"black\"/>\n",
       "<text font-family=\"Times New Roman,serif\" font-size=\"14.00\" text-anchor=\"middle\" x=\"479\" y=\"-402.3\">entropy = 1.0</text>\n",
       "<text font-family=\"Times New Roman,serif\" font-size=\"14.00\" text-anchor=\"middle\" x=\"479\" y=\"-387.3\">samples = 2</text>\n",
       "<text font-family=\"Times New Roman,serif\" font-size=\"14.00\" text-anchor=\"middle\" x=\"479\" y=\"-372.3\">value = [0, 1, 1]</text>\n",
       "<text font-family=\"Times New Roman,serif\" font-size=\"14.00\" text-anchor=\"middle\" x=\"479\" y=\"-357.3\">class = increased</text>\n",
       "</g>\n",
       "<!-- 23&#45;&gt;24 -->\n",
       "<g class=\"edge\" id=\"edge24\"><title>23-&gt;24</title>\n",
       "<path d=\"M571.081,-460.907C556.719,-448.99 541.035,-435.976 526.747,-424.12\" fill=\"none\" stroke=\"black\"/>\n",
       "<polygon fill=\"black\" points=\"528.901,-421.359 518.97,-417.667 524.431,-426.746 528.901,-421.359\" stroke=\"black\"/>\n",
       "</g>\n",
       "<!-- 25 -->\n",
       "<g class=\"node\" id=\"node26\"><title>25</title>\n",
       "<polygon fill=\"#8139e5\" points=\"666,-417.5 554,-417.5 554,-349.5 666,-349.5 666,-417.5\" stroke=\"black\"/>\n",
       "<text font-family=\"Times New Roman,serif\" font-size=\"14.00\" text-anchor=\"middle\" x=\"610\" y=\"-402.3\">entropy = 0.0</text>\n",
       "<text font-family=\"Times New Roman,serif\" font-size=\"14.00\" text-anchor=\"middle\" x=\"610\" y=\"-387.3\">samples = 26</text>\n",
       "<text font-family=\"Times New Roman,serif\" font-size=\"14.00\" text-anchor=\"middle\" x=\"610\" y=\"-372.3\">value = [0, 0, 26]</text>\n",
       "<text font-family=\"Times New Roman,serif\" font-size=\"14.00\" text-anchor=\"middle\" x=\"610\" y=\"-357.3\">class = negative</text>\n",
       "</g>\n",
       "<!-- 23&#45;&gt;25 -->\n",
       "<g class=\"edge\" id=\"edge25\"><title>23-&gt;25</title>\n",
       "<path d=\"M616.531,-460.907C615.616,-450.204 614.625,-438.615 613.699,-427.776\" fill=\"none\" stroke=\"black\"/>\n",
       "<polygon fill=\"black\" points=\"617.174,-427.333 612.835,-417.667 610.199,-427.929 617.174,-427.333\" stroke=\"black\"/>\n",
       "</g>\n",
       "<!-- 27 -->\n",
       "<g class=\"node\" id=\"node28\"><title>27</title>\n",
       "<polygon fill=\"#8139e5\" fill-opacity=\"0.223529\" points=\"790,-425 684,-425 684,-342 790,-342 790,-425\" stroke=\"black\"/>\n",
       "<text font-family=\"Times New Roman,serif\" font-size=\"14.00\" text-anchor=\"middle\" x=\"737\" y=\"-409.8\">FTI &lt;= 4.394</text>\n",
       "<text font-family=\"Times New Roman,serif\" font-size=\"14.00\" text-anchor=\"middle\" x=\"737\" y=\"-394.8\">entropy = 0.989</text>\n",
       "<text font-family=\"Times New Roman,serif\" font-size=\"14.00\" text-anchor=\"middle\" x=\"737\" y=\"-379.8\">samples = 16</text>\n",
       "<text font-family=\"Times New Roman,serif\" font-size=\"14.00\" text-anchor=\"middle\" x=\"737\" y=\"-364.8\">value = [0, 7, 9]</text>\n",
       "<text font-family=\"Times New Roman,serif\" font-size=\"14.00\" text-anchor=\"middle\" x=\"737\" y=\"-349.8\">class = negative</text>\n",
       "</g>\n",
       "<!-- 26&#45;&gt;27 -->\n",
       "<g class=\"edge\" id=\"edge27\"><title>26-&gt;27</title>\n",
       "<path d=\"M751.367,-460.907C749.797,-452.558 748.126,-443.671 746.5,-435.02\" fill=\"none\" stroke=\"black\"/>\n",
       "<polygon fill=\"black\" points=\"749.907,-434.202 744.619,-425.021 743.028,-435.495 749.907,-434.202\" stroke=\"black\"/>\n",
       "</g>\n",
       "<!-- 34 -->\n",
       "<g class=\"node\" id=\"node35\"><title>34</title>\n",
       "<polygon fill=\"#8139e5\" points=\"913.5,-417.5 808.5,-417.5 808.5,-349.5 913.5,-349.5 913.5,-417.5\" stroke=\"black\"/>\n",
       "<text font-family=\"Times New Roman,serif\" font-size=\"14.00\" text-anchor=\"middle\" x=\"861\" y=\"-402.3\">entropy = 0.0</text>\n",
       "<text font-family=\"Times New Roman,serif\" font-size=\"14.00\" text-anchor=\"middle\" x=\"861\" y=\"-387.3\">samples = 7</text>\n",
       "<text font-family=\"Times New Roman,serif\" font-size=\"14.00\" text-anchor=\"middle\" x=\"861\" y=\"-372.3\">value = [0, 0, 7]</text>\n",
       "<text font-family=\"Times New Roman,serif\" font-size=\"14.00\" text-anchor=\"middle\" x=\"861\" y=\"-357.3\">class = negative</text>\n",
       "</g>\n",
       "<!-- 26&#45;&gt;34 -->\n",
       "<g class=\"edge\" id=\"edge34\"><title>26-&gt;34</title>\n",
       "<path d=\"M794.388,-460.907C804.393,-449.432 815.285,-436.938 825.307,-425.442\" fill=\"none\" stroke=\"black\"/>\n",
       "<polygon fill=\"black\" points=\"828.152,-427.505 832.085,-417.667 822.876,-422.905 828.152,-427.505\" stroke=\"black\"/>\n",
       "</g>\n",
       "<!-- 28 -->\n",
       "<g class=\"node\" id=\"node29\"><title>28</title>\n",
       "<polygon fill=\"#39e581\" points=\"724.5,-298.5 611.5,-298.5 611.5,-230.5 724.5,-230.5 724.5,-298.5\" stroke=\"black\"/>\n",
       "<text font-family=\"Times New Roman,serif\" font-size=\"14.00\" text-anchor=\"middle\" x=\"668\" y=\"-283.3\">entropy = 0.0</text>\n",
       "<text font-family=\"Times New Roman,serif\" font-size=\"14.00\" text-anchor=\"middle\" x=\"668\" y=\"-268.3\">samples = 4</text>\n",
       "<text font-family=\"Times New Roman,serif\" font-size=\"14.00\" text-anchor=\"middle\" x=\"668\" y=\"-253.3\">value = [0, 4, 0]</text>\n",
       "<text font-family=\"Times New Roman,serif\" font-size=\"14.00\" text-anchor=\"middle\" x=\"668\" y=\"-238.3\">class = increased</text>\n",
       "</g>\n",
       "<!-- 27&#45;&gt;28 -->\n",
       "<g class=\"edge\" id=\"edge28\"><title>27-&gt;28</title>\n",
       "<path d=\"M713.061,-341.907C706.488,-330.763 699.35,-318.658 692.733,-307.439\" fill=\"none\" stroke=\"black\"/>\n",
       "<polygon fill=\"black\" points=\"695.655,-305.503 687.56,-298.667 689.625,-309.059 695.655,-305.503\" stroke=\"black\"/>\n",
       "</g>\n",
       "<!-- 29 -->\n",
       "<g class=\"node\" id=\"node30\"><title>29</title>\n",
       "<polygon fill=\"#8139e5\" fill-opacity=\"0.666667\" points=\"871,-306 743,-306 743,-223 871,-223 871,-306\" stroke=\"black\"/>\n",
       "<text font-family=\"Times New Roman,serif\" font-size=\"14.00\" text-anchor=\"middle\" x=\"807\" y=\"-290.8\">workclass_5 &lt;= 0.5</text>\n",
       "<text font-family=\"Times New Roman,serif\" font-size=\"14.00\" text-anchor=\"middle\" x=\"807\" y=\"-275.8\">entropy = 0.811</text>\n",
       "<text font-family=\"Times New Roman,serif\" font-size=\"14.00\" text-anchor=\"middle\" x=\"807\" y=\"-260.8\">samples = 12</text>\n",
       "<text font-family=\"Times New Roman,serif\" font-size=\"14.00\" text-anchor=\"middle\" x=\"807\" y=\"-245.8\">value = [0, 3, 9]</text>\n",
       "<text font-family=\"Times New Roman,serif\" font-size=\"14.00\" text-anchor=\"middle\" x=\"807\" y=\"-230.8\">class = negative</text>\n",
       "</g>\n",
       "<!-- 27&#45;&gt;29 -->\n",
       "<g class=\"edge\" id=\"edge29\"><title>27-&gt;29</title>\n",
       "<path d=\"M761.286,-341.907C766.553,-333.105 772.178,-323.703 777.617,-314.612\" fill=\"none\" stroke=\"black\"/>\n",
       "<polygon fill=\"black\" points=\"780.626,-316.399 782.757,-306.021 774.619,-312.805 780.626,-316.399\" stroke=\"black\"/>\n",
       "</g>\n",
       "<!-- 30 -->\n",
       "<g class=\"node\" id=\"node31\"><title>30</title>\n",
       "<polygon fill=\"#8139e5\" fill-opacity=\"0.890196\" points=\"804,-187 698,-187 698,-104 804,-104 804,-187\" stroke=\"black\"/>\n",
       "<text font-family=\"Times New Roman,serif\" font-size=\"14.00\" text-anchor=\"middle\" x=\"751\" y=\"-171.8\">age &lt;= 4.33</text>\n",
       "<text font-family=\"Times New Roman,serif\" font-size=\"14.00\" text-anchor=\"middle\" x=\"751\" y=\"-156.8\">entropy = 0.469</text>\n",
       "<text font-family=\"Times New Roman,serif\" font-size=\"14.00\" text-anchor=\"middle\" x=\"751\" y=\"-141.8\">samples = 10</text>\n",
       "<text font-family=\"Times New Roman,serif\" font-size=\"14.00\" text-anchor=\"middle\" x=\"751\" y=\"-126.8\">value = [0, 1, 9]</text>\n",
       "<text font-family=\"Times New Roman,serif\" font-size=\"14.00\" text-anchor=\"middle\" x=\"751\" y=\"-111.8\">class = negative</text>\n",
       "</g>\n",
       "<!-- 29&#45;&gt;30 -->\n",
       "<g class=\"edge\" id=\"edge30\"><title>29-&gt;30</title>\n",
       "<path d=\"M787.571,-222.907C783.445,-214.286 779.043,-205.09 774.776,-196.175\" fill=\"none\" stroke=\"black\"/>\n",
       "<polygon fill=\"black\" points=\"777.869,-194.53 770.395,-187.021 771.555,-197.552 777.869,-194.53\" stroke=\"black\"/>\n",
       "</g>\n",
       "<!-- 33 -->\n",
       "<g class=\"node\" id=\"node34\"><title>33</title>\n",
       "<polygon fill=\"#39e581\" points=\"935.5,-179.5 822.5,-179.5 822.5,-111.5 935.5,-111.5 935.5,-179.5\" stroke=\"black\"/>\n",
       "<text font-family=\"Times New Roman,serif\" font-size=\"14.00\" text-anchor=\"middle\" x=\"879\" y=\"-164.3\">entropy = 0.0</text>\n",
       "<text font-family=\"Times New Roman,serif\" font-size=\"14.00\" text-anchor=\"middle\" x=\"879\" y=\"-149.3\">samples = 2</text>\n",
       "<text font-family=\"Times New Roman,serif\" font-size=\"14.00\" text-anchor=\"middle\" x=\"879\" y=\"-134.3\">value = [0, 2, 0]</text>\n",
       "<text font-family=\"Times New Roman,serif\" font-size=\"14.00\" text-anchor=\"middle\" x=\"879\" y=\"-119.3\">class = increased</text>\n",
       "</g>\n",
       "<!-- 29&#45;&gt;33 -->\n",
       "<g class=\"edge\" id=\"edge33\"><title>29-&gt;33</title>\n",
       "<path d=\"M831.98,-222.907C838.838,-211.763 846.287,-199.658 853.191,-188.439\" fill=\"none\" stroke=\"black\"/>\n",
       "<polygon fill=\"black\" points=\"856.329,-190.018 858.59,-179.667 850.368,-186.349 856.329,-190.018\" stroke=\"black\"/>\n",
       "</g>\n",
       "<!-- 31 -->\n",
       "<g class=\"node\" id=\"node32\"><title>31</title>\n",
       "<polygon fill=\"#8139e5\" points=\"739.5,-68 634.5,-68 634.5,-0 739.5,-0 739.5,-68\" stroke=\"black\"/>\n",
       "<text font-family=\"Times New Roman,serif\" font-size=\"14.00\" text-anchor=\"middle\" x=\"687\" y=\"-52.8\">entropy = 0.0</text>\n",
       "<text font-family=\"Times New Roman,serif\" font-size=\"14.00\" text-anchor=\"middle\" x=\"687\" y=\"-37.8\">samples = 8</text>\n",
       "<text font-family=\"Times New Roman,serif\" font-size=\"14.00\" text-anchor=\"middle\" x=\"687\" y=\"-22.8\">value = [0, 0, 8]</text>\n",
       "<text font-family=\"Times New Roman,serif\" font-size=\"14.00\" text-anchor=\"middle\" x=\"687\" y=\"-7.8\">class = negative</text>\n",
       "</g>\n",
       "<!-- 30&#45;&gt;31 -->\n",
       "<g class=\"edge\" id=\"edge31\"><title>30-&gt;31</title>\n",
       "<path d=\"M727.169,-103.726C722.104,-95.0615 716.748,-85.8962 711.653,-77.1802\" fill=\"none\" stroke=\"black\"/>\n",
       "<polygon fill=\"black\" points=\"714.531,-75.167 706.463,-68.2996 708.487,-78.6992 714.531,-75.167\" stroke=\"black\"/>\n",
       "</g>\n",
       "<!-- 32 -->\n",
       "<g class=\"node\" id=\"node33\"><title>32</title>\n",
       "<polygon fill=\"none\" points=\"870.5,-68 757.5,-68 757.5,-0 870.5,-0 870.5,-68\" stroke=\"black\"/>\n",
       "<text font-family=\"Times New Roman,serif\" font-size=\"14.00\" text-anchor=\"middle\" x=\"814\" y=\"-52.8\">entropy = 1.0</text>\n",
       "<text font-family=\"Times New Roman,serif\" font-size=\"14.00\" text-anchor=\"middle\" x=\"814\" y=\"-37.8\">samples = 2</text>\n",
       "<text font-family=\"Times New Roman,serif\" font-size=\"14.00\" text-anchor=\"middle\" x=\"814\" y=\"-22.8\">value = [0, 1, 1]</text>\n",
       "<text font-family=\"Times New Roman,serif\" font-size=\"14.00\" text-anchor=\"middle\" x=\"814\" y=\"-7.8\">class = increased</text>\n",
       "</g>\n",
       "<!-- 30&#45;&gt;32 -->\n",
       "<g class=\"edge\" id=\"edge32\"><title>30-&gt;32</title>\n",
       "<path d=\"M774.459,-103.726C779.444,-95.0615 784.717,-85.8962 789.732,-77.1802\" fill=\"none\" stroke=\"black\"/>\n",
       "<polygon fill=\"black\" points=\"792.888,-78.7128 794.841,-68.2996 786.821,-75.2219 792.888,-78.7128\" stroke=\"black\"/>\n",
       "</g>\n",
       "<!-- 36 -->\n",
       "<g class=\"node\" id=\"node37\"><title>36</title>\n",
       "<polygon fill=\"#39e581\" fill-opacity=\"0.600000\" points=\"1024,-663 872,-663 872,-580 1024,-580 1024,-663\" stroke=\"black\"/>\n",
       "<text font-family=\"Times New Roman,serif\" font-size=\"14.00\" text-anchor=\"middle\" x=\"948\" y=\"-647.8\">hours-per-week &lt;= 36.5</text>\n",
       "<text font-family=\"Times New Roman,serif\" font-size=\"14.00\" text-anchor=\"middle\" x=\"948\" y=\"-632.8\">entropy = 0.863</text>\n",
       "<text font-family=\"Times New Roman,serif\" font-size=\"14.00\" text-anchor=\"middle\" x=\"948\" y=\"-617.8\">samples = 14</text>\n",
       "<text font-family=\"Times New Roman,serif\" font-size=\"14.00\" text-anchor=\"middle\" x=\"948\" y=\"-602.8\">value = [0, 10, 4]</text>\n",
       "<text font-family=\"Times New Roman,serif\" font-size=\"14.00\" text-anchor=\"middle\" x=\"948\" y=\"-587.8\">class = increased</text>\n",
       "</g>\n",
       "<!-- 35&#45;&gt;36 -->\n",
       "<g class=\"edge\" id=\"edge36\"><title>35-&gt;36</title>\n",
       "<path d=\"M948,-698.907C948,-690.649 948,-681.864 948,-673.302\" fill=\"none\" stroke=\"black\"/>\n",
       "<polygon fill=\"black\" points=\"951.5,-673.021 948,-663.021 944.5,-673.021 951.5,-673.021\" stroke=\"black\"/>\n",
       "</g>\n",
       "<!-- 41 -->\n",
       "<g class=\"node\" id=\"node42\"><title>41</title>\n",
       "<polygon fill=\"#8139e5\" points=\"1154,-655.5 1042,-655.5 1042,-587.5 1154,-587.5 1154,-655.5\" stroke=\"black\"/>\n",
       "<text font-family=\"Times New Roman,serif\" font-size=\"14.00\" text-anchor=\"middle\" x=\"1098\" y=\"-640.3\">entropy = 0.0</text>\n",
       "<text font-family=\"Times New Roman,serif\" font-size=\"14.00\" text-anchor=\"middle\" x=\"1098\" y=\"-625.3\">samples = 14</text>\n",
       "<text font-family=\"Times New Roman,serif\" font-size=\"14.00\" text-anchor=\"middle\" x=\"1098\" y=\"-610.3\">value = [0, 0, 14]</text>\n",
       "<text font-family=\"Times New Roman,serif\" font-size=\"14.00\" text-anchor=\"middle\" x=\"1098\" y=\"-595.3\">class = negative</text>\n",
       "</g>\n",
       "<!-- 35&#45;&gt;41 -->\n",
       "<g class=\"edge\" id=\"edge41\"><title>35-&gt;41</title>\n",
       "<path d=\"M1000.04,-698.907C1015.32,-686.99 1032.01,-673.976 1047.21,-662.12\" fill=\"none\" stroke=\"black\"/>\n",
       "<polygon fill=\"black\" points=\"1049.75,-664.577 1055.48,-655.667 1045.44,-659.058 1049.75,-664.577\" stroke=\"black\"/>\n",
       "</g>\n",
       "<!-- 37 -->\n",
       "<g class=\"node\" id=\"node38\"><title>37</title>\n",
       "<polygon fill=\"#8139e5\" fill-opacity=\"0.498039\" points=\"1001,-544 895,-544 895,-461 1001,-461 1001,-544\" stroke=\"black\"/>\n",
       "<text font-family=\"Times New Roman,serif\" font-size=\"14.00\" text-anchor=\"middle\" x=\"948\" y=\"-528.8\">TT4 &lt;= 5.116</text>\n",
       "<text font-family=\"Times New Roman,serif\" font-size=\"14.00\" text-anchor=\"middle\" x=\"948\" y=\"-513.8\">entropy = 0.918</text>\n",
       "<text font-family=\"Times New Roman,serif\" font-size=\"14.00\" text-anchor=\"middle\" x=\"948\" y=\"-498.8\">samples = 6</text>\n",
       "<text font-family=\"Times New Roman,serif\" font-size=\"14.00\" text-anchor=\"middle\" x=\"948\" y=\"-483.8\">value = [0, 2, 4]</text>\n",
       "<text font-family=\"Times New Roman,serif\" font-size=\"14.00\" text-anchor=\"middle\" x=\"948\" y=\"-468.8\">class = negative</text>\n",
       "</g>\n",
       "<!-- 36&#45;&gt;37 -->\n",
       "<g class=\"edge\" id=\"edge37\"><title>36-&gt;37</title>\n",
       "<path d=\"M948,-579.907C948,-571.649 948,-562.864 948,-554.302\" fill=\"none\" stroke=\"black\"/>\n",
       "<polygon fill=\"black\" points=\"951.5,-554.021 948,-544.021 944.5,-554.021 951.5,-554.021\" stroke=\"black\"/>\n",
       "</g>\n",
       "<!-- 40 -->\n",
       "<g class=\"node\" id=\"node41\"><title>40</title>\n",
       "<polygon fill=\"#39e581\" points=\"1132.5,-536.5 1019.5,-536.5 1019.5,-468.5 1132.5,-468.5 1132.5,-536.5\" stroke=\"black\"/>\n",
       "<text font-family=\"Times New Roman,serif\" font-size=\"14.00\" text-anchor=\"middle\" x=\"1076\" y=\"-521.3\">entropy = 0.0</text>\n",
       "<text font-family=\"Times New Roman,serif\" font-size=\"14.00\" text-anchor=\"middle\" x=\"1076\" y=\"-506.3\">samples = 8</text>\n",
       "<text font-family=\"Times New Roman,serif\" font-size=\"14.00\" text-anchor=\"middle\" x=\"1076\" y=\"-491.3\">value = [0, 8, 0]</text>\n",
       "<text font-family=\"Times New Roman,serif\" font-size=\"14.00\" text-anchor=\"middle\" x=\"1076\" y=\"-476.3\">class = increased</text>\n",
       "</g>\n",
       "<!-- 36&#45;&gt;40 -->\n",
       "<g class=\"edge\" id=\"edge40\"><title>36-&gt;40</title>\n",
       "<path d=\"M992.409,-579.907C1005.33,-568.101 1019.42,-555.217 1032.29,-543.45\" fill=\"none\" stroke=\"black\"/>\n",
       "<polygon fill=\"black\" points=\"1034.7,-545.997 1039.71,-536.667 1029.97,-540.83 1034.7,-545.997\" stroke=\"black\"/>\n",
       "</g>\n",
       "<!-- 38 -->\n",
       "<g class=\"node\" id=\"node39\"><title>38</title>\n",
       "<polygon fill=\"#39e581\" points=\"1044.5,-417.5 931.5,-417.5 931.5,-349.5 1044.5,-349.5 1044.5,-417.5\" stroke=\"black\"/>\n",
       "<text font-family=\"Times New Roman,serif\" font-size=\"14.00\" text-anchor=\"middle\" x=\"988\" y=\"-402.3\">entropy = 0.0</text>\n",
       "<text font-family=\"Times New Roman,serif\" font-size=\"14.00\" text-anchor=\"middle\" x=\"988\" y=\"-387.3\">samples = 2</text>\n",
       "<text font-family=\"Times New Roman,serif\" font-size=\"14.00\" text-anchor=\"middle\" x=\"988\" y=\"-372.3\">value = [0, 2, 0]</text>\n",
       "<text font-family=\"Times New Roman,serif\" font-size=\"14.00\" text-anchor=\"middle\" x=\"988\" y=\"-357.3\">class = increased</text>\n",
       "</g>\n",
       "<!-- 37&#45;&gt;38 -->\n",
       "<g class=\"edge\" id=\"edge38\"><title>37-&gt;38</title>\n",
       "<path d=\"M961.878,-460.907C965.575,-450.094 969.581,-438.376 973.319,-427.441\" fill=\"none\" stroke=\"black\"/>\n",
       "<polygon fill=\"black\" points=\"976.738,-428.261 976.661,-417.667 970.114,-425.997 976.738,-428.261\" stroke=\"black\"/>\n",
       "</g>\n",
       "<!-- 39 -->\n",
       "<g class=\"node\" id=\"node40\"><title>39</title>\n",
       "<polygon fill=\"#8139e5\" points=\"1167.5,-417.5 1062.5,-417.5 1062.5,-349.5 1167.5,-349.5 1167.5,-417.5\" stroke=\"black\"/>\n",
       "<text font-family=\"Times New Roman,serif\" font-size=\"14.00\" text-anchor=\"middle\" x=\"1115\" y=\"-402.3\">entropy = 0.0</text>\n",
       "<text font-family=\"Times New Roman,serif\" font-size=\"14.00\" text-anchor=\"middle\" x=\"1115\" y=\"-387.3\">samples = 4</text>\n",
       "<text font-family=\"Times New Roman,serif\" font-size=\"14.00\" text-anchor=\"middle\" x=\"1115\" y=\"-372.3\">value = [0, 0, 4]</text>\n",
       "<text font-family=\"Times New Roman,serif\" font-size=\"14.00\" text-anchor=\"middle\" x=\"1115\" y=\"-357.3\">class = negative</text>\n",
       "</g>\n",
       "<!-- 37&#45;&gt;39 -->\n",
       "<g class=\"edge\" id=\"edge39\"><title>37-&gt;39</title>\n",
       "<path d=\"M1001.3,-464.159C1019.84,-451.168 1040.68,-436.568 1059.4,-423.451\" fill=\"none\" stroke=\"black\"/>\n",
       "<polygon fill=\"black\" points=\"1061.66,-426.143 1067.84,-417.539 1057.64,-420.41 1061.66,-426.143\" stroke=\"black\"/>\n",
       "</g>\n",
       "<!-- 43 -->\n",
       "<g class=\"node\" id=\"node44\"><title>43</title>\n",
       "<polygon fill=\"#8139e5\" fill-opacity=\"0.878431\" points=\"1486.5,-901 1367.5,-901 1367.5,-818 1486.5,-818 1486.5,-901\" stroke=\"black\"/>\n",
       "<text font-family=\"Times New Roman,serif\" font-size=\"14.00\" text-anchor=\"middle\" x=\"1427\" y=\"-885.8\">TSH &lt;= 1.082</text>\n",
       "<text font-family=\"Times New Roman,serif\" font-size=\"14.00\" text-anchor=\"middle\" x=\"1427\" y=\"-870.8\">entropy = 0.492</text>\n",
       "<text font-family=\"Times New Roman,serif\" font-size=\"14.00\" text-anchor=\"middle\" x=\"1427\" y=\"-855.8\">samples = 93</text>\n",
       "<text font-family=\"Times New Roman,serif\" font-size=\"14.00\" text-anchor=\"middle\" x=\"1427\" y=\"-840.8\">value = [0, 10, 83]</text>\n",
       "<text font-family=\"Times New Roman,serif\" font-size=\"14.00\" text-anchor=\"middle\" x=\"1427\" y=\"-825.8\">class = negative</text>\n",
       "</g>\n",
       "<!-- 42&#45;&gt;43 -->\n",
       "<g class=\"edge\" id=\"edge43\"><title>42-&gt;43</title>\n",
       "<path d=\"M1427,-936.907C1427,-928.649 1427,-919.864 1427,-911.302\" fill=\"none\" stroke=\"black\"/>\n",
       "<polygon fill=\"black\" points=\"1430.5,-911.021 1427,-901.021 1423.5,-911.021 1430.5,-911.021\" stroke=\"black\"/>\n",
       "</g>\n",
       "<!-- 62 -->\n",
       "<g class=\"node\" id=\"node63\"><title>62</title>\n",
       "<polygon fill=\"#39e581\" fill-opacity=\"0.537255\" points=\"2041.5,-901 1922.5,-901 1922.5,-818 2041.5,-818 2041.5,-901\" stroke=\"black\"/>\n",
       "<text font-family=\"Times New Roman,serif\" font-size=\"14.00\" text-anchor=\"middle\" x=\"1982\" y=\"-885.8\">T4U &lt;= 0.239</text>\n",
       "<text font-family=\"Times New Roman,serif\" font-size=\"14.00\" text-anchor=\"middle\" x=\"1982\" y=\"-870.8\">entropy = 0.901</text>\n",
       "<text font-family=\"Times New Roman,serif\" font-size=\"14.00\" text-anchor=\"middle\" x=\"1982\" y=\"-855.8\">samples = 101</text>\n",
       "<text font-family=\"Times New Roman,serif\" font-size=\"14.00\" text-anchor=\"middle\" x=\"1982\" y=\"-840.8\">value = [0, 69, 32]</text>\n",
       "<text font-family=\"Times New Roman,serif\" font-size=\"14.00\" text-anchor=\"middle\" x=\"1982\" y=\"-825.8\">class = increased</text>\n",
       "</g>\n",
       "<!-- 42&#45;&gt;62 -->\n",
       "<g class=\"edge\" id=\"edge62\"><title>42-&gt;62</title>\n",
       "<path d=\"M1489.59,-964.306C1594.05,-942.284 1803.21,-898.19 1912.26,-875.203\" fill=\"none\" stroke=\"black\"/>\n",
       "<polygon fill=\"black\" points=\"1913.11,-878.601 1922.17,-873.113 1911.66,-871.751 1913.11,-878.601\" stroke=\"black\"/>\n",
       "</g>\n",
       "<!-- 44 -->\n",
       "<g class=\"node\" id=\"node45\"><title>44</title>\n",
       "<polygon fill=\"#8139e5\" fill-opacity=\"0.949020\" points=\"1418,-782 1306,-782 1306,-699 1418,-699 1418,-782\" stroke=\"black\"/>\n",
       "<text font-family=\"Times New Roman,serif\" font-size=\"14.00\" text-anchor=\"middle\" x=\"1362\" y=\"-766.8\">age &lt;= 3.651</text>\n",
       "<text font-family=\"Times New Roman,serif\" font-size=\"14.00\" text-anchor=\"middle\" x=\"1362\" y=\"-751.8\">entropy = 0.276</text>\n",
       "<text font-family=\"Times New Roman,serif\" font-size=\"14.00\" text-anchor=\"middle\" x=\"1362\" y=\"-736.8\">samples = 84</text>\n",
       "<text font-family=\"Times New Roman,serif\" font-size=\"14.00\" text-anchor=\"middle\" x=\"1362\" y=\"-721.8\">value = [0, 4, 80]</text>\n",
       "<text font-family=\"Times New Roman,serif\" font-size=\"14.00\" text-anchor=\"middle\" x=\"1362\" y=\"-706.8\">class = negative</text>\n",
       "</g>\n",
       "<!-- 43&#45;&gt;44 -->\n",
       "<g class=\"edge\" id=\"edge44\"><title>43-&gt;44</title>\n",
       "<path d=\"M1404.45,-817.907C1399.61,-809.195 1394.44,-799.897 1389.44,-790.893\" fill=\"none\" stroke=\"black\"/>\n",
       "<polygon fill=\"black\" points=\"1392.43,-789.063 1384.51,-782.021 1386.31,-792.462 1392.43,-789.063\" stroke=\"black\"/>\n",
       "</g>\n",
       "<!-- 57 -->\n",
       "<g class=\"node\" id=\"node58\"><title>57</title>\n",
       "<polygon fill=\"#39e581\" fill-opacity=\"0.498039\" points=\"1549.5,-782 1436.5,-782 1436.5,-699 1549.5,-699 1549.5,-782\" stroke=\"black\"/>\n",
       "<text font-family=\"Times New Roman,serif\" font-size=\"14.00\" text-anchor=\"middle\" x=\"1493\" y=\"-766.8\">T4U &lt;= 0.025</text>\n",
       "<text font-family=\"Times New Roman,serif\" font-size=\"14.00\" text-anchor=\"middle\" x=\"1493\" y=\"-751.8\">entropy = 0.918</text>\n",
       "<text font-family=\"Times New Roman,serif\" font-size=\"14.00\" text-anchor=\"middle\" x=\"1493\" y=\"-736.8\">samples = 9</text>\n",
       "<text font-family=\"Times New Roman,serif\" font-size=\"14.00\" text-anchor=\"middle\" x=\"1493\" y=\"-721.8\">value = [0, 6, 3]</text>\n",
       "<text font-family=\"Times New Roman,serif\" font-size=\"14.00\" text-anchor=\"middle\" x=\"1493\" y=\"-706.8\">class = increased</text>\n",
       "</g>\n",
       "<!-- 43&#45;&gt;57 -->\n",
       "<g class=\"edge\" id=\"edge57\"><title>43-&gt;57</title>\n",
       "<path d=\"M1449.9,-817.907C1454.81,-809.195 1460.06,-799.897 1465.14,-790.893\" fill=\"none\" stroke=\"black\"/>\n",
       "<polygon fill=\"black\" points=\"1468.28,-792.45 1470.14,-782.021 1462.18,-789.011 1468.28,-792.45\" stroke=\"black\"/>\n",
       "</g>\n",
       "<!-- 45 -->\n",
       "<g class=\"node\" id=\"node46\"><title>45</title>\n",
       "<polygon fill=\"#8139e5\" fill-opacity=\"0.862745\" points=\"1288,-663 1176,-663 1176,-580 1288,-580 1288,-663\" stroke=\"black\"/>\n",
       "<text font-family=\"Times New Roman,serif\" font-size=\"14.00\" text-anchor=\"middle\" x=\"1232\" y=\"-647.8\">T4U &lt;= -0.024</text>\n",
       "<text font-family=\"Times New Roman,serif\" font-size=\"14.00\" text-anchor=\"middle\" x=\"1232\" y=\"-632.8\">entropy = 0.533</text>\n",
       "<text font-family=\"Times New Roman,serif\" font-size=\"14.00\" text-anchor=\"middle\" x=\"1232\" y=\"-617.8\">samples = 33</text>\n",
       "<text font-family=\"Times New Roman,serif\" font-size=\"14.00\" text-anchor=\"middle\" x=\"1232\" y=\"-602.8\">value = [0, 4, 29]</text>\n",
       "<text font-family=\"Times New Roman,serif\" font-size=\"14.00\" text-anchor=\"middle\" x=\"1232\" y=\"-587.8\">class = negative</text>\n",
       "</g>\n",
       "<!-- 44&#45;&gt;45 -->\n",
       "<g class=\"edge\" id=\"edge45\"><title>44-&gt;45</title>\n",
       "<path d=\"M1316.9,-698.907C1306.51,-689.56 1295.38,-679.538 1284.7,-669.929\" fill=\"none\" stroke=\"black\"/>\n",
       "<polygon fill=\"black\" points=\"1286.8,-667.109 1277.02,-663.021 1282.11,-672.312 1286.8,-667.109\" stroke=\"black\"/>\n",
       "</g>\n",
       "<!-- 56 -->\n",
       "<g class=\"node\" id=\"node57\"><title>56</title>\n",
       "<polygon fill=\"#8139e5\" points=\"1418,-655.5 1306,-655.5 1306,-587.5 1418,-587.5 1418,-655.5\" stroke=\"black\"/>\n",
       "<text font-family=\"Times New Roman,serif\" font-size=\"14.00\" text-anchor=\"middle\" x=\"1362\" y=\"-640.3\">entropy = 0.0</text>\n",
       "<text font-family=\"Times New Roman,serif\" font-size=\"14.00\" text-anchor=\"middle\" x=\"1362\" y=\"-625.3\">samples = 51</text>\n",
       "<text font-family=\"Times New Roman,serif\" font-size=\"14.00\" text-anchor=\"middle\" x=\"1362\" y=\"-610.3\">value = [0, 0, 51]</text>\n",
       "<text font-family=\"Times New Roman,serif\" font-size=\"14.00\" text-anchor=\"middle\" x=\"1362\" y=\"-595.3\">class = negative</text>\n",
       "</g>\n",
       "<!-- 44&#45;&gt;56 -->\n",
       "<g class=\"edge\" id=\"edge56\"><title>44-&gt;56</title>\n",
       "<path d=\"M1362,-698.907C1362,-688.204 1362,-676.615 1362,-665.776\" fill=\"none\" stroke=\"black\"/>\n",
       "<polygon fill=\"black\" points=\"1365.5,-665.667 1362,-655.667 1358.5,-665.667 1365.5,-665.667\" stroke=\"black\"/>\n",
       "</g>\n",
       "<!-- 46 -->\n",
       "<g class=\"node\" id=\"node47\"><title>46</title>\n",
       "<polygon fill=\"#8139e5\" points=\"1263,-536.5 1151,-536.5 1151,-468.5 1263,-468.5 1263,-536.5\" stroke=\"black\"/>\n",
       "<text font-family=\"Times New Roman,serif\" font-size=\"14.00\" text-anchor=\"middle\" x=\"1207\" y=\"-521.3\">entropy = 0.0</text>\n",
       "<text font-family=\"Times New Roman,serif\" font-size=\"14.00\" text-anchor=\"middle\" x=\"1207\" y=\"-506.3\">samples = 16</text>\n",
       "<text font-family=\"Times New Roman,serif\" font-size=\"14.00\" text-anchor=\"middle\" x=\"1207\" y=\"-491.3\">value = [0, 0, 16]</text>\n",
       "<text font-family=\"Times New Roman,serif\" font-size=\"14.00\" text-anchor=\"middle\" x=\"1207\" y=\"-476.3\">class = negative</text>\n",
       "</g>\n",
       "<!-- 45&#45;&gt;46 -->\n",
       "<g class=\"edge\" id=\"edge46\"><title>45-&gt;46</title>\n",
       "<path d=\"M1223.33,-579.907C1221.04,-569.204 1218.56,-557.615 1216.25,-546.776\" fill=\"none\" stroke=\"black\"/>\n",
       "<polygon fill=\"black\" points=\"1219.6,-545.715 1214.09,-536.667 1212.75,-547.178 1219.6,-545.715\" stroke=\"black\"/>\n",
       "</g>\n",
       "<!-- 47 -->\n",
       "<g class=\"node\" id=\"node48\"><title>47</title>\n",
       "<polygon fill=\"#8139e5\" fill-opacity=\"0.694118\" points=\"1427,-544 1281,-544 1281,-461 1427,-461 1427,-544\" stroke=\"black\"/>\n",
       "<text font-family=\"Times New Roman,serif\" font-size=\"14.00\" text-anchor=\"middle\" x=\"1354\" y=\"-528.8\">marital-status_2 &lt;= 0.5</text>\n",
       "<text font-family=\"Times New Roman,serif\" font-size=\"14.00\" text-anchor=\"middle\" x=\"1354\" y=\"-513.8\">entropy = 0.787</text>\n",
       "<text font-family=\"Times New Roman,serif\" font-size=\"14.00\" text-anchor=\"middle\" x=\"1354\" y=\"-498.8\">samples = 17</text>\n",
       "<text font-family=\"Times New Roman,serif\" font-size=\"14.00\" text-anchor=\"middle\" x=\"1354\" y=\"-483.8\">value = [0, 4, 13]</text>\n",
       "<text font-family=\"Times New Roman,serif\" font-size=\"14.00\" text-anchor=\"middle\" x=\"1354\" y=\"-468.8\">class = negative</text>\n",
       "</g>\n",
       "<!-- 45&#45;&gt;47 -->\n",
       "<g class=\"edge\" id=\"edge47\"><title>45-&gt;47</title>\n",
       "<path d=\"M1274.33,-579.907C1283.98,-570.651 1294.32,-560.732 1304.25,-551.209\" fill=\"none\" stroke=\"black\"/>\n",
       "<polygon fill=\"black\" points=\"1306.95,-553.469 1311.75,-544.021 1302.11,-548.416 1306.95,-553.469\" stroke=\"black\"/>\n",
       "</g>\n",
       "<!-- 48 -->\n",
       "<g class=\"node\" id=\"node49\"><title>48</title>\n",
       "<polygon fill=\"#8139e5\" points=\"1372.5,-417.5 1267.5,-417.5 1267.5,-349.5 1372.5,-349.5 1372.5,-417.5\" stroke=\"black\"/>\n",
       "<text font-family=\"Times New Roman,serif\" font-size=\"14.00\" text-anchor=\"middle\" x=\"1320\" y=\"-402.3\">entropy = 0.0</text>\n",
       "<text font-family=\"Times New Roman,serif\" font-size=\"14.00\" text-anchor=\"middle\" x=\"1320\" y=\"-387.3\">samples = 6</text>\n",
       "<text font-family=\"Times New Roman,serif\" font-size=\"14.00\" text-anchor=\"middle\" x=\"1320\" y=\"-372.3\">value = [0, 0, 6]</text>\n",
       "<text font-family=\"Times New Roman,serif\" font-size=\"14.00\" text-anchor=\"middle\" x=\"1320\" y=\"-357.3\">class = negative</text>\n",
       "</g>\n",
       "<!-- 47&#45;&gt;48 -->\n",
       "<g class=\"edge\" id=\"edge48\"><title>47-&gt;48</title>\n",
       "<path d=\"M1342.2,-460.907C1339.06,-450.094 1335.66,-438.376 1332.48,-427.441\" fill=\"none\" stroke=\"black\"/>\n",
       "<polygon fill=\"black\" points=\"1335.79,-426.293 1329.64,-417.667 1329.07,-428.246 1335.79,-426.293\" stroke=\"black\"/>\n",
       "</g>\n",
       "<!-- 49 -->\n",
       "<g class=\"node\" id=\"node50\"><title>49</title>\n",
       "<polygon fill=\"#8139e5\" fill-opacity=\"0.427451\" points=\"1497,-425 1391,-425 1391,-342 1497,-342 1497,-425\" stroke=\"black\"/>\n",
       "<text font-family=\"Times New Roman,serif\" font-size=\"14.00\" text-anchor=\"middle\" x=\"1444\" y=\"-409.8\">FTI &lt;= 4.407</text>\n",
       "<text font-family=\"Times New Roman,serif\" font-size=\"14.00\" text-anchor=\"middle\" x=\"1444\" y=\"-394.8\">entropy = 0.946</text>\n",
       "<text font-family=\"Times New Roman,serif\" font-size=\"14.00\" text-anchor=\"middle\" x=\"1444\" y=\"-379.8\">samples = 11</text>\n",
       "<text font-family=\"Times New Roman,serif\" font-size=\"14.00\" text-anchor=\"middle\" x=\"1444\" y=\"-364.8\">value = [0, 4, 7]</text>\n",
       "<text font-family=\"Times New Roman,serif\" font-size=\"14.00\" text-anchor=\"middle\" x=\"1444\" y=\"-349.8\">class = negative</text>\n",
       "</g>\n",
       "<!-- 47&#45;&gt;49 -->\n",
       "<g class=\"edge\" id=\"edge49\"><title>47-&gt;49</title>\n",
       "<path d=\"M1385.23,-460.907C1392.14,-451.923 1399.53,-442.315 1406.65,-433.05\" fill=\"none\" stroke=\"black\"/>\n",
       "<polygon fill=\"black\" points=\"1409.51,-435.081 1412.83,-425.021 1403.96,-430.813 1409.51,-435.081\" stroke=\"black\"/>\n",
       "</g>\n",
       "<!-- 50 -->\n",
       "<g class=\"node\" id=\"node51\"><title>50</title>\n",
       "<polygon fill=\"#8139e5\" points=\"1433.5,-298.5 1328.5,-298.5 1328.5,-230.5 1433.5,-230.5 1433.5,-298.5\" stroke=\"black\"/>\n",
       "<text font-family=\"Times New Roman,serif\" font-size=\"14.00\" text-anchor=\"middle\" x=\"1381\" y=\"-283.3\">entropy = 0.0</text>\n",
       "<text font-family=\"Times New Roman,serif\" font-size=\"14.00\" text-anchor=\"middle\" x=\"1381\" y=\"-268.3\">samples = 3</text>\n",
       "<text font-family=\"Times New Roman,serif\" font-size=\"14.00\" text-anchor=\"middle\" x=\"1381\" y=\"-253.3\">value = [0, 0, 3]</text>\n",
       "<text font-family=\"Times New Roman,serif\" font-size=\"14.00\" text-anchor=\"middle\" x=\"1381\" y=\"-238.3\">class = negative</text>\n",
       "</g>\n",
       "<!-- 49&#45;&gt;50 -->\n",
       "<g class=\"edge\" id=\"edge50\"><title>49-&gt;50</title>\n",
       "<path d=\"M1422.14,-341.907C1416.2,-330.873 1409.75,-318.898 1403.76,-307.773\" fill=\"none\" stroke=\"black\"/>\n",
       "<polygon fill=\"black\" points=\"1406.68,-305.812 1398.86,-298.667 1400.52,-309.131 1406.68,-305.812\" stroke=\"black\"/>\n",
       "</g>\n",
       "<!-- 51 -->\n",
       "<g class=\"node\" id=\"node52\"><title>51</title>\n",
       "<polygon fill=\"none\" points=\"1564.5,-306 1451.5,-306 1451.5,-223 1564.5,-223 1564.5,-306\" stroke=\"black\"/>\n",
       "<text font-family=\"Times New Roman,serif\" font-size=\"14.00\" text-anchor=\"middle\" x=\"1508\" y=\"-290.8\">TT4 &lt;= 4.879</text>\n",
       "<text font-family=\"Times New Roman,serif\" font-size=\"14.00\" text-anchor=\"middle\" x=\"1508\" y=\"-275.8\">entropy = 1.0</text>\n",
       "<text font-family=\"Times New Roman,serif\" font-size=\"14.00\" text-anchor=\"middle\" x=\"1508\" y=\"-260.8\">samples = 8</text>\n",
       "<text font-family=\"Times New Roman,serif\" font-size=\"14.00\" text-anchor=\"middle\" x=\"1508\" y=\"-245.8\">value = [0, 4, 4]</text>\n",
       "<text font-family=\"Times New Roman,serif\" font-size=\"14.00\" text-anchor=\"middle\" x=\"1508\" y=\"-230.8\">class = increased</text>\n",
       "</g>\n",
       "<!-- 49&#45;&gt;51 -->\n",
       "<g class=\"edge\" id=\"edge51\"><title>49-&gt;51</title>\n",
       "<path d=\"M1466.2,-341.907C1470.97,-333.195 1476.06,-323.897 1480.98,-314.893\" fill=\"none\" stroke=\"black\"/>\n",
       "<polygon fill=\"black\" points=\"1484.11,-316.474 1485.83,-306.021 1477.97,-313.114 1484.11,-316.474\" stroke=\"black\"/>\n",
       "</g>\n",
       "<!-- 52 -->\n",
       "<g class=\"node\" id=\"node53\"><title>52</title>\n",
       "<polygon fill=\"#39e581\" points=\"1500.5,-179.5 1387.5,-179.5 1387.5,-111.5 1500.5,-111.5 1500.5,-179.5\" stroke=\"black\"/>\n",
       "<text font-family=\"Times New Roman,serif\" font-size=\"14.00\" text-anchor=\"middle\" x=\"1444\" y=\"-164.3\">entropy = 0.0</text>\n",
       "<text font-family=\"Times New Roman,serif\" font-size=\"14.00\" text-anchor=\"middle\" x=\"1444\" y=\"-149.3\">samples = 2</text>\n",
       "<text font-family=\"Times New Roman,serif\" font-size=\"14.00\" text-anchor=\"middle\" x=\"1444\" y=\"-134.3\">value = [0, 2, 0]</text>\n",
       "<text font-family=\"Times New Roman,serif\" font-size=\"14.00\" text-anchor=\"middle\" x=\"1444\" y=\"-119.3\">class = increased</text>\n",
       "</g>\n",
       "<!-- 51&#45;&gt;52 -->\n",
       "<g class=\"edge\" id=\"edge52\"><title>51-&gt;52</title>\n",
       "<path d=\"M1485.8,-222.907C1479.76,-211.873 1473.21,-199.898 1467.12,-188.773\" fill=\"none\" stroke=\"black\"/>\n",
       "<polygon fill=\"black\" points=\"1470.01,-186.76 1462.14,-179.667 1463.87,-190.12 1470.01,-186.76\" stroke=\"black\"/>\n",
       "</g>\n",
       "<!-- 53 -->\n",
       "<g class=\"node\" id=\"node54\"><title>53</title>\n",
       "<polygon fill=\"#8139e5\" fill-opacity=\"0.498039\" points=\"1625,-187 1519,-187 1519,-104 1625,-104 1625,-187\" stroke=\"black\"/>\n",
       "<text font-family=\"Times New Roman,serif\" font-size=\"14.00\" text-anchor=\"middle\" x=\"1572\" y=\"-171.8\">TT4 &lt;= 5.164</text>\n",
       "<text font-family=\"Times New Roman,serif\" font-size=\"14.00\" text-anchor=\"middle\" x=\"1572\" y=\"-156.8\">entropy = 0.918</text>\n",
       "<text font-family=\"Times New Roman,serif\" font-size=\"14.00\" text-anchor=\"middle\" x=\"1572\" y=\"-141.8\">samples = 6</text>\n",
       "<text font-family=\"Times New Roman,serif\" font-size=\"14.00\" text-anchor=\"middle\" x=\"1572\" y=\"-126.8\">value = [0, 2, 4]</text>\n",
       "<text font-family=\"Times New Roman,serif\" font-size=\"14.00\" text-anchor=\"middle\" x=\"1572\" y=\"-111.8\">class = negative</text>\n",
       "</g>\n",
       "<!-- 51&#45;&gt;53 -->\n",
       "<g class=\"edge\" id=\"edge53\"><title>51-&gt;53</title>\n",
       "<path d=\"M1530.2,-222.907C1534.97,-214.195 1540.06,-204.897 1544.98,-195.893\" fill=\"none\" stroke=\"black\"/>\n",
       "<polygon fill=\"black\" points=\"1548.11,-197.474 1549.83,-187.021 1541.97,-194.114 1548.11,-197.474\" stroke=\"black\"/>\n",
       "</g>\n",
       "<!-- 54 -->\n",
       "<g class=\"node\" id=\"node55\"><title>54</title>\n",
       "<polygon fill=\"#8139e5\" points=\"1561.5,-68 1456.5,-68 1456.5,-0 1561.5,-0 1561.5,-68\" stroke=\"black\"/>\n",
       "<text font-family=\"Times New Roman,serif\" font-size=\"14.00\" text-anchor=\"middle\" x=\"1509\" y=\"-52.8\">entropy = 0.0</text>\n",
       "<text font-family=\"Times New Roman,serif\" font-size=\"14.00\" text-anchor=\"middle\" x=\"1509\" y=\"-37.8\">samples = 3</text>\n",
       "<text font-family=\"Times New Roman,serif\" font-size=\"14.00\" text-anchor=\"middle\" x=\"1509\" y=\"-22.8\">value = [0, 0, 3]</text>\n",
       "<text font-family=\"Times New Roman,serif\" font-size=\"14.00\" text-anchor=\"middle\" x=\"1509\" y=\"-7.8\">class = negative</text>\n",
       "</g>\n",
       "<!-- 53&#45;&gt;54 -->\n",
       "<g class=\"edge\" id=\"edge54\"><title>53-&gt;54</title>\n",
       "<path d=\"M1548.54,-103.726C1543.56,-95.0615 1538.28,-85.8962 1533.27,-77.1802\" fill=\"none\" stroke=\"black\"/>\n",
       "<polygon fill=\"black\" points=\"1536.18,-75.2219 1528.16,-68.2996 1530.11,-78.7128 1536.18,-75.2219\" stroke=\"black\"/>\n",
       "</g>\n",
       "<!-- 55 -->\n",
       "<g class=\"node\" id=\"node56\"><title>55</title>\n",
       "<polygon fill=\"#39e581\" fill-opacity=\"0.498039\" points=\"1692.5,-68 1579.5,-68 1579.5,-0 1692.5,-0 1692.5,-68\" stroke=\"black\"/>\n",
       "<text font-family=\"Times New Roman,serif\" font-size=\"14.00\" text-anchor=\"middle\" x=\"1636\" y=\"-52.8\">entropy = 0.918</text>\n",
       "<text font-family=\"Times New Roman,serif\" font-size=\"14.00\" text-anchor=\"middle\" x=\"1636\" y=\"-37.8\">samples = 3</text>\n",
       "<text font-family=\"Times New Roman,serif\" font-size=\"14.00\" text-anchor=\"middle\" x=\"1636\" y=\"-22.8\">value = [0, 2, 1]</text>\n",
       "<text font-family=\"Times New Roman,serif\" font-size=\"14.00\" text-anchor=\"middle\" x=\"1636\" y=\"-7.8\">class = increased</text>\n",
       "</g>\n",
       "<!-- 53&#45;&gt;55 -->\n",
       "<g class=\"edge\" id=\"edge55\"><title>53-&gt;55</title>\n",
       "<path d=\"M1595.83,-103.726C1600.9,-95.0615 1606.25,-85.8962 1611.35,-77.1802\" fill=\"none\" stroke=\"black\"/>\n",
       "<polygon fill=\"black\" points=\"1614.51,-78.6992 1616.54,-68.2996 1608.47,-75.167 1614.51,-78.6992\" stroke=\"black\"/>\n",
       "</g>\n",
       "<!-- 58 -->\n",
       "<g class=\"node\" id=\"node59\"><title>58</title>\n",
       "<polygon fill=\"#39e581\" points=\"1549.5,-655.5 1436.5,-655.5 1436.5,-587.5 1549.5,-587.5 1549.5,-655.5\" stroke=\"black\"/>\n",
       "<text font-family=\"Times New Roman,serif\" font-size=\"14.00\" text-anchor=\"middle\" x=\"1493\" y=\"-640.3\">entropy = 0.0</text>\n",
       "<text font-family=\"Times New Roman,serif\" font-size=\"14.00\" text-anchor=\"middle\" x=\"1493\" y=\"-625.3\">samples = 5</text>\n",
       "<text font-family=\"Times New Roman,serif\" font-size=\"14.00\" text-anchor=\"middle\" x=\"1493\" y=\"-610.3\">value = [0, 5, 0]</text>\n",
       "<text font-family=\"Times New Roman,serif\" font-size=\"14.00\" text-anchor=\"middle\" x=\"1493\" y=\"-595.3\">class = increased</text>\n",
       "</g>\n",
       "<!-- 57&#45;&gt;58 -->\n",
       "<g class=\"edge\" id=\"edge58\"><title>57-&gt;58</title>\n",
       "<path d=\"M1493,-698.907C1493,-688.204 1493,-676.615 1493,-665.776\" fill=\"none\" stroke=\"black\"/>\n",
       "<polygon fill=\"black\" points=\"1496.5,-665.667 1493,-655.667 1489.5,-665.667 1496.5,-665.667\" stroke=\"black\"/>\n",
       "</g>\n",
       "<!-- 59 -->\n",
       "<g class=\"node\" id=\"node60\"><title>59</title>\n",
       "<polygon fill=\"#8139e5\" fill-opacity=\"0.666667\" points=\"1674,-663 1568,-663 1568,-580 1674,-580 1674,-663\" stroke=\"black\"/>\n",
       "<text font-family=\"Times New Roman,serif\" font-size=\"14.00\" text-anchor=\"middle\" x=\"1621\" y=\"-647.8\">T4U &lt;= 0.068</text>\n",
       "<text font-family=\"Times New Roman,serif\" font-size=\"14.00\" text-anchor=\"middle\" x=\"1621\" y=\"-632.8\">entropy = 0.811</text>\n",
       "<text font-family=\"Times New Roman,serif\" font-size=\"14.00\" text-anchor=\"middle\" x=\"1621\" y=\"-617.8\">samples = 4</text>\n",
       "<text font-family=\"Times New Roman,serif\" font-size=\"14.00\" text-anchor=\"middle\" x=\"1621\" y=\"-602.8\">value = [0, 1, 3]</text>\n",
       "<text font-family=\"Times New Roman,serif\" font-size=\"14.00\" text-anchor=\"middle\" x=\"1621\" y=\"-587.8\">class = negative</text>\n",
       "</g>\n",
       "<!-- 57&#45;&gt;59 -->\n",
       "<g class=\"edge\" id=\"edge59\"><title>57-&gt;59</title>\n",
       "<path d=\"M1537.41,-698.907C1547.64,-689.56 1558.6,-679.538 1569.11,-669.929\" fill=\"none\" stroke=\"black\"/>\n",
       "<polygon fill=\"black\" points=\"1571.65,-672.351 1576.67,-663.021 1566.93,-667.184 1571.65,-672.351\" stroke=\"black\"/>\n",
       "</g>\n",
       "<!-- 60 -->\n",
       "<g class=\"node\" id=\"node61\"><title>60</title>\n",
       "<polygon fill=\"#8139e5\" points=\"1550.5,-536.5 1445.5,-536.5 1445.5,-468.5 1550.5,-468.5 1550.5,-536.5\" stroke=\"black\"/>\n",
       "<text font-family=\"Times New Roman,serif\" font-size=\"14.00\" text-anchor=\"middle\" x=\"1498\" y=\"-521.3\">entropy = 0.0</text>\n",
       "<text font-family=\"Times New Roman,serif\" font-size=\"14.00\" text-anchor=\"middle\" x=\"1498\" y=\"-506.3\">samples = 2</text>\n",
       "<text font-family=\"Times New Roman,serif\" font-size=\"14.00\" text-anchor=\"middle\" x=\"1498\" y=\"-491.3\">value = [0, 0, 2]</text>\n",
       "<text font-family=\"Times New Roman,serif\" font-size=\"14.00\" text-anchor=\"middle\" x=\"1498\" y=\"-476.3\">class = negative</text>\n",
       "</g>\n",
       "<!-- 59&#45;&gt;60 -->\n",
       "<g class=\"edge\" id=\"edge60\"><title>59-&gt;60</title>\n",
       "<path d=\"M1578.33,-579.907C1566.03,-568.211 1552.62,-555.457 1540.35,-543.78\" fill=\"none\" stroke=\"black\"/>\n",
       "<polygon fill=\"black\" points=\"1542.53,-541.023 1532.87,-536.667 1537.7,-546.095 1542.53,-541.023\" stroke=\"black\"/>\n",
       "</g>\n",
       "<!-- 61 -->\n",
       "<g class=\"node\" id=\"node62\"><title>61</title>\n",
       "<polygon fill=\"none\" points=\"1681.5,-536.5 1568.5,-536.5 1568.5,-468.5 1681.5,-468.5 1681.5,-536.5\" stroke=\"black\"/>\n",
       "<text font-family=\"Times New Roman,serif\" font-size=\"14.00\" text-anchor=\"middle\" x=\"1625\" y=\"-521.3\">entropy = 1.0</text>\n",
       "<text font-family=\"Times New Roman,serif\" font-size=\"14.00\" text-anchor=\"middle\" x=\"1625\" y=\"-506.3\">samples = 2</text>\n",
       "<text font-family=\"Times New Roman,serif\" font-size=\"14.00\" text-anchor=\"middle\" x=\"1625\" y=\"-491.3\">value = [0, 1, 1]</text>\n",
       "<text font-family=\"Times New Roman,serif\" font-size=\"14.00\" text-anchor=\"middle\" x=\"1625\" y=\"-476.3\">class = increased</text>\n",
       "</g>\n",
       "<!-- 59&#45;&gt;61 -->\n",
       "<g class=\"edge\" id=\"edge61\"><title>59-&gt;61</title>\n",
       "<path d=\"M1622.39,-579.907C1622.75,-569.204 1623.15,-557.615 1623.52,-546.776\" fill=\"none\" stroke=\"black\"/>\n",
       "<polygon fill=\"black\" points=\"1627.02,-546.781 1623.87,-536.667 1620.03,-546.541 1627.02,-546.781\" stroke=\"black\"/>\n",
       "</g>\n",
       "<!-- 63 -->\n",
       "<g class=\"node\" id=\"node64\"><title>63</title>\n",
       "<polygon fill=\"#8139e5\" fill-opacity=\"0.164706\" points=\"2055,-782 1909,-782 1909,-699 2055,-699 2055,-782\" stroke=\"black\"/>\n",
       "<text font-family=\"Times New Roman,serif\" font-size=\"14.00\" text-anchor=\"middle\" x=\"1982\" y=\"-766.8\">marital-status_2 &lt;= 0.5</text>\n",
       "<text font-family=\"Times New Roman,serif\" font-size=\"14.00\" text-anchor=\"middle\" x=\"1982\" y=\"-751.8\">entropy = 0.994</text>\n",
       "<text font-family=\"Times New Roman,serif\" font-size=\"14.00\" text-anchor=\"middle\" x=\"1982\" y=\"-736.8\">samples = 33</text>\n",
       "<text font-family=\"Times New Roman,serif\" font-size=\"14.00\" text-anchor=\"middle\" x=\"1982\" y=\"-721.8\">value = [0, 15, 18]</text>\n",
       "<text font-family=\"Times New Roman,serif\" font-size=\"14.00\" text-anchor=\"middle\" x=\"1982\" y=\"-706.8\">class = negative</text>\n",
       "</g>\n",
       "<!-- 62&#45;&gt;63 -->\n",
       "<g class=\"edge\" id=\"edge63\"><title>62-&gt;63</title>\n",
       "<path d=\"M1982,-817.907C1982,-809.649 1982,-800.864 1982,-792.302\" fill=\"none\" stroke=\"black\"/>\n",
       "<polygon fill=\"black\" points=\"1985.5,-792.021 1982,-782.021 1978.5,-792.021 1985.5,-792.021\" stroke=\"black\"/>\n",
       "</g>\n",
       "<!-- 76 -->\n",
       "<g class=\"node\" id=\"node77\"><title>76</title>\n",
       "<polygon fill=\"#39e581\" fill-opacity=\"0.741176\" points=\"2495.5,-782 2376.5,-782 2376.5,-699 2495.5,-699 2495.5,-782\" stroke=\"black\"/>\n",
       "<text font-family=\"Times New Roman,serif\" font-size=\"14.00\" text-anchor=\"middle\" x=\"2436\" y=\"-766.8\">age &lt;= 3.277</text>\n",
       "<text font-family=\"Times New Roman,serif\" font-size=\"14.00\" text-anchor=\"middle\" x=\"2436\" y=\"-751.8\">entropy = 0.734</text>\n",
       "<text font-family=\"Times New Roman,serif\" font-size=\"14.00\" text-anchor=\"middle\" x=\"2436\" y=\"-736.8\">samples = 68</text>\n",
       "<text font-family=\"Times New Roman,serif\" font-size=\"14.00\" text-anchor=\"middle\" x=\"2436\" y=\"-721.8\">value = [0, 54, 14]</text>\n",
       "<text font-family=\"Times New Roman,serif\" font-size=\"14.00\" text-anchor=\"middle\" x=\"2436\" y=\"-706.8\">class = increased</text>\n",
       "</g>\n",
       "<!-- 62&#45;&gt;76 -->\n",
       "<g class=\"edge\" id=\"edge76\"><title>62-&gt;76</title>\n",
       "<path d=\"M2041.82,-843.084C2125.72,-821.463 2277.98,-782.222 2366.71,-759.358\" fill=\"none\" stroke=\"black\"/>\n",
       "<polygon fill=\"black\" points=\"2367.6,-762.742 2376.41,-756.857 2365.85,-755.963 2367.6,-762.742\" stroke=\"black\"/>\n",
       "</g>\n",
       "<!-- 64 -->\n",
       "<g class=\"node\" id=\"node65\"><title>64</title>\n",
       "<polygon fill=\"#39e581\" fill-opacity=\"0.584314\" points=\"1963.5,-663 1850.5,-663 1850.5,-580 1963.5,-580 1963.5,-663\" stroke=\"black\"/>\n",
       "<text font-family=\"Times New Roman,serif\" font-size=\"14.00\" text-anchor=\"middle\" x=\"1907\" y=\"-647.8\">age &lt;= 3.98</text>\n",
       "<text font-family=\"Times New Roman,serif\" font-size=\"14.00\" text-anchor=\"middle\" x=\"1907\" y=\"-632.8\">entropy = 0.874</text>\n",
       "<text font-family=\"Times New Roman,serif\" font-size=\"14.00\" text-anchor=\"middle\" x=\"1907\" y=\"-617.8\">samples = 17</text>\n",
       "<text font-family=\"Times New Roman,serif\" font-size=\"14.00\" text-anchor=\"middle\" x=\"1907\" y=\"-602.8\">value = [0, 12, 5]</text>\n",
       "<text font-family=\"Times New Roman,serif\" font-size=\"14.00\" text-anchor=\"middle\" x=\"1907\" y=\"-587.8\">class = increased</text>\n",
       "</g>\n",
       "<!-- 63&#45;&gt;64 -->\n",
       "<g class=\"edge\" id=\"edge64\"><title>63-&gt;64</title>\n",
       "<path d=\"M1955.98,-698.907C1950.34,-690.105 1944.31,-680.703 1938.48,-671.612\" fill=\"none\" stroke=\"black\"/>\n",
       "<polygon fill=\"black\" points=\"1941.32,-669.551 1932.97,-663.021 1935.43,-673.328 1941.32,-669.551\" stroke=\"black\"/>\n",
       "</g>\n",
       "<!-- 71 -->\n",
       "<g class=\"node\" id=\"node72\"><title>71</title>\n",
       "<polygon fill=\"#8139e5\" fill-opacity=\"0.768627\" points=\"2120,-663 1994,-663 1994,-580 2120,-580 2120,-663\" stroke=\"black\"/>\n",
       "<text font-family=\"Times New Roman,serif\" font-size=\"14.00\" text-anchor=\"middle\" x=\"2057\" y=\"-647.8\">fnlwgt &lt;= 206976.0</text>\n",
       "<text font-family=\"Times New Roman,serif\" font-size=\"14.00\" text-anchor=\"middle\" x=\"2057\" y=\"-632.8\">entropy = 0.696</text>\n",
       "<text font-family=\"Times New Roman,serif\" font-size=\"14.00\" text-anchor=\"middle\" x=\"2057\" y=\"-617.8\">samples = 16</text>\n",
       "<text font-family=\"Times New Roman,serif\" font-size=\"14.00\" text-anchor=\"middle\" x=\"2057\" y=\"-602.8\">value = [0, 3, 13]</text>\n",
       "<text font-family=\"Times New Roman,serif\" font-size=\"14.00\" text-anchor=\"middle\" x=\"2057\" y=\"-587.8\">class = negative</text>\n",
       "</g>\n",
       "<!-- 63&#45;&gt;71 -->\n",
       "<g class=\"edge\" id=\"edge71\"><title>63-&gt;71</title>\n",
       "<path d=\"M2008.02,-698.907C2013.66,-690.105 2019.69,-680.703 2025.52,-671.612\" fill=\"none\" stroke=\"black\"/>\n",
       "<polygon fill=\"black\" points=\"2028.57,-673.328 2031.03,-663.021 2022.68,-669.551 2028.57,-673.328\" stroke=\"black\"/>\n",
       "</g>\n",
       "<!-- 65 -->\n",
       "<g class=\"node\" id=\"node66\"><title>65</title>\n",
       "<polygon fill=\"#39e581\" fill-opacity=\"0.909804\" points=\"1812.5,-544 1699.5,-544 1699.5,-461 1812.5,-461 1812.5,-544\" stroke=\"black\"/>\n",
       "<text font-family=\"Times New Roman,serif\" font-size=\"14.00\" text-anchor=\"middle\" x=\"1756\" y=\"-528.8\">TT4 &lt;= 5.167</text>\n",
       "<text font-family=\"Times New Roman,serif\" font-size=\"14.00\" text-anchor=\"middle\" x=\"1756\" y=\"-513.8\">entropy = 0.414</text>\n",
       "<text font-family=\"Times New Roman,serif\" font-size=\"14.00\" text-anchor=\"middle\" x=\"1756\" y=\"-498.8\">samples = 12</text>\n",
       "<text font-family=\"Times New Roman,serif\" font-size=\"14.00\" text-anchor=\"middle\" x=\"1756\" y=\"-483.8\">value = [0, 11, 1]</text>\n",
       "<text font-family=\"Times New Roman,serif\" font-size=\"14.00\" text-anchor=\"middle\" x=\"1756\" y=\"-468.8\">class = increased</text>\n",
       "</g>\n",
       "<!-- 64&#45;&gt;65 -->\n",
       "<g class=\"edge\" id=\"edge65\"><title>64-&gt;65</title>\n",
       "<path d=\"M1854.61,-579.907C1842.31,-570.379 1829.11,-560.148 1816.49,-550.37\" fill=\"none\" stroke=\"black\"/>\n",
       "<polygon fill=\"black\" points=\"1818.34,-547.379 1808.3,-544.021 1814.06,-552.912 1818.34,-547.379\" stroke=\"black\"/>\n",
       "</g>\n",
       "<!-- 68 -->\n",
       "<g class=\"node\" id=\"node69\"><title>68</title>\n",
       "<polygon fill=\"#8139e5\" fill-opacity=\"0.749020\" points=\"1983,-544 1831,-544 1831,-461 1983,-461 1983,-544\" stroke=\"black\"/>\n",
       "<text font-family=\"Times New Roman,serif\" font-size=\"14.00\" text-anchor=\"middle\" x=\"1907\" y=\"-528.8\">referral source_3 &lt;= 0.5</text>\n",
       "<text font-family=\"Times New Roman,serif\" font-size=\"14.00\" text-anchor=\"middle\" x=\"1907\" y=\"-513.8\">entropy = 0.722</text>\n",
       "<text font-family=\"Times New Roman,serif\" font-size=\"14.00\" text-anchor=\"middle\" x=\"1907\" y=\"-498.8\">samples = 5</text>\n",
       "<text font-family=\"Times New Roman,serif\" font-size=\"14.00\" text-anchor=\"middle\" x=\"1907\" y=\"-483.8\">value = [0, 1, 4]</text>\n",
       "<text font-family=\"Times New Roman,serif\" font-size=\"14.00\" text-anchor=\"middle\" x=\"1907\" y=\"-468.8\">class = negative</text>\n",
       "</g>\n",
       "<!-- 64&#45;&gt;68 -->\n",
       "<g class=\"edge\" id=\"edge68\"><title>64-&gt;68</title>\n",
       "<path d=\"M1907,-579.907C1907,-571.649 1907,-562.864 1907,-554.302\" fill=\"none\" stroke=\"black\"/>\n",
       "<polygon fill=\"black\" points=\"1910.5,-554.021 1907,-544.021 1903.5,-554.021 1910.5,-554.021\" stroke=\"black\"/>\n",
       "</g>\n",
       "<!-- 66 -->\n",
       "<g class=\"node\" id=\"node67\"><title>66</title>\n",
       "<polygon fill=\"#39e581\" points=\"1681.5,-417.5 1568.5,-417.5 1568.5,-349.5 1681.5,-349.5 1681.5,-417.5\" stroke=\"black\"/>\n",
       "<text font-family=\"Times New Roman,serif\" font-size=\"14.00\" text-anchor=\"middle\" x=\"1625\" y=\"-402.3\">entropy = 0.0</text>\n",
       "<text font-family=\"Times New Roman,serif\" font-size=\"14.00\" text-anchor=\"middle\" x=\"1625\" y=\"-387.3\">samples = 10</text>\n",
       "<text font-family=\"Times New Roman,serif\" font-size=\"14.00\" text-anchor=\"middle\" x=\"1625\" y=\"-372.3\">value = [0, 10, 0]</text>\n",
       "<text font-family=\"Times New Roman,serif\" font-size=\"14.00\" text-anchor=\"middle\" x=\"1625\" y=\"-357.3\">class = increased</text>\n",
       "</g>\n",
       "<!-- 65&#45;&gt;66 -->\n",
       "<g class=\"edge\" id=\"edge66\"><title>65-&gt;66</title>\n",
       "<path d=\"M1710.55,-460.907C1697.33,-449.101 1682.9,-436.217 1669.73,-424.45\" fill=\"none\" stroke=\"black\"/>\n",
       "<polygon fill=\"black\" points=\"1671.93,-421.718 1662.14,-417.667 1667.26,-426.939 1671.93,-421.718\" stroke=\"black\"/>\n",
       "</g>\n",
       "<!-- 67 -->\n",
       "<g class=\"node\" id=\"node68\"><title>67</title>\n",
       "<polygon fill=\"none\" points=\"1812.5,-417.5 1699.5,-417.5 1699.5,-349.5 1812.5,-349.5 1812.5,-417.5\" stroke=\"black\"/>\n",
       "<text font-family=\"Times New Roman,serif\" font-size=\"14.00\" text-anchor=\"middle\" x=\"1756\" y=\"-402.3\">entropy = 1.0</text>\n",
       "<text font-family=\"Times New Roman,serif\" font-size=\"14.00\" text-anchor=\"middle\" x=\"1756\" y=\"-387.3\">samples = 2</text>\n",
       "<text font-family=\"Times New Roman,serif\" font-size=\"14.00\" text-anchor=\"middle\" x=\"1756\" y=\"-372.3\">value = [0, 1, 1]</text>\n",
       "<text font-family=\"Times New Roman,serif\" font-size=\"14.00\" text-anchor=\"middle\" x=\"1756\" y=\"-357.3\">class = increased</text>\n",
       "</g>\n",
       "<!-- 65&#45;&gt;67 -->\n",
       "<g class=\"edge\" id=\"edge67\"><title>65-&gt;67</title>\n",
       "<path d=\"M1756,-460.907C1756,-450.204 1756,-438.615 1756,-427.776\" fill=\"none\" stroke=\"black\"/>\n",
       "<polygon fill=\"black\" points=\"1759.5,-427.667 1756,-417.667 1752.5,-427.667 1759.5,-427.667\" stroke=\"black\"/>\n",
       "</g>\n",
       "<!-- 69 -->\n",
       "<g class=\"node\" id=\"node70\"><title>69</title>\n",
       "<polygon fill=\"#8139e5\" points=\"1935.5,-417.5 1830.5,-417.5 1830.5,-349.5 1935.5,-349.5 1935.5,-417.5\" stroke=\"black\"/>\n",
       "<text font-family=\"Times New Roman,serif\" font-size=\"14.00\" text-anchor=\"middle\" x=\"1883\" y=\"-402.3\">entropy = 0.0</text>\n",
       "<text font-family=\"Times New Roman,serif\" font-size=\"14.00\" text-anchor=\"middle\" x=\"1883\" y=\"-387.3\">samples = 3</text>\n",
       "<text font-family=\"Times New Roman,serif\" font-size=\"14.00\" text-anchor=\"middle\" x=\"1883\" y=\"-372.3\">value = [0, 0, 3]</text>\n",
       "<text font-family=\"Times New Roman,serif\" font-size=\"14.00\" text-anchor=\"middle\" x=\"1883\" y=\"-357.3\">class = negative</text>\n",
       "</g>\n",
       "<!-- 68&#45;&gt;69 -->\n",
       "<g class=\"edge\" id=\"edge69\"><title>68-&gt;69</title>\n",
       "<path d=\"M1898.67,-460.907C1896.48,-450.204 1894.1,-438.615 1891.88,-427.776\" fill=\"none\" stroke=\"black\"/>\n",
       "<polygon fill=\"black\" points=\"1895.24,-426.76 1889.8,-417.667 1888.38,-428.166 1895.24,-426.76\" stroke=\"black\"/>\n",
       "</g>\n",
       "<!-- 70 -->\n",
       "<g class=\"node\" id=\"node71\"><title>70</title>\n",
       "<polygon fill=\"none\" points=\"2066.5,-417.5 1953.5,-417.5 1953.5,-349.5 2066.5,-349.5 2066.5,-417.5\" stroke=\"black\"/>\n",
       "<text font-family=\"Times New Roman,serif\" font-size=\"14.00\" text-anchor=\"middle\" x=\"2010\" y=\"-402.3\">entropy = 1.0</text>\n",
       "<text font-family=\"Times New Roman,serif\" font-size=\"14.00\" text-anchor=\"middle\" x=\"2010\" y=\"-387.3\">samples = 2</text>\n",
       "<text font-family=\"Times New Roman,serif\" font-size=\"14.00\" text-anchor=\"middle\" x=\"2010\" y=\"-372.3\">value = [0, 1, 1]</text>\n",
       "<text font-family=\"Times New Roman,serif\" font-size=\"14.00\" text-anchor=\"middle\" x=\"2010\" y=\"-357.3\">class = increased</text>\n",
       "</g>\n",
       "<!-- 68&#45;&gt;70 -->\n",
       "<g class=\"edge\" id=\"edge70\"><title>68-&gt;70</title>\n",
       "<path d=\"M1942.74,-460.907C1952.84,-449.432 1963.84,-436.938 1973.96,-425.442\" fill=\"none\" stroke=\"black\"/>\n",
       "<polygon fill=\"black\" points=\"1976.82,-427.486 1980.8,-417.667 1971.57,-422.86 1976.82,-427.486\" stroke=\"black\"/>\n",
       "</g>\n",
       "<!-- 72 -->\n",
       "<g class=\"node\" id=\"node73\"><title>72</title>\n",
       "<polygon fill=\"#8139e5\" points=\"2113,-536.5 2001,-536.5 2001,-468.5 2113,-468.5 2113,-536.5\" stroke=\"black\"/>\n",
       "<text font-family=\"Times New Roman,serif\" font-size=\"14.00\" text-anchor=\"middle\" x=\"2057\" y=\"-521.3\">entropy = 0.0</text>\n",
       "<text font-family=\"Times New Roman,serif\" font-size=\"14.00\" text-anchor=\"middle\" x=\"2057\" y=\"-506.3\">samples = 11</text>\n",
       "<text font-family=\"Times New Roman,serif\" font-size=\"14.00\" text-anchor=\"middle\" x=\"2057\" y=\"-491.3\">value = [0, 0, 11]</text>\n",
       "<text font-family=\"Times New Roman,serif\" font-size=\"14.00\" text-anchor=\"middle\" x=\"2057\" y=\"-476.3\">class = negative</text>\n",
       "</g>\n",
       "<!-- 71&#45;&gt;72 -->\n",
       "<g class=\"edge\" id=\"edge72\"><title>71-&gt;72</title>\n",
       "<path d=\"M2057,-579.907C2057,-569.204 2057,-557.615 2057,-546.776\" fill=\"none\" stroke=\"black\"/>\n",
       "<polygon fill=\"black\" points=\"2060.5,-546.667 2057,-536.667 2053.5,-546.667 2060.5,-546.667\" stroke=\"black\"/>\n",
       "</g>\n",
       "<!-- 73 -->\n",
       "<g class=\"node\" id=\"node74\"><title>73</title>\n",
       "<polygon fill=\"#39e581\" fill-opacity=\"0.333333\" points=\"2283,-544 2131,-544 2131,-461 2283,-461 2283,-544\" stroke=\"black\"/>\n",
       "<text font-family=\"Times New Roman,serif\" font-size=\"14.00\" text-anchor=\"middle\" x=\"2207\" y=\"-528.8\">referral source_3 &lt;= 0.5</text>\n",
       "<text font-family=\"Times New Roman,serif\" font-size=\"14.00\" text-anchor=\"middle\" x=\"2207\" y=\"-513.8\">entropy = 0.971</text>\n",
       "<text font-family=\"Times New Roman,serif\" font-size=\"14.00\" text-anchor=\"middle\" x=\"2207\" y=\"-498.8\">samples = 5</text>\n",
       "<text font-family=\"Times New Roman,serif\" font-size=\"14.00\" text-anchor=\"middle\" x=\"2207\" y=\"-483.8\">value = [0, 3, 2]</text>\n",
       "<text font-family=\"Times New Roman,serif\" font-size=\"14.00\" text-anchor=\"middle\" x=\"2207\" y=\"-468.8\">class = increased</text>\n",
       "</g>\n",
       "<!-- 71&#45;&gt;73 -->\n",
       "<g class=\"edge\" id=\"edge73\"><title>71-&gt;73</title>\n",
       "<path d=\"M2109.04,-579.907C2121.26,-570.379 2134.37,-560.148 2146.91,-550.37\" fill=\"none\" stroke=\"black\"/>\n",
       "<polygon fill=\"black\" points=\"2149.32,-552.931 2155.05,-544.021 2145.01,-547.411 2149.32,-552.931\" stroke=\"black\"/>\n",
       "</g>\n",
       "<!-- 74 -->\n",
       "<g class=\"node\" id=\"node75\"><title>74</title>\n",
       "<polygon fill=\"#8139e5\" points=\"2189.5,-417.5 2084.5,-417.5 2084.5,-349.5 2189.5,-349.5 2189.5,-417.5\" stroke=\"black\"/>\n",
       "<text font-family=\"Times New Roman,serif\" font-size=\"14.00\" text-anchor=\"middle\" x=\"2137\" y=\"-402.3\">entropy = 0.0</text>\n",
       "<text font-family=\"Times New Roman,serif\" font-size=\"14.00\" text-anchor=\"middle\" x=\"2137\" y=\"-387.3\">samples = 2</text>\n",
       "<text font-family=\"Times New Roman,serif\" font-size=\"14.00\" text-anchor=\"middle\" x=\"2137\" y=\"-372.3\">value = [0, 0, 2]</text>\n",
       "<text font-family=\"Times New Roman,serif\" font-size=\"14.00\" text-anchor=\"middle\" x=\"2137\" y=\"-357.3\">class = negative</text>\n",
       "</g>\n",
       "<!-- 73&#45;&gt;74 -->\n",
       "<g class=\"edge\" id=\"edge74\"><title>73-&gt;74</title>\n",
       "<path d=\"M2182.71,-460.907C2176.05,-449.763 2168.8,-437.658 2162.09,-426.439\" fill=\"none\" stroke=\"black\"/>\n",
       "<polygon fill=\"black\" points=\"2164.98,-424.451 2156.84,-417.667 2158.97,-428.045 2164.98,-424.451\" stroke=\"black\"/>\n",
       "</g>\n",
       "<!-- 75 -->\n",
       "<g class=\"node\" id=\"node76\"><title>75</title>\n",
       "<polygon fill=\"#39e581\" points=\"2320.5,-417.5 2207.5,-417.5 2207.5,-349.5 2320.5,-349.5 2320.5,-417.5\" stroke=\"black\"/>\n",
       "<text font-family=\"Times New Roman,serif\" font-size=\"14.00\" text-anchor=\"middle\" x=\"2264\" y=\"-402.3\">entropy = 0.0</text>\n",
       "<text font-family=\"Times New Roman,serif\" font-size=\"14.00\" text-anchor=\"middle\" x=\"2264\" y=\"-387.3\">samples = 3</text>\n",
       "<text font-family=\"Times New Roman,serif\" font-size=\"14.00\" text-anchor=\"middle\" x=\"2264\" y=\"-372.3\">value = [0, 3, 0]</text>\n",
       "<text font-family=\"Times New Roman,serif\" font-size=\"14.00\" text-anchor=\"middle\" x=\"2264\" y=\"-357.3\">class = increased</text>\n",
       "</g>\n",
       "<!-- 73&#45;&gt;75 -->\n",
       "<g class=\"edge\" id=\"edge75\"><title>73-&gt;75</title>\n",
       "<path d=\"M2226.78,-460.907C2232.15,-449.873 2237.99,-437.898 2243.41,-426.773\" fill=\"none\" stroke=\"black\"/>\n",
       "<polygon fill=\"black\" points=\"2246.61,-428.19 2247.84,-417.667 2240.32,-425.124 2246.61,-428.19\" stroke=\"black\"/>\n",
       "</g>\n",
       "<!-- 77 -->\n",
       "<g class=\"node\" id=\"node78\"><title>77</title>\n",
       "<polygon fill=\"#8139e5\" fill-opacity=\"0.223529\" points=\"2489,-663 2383,-663 2383,-580 2489,-580 2489,-663\" stroke=\"black\"/>\n",
       "<text font-family=\"Times New Roman,serif\" font-size=\"14.00\" text-anchor=\"middle\" x=\"2436\" y=\"-647.8\">TSH &lt;= -0.231</text>\n",
       "<text font-family=\"Times New Roman,serif\" font-size=\"14.00\" text-anchor=\"middle\" x=\"2436\" y=\"-632.8\">entropy = 0.989</text>\n",
       "<text font-family=\"Times New Roman,serif\" font-size=\"14.00\" text-anchor=\"middle\" x=\"2436\" y=\"-617.8\">samples = 16</text>\n",
       "<text font-family=\"Times New Roman,serif\" font-size=\"14.00\" text-anchor=\"middle\" x=\"2436\" y=\"-602.8\">value = [0, 7, 9]</text>\n",
       "<text font-family=\"Times New Roman,serif\" font-size=\"14.00\" text-anchor=\"middle\" x=\"2436\" y=\"-587.8\">class = negative</text>\n",
       "</g>\n",
       "<!-- 76&#45;&gt;77 -->\n",
       "<g class=\"edge\" id=\"edge77\"><title>76-&gt;77</title>\n",
       "<path d=\"M2436,-698.907C2436,-690.649 2436,-681.864 2436,-673.302\" fill=\"none\" stroke=\"black\"/>\n",
       "<polygon fill=\"black\" points=\"2439.5,-673.021 2436,-663.021 2432.5,-673.021 2439.5,-673.021\" stroke=\"black\"/>\n",
       "</g>\n",
       "<!-- 86 -->\n",
       "<g class=\"node\" id=\"node87\"><title>86</title>\n",
       "<polygon fill=\"#39e581\" fill-opacity=\"0.894118\" points=\"2762.5,-663 2649.5,-663 2649.5,-580 2762.5,-580 2762.5,-663\" stroke=\"black\"/>\n",
       "<text font-family=\"Times New Roman,serif\" font-size=\"14.00\" text-anchor=\"middle\" x=\"2706\" y=\"-647.8\">age &lt;= 3.651</text>\n",
       "<text font-family=\"Times New Roman,serif\" font-size=\"14.00\" text-anchor=\"middle\" x=\"2706\" y=\"-632.8\">entropy = 0.457</text>\n",
       "<text font-family=\"Times New Roman,serif\" font-size=\"14.00\" text-anchor=\"middle\" x=\"2706\" y=\"-617.8\">samples = 52</text>\n",
       "<text font-family=\"Times New Roman,serif\" font-size=\"14.00\" text-anchor=\"middle\" x=\"2706\" y=\"-602.8\">value = [0, 47, 5]</text>\n",
       "<text font-family=\"Times New Roman,serif\" font-size=\"14.00\" text-anchor=\"middle\" x=\"2706\" y=\"-587.8\">class = increased</text>\n",
       "</g>\n",
       "<!-- 76&#45;&gt;86 -->\n",
       "<g class=\"edge\" id=\"edge86\"><title>76-&gt;86</title>\n",
       "<path d=\"M2495.59,-713.679C2538.36,-695.145 2596,-670.168 2640.13,-651.042\" fill=\"none\" stroke=\"black\"/>\n",
       "<polygon fill=\"black\" points=\"2641.55,-654.242 2649.34,-647.054 2638.77,-647.819 2641.55,-654.242\" stroke=\"black\"/>\n",
       "</g>\n",
       "<!-- 78 -->\n",
       "<g class=\"node\" id=\"node79\"><title>78</title>\n",
       "<polygon fill=\"#8139e5\" points=\"2425.5,-536.5 2320.5,-536.5 2320.5,-468.5 2425.5,-468.5 2425.5,-536.5\" stroke=\"black\"/>\n",
       "<text font-family=\"Times New Roman,serif\" font-size=\"14.00\" text-anchor=\"middle\" x=\"2373\" y=\"-521.3\">entropy = 0.0</text>\n",
       "<text font-family=\"Times New Roman,serif\" font-size=\"14.00\" text-anchor=\"middle\" x=\"2373\" y=\"-506.3\">samples = 5</text>\n",
       "<text font-family=\"Times New Roman,serif\" font-size=\"14.00\" text-anchor=\"middle\" x=\"2373\" y=\"-491.3\">value = [0, 0, 5]</text>\n",
       "<text font-family=\"Times New Roman,serif\" font-size=\"14.00\" text-anchor=\"middle\" x=\"2373\" y=\"-476.3\">class = negative</text>\n",
       "</g>\n",
       "<!-- 77&#45;&gt;78 -->\n",
       "<g class=\"edge\" id=\"edge78\"><title>77-&gt;78</title>\n",
       "<path d=\"M2414.14,-579.907C2408.2,-568.873 2401.75,-556.898 2395.76,-545.773\" fill=\"none\" stroke=\"black\"/>\n",
       "<polygon fill=\"black\" points=\"2398.68,-543.812 2390.86,-536.667 2392.52,-547.131 2398.68,-543.812\" stroke=\"black\"/>\n",
       "</g>\n",
       "<!-- 79 -->\n",
       "<g class=\"node\" id=\"node80\"><title>79</title>\n",
       "<polygon fill=\"#39e581\" fill-opacity=\"0.427451\" points=\"2556.5,-544 2443.5,-544 2443.5,-461 2556.5,-461 2556.5,-544\" stroke=\"black\"/>\n",
       "<text font-family=\"Times New Roman,serif\" font-size=\"14.00\" text-anchor=\"middle\" x=\"2500\" y=\"-528.8\">T3 &lt;= 1.211</text>\n",
       "<text font-family=\"Times New Roman,serif\" font-size=\"14.00\" text-anchor=\"middle\" x=\"2500\" y=\"-513.8\">entropy = 0.946</text>\n",
       "<text font-family=\"Times New Roman,serif\" font-size=\"14.00\" text-anchor=\"middle\" x=\"2500\" y=\"-498.8\">samples = 11</text>\n",
       "<text font-family=\"Times New Roman,serif\" font-size=\"14.00\" text-anchor=\"middle\" x=\"2500\" y=\"-483.8\">value = [0, 7, 4]</text>\n",
       "<text font-family=\"Times New Roman,serif\" font-size=\"14.00\" text-anchor=\"middle\" x=\"2500\" y=\"-468.8\">class = increased</text>\n",
       "</g>\n",
       "<!-- 77&#45;&gt;79 -->\n",
       "<g class=\"edge\" id=\"edge79\"><title>77-&gt;79</title>\n",
       "<path d=\"M2458.2,-579.907C2462.97,-571.195 2468.06,-561.897 2472.98,-552.893\" fill=\"none\" stroke=\"black\"/>\n",
       "<polygon fill=\"black\" points=\"2476.11,-554.474 2477.83,-544.021 2469.97,-551.114 2476.11,-554.474\" stroke=\"black\"/>\n",
       "</g>\n",
       "<!-- 80 -->\n",
       "<g class=\"node\" id=\"node81\"><title>80</title>\n",
       "<polygon fill=\"#8139e5\" fill-opacity=\"0.250980\" points=\"2445,-425 2339,-425 2339,-342 2445,-342 2445,-425\" stroke=\"black\"/>\n",
       "<text font-family=\"Times New Roman,serif\" font-size=\"14.00\" text-anchor=\"middle\" x=\"2392\" y=\"-409.8\">T4U &lt;= 0.289</text>\n",
       "<text font-family=\"Times New Roman,serif\" font-size=\"14.00\" text-anchor=\"middle\" x=\"2392\" y=\"-394.8\">entropy = 0.985</text>\n",
       "<text font-family=\"Times New Roman,serif\" font-size=\"14.00\" text-anchor=\"middle\" x=\"2392\" y=\"-379.8\">samples = 7</text>\n",
       "<text font-family=\"Times New Roman,serif\" font-size=\"14.00\" text-anchor=\"middle\" x=\"2392\" y=\"-364.8\">value = [0, 3, 4]</text>\n",
       "<text font-family=\"Times New Roman,serif\" font-size=\"14.00\" text-anchor=\"middle\" x=\"2392\" y=\"-349.8\">class = negative</text>\n",
       "</g>\n",
       "<!-- 79&#45;&gt;80 -->\n",
       "<g class=\"edge\" id=\"edge80\"><title>79-&gt;80</title>\n",
       "<path d=\"M2462.53,-460.907C2454.07,-451.742 2445.01,-441.927 2436.3,-432.489\" fill=\"none\" stroke=\"black\"/>\n",
       "<polygon fill=\"black\" points=\"2438.76,-429.995 2429.4,-425.021 2433.61,-434.743 2438.76,-429.995\" stroke=\"black\"/>\n",
       "</g>\n",
       "<!-- 85 -->\n",
       "<g class=\"node\" id=\"node86\"><title>85</title>\n",
       "<polygon fill=\"#39e581\" points=\"2576.5,-417.5 2463.5,-417.5 2463.5,-349.5 2576.5,-349.5 2576.5,-417.5\" stroke=\"black\"/>\n",
       "<text font-family=\"Times New Roman,serif\" font-size=\"14.00\" text-anchor=\"middle\" x=\"2520\" y=\"-402.3\">entropy = 0.0</text>\n",
       "<text font-family=\"Times New Roman,serif\" font-size=\"14.00\" text-anchor=\"middle\" x=\"2520\" y=\"-387.3\">samples = 4</text>\n",
       "<text font-family=\"Times New Roman,serif\" font-size=\"14.00\" text-anchor=\"middle\" x=\"2520\" y=\"-372.3\">value = [0, 4, 0]</text>\n",
       "<text font-family=\"Times New Roman,serif\" font-size=\"14.00\" text-anchor=\"middle\" x=\"2520\" y=\"-357.3\">class = increased</text>\n",
       "</g>\n",
       "<!-- 79&#45;&gt;85 -->\n",
       "<g class=\"edge\" id=\"edge85\"><title>79-&gt;85</title>\n",
       "<path d=\"M2506.94,-460.907C2508.77,-450.204 2510.75,-438.615 2512.6,-427.776\" fill=\"none\" stroke=\"black\"/>\n",
       "<polygon fill=\"black\" points=\"2516.1,-428.114 2514.33,-417.667 2509.2,-426.934 2516.1,-428.114\" stroke=\"black\"/>\n",
       "</g>\n",
       "<!-- 81 -->\n",
       "<g class=\"node\" id=\"node82\"><title>81</title>\n",
       "<polygon fill=\"#39e581\" fill-opacity=\"0.666667\" points=\"2384.5,-306 2271.5,-306 2271.5,-223 2384.5,-223 2384.5,-306\" stroke=\"black\"/>\n",
       "<text font-family=\"Times New Roman,serif\" font-size=\"14.00\" text-anchor=\"middle\" x=\"2328\" y=\"-290.8\">T4U &lt;= 0.281</text>\n",
       "<text font-family=\"Times New Roman,serif\" font-size=\"14.00\" text-anchor=\"middle\" x=\"2328\" y=\"-275.8\">entropy = 0.811</text>\n",
       "<text font-family=\"Times New Roman,serif\" font-size=\"14.00\" text-anchor=\"middle\" x=\"2328\" y=\"-260.8\">samples = 4</text>\n",
       "<text font-family=\"Times New Roman,serif\" font-size=\"14.00\" text-anchor=\"middle\" x=\"2328\" y=\"-245.8\">value = [0, 3, 1]</text>\n",
       "<text font-family=\"Times New Roman,serif\" font-size=\"14.00\" text-anchor=\"middle\" x=\"2328\" y=\"-230.8\">class = increased</text>\n",
       "</g>\n",
       "<!-- 80&#45;&gt;81 -->\n",
       "<g class=\"edge\" id=\"edge81\"><title>80-&gt;81</title>\n",
       "<path d=\"M2369.8,-341.907C2365.03,-333.195 2359.94,-323.897 2355.02,-314.893\" fill=\"none\" stroke=\"black\"/>\n",
       "<polygon fill=\"black\" points=\"2358.03,-313.114 2350.17,-306.021 2351.89,-316.474 2358.03,-313.114\" stroke=\"black\"/>\n",
       "</g>\n",
       "<!-- 84 -->\n",
       "<g class=\"node\" id=\"node85\"><title>84</title>\n",
       "<polygon fill=\"#8139e5\" points=\"2507.5,-298.5 2402.5,-298.5 2402.5,-230.5 2507.5,-230.5 2507.5,-298.5\" stroke=\"black\"/>\n",
       "<text font-family=\"Times New Roman,serif\" font-size=\"14.00\" text-anchor=\"middle\" x=\"2455\" y=\"-283.3\">entropy = 0.0</text>\n",
       "<text font-family=\"Times New Roman,serif\" font-size=\"14.00\" text-anchor=\"middle\" x=\"2455\" y=\"-268.3\">samples = 3</text>\n",
       "<text font-family=\"Times New Roman,serif\" font-size=\"14.00\" text-anchor=\"middle\" x=\"2455\" y=\"-253.3\">value = [0, 0, 3]</text>\n",
       "<text font-family=\"Times New Roman,serif\" font-size=\"14.00\" text-anchor=\"middle\" x=\"2455\" y=\"-238.3\">class = negative</text>\n",
       "</g>\n",
       "<!-- 80&#45;&gt;84 -->\n",
       "<g class=\"edge\" id=\"edge84\"><title>80-&gt;84</title>\n",
       "<path d=\"M2413.86,-341.907C2419.8,-330.873 2426.25,-318.898 2432.24,-307.773\" fill=\"none\" stroke=\"black\"/>\n",
       "<polygon fill=\"black\" points=\"2435.48,-309.131 2437.14,-298.667 2429.32,-305.812 2435.48,-309.131\" stroke=\"black\"/>\n",
       "</g>\n",
       "<!-- 82 -->\n",
       "<g class=\"node\" id=\"node83\"><title>82</title>\n",
       "<polygon fill=\"#39e581\" points=\"2318.5,-179.5 2205.5,-179.5 2205.5,-111.5 2318.5,-111.5 2318.5,-179.5\" stroke=\"black\"/>\n",
       "<text font-family=\"Times New Roman,serif\" font-size=\"14.00\" text-anchor=\"middle\" x=\"2262\" y=\"-164.3\">entropy = 0.0</text>\n",
       "<text font-family=\"Times New Roman,serif\" font-size=\"14.00\" text-anchor=\"middle\" x=\"2262\" y=\"-149.3\">samples = 2</text>\n",
       "<text font-family=\"Times New Roman,serif\" font-size=\"14.00\" text-anchor=\"middle\" x=\"2262\" y=\"-134.3\">value = [0, 2, 0]</text>\n",
       "<text font-family=\"Times New Roman,serif\" font-size=\"14.00\" text-anchor=\"middle\" x=\"2262\" y=\"-119.3\">class = increased</text>\n",
       "</g>\n",
       "<!-- 81&#45;&gt;82 -->\n",
       "<g class=\"edge\" id=\"edge82\"><title>81-&gt;82</title>\n",
       "<path d=\"M2305.1,-222.907C2298.81,-211.763 2291.99,-199.658 2285.66,-188.439\" fill=\"none\" stroke=\"black\"/>\n",
       "<polygon fill=\"black\" points=\"2288.67,-186.657 2280.71,-179.667 2282.57,-190.096 2288.67,-186.657\" stroke=\"black\"/>\n",
       "</g>\n",
       "<!-- 83 -->\n",
       "<g class=\"node\" id=\"node84\"><title>83</title>\n",
       "<polygon fill=\"none\" points=\"2449.5,-179.5 2336.5,-179.5 2336.5,-111.5 2449.5,-111.5 2449.5,-179.5\" stroke=\"black\"/>\n",
       "<text font-family=\"Times New Roman,serif\" font-size=\"14.00\" text-anchor=\"middle\" x=\"2393\" y=\"-164.3\">entropy = 1.0</text>\n",
       "<text font-family=\"Times New Roman,serif\" font-size=\"14.00\" text-anchor=\"middle\" x=\"2393\" y=\"-149.3\">samples = 2</text>\n",
       "<text font-family=\"Times New Roman,serif\" font-size=\"14.00\" text-anchor=\"middle\" x=\"2393\" y=\"-134.3\">value = [0, 1, 1]</text>\n",
       "<text font-family=\"Times New Roman,serif\" font-size=\"14.00\" text-anchor=\"middle\" x=\"2393\" y=\"-119.3\">class = increased</text>\n",
       "</g>\n",
       "<!-- 81&#45;&gt;83 -->\n",
       "<g class=\"edge\" id=\"edge83\"><title>81-&gt;83</title>\n",
       "<path d=\"M2350.55,-222.907C2356.74,-211.763 2363.47,-199.658 2369.7,-188.439\" fill=\"none\" stroke=\"black\"/>\n",
       "<polygon fill=\"black\" points=\"2372.78,-190.108 2374.57,-179.667 2366.66,-186.709 2372.78,-190.108\" stroke=\"black\"/>\n",
       "</g>\n",
       "<!-- 87 -->\n",
       "<g class=\"node\" id=\"node88\"><title>87</title>\n",
       "<polygon fill=\"#39e581\" fill-opacity=\"0.972549\" points=\"2762.5,-544 2649.5,-544 2649.5,-461 2762.5,-461 2762.5,-544\" stroke=\"black\"/>\n",
       "<text font-family=\"Times New Roman,serif\" font-size=\"14.00\" text-anchor=\"middle\" x=\"2706\" y=\"-528.8\">tumor_1 &lt;= 0.5</text>\n",
       "<text font-family=\"Times New Roman,serif\" font-size=\"14.00\" text-anchor=\"middle\" x=\"2706\" y=\"-513.8\">entropy = 0.183</text>\n",
       "<text font-family=\"Times New Roman,serif\" font-size=\"14.00\" text-anchor=\"middle\" x=\"2706\" y=\"-498.8\">samples = 36</text>\n",
       "<text font-family=\"Times New Roman,serif\" font-size=\"14.00\" text-anchor=\"middle\" x=\"2706\" y=\"-483.8\">value = [0, 35, 1]</text>\n",
       "<text font-family=\"Times New Roman,serif\" font-size=\"14.00\" text-anchor=\"middle\" x=\"2706\" y=\"-468.8\">class = increased</text>\n",
       "</g>\n",
       "<!-- 86&#45;&gt;87 -->\n",
       "<g class=\"edge\" id=\"edge87\"><title>86-&gt;87</title>\n",
       "<path d=\"M2706,-579.907C2706,-571.649 2706,-562.864 2706,-554.302\" fill=\"none\" stroke=\"black\"/>\n",
       "<polygon fill=\"black\" points=\"2709.5,-554.021 2706,-544.021 2702.5,-554.021 2709.5,-554.021\" stroke=\"black\"/>\n",
       "</g>\n",
       "<!-- 90 -->\n",
       "<g class=\"node\" id=\"node91\"><title>90</title>\n",
       "<polygon fill=\"#39e581\" fill-opacity=\"0.666667\" points=\"2989,-544 2837,-544 2837,-461 2989,-461 2989,-544\" stroke=\"black\"/>\n",
       "<text font-family=\"Times New Roman,serif\" font-size=\"14.00\" text-anchor=\"middle\" x=\"2913\" y=\"-528.8\">hours-per-week &lt;= 38.0</text>\n",
       "<text font-family=\"Times New Roman,serif\" font-size=\"14.00\" text-anchor=\"middle\" x=\"2913\" y=\"-513.8\">entropy = 0.811</text>\n",
       "<text font-family=\"Times New Roman,serif\" font-size=\"14.00\" text-anchor=\"middle\" x=\"2913\" y=\"-498.8\">samples = 16</text>\n",
       "<text font-family=\"Times New Roman,serif\" font-size=\"14.00\" text-anchor=\"middle\" x=\"2913\" y=\"-483.8\">value = [0, 12, 4]</text>\n",
       "<text font-family=\"Times New Roman,serif\" font-size=\"14.00\" text-anchor=\"middle\" x=\"2913\" y=\"-468.8\">class = increased</text>\n",
       "</g>\n",
       "<!-- 86&#45;&gt;90 -->\n",
       "<g class=\"edge\" id=\"edge90\"><title>86-&gt;90</title>\n",
       "<path d=\"M2762.56,-588.529C2784.11,-576.35 2809.1,-562.225 2832.45,-549.028\" fill=\"none\" stroke=\"black\"/>\n",
       "<polygon fill=\"black\" points=\"2834.33,-551.988 2841.31,-544.021 2830.88,-545.894 2834.33,-551.988\" stroke=\"black\"/>\n",
       "</g>\n",
       "<!-- 88 -->\n",
       "<g class=\"node\" id=\"node89\"><title>88</title>\n",
       "<polygon fill=\"none\" points=\"2707.5,-417.5 2594.5,-417.5 2594.5,-349.5 2707.5,-349.5 2707.5,-417.5\" stroke=\"black\"/>\n",
       "<text font-family=\"Times New Roman,serif\" font-size=\"14.00\" text-anchor=\"middle\" x=\"2651\" y=\"-402.3\">entropy = 1.0</text>\n",
       "<text font-family=\"Times New Roman,serif\" font-size=\"14.00\" text-anchor=\"middle\" x=\"2651\" y=\"-387.3\">samples = 2</text>\n",
       "<text font-family=\"Times New Roman,serif\" font-size=\"14.00\" text-anchor=\"middle\" x=\"2651\" y=\"-372.3\">value = [0, 1, 1]</text>\n",
       "<text font-family=\"Times New Roman,serif\" font-size=\"14.00\" text-anchor=\"middle\" x=\"2651\" y=\"-357.3\">class = increased</text>\n",
       "</g>\n",
       "<!-- 87&#45;&gt;88 -->\n",
       "<g class=\"edge\" id=\"edge88\"><title>87-&gt;88</title>\n",
       "<path d=\"M2686.92,-460.907C2681.73,-449.873 2676.1,-437.898 2670.87,-426.773\" fill=\"none\" stroke=\"black\"/>\n",
       "<polygon fill=\"black\" points=\"2674.01,-425.228 2666.59,-417.667 2667.68,-428.206 2674.01,-425.228\" stroke=\"black\"/>\n",
       "</g>\n",
       "<!-- 89 -->\n",
       "<g class=\"node\" id=\"node90\"><title>89</title>\n",
       "<polygon fill=\"#39e581\" points=\"2838.5,-417.5 2725.5,-417.5 2725.5,-349.5 2838.5,-349.5 2838.5,-417.5\" stroke=\"black\"/>\n",
       "<text font-family=\"Times New Roman,serif\" font-size=\"14.00\" text-anchor=\"middle\" x=\"2782\" y=\"-402.3\">entropy = 0.0</text>\n",
       "<text font-family=\"Times New Roman,serif\" font-size=\"14.00\" text-anchor=\"middle\" x=\"2782\" y=\"-387.3\">samples = 34</text>\n",
       "<text font-family=\"Times New Roman,serif\" font-size=\"14.00\" text-anchor=\"middle\" x=\"2782\" y=\"-372.3\">value = [0, 34, 0]</text>\n",
       "<text font-family=\"Times New Roman,serif\" font-size=\"14.00\" text-anchor=\"middle\" x=\"2782\" y=\"-357.3\">class = increased</text>\n",
       "</g>\n",
       "<!-- 87&#45;&gt;89 -->\n",
       "<g class=\"edge\" id=\"edge89\"><title>87-&gt;89</title>\n",
       "<path d=\"M2732.37,-460.907C2739.68,-449.652 2747.63,-437.418 2754.97,-426.106\" fill=\"none\" stroke=\"black\"/>\n",
       "<polygon fill=\"black\" points=\"2757.94,-427.96 2760.46,-417.667 2752.07,-424.146 2757.94,-427.96\" stroke=\"black\"/>\n",
       "</g>\n",
       "<!-- 91 -->\n",
       "<g class=\"node\" id=\"node92\"><title>91</title>\n",
       "<polygon fill=\"#39e581\" points=\"2969.5,-417.5 2856.5,-417.5 2856.5,-349.5 2969.5,-349.5 2969.5,-417.5\" stroke=\"black\"/>\n",
       "<text font-family=\"Times New Roman,serif\" font-size=\"14.00\" text-anchor=\"middle\" x=\"2913\" y=\"-402.3\">entropy = 0.0</text>\n",
       "<text font-family=\"Times New Roman,serif\" font-size=\"14.00\" text-anchor=\"middle\" x=\"2913\" y=\"-387.3\">samples = 6</text>\n",
       "<text font-family=\"Times New Roman,serif\" font-size=\"14.00\" text-anchor=\"middle\" x=\"2913\" y=\"-372.3\">value = [0, 6, 0]</text>\n",
       "<text font-family=\"Times New Roman,serif\" font-size=\"14.00\" text-anchor=\"middle\" x=\"2913\" y=\"-357.3\">class = increased</text>\n",
       "</g>\n",
       "<!-- 90&#45;&gt;91 -->\n",
       "<g class=\"edge\" id=\"edge91\"><title>90-&gt;91</title>\n",
       "<path d=\"M2913,-460.907C2913,-450.204 2913,-438.615 2913,-427.776\" fill=\"none\" stroke=\"black\"/>\n",
       "<polygon fill=\"black\" points=\"2916.5,-427.667 2913,-417.667 2909.5,-427.667 2916.5,-427.667\" stroke=\"black\"/>\n",
       "</g>\n",
       "<!-- 92 -->\n",
       "<g class=\"node\" id=\"node93\"><title>92</title>\n",
       "<polygon fill=\"#39e581\" fill-opacity=\"0.333333\" points=\"3100.5,-425 2987.5,-425 2987.5,-342 3100.5,-342 3100.5,-425\" stroke=\"black\"/>\n",
       "<text font-family=\"Times New Roman,serif\" font-size=\"14.00\" text-anchor=\"middle\" x=\"3044\" y=\"-409.8\">FTI &lt;= 4.879</text>\n",
       "<text font-family=\"Times New Roman,serif\" font-size=\"14.00\" text-anchor=\"middle\" x=\"3044\" y=\"-394.8\">entropy = 0.971</text>\n",
       "<text font-family=\"Times New Roman,serif\" font-size=\"14.00\" text-anchor=\"middle\" x=\"3044\" y=\"-379.8\">samples = 10</text>\n",
       "<text font-family=\"Times New Roman,serif\" font-size=\"14.00\" text-anchor=\"middle\" x=\"3044\" y=\"-364.8\">value = [0, 6, 4]</text>\n",
       "<text font-family=\"Times New Roman,serif\" font-size=\"14.00\" text-anchor=\"middle\" x=\"3044\" y=\"-349.8\">class = increased</text>\n",
       "</g>\n",
       "<!-- 90&#45;&gt;92 -->\n",
       "<g class=\"edge\" id=\"edge92\"><title>90-&gt;92</title>\n",
       "<path d=\"M2958.45,-460.907C2968.92,-451.56 2980.14,-441.538 2990.9,-431.929\" fill=\"none\" stroke=\"black\"/>\n",
       "<polygon fill=\"black\" points=\"2993.5,-434.293 2998.63,-425.021 2988.84,-429.072 2993.5,-434.293\" stroke=\"black\"/>\n",
       "</g>\n",
       "<!-- 93 -->\n",
       "<g class=\"node\" id=\"node94\"><title>93</title>\n",
       "<polygon fill=\"#39e581\" fill-opacity=\"0.666667\" points=\"3036.5,-306 2923.5,-306 2923.5,-223 3036.5,-223 3036.5,-306\" stroke=\"black\"/>\n",
       "<text font-family=\"Times New Roman,serif\" font-size=\"14.00\" text-anchor=\"middle\" x=\"2980\" y=\"-290.8\">sex_2 &lt;= 0.5</text>\n",
       "<text font-family=\"Times New Roman,serif\" font-size=\"14.00\" text-anchor=\"middle\" x=\"2980\" y=\"-275.8\">entropy = 0.811</text>\n",
       "<text font-family=\"Times New Roman,serif\" font-size=\"14.00\" text-anchor=\"middle\" x=\"2980\" y=\"-260.8\">samples = 8</text>\n",
       "<text font-family=\"Times New Roman,serif\" font-size=\"14.00\" text-anchor=\"middle\" x=\"2980\" y=\"-245.8\">value = [0, 6, 2]</text>\n",
       "<text font-family=\"Times New Roman,serif\" font-size=\"14.00\" text-anchor=\"middle\" x=\"2980\" y=\"-230.8\">class = increased</text>\n",
       "</g>\n",
       "<!-- 92&#45;&gt;93 -->\n",
       "<g class=\"edge\" id=\"edge93\"><title>92-&gt;93</title>\n",
       "<path d=\"M3021.8,-341.907C3017.03,-333.195 3011.94,-323.897 3007.02,-314.893\" fill=\"none\" stroke=\"black\"/>\n",
       "<polygon fill=\"black\" points=\"3010.03,-313.114 3002.17,-306.021 3003.89,-316.474 3010.03,-313.114\" stroke=\"black\"/>\n",
       "</g>\n",
       "<!-- 98 -->\n",
       "<g class=\"node\" id=\"node99\"><title>98</title>\n",
       "<polygon fill=\"#8139e5\" points=\"3159.5,-298.5 3054.5,-298.5 3054.5,-230.5 3159.5,-230.5 3159.5,-298.5\" stroke=\"black\"/>\n",
       "<text font-family=\"Times New Roman,serif\" font-size=\"14.00\" text-anchor=\"middle\" x=\"3107\" y=\"-283.3\">entropy = 0.0</text>\n",
       "<text font-family=\"Times New Roman,serif\" font-size=\"14.00\" text-anchor=\"middle\" x=\"3107\" y=\"-268.3\">samples = 2</text>\n",
       "<text font-family=\"Times New Roman,serif\" font-size=\"14.00\" text-anchor=\"middle\" x=\"3107\" y=\"-253.3\">value = [0, 0, 2]</text>\n",
       "<text font-family=\"Times New Roman,serif\" font-size=\"14.00\" text-anchor=\"middle\" x=\"3107\" y=\"-238.3\">class = negative</text>\n",
       "</g>\n",
       "<!-- 92&#45;&gt;98 -->\n",
       "<g class=\"edge\" id=\"edge98\"><title>92-&gt;98</title>\n",
       "<path d=\"M3065.86,-341.907C3071.8,-330.873 3078.25,-318.898 3084.24,-307.773\" fill=\"none\" stroke=\"black\"/>\n",
       "<polygon fill=\"black\" points=\"3087.48,-309.131 3089.14,-298.667 3081.32,-305.812 3087.48,-309.131\" stroke=\"black\"/>\n",
       "</g>\n",
       "<!-- 94 -->\n",
       "<g class=\"node\" id=\"node95\"><title>94</title>\n",
       "<polygon fill=\"#39e581\" fill-opacity=\"0.333333\" points=\"2970.5,-187 2857.5,-187 2857.5,-104 2970.5,-104 2970.5,-187\" stroke=\"black\"/>\n",
       "<text font-family=\"Times New Roman,serif\" font-size=\"14.00\" text-anchor=\"middle\" x=\"2914\" y=\"-171.8\">TT4 &lt;= 4.875</text>\n",
       "<text font-family=\"Times New Roman,serif\" font-size=\"14.00\" text-anchor=\"middle\" x=\"2914\" y=\"-156.8\">entropy = 0.971</text>\n",
       "<text font-family=\"Times New Roman,serif\" font-size=\"14.00\" text-anchor=\"middle\" x=\"2914\" y=\"-141.8\">samples = 5</text>\n",
       "<text font-family=\"Times New Roman,serif\" font-size=\"14.00\" text-anchor=\"middle\" x=\"2914\" y=\"-126.8\">value = [0, 3, 2]</text>\n",
       "<text font-family=\"Times New Roman,serif\" font-size=\"14.00\" text-anchor=\"middle\" x=\"2914\" y=\"-111.8\">class = increased</text>\n",
       "</g>\n",
       "<!-- 93&#45;&gt;94 -->\n",
       "<g class=\"edge\" id=\"edge94\"><title>93-&gt;94</title>\n",
       "<path d=\"M2957.1,-222.907C2952.19,-214.195 2946.94,-204.897 2941.86,-195.893\" fill=\"none\" stroke=\"black\"/>\n",
       "<polygon fill=\"black\" points=\"2944.82,-194.011 2936.86,-187.021 2938.72,-197.45 2944.82,-194.011\" stroke=\"black\"/>\n",
       "</g>\n",
       "<!-- 97 -->\n",
       "<g class=\"node\" id=\"node98\"><title>97</title>\n",
       "<polygon fill=\"#39e581\" points=\"3101.5,-179.5 2988.5,-179.5 2988.5,-111.5 3101.5,-111.5 3101.5,-179.5\" stroke=\"black\"/>\n",
       "<text font-family=\"Times New Roman,serif\" font-size=\"14.00\" text-anchor=\"middle\" x=\"3045\" y=\"-164.3\">entropy = 0.0</text>\n",
       "<text font-family=\"Times New Roman,serif\" font-size=\"14.00\" text-anchor=\"middle\" x=\"3045\" y=\"-149.3\">samples = 3</text>\n",
       "<text font-family=\"Times New Roman,serif\" font-size=\"14.00\" text-anchor=\"middle\" x=\"3045\" y=\"-134.3\">value = [0, 3, 0]</text>\n",
       "<text font-family=\"Times New Roman,serif\" font-size=\"14.00\" text-anchor=\"middle\" x=\"3045\" y=\"-119.3\">class = increased</text>\n",
       "</g>\n",
       "<!-- 93&#45;&gt;97 -->\n",
       "<g class=\"edge\" id=\"edge97\"><title>93-&gt;97</title>\n",
       "<path d=\"M3002.55,-222.907C3008.74,-211.763 3015.47,-199.658 3021.7,-188.439\" fill=\"none\" stroke=\"black\"/>\n",
       "<polygon fill=\"black\" points=\"3024.78,-190.108 3026.57,-179.667 3018.66,-186.709 3024.78,-190.108\" stroke=\"black\"/>\n",
       "</g>\n",
       "<!-- 95 -->\n",
       "<g class=\"node\" id=\"node96\"><title>95</title>\n",
       "<polygon fill=\"#39e581\" points=\"2906.5,-68 2793.5,-68 2793.5,-0 2906.5,-0 2906.5,-68\" stroke=\"black\"/>\n",
       "<text font-family=\"Times New Roman,serif\" font-size=\"14.00\" text-anchor=\"middle\" x=\"2850\" y=\"-52.8\">entropy = 0.0</text>\n",
       "<text font-family=\"Times New Roman,serif\" font-size=\"14.00\" text-anchor=\"middle\" x=\"2850\" y=\"-37.8\">samples = 2</text>\n",
       "<text font-family=\"Times New Roman,serif\" font-size=\"14.00\" text-anchor=\"middle\" x=\"2850\" y=\"-22.8\">value = [0, 2, 0]</text>\n",
       "<text font-family=\"Times New Roman,serif\" font-size=\"14.00\" text-anchor=\"middle\" x=\"2850\" y=\"-7.8\">class = increased</text>\n",
       "</g>\n",
       "<!-- 94&#45;&gt;95 -->\n",
       "<g class=\"edge\" id=\"edge95\"><title>94-&gt;95</title>\n",
       "<path d=\"M2890.17,-103.726C2885.1,-95.0615 2879.75,-85.8962 2874.65,-77.1802\" fill=\"none\" stroke=\"black\"/>\n",
       "<polygon fill=\"black\" points=\"2877.53,-75.167 2869.46,-68.2996 2871.49,-78.6992 2877.53,-75.167\" stroke=\"black\"/>\n",
       "</g>\n",
       "<!-- 96 -->\n",
       "<g class=\"node\" id=\"node97\"><title>96</title>\n",
       "<polygon fill=\"#8139e5\" fill-opacity=\"0.498039\" points=\"3031,-68 2925,-68 2925,-0 3031,-0 3031,-68\" stroke=\"black\"/>\n",
       "<text font-family=\"Times New Roman,serif\" font-size=\"14.00\" text-anchor=\"middle\" x=\"2978\" y=\"-52.8\">entropy = 0.918</text>\n",
       "<text font-family=\"Times New Roman,serif\" font-size=\"14.00\" text-anchor=\"middle\" x=\"2978\" y=\"-37.8\">samples = 3</text>\n",
       "<text font-family=\"Times New Roman,serif\" font-size=\"14.00\" text-anchor=\"middle\" x=\"2978\" y=\"-22.8\">value = [0, 1, 2]</text>\n",
       "<text font-family=\"Times New Roman,serif\" font-size=\"14.00\" text-anchor=\"middle\" x=\"2978\" y=\"-7.8\">class = negative</text>\n",
       "</g>\n",
       "<!-- 94&#45;&gt;96 -->\n",
       "<g class=\"edge\" id=\"edge96\"><title>94-&gt;96</title>\n",
       "<path d=\"M2937.83,-103.726C2942.9,-95.0615 2948.25,-85.8962 2953.35,-77.1802\" fill=\"none\" stroke=\"black\"/>\n",
       "<polygon fill=\"black\" points=\"2956.51,-78.6992 2958.54,-68.2996 2950.47,-75.167 2956.51,-78.6992\" stroke=\"black\"/>\n",
       "</g>\n",
       "</g>\n",
       "</svg>"
      ],
      "text/plain": [
       "<IPython.core.display.SVG object>"
      ]
     },
     "metadata": {},
     "output_type": "display_data"
    },
    {
     "data": {
      "text/html": [
       "<style>svg{width:50% !important;height:50% !important;}</style>"
      ],
      "text/plain": [
       "<IPython.core.display.HTML object>"
      ]
     },
     "execution_count": 235,
     "metadata": {},
     "output_type": "execute_result"
    }
   ],
   "source": [
    "graph = Source(export_graphviz(clf_d_b, \n",
    "                               out_file=None,\n",
    "                               feature_names=new_cols,\n",
    "                               class_names=['decreased','increased','negative'],\n",
    "                               filled = True))\n",
    "\n",
    "display(SVG(graph.pipe(format='svg')))\n",
    "\n",
    "from IPython.display import HTML # toto je tu len pre to aby sa mi obrazok zmestil na obrazovku\n",
    "style = \"<style>svg{width:50% !important;height:50% !important;}</style>\"\n",
    "HTML(style)"
   ]
  },
  {
   "cell_type": "markdown",
   "metadata": {},
   "source": [
    "Ukazalo sa ze pri trenovani krizova validacia vykazovala dobre vysledky na konfiguracii hyperparametrov, ktore sme definovali pomocou random serach, ale pri teste na validacnych datach sa ukazalo ze vysledky su horsie a zaroven su horsie ako nas prvy jedniduchy model s maximalnou hlbkou 4. Vysledok moze byt ovplyvneny tym ze model je pretrenovany alebo random search nemusi najst najlepsie riesenie, pretoze nahodne prehladava priestor konfiguracii."
   ]
  },
  {
   "cell_type": "markdown",
   "metadata": {},
   "source": [
    "### Pozorovanie dalsich modelov"
   ]
  },
  {
   "cell_type": "markdown",
   "metadata": {},
   "source": [
    "##### Random forest"
   ]
  },
  {
   "cell_type": "code",
   "execution_count": 43,
   "metadata": {},
   "outputs": [],
   "source": [
    "from sklearn.ensemble import RandomForestClassifier"
   ]
  },
  {
   "cell_type": "code",
   "execution_count": 44,
   "metadata": {},
   "outputs": [],
   "source": [
    "clf_rf = RandomForestClassifier(n_estimators = 500, max_depth = 7, random_state=8)"
   ]
  },
  {
   "cell_type": "code",
   "execution_count": 45,
   "metadata": {},
   "outputs": [
    {
     "data": {
      "text/plain": [
       "RandomForestClassifier(bootstrap=True, class_weight=None, criterion='gini',\n",
       "            max_depth=7, max_features='auto', max_leaf_nodes=None,\n",
       "            min_impurity_decrease=0.0, min_impurity_split=None,\n",
       "            min_samples_leaf=1, min_samples_split=2,\n",
       "            min_weight_fraction_leaf=0.0, n_estimators=500, n_jobs=None,\n",
       "            oob_score=False, random_state=8, verbose=0, warm_start=False)"
      ]
     },
     "execution_count": 45,
     "metadata": {},
     "output_type": "execute_result"
    }
   ],
   "source": [
    "clf_rf.fit(X_train_dt[X_train_dt.columns.difference(['class'])],X_train_dt['class'])"
   ]
  },
  {
   "cell_type": "code",
   "execution_count": 39,
   "metadata": {},
   "outputs": [],
   "source": [
    "pred = clf_rf.predict(X_valid_dt[X_valid_dt.columns.difference(['class'])])\n",
    "evaluate(pred,X_valid_dt['class'])\n"
   ]
  },
  {
   "cell_type": "markdown",
   "metadata": {},
   "source": [
    "#### Logistic regression"
   ]
  },
  {
   "cell_type": "code",
   "execution_count": 263,
   "metadata": {},
   "outputs": [],
   "source": [
    "from sklearn.linear_model import LogisticRegression"
   ]
  },
  {
   "cell_type": "code",
   "execution_count": 264,
   "metadata": {},
   "outputs": [],
   "source": [
    "clf_lr = LogisticRegression()"
   ]
  },
  {
   "cell_type": "code",
   "execution_count": 265,
   "metadata": {},
   "outputs": [
    {
     "name": "stderr",
     "output_type": "stream",
     "text": [
      "C:\\Anaconda3\\lib\\site-packages\\sklearn\\linear_model\\logistic.py:432: FutureWarning: Default solver will be changed to 'lbfgs' in 0.22. Specify a solver to silence this warning.\n",
      "  FutureWarning)\n",
      "C:\\Anaconda3\\lib\\site-packages\\sklearn\\linear_model\\logistic.py:459: FutureWarning: Default multi_class will be changed to 'auto' in 0.22. Specify the multi_class option to silence this warning.\n",
      "  \"this warning.\", FutureWarning)\n"
     ]
    },
    {
     "data": {
      "text/plain": [
       "LogisticRegression(C=1.0, class_weight=None, dual=False, fit_intercept=True,\n",
       "          intercept_scaling=1, max_iter=100, multi_class='warn',\n",
       "          n_jobs=None, penalty='l2', random_state=None, solver='warn',\n",
       "          tol=0.0001, verbose=0, warm_start=False)"
      ]
     },
     "execution_count": 265,
     "metadata": {},
     "output_type": "execute_result"
    }
   ],
   "source": [
    "clf_lr.fit(X_train_dt[X_train_dt.columns.difference(['class'])],X_train_dt['class'])"
   ]
  },
  {
   "cell_type": "code",
   "execution_count": 268,
   "metadata": {},
   "outputs": [
    {
     "name": "stdout",
     "output_type": "stream",
     "text": [
      "accuracy:  0.969135802469\n",
      "f1_micro:  0.969135802469\n",
      "f1_macro:  0.328108672936\n",
      "recall:  0.969135802469\n"
     ]
    },
    {
     "name": "stderr",
     "output_type": "stream",
     "text": [
      "C:\\Anaconda3\\lib\\site-packages\\sklearn\\metrics\\classification.py:1145: UndefinedMetricWarning: F-score is ill-defined and being set to 0.0 in labels with no true samples.\n",
      "  'recall', 'true', average, warn_for)\n"
     ]
    }
   ],
   "source": [
    "pred = clf_lr.predict(X_valid_dt[X_valid_dt.columns.difference(['class'])])\n",
    "evaluate( pred, X_valid_dt['class'])"
   ]
  },
  {
   "cell_type": "markdown",
   "metadata": {},
   "source": [
    "### Predikcia na testovacej sade"
   ]
  },
  {
   "cell_type": "markdown",
   "metadata": {},
   "source": [
    "#### Predspracovanie dat"
   ]
  },
  {
   "cell_type": "code",
   "execution_count": 278,
   "metadata": {},
   "outputs": [
    {
     "data": {
      "text/html": [
       "<div>\n",
       "<style scoped>\n",
       "    .dataframe tbody tr th:only-of-type {\n",
       "        vertical-align: middle;\n",
       "    }\n",
       "\n",
       "    .dataframe tbody tr th {\n",
       "        vertical-align: top;\n",
       "    }\n",
       "\n",
       "    .dataframe thead th {\n",
       "        text-align: right;\n",
       "    }\n",
       "</style>\n",
       "<table border=\"1\" class=\"dataframe\">\n",
       "  <thead>\n",
       "    <tr style=\"text-align: right;\">\n",
       "      <th></th>\n",
       "      <th>Unnamed: 0_x</th>\n",
       "      <th>name</th>\n",
       "      <th>address</th>\n",
       "      <th>age</th>\n",
       "      <th>sex</th>\n",
       "      <th>date_of_birth</th>\n",
       "      <th>FTI</th>\n",
       "      <th>FTI measured</th>\n",
       "      <th>I131 treatment</th>\n",
       "      <th>T3</th>\n",
       "      <th>T3 measured</th>\n",
       "      <th>T4U</th>\n",
       "      <th>T4U measured</th>\n",
       "      <th>TBG</th>\n",
       "      <th>TBG measured</th>\n",
       "      <th>TSH</th>\n",
       "      <th>TSH measured</th>\n",
       "      <th>TT4</th>\n",
       "      <th>TT4 measured</th>\n",
       "      <th>Unnamed: 0_y</th>\n",
       "      <th>capital-gain</th>\n",
       "      <th>capital-loss</th>\n",
       "      <th>education-num</th>\n",
       "      <th>fnlwgt</th>\n",
       "      <th>goitre</th>\n",
       "      <th>hours-per-week</th>\n",
       "      <th>hypopituitary</th>\n",
       "      <th>lithium</th>\n",
       "      <th>occupation</th>\n",
       "      <th>on antithyroid medication</th>\n",
       "      <th>on thyroxine</th>\n",
       "      <th>personal_info</th>\n",
       "      <th>pregnant</th>\n",
       "      <th>psych</th>\n",
       "      <th>query hyperthyroid</th>\n",
       "      <th>query hypothyroid</th>\n",
       "      <th>query on thyroxine</th>\n",
       "      <th>referral source</th>\n",
       "      <th>sick</th>\n",
       "      <th>thyroid surgery</th>\n",
       "      <th>tumor</th>\n",
       "      <th>workclass</th>\n",
       "    </tr>\n",
       "  </thead>\n",
       "  <tbody>\n",
       "    <tr>\n",
       "      <th>0</th>\n",
       "      <td>0</td>\n",
       "      <td>Alfredo Abels</td>\n",
       "      <td>39033 Peterson Ways Suite 476\\nJustinmouth, AL...</td>\n",
       "      <td>13</td>\n",
       "      <td>M</td>\n",
       "      <td>2005-05-22</td>\n",
       "      <td>100</td>\n",
       "      <td>t</td>\n",
       "      <td>f</td>\n",
       "      <td>2.8</td>\n",
       "      <td>t</td>\n",
       "      <td>1.1</td>\n",
       "      <td>t</td>\n",
       "      <td>?</td>\n",
       "      <td>f</td>\n",
       "      <td>2.7</td>\n",
       "      <td>t</td>\n",
       "      <td>110.0</td>\n",
       "      <td>t</td>\n",
       "      <td>526</td>\n",
       "      <td>0.0</td>\n",
       "      <td>0.0</td>\n",
       "      <td>10.0</td>\n",
       "      <td>176544.0</td>\n",
       "      <td>f</td>\n",
       "      <td>48.0</td>\n",
       "      <td>f</td>\n",
       "      <td>f</td>\n",
       "      <td>Other-service</td>\n",
       "      <td>f</td>\n",
       "      <td>f</td>\n",
       "      <td>White|United-States\\nSome-college -- Never-mar...</td>\n",
       "      <td>f</td>\n",
       "      <td>f</td>\n",
       "      <td>f</td>\n",
       "      <td>f</td>\n",
       "      <td>f</td>\n",
       "      <td>other</td>\n",
       "      <td>f</td>\n",
       "      <td>f</td>\n",
       "      <td>f</td>\n",
       "      <td>Private</td>\n",
       "    </tr>\n",
       "  </tbody>\n",
       "</table>\n",
       "</div>"
      ],
      "text/plain": [
       "   Unnamed: 0_x           name  \\\n",
       "0             0  Alfredo Abels   \n",
       "\n",
       "                                             address  age sex date_of_birth  \\\n",
       "0  39033 Peterson Ways Suite 476\\nJustinmouth, AL...   13   M    2005-05-22   \n",
       "\n",
       "   FTI FTI measured I131 treatment   T3 T3 measured  T4U T4U measured TBG  \\\n",
       "0  100            t              f  2.8           t  1.1            t   ?   \n",
       "\n",
       "  TBG measured  TSH TSH measured    TT4 TT4 measured  Unnamed: 0_y  \\\n",
       "0            f  2.7            t  110.0            t           526   \n",
       "\n",
       "   capital-gain  capital-loss  education-num    fnlwgt goitre  hours-per-week  \\\n",
       "0           0.0           0.0           10.0  176544.0      f            48.0   \n",
       "\n",
       "  hypopituitary lithium      occupation on antithyroid medication  \\\n",
       "0             f       f   Other-service                         f   \n",
       "\n",
       "  on thyroxine                                      personal_info pregnant  \\\n",
       "0            f  White|United-States\\nSome-college -- Never-mar...        f   \n",
       "\n",
       "  psych query hyperthyroid query hypothyroid query on thyroxine  \\\n",
       "0     f                  f                 f                  f   \n",
       "\n",
       "  referral source sick thyroid surgery tumor workclass  \n",
       "0           other    f               f     f   Private  "
      ]
     },
     "execution_count": 278,
     "metadata": {},
     "output_type": "execute_result"
    }
   ],
   "source": [
    "result_test.head(1)\n"
   ]
  },
  {
   "cell_type": "markdown",
   "metadata": {},
   "source": [
    "Stlpec personal info je novy oproti povodnemu trenovaciemu datasetu a obsahuje stlpce **'race', 'native-country','education','marital-status','relationship'** ktore potrebujeme extrahovat. Taktiež jednym z rozdielov oproti pôvodnemu datasetu je, že neobsahuje stlpec **medical_info** a vsetky jeho polozky sa uz nachadzaju v samostatnych stlpcoch. Na extrakciu personal-info potrebujeme novu class v nasej pipeline, ktora rozdeli polozku na viacero stlpcov. (doteraz sme pracovali len s medical_info, ktora bola vo formate json a nie retazca).\n",
    "\n",
    "Extrahovanie medical_info a personal_info z jednotlivych datasetov vykoname zvlast na datasetoch, este pred spolocnym predspracovanim"
   ]
  },
  {
   "cell_type": "code",
   "execution_count": 92,
   "metadata": {},
   "outputs": [],
   "source": [
    "personal_extraction = our_ppl.ExtractionString(column = 'personal_info')"
   ]
  },
  {
   "cell_type": "code",
   "execution_count": 93,
   "metadata": {},
   "outputs": [],
   "source": [
    "medical_extraction = our_ppl.Extraction('medical_info')"
   ]
  },
  {
   "cell_type": "code",
   "execution_count": 94,
   "metadata": {},
   "outputs": [
    {
     "name": "stdout",
     "output_type": "stream",
     "text": [
      "-- Extraction of  personal_info\n",
      "-- Extraction of  medical_info\n"
     ]
    },
    {
     "data": {
      "text/plain": [
       "<pipelines_classes.Extraction at 0x15283cf7668>"
      ]
     },
     "execution_count": 94,
     "metadata": {},
     "output_type": "execute_result"
    }
   ],
   "source": [
    "personal_extraction.fit(result_test)\n",
    "medical_extraction.fit(result_train)"
   ]
  },
  {
   "cell_type": "code",
   "execution_count": 95,
   "metadata": {},
   "outputs": [],
   "source": [
    "result_tt  =  personal_extraction.transform(result_test)\n",
    "result_tr  =  medical_extraction.transform(result_train) "
   ]
  },
  {
   "cell_type": "code",
   "execution_count": 100,
   "metadata": {},
   "outputs": [],
   "source": [
    "columns_dt.remove('class')"
   ]
  },
  {
   "cell_type": "markdown",
   "metadata": {},
   "source": [
    "Teraz uz mozeme dalej predspracovat data rovnakym sposobom, ako predtym"
   ]
  },
  {
   "cell_type": "code",
   "execution_count": 102,
   "metadata": {},
   "outputs": [
    {
     "name": "stdout",
     "output_type": "stream",
     "text": [
      "-- Transform object to numeric for:  ['FTI', 'T3', 'T4U', 'TSH', 'TT4', 'age', 'capital-gain', 'capital-loss', 'education-num', 'fnlwgt', 'hours-per-week']\n",
      "-- Correction of  ['workclass']\n",
      "-- Replacing: ** f ** to:  f  , for:  ['on antithyroid medication', 'query hyperthyroid', 'FTI measured', 'lithium', 'tumor', 'sick', 'TT4 measured', 'goitre', 'hypopituitary', 'TBG measured', 'TSH measured', 'T3 measured', 'on thyroxine', 'query on thyroxine', 'psych', 'I131 treatment', 'query hypothyroid', 'T4U measured', 'thyroid surgery', 'pregnant']\n",
      "-- Replacing: ** t ** to:  t  , for:  ['on antithyroid medication', 'query hyperthyroid', 'FTI measured', 'lithium', 'tumor', 'sick', 'TT4 measured', 'goitre', 'hypopituitary', 'TBG measured', 'TSH measured', 'T3 measured', 'on thyroxine', 'query on thyroxine', 'psych', 'I131 treatment', 'query hypothyroid', 'T4U measured', 'thyroid surgery', 'pregnant']\n",
      "-- Replacing: **  Private ** to:  Private  , for:  ['workclass']\n",
      "-- Replacing: ** ? ** to:  nan  , for:  ['marital-status', 'education', 'native-country', 'occupation', 'race', 'referral source', 'relationship', 'sex', 'sick', 'tumor', 'workclass', 'pregnant', 'thyroid surgery', 'I131 treatment', 'psych', 'query hypothyroid']\n",
      "-- Replace outliers with percentile for:  ['TT4', 'T4U', 'TSH', 'T3', 'FTI', 'age']\n",
      "pocet hodnot: 1464/2237, TT4(neg_mean_squared_error): -0.00474533776749\n",
      "pocet hodnot: 1464/2237, T4U(neg_mean_squared_error): -0.00396126538397\n",
      "pocet hodnot: 1464/2237, TSH(neg_mean_squared_error): -1.90871427118\n",
      "pocet hodnot: 1464/2237, T3(neg_mean_squared_error): -0.0763957296167\n",
      "pocet hodnot: 1464/2237, FTI(neg_mean_squared_error): -0.00433136548521\n",
      "pocet hodnot: 1464/2237, age(neg_mean_squared_error): -0.150135860699\n",
      "transform  ['TT4', 'T4U', 'TSH', 'T3', 'FTI', 'age']\n",
      "pocet predikovanych pre  TT4 :  360\n",
      "pocet predikovanych pre  T4U :  235\n",
      "pocet predikovanych pre  TSH :  232\n",
      "pocet predikovanych pre  T3 :  468\n",
      "pocet predikovanych pre  FTI :  235\n",
      "pocet predikovanych pre  age :  1\n",
      "pocet hodnot: 2000/2237, occupation(accuracy score): 0.266154755394\n",
      "pocet hodnot: 2000/2237, sex(accuracy score): 0.803504525028\n"
     ]
    },
    {
     "name": "stderr",
     "output_type": "stream",
     "text": [
      "C:\\Anaconda3\\lib\\site-packages\\sklearn\\model_selection\\_split.py:626: Warning: The least populated class in y has only 1 members, which is too few. The minimum number of members in any class cannot be less than n_splits=5.\n",
      "  % (min_groups, self.n_splits)), Warning)\n"
     ]
    },
    {
     "name": "stdout",
     "output_type": "stream",
     "text": [
      "pocet hodnot: 2000/2237, workclass(accuracy score): 0.749998054226\n",
      "pocet hodnot: 2000/2237, tumor(accuracy score): 0.975001128132\n",
      "transform  ['occupation', 'sex', 'workclass', 'tumor']\n",
      "pocet predikovanych pre  occupation :  151\n",
      "pocet predikovanych pre  sex :  88\n",
      "pocet predikovanych pre  workclass :  152\n",
      "pocet predikovanych pre  tumor :  1\n",
      "transform  ['TT4', 'T4U', 'TSH', 'T3', 'FTI', 'age']\n",
      "pocet predikovanych pre  TT4 :  360\n",
      "pocet predikovanych pre  T4U :  235\n",
      "pocet predikovanych pre  TSH :  232\n",
      "pocet predikovanych pre  T3 :  468\n",
      "pocet predikovanych pre  FTI :  235\n",
      "pocet predikovanych pre  age :  1\n",
      "transform  ['occupation', 'sex', 'workclass', 'tumor']\n",
      "pocet predikovanych pre  occupation :  151\n",
      "pocet predikovanych pre  sex :  88\n",
      "pocet predikovanych pre  workclass :  152\n",
      "pocet predikovanych pre  tumor :  1\n",
      "transform  ['TT4', 'T4U', 'TSH', 'T3', 'FTI', 'age']\n",
      "pocet predikovanych pre  TT4 :  36\n",
      "pocet predikovanych pre  T4U :  62\n",
      "pocet predikovanych pre  TSH :  52\n",
      "pocet predikovanych pre  T3 :  118\n",
      "pocet predikovanych pre  FTI :  62\n",
      "pocet predikovanych pre  age :  0\n",
      "transform  ['occupation', 'sex', 'workclass', 'tumor']\n",
      "pocet predikovanych pre  occupation :  49\n",
      "pocet predikovanych pre  sex :  22\n",
      "pocet predikovanych pre  workclass :  50\n",
      "pocet predikovanych pre  tumor :  0\n"
     ]
    }
   ],
   "source": [
    "encoder = ce.OneHotEncoder()\n",
    "\n",
    "ppl_fin = Pipeline([\n",
    "    \n",
    "    ('AllNumObjectstoNumeric', our_ppl.ObjectToNumeric(all_numeric_columns)),\n",
    "    ('StringCorrection',our_ppl.StringCorrection(['workclass'])),\n",
    "    \n",
    "    ('ReplaceFalseCorrect',our_ppl.StringReplacer(true_false_cols,'f','f')),\n",
    "    ('ReplaceTrueCorrect',our_ppl.StringReplacer(true_false_cols,'t','t')),\n",
    "    ('ReplaceWS',our_ppl.StringReplacer(['workclass'],' Private','Private')),\n",
    "  \n",
    "    ('FindNans', our_ppl.StringReplacer(all_categorical_columns, '?', np.NaN)),\n",
    "    \n",
    "    # normalizacia\n",
    "    ('Ln', our_ppl.LogNormalization(numeric_columns)),\n",
    "    # odstranenie outlierov\n",
    "    ('ReplaceExtremes',our_ppl.ReplaceOutliersWithPercentile(numeric_columns)),\n",
    "    # doplnenie prazdnych hodnot modelmi\n",
    "    ('ReplaceNumericNansWithModel',our_ppl.ReplaceNanWithModel(numeric_columns, LinearRegression(), numeric_columns)),\n",
    "    ('ReplaceCategoricalNansWithModel', our_ppl.ReplaceCategoryNanWithModel(['occupation','sex','workclass','tumor'],\n",
    "                                                               ['occupation','sex','workclass', 'tumor', 'marital-status'],\n",
    "                                                                model_categorical, encoder)),\n",
    "    # doplnenie prazdnych hodnot v pripade velkeho poctu kategorii, ktore predpokladame, ze z pohladu analyzy nezohravaju az taku dolezitu ulohu\n",
    "    ('ReplaceWithMostFrequent', our_ppl.ReplaceMostFrequent(col_names=['native-country','FTI measured', 'relationship',\n",
    "                                                               'query hypothyroid','hours-per-week'])),\n",
    "    (\"SelectColumns\",our_ppl.Selector(columns = columns_dt)),\n",
    "    (\"EncodeCatego\",ce.OneHotEncoder(cols = ctg_to_encode))\n",
    "    \n",
    "])\n",
    "\n",
    "\n",
    "model =ppl_fin.fit(result_tr)\n",
    "X_train = ppl_fin.transform(result_tr)\n",
    "X_test = ppl_fin.transform(result_tt)"
   ]
  },
  {
   "cell_type": "markdown",
   "metadata": {},
   "source": [
    "Napiseme funkciu na exportovanie vysledkov"
   ]
  },
  {
   "cell_type": "code",
   "execution_count": 122,
   "metadata": {},
   "outputs": [],
   "source": [
    "def extract_results(pred, filename):\n",
    "    words = {'negative': 'negative','increased': 'increased binding protein','decreased':'decreased binding protein'}\n",
    "    answer = list(map(lambda x: kk[x]  ,pred))  \n",
    "    final = pd.DataFrame(pred,columns = ['Predicted'])\n",
    "    final.index.name = \"Id\"\n",
    "    final.to_csv(filename)\n",
    "    "
   ]
  },
  {
   "cell_type": "markdown",
   "metadata": {},
   "source": [
    "##### Manualna predikcia\n",
    "\n",
    "Ako prve skusime nasu manualnu predikciu"
   ]
  },
  {
   "cell_type": "code",
   "execution_count": 177,
   "metadata": {},
   "outputs": [],
   "source": [
    "pred = manual_features(X_test)"
   ]
  },
  {
   "cell_type": "code",
   "execution_count": 178,
   "metadata": {},
   "outputs": [
    {
     "name": "stdout",
     "output_type": "stream",
     "text": [
      "accuracy:  0.969135802469\n",
      "              precision    recall  f1-score   support\n",
      "\n",
      "   decreased       0.80      0.36      0.50        11\n",
      "   increased       0.56      0.56      0.56        25\n",
      "    negative       0.98      0.99      0.98       936\n",
      "\n",
      "   micro avg       0.97      0.97      0.97       972\n",
      "   macro avg       0.78      0.64      0.68       972\n",
      "weighted avg       0.97      0.97      0.97       972\n",
      "\n"
     ]
    }
   ],
   "source": [
    "evaluate(manual_features(X_valid_dt[X_test.columns]),X_valid_dt['class'])"
   ]
  },
  {
   "cell_type": "code",
   "execution_count": 114,
   "metadata": {},
   "outputs": [],
   "source": [
    "extract_results(pred, 'manual.csv')"
   ]
  },
  {
   "cell_type": "code",
   "execution_count": null,
   "metadata": {},
   "outputs": [],
   "source": []
  },
  {
   "cell_type": "markdown",
   "metadata": {},
   "source": [
    "Nasa manualna predikcia dosiahla mean f-score na kaggle **0.94674**."
   ]
  },
  {
   "cell_type": "markdown",
   "metadata": {},
   "source": [
    "##### Decision tree\n",
    "\n",
    "Skusime predikciu pomocou decision tree s konfiguraciou, ktora sa javila ako vhodna na trenovacich datach"
   ]
  },
  {
   "cell_type": "code",
   "execution_count": 135,
   "metadata": {},
   "outputs": [],
   "source": [
    "clf = DecisionTreeClassifier(max_depth = 4, criterion = 'entropy', min_samples_leaf = 2, splitter = 'best')"
   ]
  },
  {
   "cell_type": "code",
   "execution_count": 136,
   "metadata": {},
   "outputs": [
    {
     "data": {
      "text/plain": [
       "DecisionTreeClassifier(class_weight=None, criterion='entropy', max_depth=4,\n",
       "            max_features=None, max_leaf_nodes=None,\n",
       "            min_impurity_decrease=0.0, min_impurity_split=None,\n",
       "            min_samples_leaf=2, min_samples_split=2,\n",
       "            min_weight_fraction_leaf=0.0, presort=False, random_state=None,\n",
       "            splitter='best')"
      ]
     },
     "execution_count": 136,
     "metadata": {},
     "output_type": "execute_result"
    }
   ],
   "source": [
    "clf.fit(X_train, X_train_dt['class'])"
   ]
  },
  {
   "cell_type": "code",
   "execution_count": 137,
   "metadata": {},
   "outputs": [],
   "source": [
    "pred = clf.predict(X_test)"
   ]
  },
  {
   "cell_type": "code",
   "execution_count": 138,
   "metadata": {},
   "outputs": [
    {
     "name": "stdout",
     "output_type": "stream",
     "text": [
      "accuracy:  0.968106995885\n",
      "f1_micro:  0.968106995885\n",
      "f1_macro:  0.506417064967\n",
      "f1_weighted:  0.969254500414\n"
     ]
    },
    {
     "name": "stderr",
     "output_type": "stream",
     "text": [
      "C:\\Anaconda3\\lib\\site-packages\\sklearn\\metrics\\classification.py:1145: UndefinedMetricWarning: F-score is ill-defined and being set to 0.0 in labels with no true samples.\n",
      "  'recall', 'true', average, warn_for)\n",
      "C:\\Anaconda3\\lib\\site-packages\\sklearn\\metrics\\classification.py:1145: UndefinedMetricWarning: F-score is ill-defined and being set to 0.0 in labels with no true samples.\n",
      "  'recall', 'true', average, warn_for)\n"
     ]
    }
   ],
   "source": [
    "evaluate(clf.predict(X_valid_dt[X_test.columns]),X_valid_dt['class'])"
   ]
  },
  {
   "cell_type": "code",
   "execution_count": null,
   "metadata": {},
   "outputs": [],
   "source": [
    "extract_results(pred, 'dt1.csv')"
   ]
  },
  {
   "cell_type": "markdown",
   "metadata": {},
   "source": [
    "Tento model dosiahol na kaggle mean f-score **0.92307** "
   ]
  },
  {
   "cell_type": "markdown",
   "metadata": {},
   "source": [
    "##### Random forest"
   ]
  },
  {
   "cell_type": "code",
   "execution_count": 156,
   "metadata": {},
   "outputs": [],
   "source": [
    "clf_rf = RandomForestClassifier(n_estimators = 500, max_depth = 10, random_state=8)"
   ]
  },
  {
   "cell_type": "code",
   "execution_count": 157,
   "metadata": {},
   "outputs": [
    {
     "data": {
      "text/plain": [
       "RandomForestClassifier(bootstrap=True, class_weight=None, criterion='gini',\n",
       "            max_depth=10, max_features='auto', max_leaf_nodes=None,\n",
       "            min_impurity_decrease=0.0, min_impurity_split=None,\n",
       "            min_samples_leaf=1, min_samples_split=2,\n",
       "            min_weight_fraction_leaf=0.0, n_estimators=500, n_jobs=None,\n",
       "            oob_score=False, random_state=8, verbose=0, warm_start=False)"
      ]
     },
     "execution_count": 157,
     "metadata": {},
     "output_type": "execute_result"
    }
   ],
   "source": [
    "clf_rf.fit(X_train, X_train_dt['class'])"
   ]
  },
  {
   "cell_type": "code",
   "execution_count": 158,
   "metadata": {},
   "outputs": [],
   "source": [
    "pred = clf_rf.predict(X_test)"
   ]
  },
  {
   "cell_type": "code",
   "execution_count": 176,
   "metadata": {},
   "outputs": [
    {
     "name": "stdout",
     "output_type": "stream",
     "text": [
      "accuracy:  0.973251028807\n",
      "              precision    recall  f1-score   support\n",
      "\n",
      "   decreased       0.00      0.00      0.00         0\n",
      "   increased       0.32      0.67      0.43        12\n",
      "    negative       1.00      0.98      0.99       960\n",
      "\n",
      "   micro avg       0.97      0.97      0.97       972\n",
      "   macro avg       0.44      0.55      0.47       972\n",
      "weighted avg       0.99      0.97      0.98       972\n",
      "\n"
     ]
    },
    {
     "name": "stderr",
     "output_type": "stream",
     "text": [
      "C:\\Anaconda3\\lib\\site-packages\\sklearn\\metrics\\classification.py:1145: UndefinedMetricWarning: Recall and F-score are ill-defined and being set to 0.0 in labels with no true samples.\n",
      "  'recall', 'true', average, warn_for)\n",
      "C:\\Anaconda3\\lib\\site-packages\\sklearn\\metrics\\classification.py:1145: UndefinedMetricWarning: Recall and F-score are ill-defined and being set to 0.0 in labels with no true samples.\n",
      "  'recall', 'true', average, warn_for)\n",
      "C:\\Anaconda3\\lib\\site-packages\\sklearn\\metrics\\classification.py:1145: UndefinedMetricWarning: Recall and F-score are ill-defined and being set to 0.0 in labels with no true samples.\n",
      "  'recall', 'true', average, warn_for)\n"
     ]
    }
   ],
   "source": [
    "evaluate(clf_rf.predict(X_valid_dt[X_test.columns]),X_valid_dt['class'])"
   ]
  },
  {
   "cell_type": "code",
   "execution_count": 174,
   "metadata": {},
   "outputs": [],
   "source": [
    "extract_results(pred, 'rf1.csv')"
   ]
  },
  {
   "cell_type": "code",
   "execution_count": 175,
   "metadata": {},
   "outputs": [
    {
     "data": {
      "text/plain": [
       "array(['increased', 'negative'], dtype=object)"
      ]
     },
     "execution_count": 175,
     "metadata": {},
     "output_type": "execute_result"
    }
   ],
   "source": [
    "np.unique(pred)"
   ]
  },
  {
   "cell_type": "code",
   "execution_count": null,
   "metadata": {},
   "outputs": [],
   "source": []
  }
 ],
 "metadata": {
  "kernelspec": {
   "display_name": "Python 3",
   "language": "python",
   "name": "python3"
  },
  "language_info": {
   "codemirror_mode": {
    "name": "ipython",
    "version": 3
   },
   "file_extension": ".py",
   "mimetype": "text/x-python",
   "name": "python",
   "nbconvert_exporter": "python",
   "pygments_lexer": "ipython3",
   "version": "3.6.5"
  }
 },
 "nbformat": 4,
 "nbformat_minor": 2
}
