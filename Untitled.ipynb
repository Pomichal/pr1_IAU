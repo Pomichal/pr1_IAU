{
 "cells": [
  {
   "cell_type": "markdown",
   "metadata": {},
   "source": [
    "# IAU projekt"
   ]
  },
  {
   "cell_type": "markdown",
   "metadata": {},
   "source": [
    "## dataset 31"
   ]
  },
  {
   "cell_type": "markdown",
   "metadata": {},
   "source": [
    "### Načítanie dát"
   ]
  },
  {
   "cell_type": "code",
   "execution_count": 1,
   "metadata": {},
   "outputs": [],
   "source": [
    "import pandas as pd\n",
    "import numpy as np\n",
    "import matplotlib.pyplot as plt\n",
    "import seaborn as sn"
   ]
  },
  {
   "cell_type": "code",
   "execution_count": 116,
   "metadata": {},
   "outputs": [],
   "source": [
    "other_train = pd.read_csv('31/other_train.csv')\n",
    "other_valid = pd.read_csv('31/other_valid.csv')\n",
    "\n",
    "personal_train = pd.read_csv('31/personal_train.csv')\n",
    "personal_valid = pd.read_csv('31/personal_valid.csv')"
   ]
  },
  {
   "cell_type": "code",
   "execution_count": 4,
   "metadata": {},
   "outputs": [],
   "source": [
    "pd.options.display.max_columns = None"
   ]
  },
  {
   "cell_type": "code",
   "execution_count": 5,
   "metadata": {},
   "outputs": [
    {
     "data": {
      "text/html": [
       "<div>\n",
       "<style scoped>\n",
       "    .dataframe tbody tr th:only-of-type {\n",
       "        vertical-align: middle;\n",
       "    }\n",
       "\n",
       "    .dataframe tbody tr th {\n",
       "        vertical-align: top;\n",
       "    }\n",
       "\n",
       "    .dataframe thead th {\n",
       "        text-align: right;\n",
       "    }\n",
       "</style>\n",
       "<table border=\"1\" class=\"dataframe\">\n",
       "  <thead>\n",
       "    <tr style=\"text-align: right;\">\n",
       "      <th></th>\n",
       "      <th>Unnamed: 0</th>\n",
       "      <th>name</th>\n",
       "      <th>address</th>\n",
       "      <th>query hyperthyroid</th>\n",
       "      <th>FTI measured</th>\n",
       "      <th>education</th>\n",
       "      <th>lithium</th>\n",
       "      <th>TT4</th>\n",
       "      <th>T4U</th>\n",
       "      <th>capital-loss</th>\n",
       "      <th>capital-gain</th>\n",
       "      <th>tumor</th>\n",
       "      <th>TSH</th>\n",
       "      <th>T3</th>\n",
       "      <th>fnlwgt</th>\n",
       "      <th>hours-per-week</th>\n",
       "      <th>relationship</th>\n",
       "      <th>sick</th>\n",
       "      <th>workclass</th>\n",
       "      <th>TT4 measured</th>\n",
       "      <th>class</th>\n",
       "      <th>marital-status</th>\n",
       "      <th>goitre</th>\n",
       "      <th>native-country</th>\n",
       "      <th>hypopituitary</th>\n",
       "      <th>medical_info</th>\n",
       "      <th>on antithyroid medication</th>\n",
       "      <th>referral source</th>\n",
       "      <th>education-num</th>\n",
       "      <th>occupation</th>\n",
       "      <th>TBG measured</th>\n",
       "      <th>TBG</th>\n",
       "      <th>race</th>\n",
       "      <th>FTI</th>\n",
       "    </tr>\n",
       "  </thead>\n",
       "  <tbody>\n",
       "    <tr>\n",
       "      <th>0</th>\n",
       "      <td>0</td>\n",
       "      <td>Christine Tanner</td>\n",
       "      <td>340 Moon Freeway\\nTamarafort, MO 35449</td>\n",
       "      <td>f</td>\n",
       "      <td>t</td>\n",
       "      <td>HS-grad</td>\n",
       "      <td>f</td>\n",
       "      <td>84.0</td>\n",
       "      <td>0.87</td>\n",
       "      <td>0.0</td>\n",
       "      <td>0.0</td>\n",
       "      <td>f</td>\n",
       "      <td>0.2</td>\n",
       "      <td>1.6</td>\n",
       "      <td>127573.0</td>\n",
       "      <td>38.0</td>\n",
       "      <td>Not-in-family</td>\n",
       "      <td>f</td>\n",
       "      <td>Private</td>\n",
       "      <td>t</td>\n",
       "      <td>negative.|165</td>\n",
       "      <td>Separated</td>\n",
       "      <td>f</td>\n",
       "      <td>United-States</td>\n",
       "      <td>f</td>\n",
       "      <td>{'query hypothyroid':'f','T4U measured':'t','p...</td>\n",
       "      <td>f</td>\n",
       "      <td>SVI</td>\n",
       "      <td>9.0</td>\n",
       "      <td>Adm-clerical</td>\n",
       "      <td>f</td>\n",
       "      <td>?</td>\n",
       "      <td>White</td>\n",
       "      <td>97</td>\n",
       "    </tr>\n",
       "    <tr>\n",
       "      <th>1</th>\n",
       "      <td>1</td>\n",
       "      <td>Cynthia Raio</td>\n",
       "      <td>446 Lynch Prairie Apt. 742\\nKristineshire, CO ...</td>\n",
       "      <td>f</td>\n",
       "      <td>t</td>\n",
       "      <td>HS-grad</td>\n",
       "      <td>f</td>\n",
       "      <td>128.0</td>\n",
       "      <td>1.14</td>\n",
       "      <td>0.0</td>\n",
       "      <td>0.0</td>\n",
       "      <td>f</td>\n",
       "      <td>3.0</td>\n",
       "      <td>2.3</td>\n",
       "      <td>103218.0</td>\n",
       "      <td>40.0</td>\n",
       "      <td>Unmarried</td>\n",
       "      <td>f</td>\n",
       "      <td>Private</td>\n",
       "      <td>t</td>\n",
       "      <td>negative.|2191</td>\n",
       "      <td>Divorced</td>\n",
       "      <td>f</td>\n",
       "      <td>United-States</td>\n",
       "      <td>f</td>\n",
       "      <td>{'query hypothyroid':'f','T4U measured':'t','p...</td>\n",
       "      <td>f</td>\n",
       "      <td>other</td>\n",
       "      <td>9.0</td>\n",
       "      <td>Adm-clerical</td>\n",
       "      <td>f</td>\n",
       "      <td>?</td>\n",
       "      <td>Black</td>\n",
       "      <td>112</td>\n",
       "    </tr>\n",
       "    <tr>\n",
       "      <th>2</th>\n",
       "      <td>2</td>\n",
       "      <td>Jason Muller</td>\n",
       "      <td>198 Garcia Stravenue Apt. 769\\nEast Shawnview,...</td>\n",
       "      <td>f</td>\n",
       "      <td>t</td>\n",
       "      <td>HS-grad</td>\n",
       "      <td>f</td>\n",
       "      <td>114.0</td>\n",
       "      <td>1.02</td>\n",
       "      <td>0.0</td>\n",
       "      <td>0.0</td>\n",
       "      <td>f</td>\n",
       "      <td>1.9</td>\n",
       "      <td>1.8</td>\n",
       "      <td>134181.0</td>\n",
       "      <td>50.0</td>\n",
       "      <td>Other-relative</td>\n",
       "      <td>f</td>\n",
       "      <td>Local-gov</td>\n",
       "      <td>t</td>\n",
       "      <td>negative.|1019</td>\n",
       "      <td>Never-married</td>\n",
       "      <td>f</td>\n",
       "      <td>United-States</td>\n",
       "      <td>f</td>\n",
       "      <td>{'query hypothyroid':'f','T4U measured':'t','p...</td>\n",
       "      <td>f</td>\n",
       "      <td>SVHC</td>\n",
       "      <td>9.0</td>\n",
       "      <td>Handlers-cleaners</td>\n",
       "      <td>f</td>\n",
       "      <td>?</td>\n",
       "      <td>White</td>\n",
       "      <td>112</td>\n",
       "    </tr>\n",
       "    <tr>\n",
       "      <th>3</th>\n",
       "      <td>3</td>\n",
       "      <td>Sharon Tomassi</td>\n",
       "      <td>1695 Judy Burg\\nEast Kurtland, MI 54744</td>\n",
       "      <td>f</td>\n",
       "      <td>t</td>\n",
       "      <td>Some-college</td>\n",
       "      <td>f</td>\n",
       "      <td>91.0</td>\n",
       "      <td>1.16</td>\n",
       "      <td>0.0</td>\n",
       "      <td>3418.0</td>\n",
       "      <td>f</td>\n",
       "      <td>8.5</td>\n",
       "      <td>2.1</td>\n",
       "      <td>195914.0</td>\n",
       "      <td>30.0</td>\n",
       "      <td>Own_child</td>\n",
       "      <td>f</td>\n",
       "      <td>Private</td>\n",
       "      <td>t</td>\n",
       "      <td>negative.|1061</td>\n",
       "      <td>Never-married</td>\n",
       "      <td>f</td>\n",
       "      <td>United-States</td>\n",
       "      <td>f</td>\n",
       "      <td>{'query hypothyroid':'f','T4U measured':'t','p...</td>\n",
       "      <td>f</td>\n",
       "      <td>other</td>\n",
       "      <td>10.0</td>\n",
       "      <td>Sales</td>\n",
       "      <td>f</td>\n",
       "      <td>?</td>\n",
       "      <td>Black</td>\n",
       "      <td>79</td>\n",
       "    </tr>\n",
       "    <tr>\n",
       "      <th>4</th>\n",
       "      <td>4</td>\n",
       "      <td>Christopher Sells</td>\n",
       "      <td>Unit 5029 Box 6752\\nDPO AE 90819</td>\n",
       "      <td>f</td>\n",
       "      <td>t</td>\n",
       "      <td>HS-grad</td>\n",
       "      <td>f</td>\n",
       "      <td>83.0</td>\n",
       "      <td>0.82</td>\n",
       "      <td>0.0</td>\n",
       "      <td>0.0</td>\n",
       "      <td>f</td>\n",
       "      <td>6.2</td>\n",
       "      <td>1.2</td>\n",
       "      <td>121135.0</td>\n",
       "      <td>40.0</td>\n",
       "      <td>Husband</td>\n",
       "      <td>f</td>\n",
       "      <td>?</td>\n",
       "      <td>t</td>\n",
       "      <td>Negative.|1173</td>\n",
       "      <td>Married-civ-spouse</td>\n",
       "      <td>f</td>\n",
       "      <td>United-States</td>\n",
       "      <td>f</td>\n",
       "      <td>{'query hypothyroid':'f','T4U measured':'t','p...</td>\n",
       "      <td>f</td>\n",
       "      <td>SVI</td>\n",
       "      <td>9.0</td>\n",
       "      <td>?</td>\n",
       "      <td>f</td>\n",
       "      <td>?</td>\n",
       "      <td>White</td>\n",
       "      <td>101</td>\n",
       "    </tr>\n",
       "  </tbody>\n",
       "</table>\n",
       "</div>"
      ],
      "text/plain": [
       "   Unnamed: 0               name  \\\n",
       "0           0   Christine Tanner   \n",
       "1           1       Cynthia Raio   \n",
       "2           2       Jason Muller   \n",
       "3           3     Sharon Tomassi   \n",
       "4           4  Christopher Sells   \n",
       "\n",
       "                                             address query hyperthyroid  \\\n",
       "0             340 Moon Freeway\\nTamarafort, MO 35449                  f   \n",
       "1  446 Lynch Prairie Apt. 742\\nKristineshire, CO ...                  f   \n",
       "2  198 Garcia Stravenue Apt. 769\\nEast Shawnview,...                  f   \n",
       "3            1695 Judy Burg\\nEast Kurtland, MI 54744                  f   \n",
       "4                   Unit 5029 Box 6752\\nDPO AE 90819                  f   \n",
       "\n",
       "  FTI measured      education lithium    TT4   T4U  capital-loss  \\\n",
       "0            t        HS-grad       f   84.0  0.87           0.0   \n",
       "1            t        HS-grad       f  128.0  1.14           0.0   \n",
       "2            t        HS-grad       f  114.0  1.02           0.0   \n",
       "3            t   Some-college       f   91.0  1.16           0.0   \n",
       "4            t        HS-grad       f   83.0  0.82           0.0   \n",
       "\n",
       "   capital-gain tumor  TSH   T3    fnlwgt  hours-per-week     relationship  \\\n",
       "0           0.0     f  0.2  1.6  127573.0            38.0    Not-in-family   \n",
       "1           0.0     f  3.0  2.3  103218.0            40.0        Unmarried   \n",
       "2           0.0     f  1.9  1.8  134181.0            50.0   Other-relative   \n",
       "3        3418.0     f  8.5  2.1  195914.0            30.0        Own_child   \n",
       "4           0.0     f  6.2  1.2  121135.0            40.0          Husband   \n",
       "\n",
       "  sick   workclass TT4 measured           class       marital-status goitre  \\\n",
       "0    f     Private            t   negative.|165            Separated      f   \n",
       "1    f     Private            t  negative.|2191             Divorced      f   \n",
       "2    f   Local-gov            t  negative.|1019        Never-married      f   \n",
       "3    f     Private            t  negative.|1061        Never-married      f   \n",
       "4    f           ?            t  Negative.|1173   Married-civ-spouse      f   \n",
       "\n",
       "   native-country hypopituitary  \\\n",
       "0   United-States             f   \n",
       "1   United-States             f   \n",
       "2   United-States             f   \n",
       "3   United-States             f   \n",
       "4   United-States             f   \n",
       "\n",
       "                                        medical_info  \\\n",
       "0  {'query hypothyroid':'f','T4U measured':'t','p...   \n",
       "1  {'query hypothyroid':'f','T4U measured':'t','p...   \n",
       "2  {'query hypothyroid':'f','T4U measured':'t','p...   \n",
       "3  {'query hypothyroid':'f','T4U measured':'t','p...   \n",
       "4  {'query hypothyroid':'f','T4U measured':'t','p...   \n",
       "\n",
       "  on antithyroid medication referral source  education-num  \\\n",
       "0                         f             SVI            9.0   \n",
       "1                         f           other            9.0   \n",
       "2                         f            SVHC            9.0   \n",
       "3                         f           other           10.0   \n",
       "4                         f             SVI            9.0   \n",
       "\n",
       "           occupation TBG measured TBG    race  FTI  \n",
       "0        Adm-clerical            f   ?   White   97  \n",
       "1        Adm-clerical            f   ?   Black  112  \n",
       "2   Handlers-cleaners            f   ?   White  112  \n",
       "3               Sales            f   ?   Black   79  \n",
       "4                   ?            f   ?   White  101  "
      ]
     },
     "execution_count": 5,
     "metadata": {},
     "output_type": "execute_result"
    }
   ],
   "source": [
    "other_train.head()"
   ]
  },
  {
   "cell_type": "code",
   "execution_count": 6,
   "metadata": {},
   "outputs": [
    {
     "data": {
      "text/html": [
       "<div>\n",
       "<style scoped>\n",
       "    .dataframe tbody tr th:only-of-type {\n",
       "        vertical-align: middle;\n",
       "    }\n",
       "\n",
       "    .dataframe tbody tr th {\n",
       "        vertical-align: top;\n",
       "    }\n",
       "\n",
       "    .dataframe thead th {\n",
       "        text-align: right;\n",
       "    }\n",
       "</style>\n",
       "<table border=\"1\" class=\"dataframe\">\n",
       "  <thead>\n",
       "    <tr style=\"text-align: right;\">\n",
       "      <th></th>\n",
       "      <th>Unnamed: 0</th>\n",
       "      <th>name</th>\n",
       "      <th>address</th>\n",
       "      <th>age</th>\n",
       "      <th>sex</th>\n",
       "      <th>date_of_birth</th>\n",
       "    </tr>\n",
       "  </thead>\n",
       "  <tbody>\n",
       "    <tr>\n",
       "      <th>0</th>\n",
       "      <td>0</td>\n",
       "      <td>Edith Boudreaux</td>\n",
       "      <td>11818 Lori Crossing Apt. 802\\nPughstad, DC 78165</td>\n",
       "      <td>49.0</td>\n",
       "      <td>F</td>\n",
       "      <td>69-04-28</td>\n",
       "    </tr>\n",
       "    <tr>\n",
       "      <th>1</th>\n",
       "      <td>1</td>\n",
       "      <td>Janet Washington</td>\n",
       "      <td>PSC 4657, Box 5446\\nAPO AP 58412</td>\n",
       "      <td>78.0</td>\n",
       "      <td>F</td>\n",
       "      <td>1940-01-23</td>\n",
       "    </tr>\n",
       "    <tr>\n",
       "      <th>2</th>\n",
       "      <td>2</td>\n",
       "      <td>Margaret Chabot</td>\n",
       "      <td>Unit 9759 Box 9470\\nDPO AP 45549</td>\n",
       "      <td>65.0</td>\n",
       "      <td>F</td>\n",
       "      <td>1953-06-23</td>\n",
       "    </tr>\n",
       "    <tr>\n",
       "      <th>3</th>\n",
       "      <td>3</td>\n",
       "      <td>Terry Terry</td>\n",
       "      <td>137 Lewis Flat Suite 762\\nWest Elizabeth, AL 3...</td>\n",
       "      <td>34.0</td>\n",
       "      <td>M</td>\n",
       "      <td>1984-03-08</td>\n",
       "    </tr>\n",
       "    <tr>\n",
       "      <th>4</th>\n",
       "      <td>4</td>\n",
       "      <td>Stephen Lalk</td>\n",
       "      <td>995 Frank Stravenue\\nSouth Matthewport, TX 81402</td>\n",
       "      <td>57.0</td>\n",
       "      <td>M</td>\n",
       "      <td>1961-09-16</td>\n",
       "    </tr>\n",
       "  </tbody>\n",
       "</table>\n",
       "</div>"
      ],
      "text/plain": [
       "   Unnamed: 0              name  \\\n",
       "0           0   Edith Boudreaux   \n",
       "1           1  Janet Washington   \n",
       "2           2   Margaret Chabot   \n",
       "3           3       Terry Terry   \n",
       "4           4      Stephen Lalk   \n",
       "\n",
       "                                             address   age sex date_of_birth  \n",
       "0   11818 Lori Crossing Apt. 802\\nPughstad, DC 78165  49.0   F      69-04-28  \n",
       "1                   PSC 4657, Box 5446\\nAPO AP 58412  78.0   F    1940-01-23  \n",
       "2                   Unit 9759 Box 9470\\nDPO AP 45549  65.0   F    1953-06-23  \n",
       "3  137 Lewis Flat Suite 762\\nWest Elizabeth, AL 3...  34.0   M    1984-03-08  \n",
       "4   995 Frank Stravenue\\nSouth Matthewport, TX 81402  57.0   M    1961-09-16  "
      ]
     },
     "execution_count": 6,
     "metadata": {},
     "output_type": "execute_result"
    }
   ],
   "source": [
    "personal_train.head()\n"
   ]
  },
  {
   "cell_type": "markdown",
   "metadata": {},
   "source": [
    "##  1. Prieskumná analýza"
   ]
  },
  {
   "cell_type": "markdown",
   "metadata": {},
   "source": [
    "### 1.1 Opis dát a ich charakteristiky"
   ]
  },
  {
   "cell_type": "code",
   "execution_count": 12,
   "metadata": {},
   "outputs": [
    {
     "data": {
      "text/html": [
       "<div>\n",
       "<style scoped>\n",
       "    .dataframe tbody tr th:only-of-type {\n",
       "        vertical-align: middle;\n",
       "    }\n",
       "\n",
       "    .dataframe tbody tr th {\n",
       "        vertical-align: top;\n",
       "    }\n",
       "\n",
       "    .dataframe thead th {\n",
       "        text-align: right;\n",
       "    }\n",
       "</style>\n",
       "<table border=\"1\" class=\"dataframe\">\n",
       "  <thead>\n",
       "    <tr style=\"text-align: right;\">\n",
       "      <th></th>\n",
       "      <th>Unnamed: 0</th>\n",
       "      <th>name</th>\n",
       "      <th>address</th>\n",
       "      <th>query hyperthyroid</th>\n",
       "      <th>FTI measured</th>\n",
       "      <th>education</th>\n",
       "      <th>lithium</th>\n",
       "      <th>TT4</th>\n",
       "      <th>T4U</th>\n",
       "      <th>capital-loss</th>\n",
       "      <th>capital-gain</th>\n",
       "      <th>tumor</th>\n",
       "      <th>TSH</th>\n",
       "      <th>T3</th>\n",
       "      <th>fnlwgt</th>\n",
       "      <th>hours-per-week</th>\n",
       "      <th>relationship</th>\n",
       "      <th>sick</th>\n",
       "      <th>workclass</th>\n",
       "      <th>TT4 measured</th>\n",
       "      <th>class</th>\n",
       "      <th>marital-status</th>\n",
       "      <th>goitre</th>\n",
       "      <th>native-country</th>\n",
       "      <th>hypopituitary</th>\n",
       "      <th>medical_info</th>\n",
       "      <th>on antithyroid medication</th>\n",
       "      <th>referral source</th>\n",
       "      <th>education-num</th>\n",
       "      <th>occupation</th>\n",
       "      <th>TBG measured</th>\n",
       "      <th>TBG</th>\n",
       "      <th>race</th>\n",
       "      <th>FTI</th>\n",
       "    </tr>\n",
       "  </thead>\n",
       "  <tbody>\n",
       "    <tr>\n",
       "      <th>0</th>\n",
       "      <td>0</td>\n",
       "      <td>Christine Tanner</td>\n",
       "      <td>340 Moon Freeway\\nTamarafort, MO 35449</td>\n",
       "      <td>f</td>\n",
       "      <td>t</td>\n",
       "      <td>HS-grad</td>\n",
       "      <td>f</td>\n",
       "      <td>84.0</td>\n",
       "      <td>0.87</td>\n",
       "      <td>0.0</td>\n",
       "      <td>0.0</td>\n",
       "      <td>f</td>\n",
       "      <td>0.2</td>\n",
       "      <td>1.6</td>\n",
       "      <td>127573.0</td>\n",
       "      <td>38.0</td>\n",
       "      <td>Not-in-family</td>\n",
       "      <td>f</td>\n",
       "      <td>Private</td>\n",
       "      <td>t</td>\n",
       "      <td>negative.|165</td>\n",
       "      <td>Separated</td>\n",
       "      <td>f</td>\n",
       "      <td>United-States</td>\n",
       "      <td>f</td>\n",
       "      <td>{'query hypothyroid':'f','T4U measured':'t','p...</td>\n",
       "      <td>f</td>\n",
       "      <td>SVI</td>\n",
       "      <td>9.0</td>\n",
       "      <td>Adm-clerical</td>\n",
       "      <td>f</td>\n",
       "      <td>?</td>\n",
       "      <td>White</td>\n",
       "      <td>97</td>\n",
       "    </tr>\n",
       "    <tr>\n",
       "      <th>1</th>\n",
       "      <td>1</td>\n",
       "      <td>Cynthia Raio</td>\n",
       "      <td>446 Lynch Prairie Apt. 742\\nKristineshire, CO ...</td>\n",
       "      <td>f</td>\n",
       "      <td>t</td>\n",
       "      <td>HS-grad</td>\n",
       "      <td>f</td>\n",
       "      <td>128.0</td>\n",
       "      <td>1.14</td>\n",
       "      <td>0.0</td>\n",
       "      <td>0.0</td>\n",
       "      <td>f</td>\n",
       "      <td>3.0</td>\n",
       "      <td>2.3</td>\n",
       "      <td>103218.0</td>\n",
       "      <td>40.0</td>\n",
       "      <td>Unmarried</td>\n",
       "      <td>f</td>\n",
       "      <td>Private</td>\n",
       "      <td>t</td>\n",
       "      <td>negative.|2191</td>\n",
       "      <td>Divorced</td>\n",
       "      <td>f</td>\n",
       "      <td>United-States</td>\n",
       "      <td>f</td>\n",
       "      <td>{'query hypothyroid':'f','T4U measured':'t','p...</td>\n",
       "      <td>f</td>\n",
       "      <td>other</td>\n",
       "      <td>9.0</td>\n",
       "      <td>Adm-clerical</td>\n",
       "      <td>f</td>\n",
       "      <td>?</td>\n",
       "      <td>Black</td>\n",
       "      <td>112</td>\n",
       "    </tr>\n",
       "    <tr>\n",
       "      <th>2</th>\n",
       "      <td>2</td>\n",
       "      <td>Jason Muller</td>\n",
       "      <td>198 Garcia Stravenue Apt. 769\\nEast Shawnview,...</td>\n",
       "      <td>f</td>\n",
       "      <td>t</td>\n",
       "      <td>HS-grad</td>\n",
       "      <td>f</td>\n",
       "      <td>114.0</td>\n",
       "      <td>1.02</td>\n",
       "      <td>0.0</td>\n",
       "      <td>0.0</td>\n",
       "      <td>f</td>\n",
       "      <td>1.9</td>\n",
       "      <td>1.8</td>\n",
       "      <td>134181.0</td>\n",
       "      <td>50.0</td>\n",
       "      <td>Other-relative</td>\n",
       "      <td>f</td>\n",
       "      <td>Local-gov</td>\n",
       "      <td>t</td>\n",
       "      <td>negative.|1019</td>\n",
       "      <td>Never-married</td>\n",
       "      <td>f</td>\n",
       "      <td>United-States</td>\n",
       "      <td>f</td>\n",
       "      <td>{'query hypothyroid':'f','T4U measured':'t','p...</td>\n",
       "      <td>f</td>\n",
       "      <td>SVHC</td>\n",
       "      <td>9.0</td>\n",
       "      <td>Handlers-cleaners</td>\n",
       "      <td>f</td>\n",
       "      <td>?</td>\n",
       "      <td>White</td>\n",
       "      <td>112</td>\n",
       "    </tr>\n",
       "    <tr>\n",
       "      <th>3</th>\n",
       "      <td>3</td>\n",
       "      <td>Sharon Tomassi</td>\n",
       "      <td>1695 Judy Burg\\nEast Kurtland, MI 54744</td>\n",
       "      <td>f</td>\n",
       "      <td>t</td>\n",
       "      <td>Some-college</td>\n",
       "      <td>f</td>\n",
       "      <td>91.0</td>\n",
       "      <td>1.16</td>\n",
       "      <td>0.0</td>\n",
       "      <td>3418.0</td>\n",
       "      <td>f</td>\n",
       "      <td>8.5</td>\n",
       "      <td>2.1</td>\n",
       "      <td>195914.0</td>\n",
       "      <td>30.0</td>\n",
       "      <td>Own_child</td>\n",
       "      <td>f</td>\n",
       "      <td>Private</td>\n",
       "      <td>t</td>\n",
       "      <td>negative.|1061</td>\n",
       "      <td>Never-married</td>\n",
       "      <td>f</td>\n",
       "      <td>United-States</td>\n",
       "      <td>f</td>\n",
       "      <td>{'query hypothyroid':'f','T4U measured':'t','p...</td>\n",
       "      <td>f</td>\n",
       "      <td>other</td>\n",
       "      <td>10.0</td>\n",
       "      <td>Sales</td>\n",
       "      <td>f</td>\n",
       "      <td>?</td>\n",
       "      <td>Black</td>\n",
       "      <td>79</td>\n",
       "    </tr>\n",
       "    <tr>\n",
       "      <th>4</th>\n",
       "      <td>4</td>\n",
       "      <td>Christopher Sells</td>\n",
       "      <td>Unit 5029 Box 6752\\nDPO AE 90819</td>\n",
       "      <td>f</td>\n",
       "      <td>t</td>\n",
       "      <td>HS-grad</td>\n",
       "      <td>f</td>\n",
       "      <td>83.0</td>\n",
       "      <td>0.82</td>\n",
       "      <td>0.0</td>\n",
       "      <td>0.0</td>\n",
       "      <td>f</td>\n",
       "      <td>6.2</td>\n",
       "      <td>1.2</td>\n",
       "      <td>121135.0</td>\n",
       "      <td>40.0</td>\n",
       "      <td>Husband</td>\n",
       "      <td>f</td>\n",
       "      <td>?</td>\n",
       "      <td>t</td>\n",
       "      <td>Negative.|1173</td>\n",
       "      <td>Married-civ-spouse</td>\n",
       "      <td>f</td>\n",
       "      <td>United-States</td>\n",
       "      <td>f</td>\n",
       "      <td>{'query hypothyroid':'f','T4U measured':'t','p...</td>\n",
       "      <td>f</td>\n",
       "      <td>SVI</td>\n",
       "      <td>9.0</td>\n",
       "      <td>?</td>\n",
       "      <td>f</td>\n",
       "      <td>?</td>\n",
       "      <td>White</td>\n",
       "      <td>101</td>\n",
       "    </tr>\n",
       "  </tbody>\n",
       "</table>\n",
       "</div>"
      ],
      "text/plain": [
       "   Unnamed: 0               name  \\\n",
       "0           0   Christine Tanner   \n",
       "1           1       Cynthia Raio   \n",
       "2           2       Jason Muller   \n",
       "3           3     Sharon Tomassi   \n",
       "4           4  Christopher Sells   \n",
       "\n",
       "                                             address query hyperthyroid  \\\n",
       "0             340 Moon Freeway\\nTamarafort, MO 35449                  f   \n",
       "1  446 Lynch Prairie Apt. 742\\nKristineshire, CO ...                  f   \n",
       "2  198 Garcia Stravenue Apt. 769\\nEast Shawnview,...                  f   \n",
       "3            1695 Judy Burg\\nEast Kurtland, MI 54744                  f   \n",
       "4                   Unit 5029 Box 6752\\nDPO AE 90819                  f   \n",
       "\n",
       "  FTI measured      education lithium    TT4   T4U  capital-loss  \\\n",
       "0            t        HS-grad       f   84.0  0.87           0.0   \n",
       "1            t        HS-grad       f  128.0  1.14           0.0   \n",
       "2            t        HS-grad       f  114.0  1.02           0.0   \n",
       "3            t   Some-college       f   91.0  1.16           0.0   \n",
       "4            t        HS-grad       f   83.0  0.82           0.0   \n",
       "\n",
       "   capital-gain tumor  TSH   T3    fnlwgt  hours-per-week     relationship  \\\n",
       "0           0.0     f  0.2  1.6  127573.0            38.0    Not-in-family   \n",
       "1           0.0     f  3.0  2.3  103218.0            40.0        Unmarried   \n",
       "2           0.0     f  1.9  1.8  134181.0            50.0   Other-relative   \n",
       "3        3418.0     f  8.5  2.1  195914.0            30.0        Own_child   \n",
       "4           0.0     f  6.2  1.2  121135.0            40.0          Husband   \n",
       "\n",
       "  sick   workclass TT4 measured           class       marital-status goitre  \\\n",
       "0    f     Private            t   negative.|165            Separated      f   \n",
       "1    f     Private            t  negative.|2191             Divorced      f   \n",
       "2    f   Local-gov            t  negative.|1019        Never-married      f   \n",
       "3    f     Private            t  negative.|1061        Never-married      f   \n",
       "4    f           ?            t  Negative.|1173   Married-civ-spouse      f   \n",
       "\n",
       "   native-country hypopituitary  \\\n",
       "0   United-States             f   \n",
       "1   United-States             f   \n",
       "2   United-States             f   \n",
       "3   United-States             f   \n",
       "4   United-States             f   \n",
       "\n",
       "                                        medical_info  \\\n",
       "0  {'query hypothyroid':'f','T4U measured':'t','p...   \n",
       "1  {'query hypothyroid':'f','T4U measured':'t','p...   \n",
       "2  {'query hypothyroid':'f','T4U measured':'t','p...   \n",
       "3  {'query hypothyroid':'f','T4U measured':'t','p...   \n",
       "4  {'query hypothyroid':'f','T4U measured':'t','p...   \n",
       "\n",
       "  on antithyroid medication referral source  education-num  \\\n",
       "0                         f             SVI            9.0   \n",
       "1                         f           other            9.0   \n",
       "2                         f            SVHC            9.0   \n",
       "3                         f           other           10.0   \n",
       "4                         f             SVI            9.0   \n",
       "\n",
       "           occupation TBG measured TBG    race  FTI  \n",
       "0        Adm-clerical            f   ?   White   97  \n",
       "1        Adm-clerical            f   ?   Black  112  \n",
       "2   Handlers-cleaners            f   ?   White  112  \n",
       "3               Sales            f   ?   Black   79  \n",
       "4                   ?            f   ?   White  101  "
      ]
     },
     "execution_count": 12,
     "metadata": {},
     "output_type": "execute_result"
    }
   ],
   "source": [
    "other_train.head()"
   ]
  },
  {
   "cell_type": "code",
   "execution_count": 13,
   "metadata": {},
   "outputs": [
    {
     "data": {
      "text/html": [
       "<div>\n",
       "<style scoped>\n",
       "    .dataframe tbody tr th:only-of-type {\n",
       "        vertical-align: middle;\n",
       "    }\n",
       "\n",
       "    .dataframe tbody tr th {\n",
       "        vertical-align: top;\n",
       "    }\n",
       "\n",
       "    .dataframe thead th {\n",
       "        text-align: right;\n",
       "    }\n",
       "</style>\n",
       "<table border=\"1\" class=\"dataframe\">\n",
       "  <thead>\n",
       "    <tr style=\"text-align: right;\">\n",
       "      <th></th>\n",
       "      <th>Unnamed: 0</th>\n",
       "      <th>name</th>\n",
       "      <th>address</th>\n",
       "      <th>query hyperthyroid</th>\n",
       "      <th>FTI measured</th>\n",
       "      <th>education</th>\n",
       "      <th>lithium</th>\n",
       "      <th>TT4</th>\n",
       "      <th>T4U</th>\n",
       "      <th>capital-loss</th>\n",
       "      <th>capital-gain</th>\n",
       "      <th>tumor</th>\n",
       "      <th>TSH</th>\n",
       "      <th>T3</th>\n",
       "      <th>fnlwgt</th>\n",
       "      <th>hours-per-week</th>\n",
       "      <th>relationship</th>\n",
       "      <th>sick</th>\n",
       "      <th>workclass</th>\n",
       "      <th>TT4 measured</th>\n",
       "      <th>class</th>\n",
       "      <th>marital-status</th>\n",
       "      <th>goitre</th>\n",
       "      <th>native-country</th>\n",
       "      <th>hypopituitary</th>\n",
       "      <th>medical_info</th>\n",
       "      <th>on antithyroid medication</th>\n",
       "      <th>referral source</th>\n",
       "      <th>education-num</th>\n",
       "      <th>occupation</th>\n",
       "      <th>TBG measured</th>\n",
       "      <th>TBG</th>\n",
       "      <th>race</th>\n",
       "      <th>FTI</th>\n",
       "    </tr>\n",
       "  </thead>\n",
       "  <tbody>\n",
       "    <tr>\n",
       "      <th>count</th>\n",
       "      <td>2287.000000</td>\n",
       "      <td>2287</td>\n",
       "      <td>2287</td>\n",
       "      <td>2275</td>\n",
       "      <td>2280</td>\n",
       "      <td>2280</td>\n",
       "      <td>2280</td>\n",
       "      <td>1985</td>\n",
       "      <td>2044.000000</td>\n",
       "      <td>2273.000000</td>\n",
       "      <td>2.281000e+03</td>\n",
       "      <td>2272</td>\n",
       "      <td>2041.000000</td>\n",
       "      <td>1795.000000</td>\n",
       "      <td>2.282000e+03</td>\n",
       "      <td>2278.000000</td>\n",
       "      <td>2273</td>\n",
       "      <td>2277</td>\n",
       "      <td>2273</td>\n",
       "      <td>2276</td>\n",
       "      <td>2274</td>\n",
       "      <td>2278</td>\n",
       "      <td>2280</td>\n",
       "      <td>2270</td>\n",
       "      <td>2282</td>\n",
       "      <td>2282</td>\n",
       "      <td>2277</td>\n",
       "      <td>2275</td>\n",
       "      <td>2049.000000</td>\n",
       "      <td>2280</td>\n",
       "      <td>2282</td>\n",
       "      <td>2278</td>\n",
       "      <td>2278</td>\n",
       "      <td>2276</td>\n",
       "    </tr>\n",
       "    <tr>\n",
       "      <th>unique</th>\n",
       "      <td>NaN</td>\n",
       "      <td>2236</td>\n",
       "      <td>2237</td>\n",
       "      <td>3</td>\n",
       "      <td>3</td>\n",
       "      <td>16</td>\n",
       "      <td>3</td>\n",
       "      <td>201</td>\n",
       "      <td>NaN</td>\n",
       "      <td>NaN</td>\n",
       "      <td>NaN</td>\n",
       "      <td>3</td>\n",
       "      <td>NaN</td>\n",
       "      <td>NaN</td>\n",
       "      <td>NaN</td>\n",
       "      <td>NaN</td>\n",
       "      <td>9</td>\n",
       "      <td>3</td>\n",
       "      <td>8</td>\n",
       "      <td>3</td>\n",
       "      <td>2237</td>\n",
       "      <td>6</td>\n",
       "      <td>3</td>\n",
       "      <td>37</td>\n",
       "      <td>2</td>\n",
       "      <td>63</td>\n",
       "      <td>6</td>\n",
       "      <td>5</td>\n",
       "      <td>NaN</td>\n",
       "      <td>14</td>\n",
       "      <td>2</td>\n",
       "      <td>1</td>\n",
       "      <td>5</td>\n",
       "      <td>199</td>\n",
       "    </tr>\n",
       "    <tr>\n",
       "      <th>top</th>\n",
       "      <td>NaN</td>\n",
       "      <td>Renee Henderson</td>\n",
       "      <td>355 Cynthia Lakes\\nWest Reginald, MO 65366</td>\n",
       "      <td>f</td>\n",
       "      <td>t</td>\n",
       "      <td>HS-grad</td>\n",
       "      <td>f</td>\n",
       "      <td>??</td>\n",
       "      <td>NaN</td>\n",
       "      <td>NaN</td>\n",
       "      <td>NaN</td>\n",
       "      <td>f</td>\n",
       "      <td>NaN</td>\n",
       "      <td>NaN</td>\n",
       "      <td>NaN</td>\n",
       "      <td>NaN</td>\n",
       "      <td>Not-in-family</td>\n",
       "      <td>f</td>\n",
       "      <td>Private</td>\n",
       "      <td>t</td>\n",
       "      <td>negative.|2262</td>\n",
       "      <td>Never-married</td>\n",
       "      <td>f</td>\n",
       "      <td>United-States</td>\n",
       "      <td>f</td>\n",
       "      <td>{'query hypothyroid':'f','T4U measured':'t','p...</td>\n",
       "      <td>f</td>\n",
       "      <td>other</td>\n",
       "      <td>NaN</td>\n",
       "      <td>Adm-clerical</td>\n",
       "      <td>f</td>\n",
       "      <td>?</td>\n",
       "      <td>White</td>\n",
       "      <td>?</td>\n",
       "    </tr>\n",
       "    <tr>\n",
       "      <th>freq</th>\n",
       "      <td>NaN</td>\n",
       "      <td>3</td>\n",
       "      <td>3</td>\n",
       "      <td>2136</td>\n",
       "      <td>2044</td>\n",
       "      <td>749</td>\n",
       "      <td>2268</td>\n",
       "      <td>76</td>\n",
       "      <td>NaN</td>\n",
       "      <td>NaN</td>\n",
       "      <td>NaN</td>\n",
       "      <td>2217</td>\n",
       "      <td>NaN</td>\n",
       "      <td>NaN</td>\n",
       "      <td>NaN</td>\n",
       "      <td>NaN</td>\n",
       "      <td>628</td>\n",
       "      <td>2187</td>\n",
       "      <td>1601</td>\n",
       "      <td>2125</td>\n",
       "      <td>2</td>\n",
       "      <td>892</td>\n",
       "      <td>2256</td>\n",
       "      <td>2040</td>\n",
       "      <td>2281</td>\n",
       "      <td>1267</td>\n",
       "      <td>2022</td>\n",
       "      <td>1325</td>\n",
       "      <td>NaN</td>\n",
       "      <td>402</td>\n",
       "      <td>2281</td>\n",
       "      <td>2278</td>\n",
       "      <td>1897</td>\n",
       "      <td>235</td>\n",
       "    </tr>\n",
       "    <tr>\n",
       "      <th>mean</th>\n",
       "      <td>1143.000000</td>\n",
       "      <td>NaN</td>\n",
       "      <td>NaN</td>\n",
       "      <td>NaN</td>\n",
       "      <td>NaN</td>\n",
       "      <td>NaN</td>\n",
       "      <td>NaN</td>\n",
       "      <td>NaN</td>\n",
       "      <td>0.995457</td>\n",
       "      <td>83.845139</td>\n",
       "      <td>5.265726e+03</td>\n",
       "      <td>NaN</td>\n",
       "      <td>4.456781</td>\n",
       "      <td>2.023175</td>\n",
       "      <td>1.882513e+05</td>\n",
       "      <td>38.777436</td>\n",
       "      <td>NaN</td>\n",
       "      <td>NaN</td>\n",
       "      <td>NaN</td>\n",
       "      <td>NaN</td>\n",
       "      <td>NaN</td>\n",
       "      <td>NaN</td>\n",
       "      <td>NaN</td>\n",
       "      <td>NaN</td>\n",
       "      <td>NaN</td>\n",
       "      <td>NaN</td>\n",
       "      <td>NaN</td>\n",
       "      <td>NaN</td>\n",
       "      <td>9.964861</td>\n",
       "      <td>NaN</td>\n",
       "      <td>NaN</td>\n",
       "      <td>NaN</td>\n",
       "      <td>NaN</td>\n",
       "      <td>NaN</td>\n",
       "    </tr>\n",
       "    <tr>\n",
       "      <th>std</th>\n",
       "      <td>660.344355</td>\n",
       "      <td>NaN</td>\n",
       "      <td>NaN</td>\n",
       "      <td>NaN</td>\n",
       "      <td>NaN</td>\n",
       "      <td>NaN</td>\n",
       "      <td>NaN</td>\n",
       "      <td>NaN</td>\n",
       "      <td>0.191836</td>\n",
       "      <td>397.416653</td>\n",
       "      <td>2.226147e+05</td>\n",
       "      <td>NaN</td>\n",
       "      <td>20.154550</td>\n",
       "      <td>0.813347</td>\n",
       "      <td>1.092634e+05</td>\n",
       "      <td>12.521955</td>\n",
       "      <td>NaN</td>\n",
       "      <td>NaN</td>\n",
       "      <td>NaN</td>\n",
       "      <td>NaN</td>\n",
       "      <td>NaN</td>\n",
       "      <td>NaN</td>\n",
       "      <td>NaN</td>\n",
       "      <td>NaN</td>\n",
       "      <td>NaN</td>\n",
       "      <td>NaN</td>\n",
       "      <td>NaN</td>\n",
       "      <td>NaN</td>\n",
       "      <td>2.462162</td>\n",
       "      <td>NaN</td>\n",
       "      <td>NaN</td>\n",
       "      <td>NaN</td>\n",
       "      <td>NaN</td>\n",
       "      <td>NaN</td>\n",
       "    </tr>\n",
       "    <tr>\n",
       "      <th>min</th>\n",
       "      <td>0.000000</td>\n",
       "      <td>NaN</td>\n",
       "      <td>NaN</td>\n",
       "      <td>NaN</td>\n",
       "      <td>NaN</td>\n",
       "      <td>NaN</td>\n",
       "      <td>NaN</td>\n",
       "      <td>NaN</td>\n",
       "      <td>0.310000</td>\n",
       "      <td>0.000000</td>\n",
       "      <td>-1.502400e+06</td>\n",
       "      <td>NaN</td>\n",
       "      <td>0.005000</td>\n",
       "      <td>0.050000</td>\n",
       "      <td>2.030800e+04</td>\n",
       "      <td>1.000000</td>\n",
       "      <td>NaN</td>\n",
       "      <td>NaN</td>\n",
       "      <td>NaN</td>\n",
       "      <td>NaN</td>\n",
       "      <td>NaN</td>\n",
       "      <td>NaN</td>\n",
       "      <td>NaN</td>\n",
       "      <td>NaN</td>\n",
       "      <td>NaN</td>\n",
       "      <td>NaN</td>\n",
       "      <td>NaN</td>\n",
       "      <td>NaN</td>\n",
       "      <td>1.000000</td>\n",
       "      <td>NaN</td>\n",
       "      <td>NaN</td>\n",
       "      <td>NaN</td>\n",
       "      <td>NaN</td>\n",
       "      <td>NaN</td>\n",
       "    </tr>\n",
       "    <tr>\n",
       "      <th>25%</th>\n",
       "      <td>571.500000</td>\n",
       "      <td>NaN</td>\n",
       "      <td>NaN</td>\n",
       "      <td>NaN</td>\n",
       "      <td>NaN</td>\n",
       "      <td>NaN</td>\n",
       "      <td>NaN</td>\n",
       "      <td>NaN</td>\n",
       "      <td>0.880000</td>\n",
       "      <td>0.000000</td>\n",
       "      <td>0.000000e+00</td>\n",
       "      <td>NaN</td>\n",
       "      <td>0.440000</td>\n",
       "      <td>1.600000</td>\n",
       "      <td>1.179322e+05</td>\n",
       "      <td>35.000000</td>\n",
       "      <td>NaN</td>\n",
       "      <td>NaN</td>\n",
       "      <td>NaN</td>\n",
       "      <td>NaN</td>\n",
       "      <td>NaN</td>\n",
       "      <td>NaN</td>\n",
       "      <td>NaN</td>\n",
       "      <td>NaN</td>\n",
       "      <td>NaN</td>\n",
       "      <td>NaN</td>\n",
       "      <td>NaN</td>\n",
       "      <td>NaN</td>\n",
       "      <td>9.000000</td>\n",
       "      <td>NaN</td>\n",
       "      <td>NaN</td>\n",
       "      <td>NaN</td>\n",
       "      <td>NaN</td>\n",
       "      <td>NaN</td>\n",
       "    </tr>\n",
       "    <tr>\n",
       "      <th>50%</th>\n",
       "      <td>1143.000000</td>\n",
       "      <td>NaN</td>\n",
       "      <td>NaN</td>\n",
       "      <td>NaN</td>\n",
       "      <td>NaN</td>\n",
       "      <td>NaN</td>\n",
       "      <td>NaN</td>\n",
       "      <td>NaN</td>\n",
       "      <td>0.980000</td>\n",
       "      <td>0.000000</td>\n",
       "      <td>0.000000e+00</td>\n",
       "      <td>NaN</td>\n",
       "      <td>1.400000</td>\n",
       "      <td>2.000000</td>\n",
       "      <td>1.771505e+05</td>\n",
       "      <td>40.000000</td>\n",
       "      <td>NaN</td>\n",
       "      <td>NaN</td>\n",
       "      <td>NaN</td>\n",
       "      <td>NaN</td>\n",
       "      <td>NaN</td>\n",
       "      <td>NaN</td>\n",
       "      <td>NaN</td>\n",
       "      <td>NaN</td>\n",
       "      <td>NaN</td>\n",
       "      <td>NaN</td>\n",
       "      <td>NaN</td>\n",
       "      <td>NaN</td>\n",
       "      <td>10.000000</td>\n",
       "      <td>NaN</td>\n",
       "      <td>NaN</td>\n",
       "      <td>NaN</td>\n",
       "      <td>NaN</td>\n",
       "      <td>NaN</td>\n",
       "    </tr>\n",
       "    <tr>\n",
       "      <th>75%</th>\n",
       "      <td>1714.500000</td>\n",
       "      <td>NaN</td>\n",
       "      <td>NaN</td>\n",
       "      <td>NaN</td>\n",
       "      <td>NaN</td>\n",
       "      <td>NaN</td>\n",
       "      <td>NaN</td>\n",
       "      <td>NaN</td>\n",
       "      <td>1.080000</td>\n",
       "      <td>0.000000</td>\n",
       "      <td>0.000000e+00</td>\n",
       "      <td>NaN</td>\n",
       "      <td>2.600000</td>\n",
       "      <td>2.400000</td>\n",
       "      <td>2.319945e+05</td>\n",
       "      <td>40.000000</td>\n",
       "      <td>NaN</td>\n",
       "      <td>NaN</td>\n",
       "      <td>NaN</td>\n",
       "      <td>NaN</td>\n",
       "      <td>NaN</td>\n",
       "      <td>NaN</td>\n",
       "      <td>NaN</td>\n",
       "      <td>NaN</td>\n",
       "      <td>NaN</td>\n",
       "      <td>NaN</td>\n",
       "      <td>NaN</td>\n",
       "      <td>NaN</td>\n",
       "      <td>11.000000</td>\n",
       "      <td>NaN</td>\n",
       "      <td>NaN</td>\n",
       "      <td>NaN</td>\n",
       "      <td>NaN</td>\n",
       "      <td>NaN</td>\n",
       "    </tr>\n",
       "    <tr>\n",
       "      <th>max</th>\n",
       "      <td>2286.000000</td>\n",
       "      <td>NaN</td>\n",
       "      <td>NaN</td>\n",
       "      <td>NaN</td>\n",
       "      <td>NaN</td>\n",
       "      <td>NaN</td>\n",
       "      <td>NaN</td>\n",
       "      <td>NaN</td>\n",
       "      <td>2.120000</td>\n",
       "      <td>3900.000000</td>\n",
       "      <td>9.999900e+06</td>\n",
       "      <td>NaN</td>\n",
       "      <td>478.000000</td>\n",
       "      <td>10.600000</td>\n",
       "      <td>1.366120e+06</td>\n",
       "      <td>99.000000</td>\n",
       "      <td>NaN</td>\n",
       "      <td>NaN</td>\n",
       "      <td>NaN</td>\n",
       "      <td>NaN</td>\n",
       "      <td>NaN</td>\n",
       "      <td>NaN</td>\n",
       "      <td>NaN</td>\n",
       "      <td>NaN</td>\n",
       "      <td>NaN</td>\n",
       "      <td>NaN</td>\n",
       "      <td>NaN</td>\n",
       "      <td>NaN</td>\n",
       "      <td>16.000000</td>\n",
       "      <td>NaN</td>\n",
       "      <td>NaN</td>\n",
       "      <td>NaN</td>\n",
       "      <td>NaN</td>\n",
       "      <td>NaN</td>\n",
       "    </tr>\n",
       "  </tbody>\n",
       "</table>\n",
       "</div>"
      ],
      "text/plain": [
       "         Unnamed: 0             name  \\\n",
       "count   2287.000000             2287   \n",
       "unique          NaN             2236   \n",
       "top             NaN  Renee Henderson   \n",
       "freq            NaN                3   \n",
       "mean    1143.000000              NaN   \n",
       "std      660.344355              NaN   \n",
       "min        0.000000              NaN   \n",
       "25%      571.500000              NaN   \n",
       "50%     1143.000000              NaN   \n",
       "75%     1714.500000              NaN   \n",
       "max     2286.000000              NaN   \n",
       "\n",
       "                                           address query hyperthyroid  \\\n",
       "count                                         2287               2275   \n",
       "unique                                        2237                  3   \n",
       "top     355 Cynthia Lakes\\nWest Reginald, MO 65366                  f   \n",
       "freq                                             3               2136   \n",
       "mean                                           NaN                NaN   \n",
       "std                                            NaN                NaN   \n",
       "min                                            NaN                NaN   \n",
       "25%                                            NaN                NaN   \n",
       "50%                                            NaN                NaN   \n",
       "75%                                            NaN                NaN   \n",
       "max                                            NaN                NaN   \n",
       "\n",
       "       FTI measured education lithium   TT4          T4U  capital-loss  \\\n",
       "count          2280      2280    2280  1985  2044.000000   2273.000000   \n",
       "unique            3        16       3   201          NaN           NaN   \n",
       "top               t   HS-grad       f    ??          NaN           NaN   \n",
       "freq           2044       749    2268    76          NaN           NaN   \n",
       "mean            NaN       NaN     NaN   NaN     0.995457     83.845139   \n",
       "std             NaN       NaN     NaN   NaN     0.191836    397.416653   \n",
       "min             NaN       NaN     NaN   NaN     0.310000      0.000000   \n",
       "25%             NaN       NaN     NaN   NaN     0.880000      0.000000   \n",
       "50%             NaN       NaN     NaN   NaN     0.980000      0.000000   \n",
       "75%             NaN       NaN     NaN   NaN     1.080000      0.000000   \n",
       "max             NaN       NaN     NaN   NaN     2.120000   3900.000000   \n",
       "\n",
       "        capital-gain tumor          TSH           T3        fnlwgt  \\\n",
       "count   2.281000e+03  2272  2041.000000  1795.000000  2.282000e+03   \n",
       "unique           NaN     3          NaN          NaN           NaN   \n",
       "top              NaN     f          NaN          NaN           NaN   \n",
       "freq             NaN  2217          NaN          NaN           NaN   \n",
       "mean    5.265726e+03   NaN     4.456781     2.023175  1.882513e+05   \n",
       "std     2.226147e+05   NaN    20.154550     0.813347  1.092634e+05   \n",
       "min    -1.502400e+06   NaN     0.005000     0.050000  2.030800e+04   \n",
       "25%     0.000000e+00   NaN     0.440000     1.600000  1.179322e+05   \n",
       "50%     0.000000e+00   NaN     1.400000     2.000000  1.771505e+05   \n",
       "75%     0.000000e+00   NaN     2.600000     2.400000  2.319945e+05   \n",
       "max     9.999900e+06   NaN   478.000000    10.600000  1.366120e+06   \n",
       "\n",
       "        hours-per-week    relationship  sick workclass TT4 measured  \\\n",
       "count      2278.000000            2273  2277      2273         2276   \n",
       "unique             NaN               9     3         8            3   \n",
       "top                NaN   Not-in-family     f   Private            t   \n",
       "freq               NaN             628  2187      1601         2125   \n",
       "mean         38.777436             NaN   NaN       NaN          NaN   \n",
       "std          12.521955             NaN   NaN       NaN          NaN   \n",
       "min           1.000000             NaN   NaN       NaN          NaN   \n",
       "25%          35.000000             NaN   NaN       NaN          NaN   \n",
       "50%          40.000000             NaN   NaN       NaN          NaN   \n",
       "75%          40.000000             NaN   NaN       NaN          NaN   \n",
       "max          99.000000             NaN   NaN       NaN          NaN   \n",
       "\n",
       "                 class  marital-status goitre  native-country hypopituitary  \\\n",
       "count             2274            2278   2280            2270          2282   \n",
       "unique            2237               6      3              37             2   \n",
       "top     negative.|2262   Never-married      f   United-States             f   \n",
       "freq                 2             892   2256            2040          2281   \n",
       "mean               NaN             NaN    NaN             NaN           NaN   \n",
       "std                NaN             NaN    NaN             NaN           NaN   \n",
       "min                NaN             NaN    NaN             NaN           NaN   \n",
       "25%                NaN             NaN    NaN             NaN           NaN   \n",
       "50%                NaN             NaN    NaN             NaN           NaN   \n",
       "75%                NaN             NaN    NaN             NaN           NaN   \n",
       "max                NaN             NaN    NaN             NaN           NaN   \n",
       "\n",
       "                                             medical_info  \\\n",
       "count                                                2282   \n",
       "unique                                                 63   \n",
       "top     {'query hypothyroid':'f','T4U measured':'t','p...   \n",
       "freq                                                 1267   \n",
       "mean                                                  NaN   \n",
       "std                                                   NaN   \n",
       "min                                                   NaN   \n",
       "25%                                                   NaN   \n",
       "50%                                                   NaN   \n",
       "75%                                                   NaN   \n",
       "max                                                   NaN   \n",
       "\n",
       "       on antithyroid medication referral source  education-num  \\\n",
       "count                       2277            2275    2049.000000   \n",
       "unique                         6               5            NaN   \n",
       "top                            f           other            NaN   \n",
       "freq                        2022            1325            NaN   \n",
       "mean                         NaN             NaN       9.964861   \n",
       "std                          NaN             NaN       2.462162   \n",
       "min                          NaN             NaN       1.000000   \n",
       "25%                          NaN             NaN       9.000000   \n",
       "50%                          NaN             NaN      10.000000   \n",
       "75%                          NaN             NaN      11.000000   \n",
       "max                          NaN             NaN      16.000000   \n",
       "\n",
       "           occupation TBG measured   TBG    race   FTI  \n",
       "count            2280         2282  2278    2278  2276  \n",
       "unique             14            2     1       5   199  \n",
       "top      Adm-clerical            f     ?   White     ?  \n",
       "freq              402         2281  2278    1897   235  \n",
       "mean              NaN          NaN   NaN     NaN   NaN  \n",
       "std               NaN          NaN   NaN     NaN   NaN  \n",
       "min               NaN          NaN   NaN     NaN   NaN  \n",
       "25%               NaN          NaN   NaN     NaN   NaN  \n",
       "50%               NaN          NaN   NaN     NaN   NaN  \n",
       "75%               NaN          NaN   NaN     NaN   NaN  \n",
       "max               NaN          NaN   NaN     NaN   NaN  "
      ]
     },
     "execution_count": 13,
     "metadata": {},
     "output_type": "execute_result"
    }
   ],
   "source": [
    "other_train.describe(include='all')"
   ]
  },
  {
   "cell_type": "code",
   "execution_count": 14,
   "metadata": {},
   "outputs": [
    {
     "name": "stdout",
     "output_type": "stream",
     "text": [
      "<class 'pandas.core.frame.DataFrame'>\n",
      "RangeIndex: 2287 entries, 0 to 2286\n",
      "Data columns (total 34 columns):\n",
      "Unnamed: 0                   2287 non-null int64\n",
      "name                         2287 non-null object\n",
      "address                      2287 non-null object\n",
      "query hyperthyroid           2275 non-null object\n",
      "FTI measured                 2280 non-null object\n",
      "education                    2280 non-null object\n",
      "lithium                      2280 non-null object\n",
      "TT4                          1985 non-null object\n",
      "T4U                          2044 non-null float64\n",
      "capital-loss                 2273 non-null float64\n",
      "capital-gain                 2281 non-null float64\n",
      "tumor                        2272 non-null object\n",
      "TSH                          2041 non-null float64\n",
      "T3                           1795 non-null float64\n",
      "fnlwgt                       2282 non-null float64\n",
      "hours-per-week               2278 non-null float64\n",
      "relationship                 2273 non-null object\n",
      "sick                         2277 non-null object\n",
      "workclass                    2273 non-null object\n",
      "TT4 measured                 2276 non-null object\n",
      "class                        2274 non-null object\n",
      "marital-status               2278 non-null object\n",
      "goitre                       2280 non-null object\n",
      "native-country               2270 non-null object\n",
      "hypopituitary                2282 non-null object\n",
      "medical_info                 2282 non-null object\n",
      "on antithyroid medication    2277 non-null object\n",
      "referral source              2275 non-null object\n",
      "education-num                2049 non-null float64\n",
      "occupation                   2280 non-null object\n",
      "TBG measured                 2282 non-null object\n",
      "TBG                          2278 non-null object\n",
      "race                         2278 non-null object\n",
      "FTI                          2276 non-null object\n",
      "dtypes: float64(8), int64(1), object(25)\n",
      "memory usage: 607.6+ KB\n"
     ]
    }
   ],
   "source": [
    "other_train.info()"
   ]
  },
  {
   "cell_type": "markdown",
   "metadata": {},
   "source": [
    "Ukazalo sa, ze niektore ociviedne ciselne atributy (napriklad TT4) sa beru ako object, kvoli analyze bude potrebna ich prevod na cisla"
   ]
  },
  {
   "cell_type": "markdown",
   "metadata": {},
   "source": [
    "Z prveho pohladu na data vidime, ze viacere stlpce obsahuju len true-false hodnoty (alebo Nan): 'query hyperthyroid', 'FTI measured', 'lithium', 'tumor', 'sick', 'TT4 measured', 'goitre', 'hypopituitary', 'TBG measured'. Aj stlpec 'on antithyroid medication' sa javi akoby obsahoval hodnoty true-false."
   ]
  },
  {
   "cell_type": "code",
   "execution_count": 15,
   "metadata": {},
   "outputs": [
    {
     "data": {
      "text/plain": [
       "array(['f', 'FALSE', 'TRUE', 'F', 't', nan, 'f.2'], dtype=object)"
      ]
     },
     "execution_count": 15,
     "metadata": {},
     "output_type": "execute_result"
    }
   ],
   "source": [
    "other_train['on antithyroid medication'].unique()"
   ]
  },
  {
   "cell_type": "markdown",
   "metadata": {},
   "source": [
    "Tieto hodnoty treba zredukovat na hodnoty true, false a Nan."
   ]
  },
  {
   "cell_type": "code",
   "execution_count": 16,
   "metadata": {},
   "outputs": [
    {
     "name": "stdout",
     "output_type": "stream",
     "text": [
      "Pocet riadkov: 2287\n"
     ]
    }
   ],
   "source": [
    "print('Pocet riadkov:',other_train.shape[0])"
   ]
  },
  {
   "cell_type": "markdown",
   "metadata": {},
   "source": [
    "### Podiel chybajucich hodnot v jednotlivych atributoch"
   ]
  },
  {
   "cell_type": "code",
   "execution_count": 17,
   "metadata": {},
   "outputs": [
    {
     "data": {
      "text/plain": [
       "<matplotlib.axes._subplots.AxesSubplot at 0x7f9ad4f6f978>"
      ]
     },
     "execution_count": 17,
     "metadata": {},
     "output_type": "execute_result"
    },
    {
     "data": {
      "image/png": "[encoded data removed]",
      "text/plain": [
       "<Figure size 1080x288 with 1 Axes>"
      ]
     },
     "metadata": {},
     "output_type": "display_data"
    }
   ],
   "source": [
    "plt.figure(figsize=(15,4))\n",
    "other_train.isna().sum().map(lambda x: (x / train_data.shape[0])* 100).plot(kind='bar',title = 'Ratio of missing values')"
   ]
  },
  {
   "cell_type": "markdown",
   "metadata": {},
   "source": [
    "Na prvy pohlad pri vacsine atributov je malo chybajucich hodnot, ale pri atribute T3 uz chyba viac ako 20%, preto nebude mat taku vypovednu hodnotu. Pri viacerych atributoch su chybajuce hodnoty znacene inym sposobom (napriklad '???'), preto tento prvy pohlad pravdepodobne nie je presny"
   ]
  },
  {
   "cell_type": "markdown",
   "metadata": {},
   "source": [
    "### Pohľad na predikované hodnoty"
   ]
  },
  {
   "cell_type": "markdown",
   "metadata": {},
   "source": [
    "Zvacsenie vykreslenych grafov:"
   ]
  },
  {
   "cell_type": "code",
   "execution_count": 84,
   "metadata": {},
   "outputs": [],
   "source": [
    "plt.rcParams['figure.figsize'] = (10,8)"
   ]
  },
  {
   "cell_type": "markdown",
   "metadata": {},
   "source": [
    "Pocet uniktnych hodnot:"
   ]
  },
  {
   "cell_type": "code",
   "execution_count": 18,
   "metadata": {},
   "outputs": [
    {
     "data": {
      "text/plain": [
       "2238"
      ]
     },
     "execution_count": 18,
     "metadata": {},
     "output_type": "execute_result"
    }
   ],
   "source": [
    "other_train['class'].unique().shape[0]"
   ]
  },
  {
   "cell_type": "code",
   "execution_count": 19,
   "metadata": {},
   "outputs": [
    {
     "data": {
      "text/plain": [
       "0     negative.|165\n",
       "1    negative.|2191\n",
       "2    negative.|1019\n",
       "3    negative.|1061\n",
       "4    Negative.|1173\n",
       "Name: class, dtype: object"
      ]
     },
     "execution_count": 19,
     "metadata": {},
     "output_type": "execute_result"
    }
   ],
   "source": [
    "other_train['class'].head()"
   ]
  },
  {
   "cell_type": "markdown",
   "metadata": {},
   "source": [
    "Predikovany atribut \"class\" potrebujeme upravit na zakladne dve kategorie a to negative a positive "
   ]
  },
  {
   "cell_type": "code",
   "execution_count": 37,
   "metadata": {},
   "outputs": [
    {
     "data": {
      "text/plain": [
       "array(['negative.|165', 'negative.|2191', 'negative.|1019', ...,\n",
       "       'increased binding protein.|1018', 'Negative.|2378',\n",
       "       'increased binding protein.|882'], dtype=object)"
      ]
     },
     "execution_count": 37,
     "metadata": {},
     "output_type": "execute_result"
    }
   ],
   "source": [
    "other_train['class'].unique()"
   ]
  },
  {
   "cell_type": "code",
   "execution_count": 40,
   "metadata": {},
   "outputs": [],
   "source": [
    "def findPatternChange(df,column, new_column, source, target):\n",
    "    sample = df[column].str.contains(source, na=False, regex=False, case=False)\n",
    "    df.loc[sample, new_column] = target\n",
    "    return df"
   ]
  },
  {
   "cell_type": "code",
   "execution_count": 121,
   "metadata": {},
   "outputs": [],
   "source": [
    "analz_data = findPatternChange(other_train,'class','new_class','negative','negative')\n",
    "analz_data = findPatternChange(analz_data,'class','new_class','increased','increased')\n",
    "analz_data = findPatternChange(analz_data,'class','new_class','decreased','decreased')"
   ]
  },
  {
   "cell_type": "code",
   "execution_count": 85,
   "metadata": {},
   "outputs": [
    {
     "data": {
      "text/plain": [
       "<matplotlib.axes._subplots.AxesSubplot at 0x7f9acd820fd0>"
      ]
     },
     "execution_count": 85,
     "metadata": {},
     "output_type": "execute_result"
    },
    {
     "data": {
      "image/png": "[encoded data removed]",
      "text/plain": [
       "<Figure size 720x576 with 1 Axes>"
      ]
     },
     "metadata": {},
     "output_type": "display_data"
    }
   ],
   "source": [
    "analz_data['new_class'].value_counts().plot.pie(autopct='%1.1f%%', title = \"Overview of conclusions in dataset\")"
   ]
  },
  {
   "cell_type": "markdown",
   "metadata": {},
   "source": [
    "Vacsina sledovanych ludi ma zaver 'negative', male percento ma zaznamenane zmeny v organizme"
   ]
  },
  {
   "cell_type": "code",
   "execution_count": 58,
   "metadata": {},
   "outputs": [
    {
     "data": {
      "text/plain": [
       "Index(['Unnamed: 0', 'name', 'address', 'query hyperthyroid', 'FTI measured',\n",
       "       'education', 'lithium', 'TT4', 'T4U', 'capital-loss', 'capital-gain',\n",
       "       'tumor', 'TSH', 'T3', 'fnlwgt', 'hours-per-week', 'relationship',\n",
       "       'sick', 'workclass', 'TT4 measured', 'class', 'marital-status',\n",
       "       'goitre', 'native-country', 'hypopituitary', 'medical_info',\n",
       "       'on antithyroid medication', 'referral source', 'education-num',\n",
       "       'occupation', 'TBG measured', 'TBG', 'race', 'FTI', 'new_class'],\n",
       "      dtype='object')"
      ]
     },
     "execution_count": 58,
     "metadata": {},
     "output_type": "execute_result"
    }
   ],
   "source": [
    "other_train.columns"
   ]
  },
  {
   "cell_type": "markdown",
   "metadata": {},
   "source": [
    "### Numericke atributy\n",
    "Unnamed: 0, TT4, T4U, capital-loss, capital-gain, TSH, T3, fnlwgt, education-num, FTI"
   ]
  },
  {
   "cell_type": "markdown",
   "metadata": {},
   "source": [
    "Funkcia, ktora zorazi zakladny pohlad na data:"
   ]
  },
  {
   "cell_type": "code",
   "execution_count": 127,
   "metadata": {},
   "outputs": [],
   "source": [
    "def analyze_numeric(df, column):\n",
    "    print(df[column].describe())\n",
    "    sn.distplot(df[df['new_class'] == 'increased'][column].dropna(), kde_kws={\"color\": \"b\", \"lw\": 3, \"label\": \"increased\"})\n",
    "    sn.distplot(df[df['new_class'] == 'decreased'][column].dropna(), kde_kws={\"color\": \"g\", \"lw\": 3, \"label\": \"decreased\"})\n",
    "    sn.distplot(df[df['new_class'] == 'negative'][column].dropna(), kde_kws={\"color\": \"r\", \"lw\": 3, \"label\": \"negative\"},)\n",
    "    box_plot = df.boxplot(column=column, by='new_class')\n",
    "    "
   ]
  },
  {
   "cell_type": "markdown",
   "metadata": {},
   "source": [
    "#### Unnamed"
   ]
  },
  {
   "cell_type": "code",
   "execution_count": 112,
   "metadata": {},
   "outputs": [
    {
     "data": {
      "text/plain": [
       "0    0\n",
       "1    1\n",
       "2    2\n",
       "3    3\n",
       "4    4\n",
       "Name: Unnamed: 0, dtype: int64"
      ]
     },
     "execution_count": 112,
     "metadata": {},
     "output_type": "execute_result"
    }
   ],
   "source": [
    "other_train['Unnamed: 0'].head()"
   ]
  },
  {
   "cell_type": "markdown",
   "metadata": {},
   "source": [
    "Tento atribut obsahuje len indexy, v pohladu analyzi je zbytocny"
   ]
  },
  {
   "cell_type": "markdown",
   "metadata": {},
   "source": [
    "#### TT4"
   ]
  },
  {
   "cell_type": "code",
   "execution_count": 117,
   "metadata": {},
   "outputs": [
    {
     "data": {
      "text/plain": [
       "0     84.0\n",
       "1    128.0\n",
       "2    114.0\n",
       "3     91.0\n",
       "4     83.0\n",
       "Name: TT4, dtype: object"
      ]
     },
     "execution_count": 117,
     "metadata": {},
     "output_type": "execute_result"
    }
   ],
   "source": [
    "other_train.TT4.head()"
   ]
  },
  {
   "cell_type": "markdown",
   "metadata": {},
   "source": [
    "Tento atribut sa javi, ako ciselny, ale je ulozeny, ako object"
   ]
  },
  {
   "cell_type": "code",
   "execution_count": 118,
   "metadata": {},
   "outputs": [],
   "source": [
    "other_train['TT4'] = pd.to_numeric(other_train.TT4, errors='coerce')"
   ]
  },
  {
   "cell_type": "code",
   "execution_count": 119,
   "metadata": {},
   "outputs": [
    {
     "data": {
      "text/plain": [
       "0     84.0\n",
       "1    128.0\n",
       "2    114.0\n",
       "3     91.0\n",
       "4     83.0\n",
       "Name: TT4, dtype: float64"
      ]
     },
     "execution_count": 119,
     "metadata": {},
     "output_type": "execute_result"
    }
   ],
   "source": [
    "other_train.TT4.head()"
   ]
  },
  {
   "cell_type": "code",
   "execution_count": 128,
   "metadata": {},
   "outputs": [
    {
     "name": "stdout",
     "output_type": "stream",
     "text": [
      "count    1909.000000\n",
      "mean      109.077737\n",
      "std        35.544961\n",
      "min         2.000000\n",
      "25%        88.000000\n",
      "50%       104.000000\n",
      "75%       125.000000\n",
      "max       430.000000\n",
      "Name: TT4, dtype: float64\n"
     ]
    },
    {
     "name": "stderr",
     "output_type": "stream",
     "text": [
      "/home/vajk/anaconda3/lib/python3.6/site-packages/matplotlib/axes/_axes.py:6499: MatplotlibDeprecationWarning: \n",
      "The 'normed' kwarg was deprecated in Matplotlib 2.1 and will be removed in 3.1. Use 'density' instead.\n",
      "  alternative=\"'density'\", removal=\"3.1\")\n",
      "/home/vajk/anaconda3/lib/python3.6/site-packages/matplotlib/axes/_axes.py:6499: MatplotlibDeprecationWarning: \n",
      "The 'normed' kwarg was deprecated in Matplotlib 2.1 and will be removed in 3.1. Use 'density' instead.\n",
      "  alternative=\"'density'\", removal=\"3.1\")\n",
      "/home/vajk/anaconda3/lib/python3.6/site-packages/matplotlib/axes/_axes.py:6499: MatplotlibDeprecationWarning: \n",
      "The 'normed' kwarg was deprecated in Matplotlib 2.1 and will be removed in 3.1. Use 'density' instead.\n",
      "  alternative=\"'density'\", removal=\"3.1\")\n"
     ]
    },
    {
     "data": {
      "image/png": "[encoded data removed]",
      "text/plain": [
       "<Figure size 720x576 with 1 Axes>"
      ]
     },
     "metadata": {},
     "output_type": "display_data"
    },
    {
     "data": {
      "image/png": "[encoded data removed]",
      "text/plain": [
       "<Figure size 720x576 with 1 Axes>"
      ]
     },
     "metadata": {},
     "output_type": "display_data"
    }
   ],
   "source": [
    "analyze_numeric(other_train,'TT4')"
   ]
  },
  {
   "cell_type": "markdown",
   "metadata": {},
   "source": [
    "Z grafov vyplyva, na zaklade tohto atributu sa daju najst rozdiely medzi negativnymi a medzi ludmi so zmenenou hodnotou proteinov. Boxplot ukazuje, ze ludia s negativnym vysledkom sa nachadzaju aj v rozsahu, kde su ludia s naznakom choroby, preto tento atribut samostatne nie je dostatocne dobry identifikator"
   ]
  },
  {
   "cell_type": "markdown",
   "metadata": {},
   "source": [
    "#### T4U"
   ]
  },
  {
   "cell_type": "code",
   "execution_count": 125,
   "metadata": {},
   "outputs": [
    {
     "data": {
      "text/plain": [
       "0    0.87\n",
       "1    1.14\n",
       "2    1.02\n",
       "3    1.16\n",
       "4    0.82\n",
       "Name: T4U, dtype: float64"
      ]
     },
     "execution_count": 125,
     "metadata": {},
     "output_type": "execute_result"
    }
   ],
   "source": [
    "other_train.T4U.head()"
   ]
  },
  {
   "cell_type": "code",
   "execution_count": 129,
   "metadata": {},
   "outputs": [
    {
     "name": "stdout",
     "output_type": "stream",
     "text": [
      "count    2044.000000\n",
      "mean        0.995457\n",
      "std         0.191836\n",
      "min         0.310000\n",
      "25%         0.880000\n",
      "50%         0.980000\n",
      "75%         1.080000\n",
      "max         2.120000\n",
      "Name: T4U, dtype: float64\n"
     ]
    },
    {
     "name": "stderr",
     "output_type": "stream",
     "text": [
      "/home/vajk/anaconda3/lib/python3.6/site-packages/matplotlib/axes/_axes.py:6499: MatplotlibDeprecationWarning: \n",
      "The 'normed' kwarg was deprecated in Matplotlib 2.1 and will be removed in 3.1. Use 'density' instead.\n",
      "  alternative=\"'density'\", removal=\"3.1\")\n",
      "/home/vajk/anaconda3/lib/python3.6/site-packages/matplotlib/axes/_axes.py:6499: MatplotlibDeprecationWarning: \n",
      "The 'normed' kwarg was deprecated in Matplotlib 2.1 and will be removed in 3.1. Use 'density' instead.\n",
      "  alternative=\"'density'\", removal=\"3.1\")\n",
      "/home/vajk/anaconda3/lib/python3.6/site-packages/matplotlib/axes/_axes.py:6499: MatplotlibDeprecationWarning: \n",
      "The 'normed' kwarg was deprecated in Matplotlib 2.1 and will be removed in 3.1. Use 'density' instead.\n",
      "  alternative=\"'density'\", removal=\"3.1\")\n"
     ]
    },
    {
     "data": {
      "image/png": "[encoded data removed]",
      "text/plain": [
       "<Figure size 720x576 with 1 Axes>"
      ]
     },
     "metadata": {},
     "output_type": "display_data"
    },
    {
     "data": {
      "image/png": "[encoded data removed]",
      "text/plain": [
       "<Figure size 720x576 with 1 Axes>"
      ]
     },
     "metadata": {},
     "output_type": "display_data"
    }
   ],
   "source": [
    "analyze_numeric(other_train,'T4U')"
   ]
  },
  {
   "cell_type": "markdown",
   "metadata": {},
   "source": [
    "Atribut ma podobne vlastnosti, ako TT4"
   ]
  },
  {
   "cell_type": "markdown",
   "metadata": {},
   "source": [
    "#### capital-loss"
   ]
  },
  {
   "cell_type": "code",
   "execution_count": 136,
   "metadata": {},
   "outputs": [
    {
     "data": {
      "text/plain": [
       "0.0       2170\n",
       "1977.0      12\n",
       "1902.0       8\n",
       "1602.0       7\n",
       "1740.0       6\n",
       "1721.0       4\n",
       "1887.0       4\n",
       "1741.0       4\n",
       "1762.0       3\n",
       "1590.0       3\n",
       "1564.0       3\n",
       "2339.0       3\n",
       "1485.0       3\n",
       "625.0        3\n",
       "1719.0       2\n",
       "2042.0       2\n",
       "1504.0       2\n",
       "1380.0       2\n",
       "2377.0       2\n",
       "2415.0       2\n",
       "880.0        2\n",
       "1669.0       2\n",
       "1579.0       1\n",
       "1848.0       1\n",
       "2149.0       1\n",
       "1876.0       1\n",
       "2057.0       1\n",
       "2179.0       1\n",
       "3900.0       1\n",
       "1408.0       1\n",
       "2174.0       1\n",
       "1648.0       1\n",
       "2001.0       1\n",
       "1651.0       1\n",
       "1980.0       1\n",
       "2472.0       1\n",
       "3683.0       1\n",
       "1628.0       1\n",
       "2205.0       1\n",
       "2824.0       1\n",
       "2547.0       1\n",
       "1974.0       1\n",
       "2754.0       1\n",
       "2258.0       1\n",
       "1726.0       1\n",
       "2002.0       1\n",
       "Name: capital-loss, dtype: int64"
      ]
     },
     "execution_count": 136,
     "metadata": {},
     "output_type": "execute_result"
    }
   ],
   "source": [
    "other_train['capital-loss'].value_counts()"
   ]
  },
  {
   "cell_type": "markdown",
   "metadata": {},
   "source": [
    "Vacsina hodnot je 0, atribut samostatne pravdepodobne nema velku vypovednu hodnotu"
   ]
  },
  {
   "cell_type": "markdown",
   "metadata": {},
   "source": [
    "#### capital-gain"
   ]
  },
  {
   "cell_type": "code",
   "execution_count": 139,
   "metadata": {},
   "outputs": [
    {
     "data": {
      "text/plain": [
       " 0.0          2117\n",
       " 7298.0         13\n",
       " 15024.0        13\n",
       " 7688.0          8\n",
       " 8614.0          7\n",
       " 4650.0          6\n",
       " 99999.0         6\n",
       " 5013.0          5\n",
       " 5178.0          5\n",
       " 27828.0         5\n",
       " 10520.0         5\n",
       " 2174.0          4\n",
       " 3103.0          3\n",
       " 3464.0          3\n",
       " 2977.0          3\n",
       " 2964.0          2\n",
       " 1502400.0       2\n",
       " 1055.0          2\n",
       " 3887.0          2\n",
       " 2354.0          2\n",
       " 4787.0          2\n",
       " 1506.0          2\n",
       " 6497.0          2\n",
       " 3908.0          2\n",
       " 25236.0         2\n",
       " 14084.0         2\n",
       " 4386.0          2\n",
       " 729800.0        1\n",
       " 1831.0          1\n",
       " 914.0           1\n",
       "              ... \n",
       " 2009.0          1\n",
       " 235400.0        1\n",
       " 4508.0          1\n",
       " 288500.0        1\n",
       " 1471.0          1\n",
       " 2202.0          1\n",
       " 2635.0          1\n",
       " 4064.0          1\n",
       " 991.0           1\n",
       "-406400.0        1\n",
       "-241400.0        1\n",
       " 478700.0        1\n",
       " 9386.0          1\n",
       " 768800.0        1\n",
       " 2463.0          1\n",
       " 2907.0          1\n",
       " 20051.0         1\n",
       "-229000.0        1\n",
       " 594.0           1\n",
       " 3418.0          1\n",
       "-478700.0        1\n",
       " 9999900.0       1\n",
       " 6418.0          1\n",
       " 3471.0          1\n",
       " 6849.0          1\n",
       " 1639.0          1\n",
       " 4687.0          1\n",
       " 406400.0        1\n",
       " 4101.0          1\n",
       "-232900.0        1\n",
       "Name: capital-gain, Length: 81, dtype: int64"
      ]
     },
     "execution_count": 139,
     "metadata": {},
     "output_type": "execute_result"
    }
   ],
   "source": [
    "other_train['capital-gain'].value_counts()"
   ]
  },
  {
   "cell_type": "markdown",
   "metadata": {},
   "source": [
    "Podobne ako v priapde capital-loss, vacsina hodnot je 0, ale dalsie hodnoty su z vacsiho rozsahu"
   ]
  },
  {
   "cell_type": "markdown",
   "metadata": {},
   "source": [
    "#### TSH"
   ]
  },
  {
   "cell_type": "code",
   "execution_count": 140,
   "metadata": {},
   "outputs": [
    {
     "data": {
      "text/plain": [
       "0    0.2\n",
       "1    3.0\n",
       "2    1.9\n",
       "3    8.5\n",
       "4    6.2\n",
       "Name: TSH, dtype: float64"
      ]
     },
     "execution_count": 140,
     "metadata": {},
     "output_type": "execute_result"
    }
   ],
   "source": [
    "other_train.TSH.head()"
   ]
  },
  {
   "cell_type": "code",
   "execution_count": 141,
   "metadata": {},
   "outputs": [
    {
     "name": "stdout",
     "output_type": "stream",
     "text": [
      "count    2041.000000\n",
      "mean        4.456781\n",
      "std        20.154550\n",
      "min         0.005000\n",
      "25%         0.440000\n",
      "50%         1.400000\n",
      "75%         2.600000\n",
      "max       478.000000\n",
      "Name: TSH, dtype: float64\n"
     ]
    },
    {
     "name": "stderr",
     "output_type": "stream",
     "text": [
      "/home/vajk/anaconda3/lib/python3.6/site-packages/matplotlib/axes/_axes.py:6499: MatplotlibDeprecationWarning: \n",
      "The 'normed' kwarg was deprecated in Matplotlib 2.1 and will be removed in 3.1. Use 'density' instead.\n",
      "  alternative=\"'density'\", removal=\"3.1\")\n",
      "/home/vajk/anaconda3/lib/python3.6/site-packages/matplotlib/axes/_axes.py:6499: MatplotlibDeprecationWarning: \n",
      "The 'normed' kwarg was deprecated in Matplotlib 2.1 and will be removed in 3.1. Use 'density' instead.\n",
      "  alternative=\"'density'\", removal=\"3.1\")\n",
      "/home/vajk/anaconda3/lib/python3.6/site-packages/matplotlib/axes/_axes.py:6499: MatplotlibDeprecationWarning: \n",
      "The 'normed' kwarg was deprecated in Matplotlib 2.1 and will be removed in 3.1. Use 'density' instead.\n",
      "  alternative=\"'density'\", removal=\"3.1\")\n"
     ]
    },
    {
     "data": {
      "image/png": "[encoded data removed]",
      "text/plain": [
       "<Figure size 720x576 with 1 Axes>"
      ]
     },
     "metadata": {},
     "output_type": "display_data"
    },
    {
     "data": {
      "image/png": "[encoded data removed]",
      "text/plain": [
       "<Figure size 720x576 with 1 Axes>"
      ]
     },
     "metadata": {},
     "output_type": "display_data"
    }
   ],
   "source": [
    "analyze_numeric(other_train,'TSH')"
   ]
  },
  {
   "cell_type": "markdown",
   "metadata": {},
   "source": [
    "Grafy naznacuju, ze chori ludia maju nizku hodnotu TSH. Podobne, ako v pripade TT4, aj ludia s negativnymi vysledkami maju vacsinou nizku hodnotu, ale su ovela viac rozptyleni, kym chori sa nachadzaju len v uzsom rozsahu"
   ]
  },
  {
   "cell_type": "markdown",
   "metadata": {},
   "source": [
    "#### T3"
   ]
  },
  {
   "cell_type": "code",
   "execution_count": 142,
   "metadata": {},
   "outputs": [
    {
     "data": {
      "text/plain": [
       "0    1.6\n",
       "1    2.3\n",
       "2    1.8\n",
       "3    2.1\n",
       "4    1.2\n",
       "Name: T3, dtype: float64"
      ]
     },
     "execution_count": 142,
     "metadata": {},
     "output_type": "execute_result"
    }
   ],
   "source": [
    "other_train.T3.head()"
   ]
  },
  {
   "cell_type": "code",
   "execution_count": 143,
   "metadata": {},
   "outputs": [
    {
     "name": "stdout",
     "output_type": "stream",
     "text": [
      "count    1795.000000\n",
      "mean        2.023175\n",
      "std         0.813347\n",
      "min         0.050000\n",
      "25%         1.600000\n",
      "50%         2.000000\n",
      "75%         2.400000\n",
      "max        10.600000\n",
      "Name: T3, dtype: float64\n"
     ]
    },
    {
     "name": "stderr",
     "output_type": "stream",
     "text": [
      "/home/vajk/anaconda3/lib/python3.6/site-packages/matplotlib/axes/_axes.py:6499: MatplotlibDeprecationWarning: \n",
      "The 'normed' kwarg was deprecated in Matplotlib 2.1 and will be removed in 3.1. Use 'density' instead.\n",
      "  alternative=\"'density'\", removal=\"3.1\")\n",
      "/home/vajk/anaconda3/lib/python3.6/site-packages/matplotlib/axes/_axes.py:6499: MatplotlibDeprecationWarning: \n",
      "The 'normed' kwarg was deprecated in Matplotlib 2.1 and will be removed in 3.1. Use 'density' instead.\n",
      "  alternative=\"'density'\", removal=\"3.1\")\n",
      "/home/vajk/anaconda3/lib/python3.6/site-packages/matplotlib/axes/_axes.py:6499: MatplotlibDeprecationWarning: \n",
      "The 'normed' kwarg was deprecated in Matplotlib 2.1 and will be removed in 3.1. Use 'density' instead.\n",
      "  alternative=\"'density'\", removal=\"3.1\")\n"
     ]
    },
    {
     "data": {
      "image/png": "[encoded data removed]",
      "text/plain": [
       "<Figure size 720x576 with 1 Axes>"
      ]
     },
     "metadata": {},
     "output_type": "display_data"
    },
    {
     "data": {
      "image/png": "[encoded data removed]",
      "text/plain": [
       "<Figure size 720x576 with 1 Axes>"
      ]
     },
     "metadata": {},
     "output_type": "display_data"
    }
   ],
   "source": [
    "analyze_numeric(other_train,'T3')"
   ]
  },
  {
   "cell_type": "markdown",
   "metadata": {},
   "source": [
    "#### fnlwgt"
   ]
  },
  {
   "cell_type": "code",
   "execution_count": 144,
   "metadata": {},
   "outputs": [
    {
     "data": {
      "text/plain": [
       "0    127573.0\n",
       "1    103218.0\n",
       "2    134181.0\n",
       "3    195914.0\n",
       "4    121135.0\n",
       "Name: fnlwgt, dtype: float64"
      ]
     },
     "execution_count": 144,
     "metadata": {},
     "output_type": "execute_result"
    }
   ],
   "source": [
    "other_train.fnlwgt.head()"
   ]
  },
  {
   "cell_type": "code",
   "execution_count": 145,
   "metadata": {},
   "outputs": [
    {
     "name": "stdout",
     "output_type": "stream",
     "text": [
      "count    2.282000e+03\n",
      "mean     1.882513e+05\n",
      "std      1.092634e+05\n",
      "min      2.030800e+04\n",
      "25%      1.179322e+05\n",
      "50%      1.771505e+05\n",
      "75%      2.319945e+05\n",
      "max      1.366120e+06\n",
      "Name: fnlwgt, dtype: float64\n"
     ]
    },
    {
     "name": "stderr",
     "output_type": "stream",
     "text": [
      "/home/vajk/anaconda3/lib/python3.6/site-packages/matplotlib/axes/_axes.py:6499: MatplotlibDeprecationWarning: \n",
      "The 'normed' kwarg was deprecated in Matplotlib 2.1 and will be removed in 3.1. Use 'density' instead.\n",
      "  alternative=\"'density'\", removal=\"3.1\")\n",
      "/home/vajk/anaconda3/lib/python3.6/site-packages/matplotlib/axes/_axes.py:6499: MatplotlibDeprecationWarning: \n",
      "The 'normed' kwarg was deprecated in Matplotlib 2.1 and will be removed in 3.1. Use 'density' instead.\n",
      "  alternative=\"'density'\", removal=\"3.1\")\n",
      "/home/vajk/anaconda3/lib/python3.6/site-packages/matplotlib/axes/_axes.py:6499: MatplotlibDeprecationWarning: \n",
      "The 'normed' kwarg was deprecated in Matplotlib 2.1 and will be removed in 3.1. Use 'density' instead.\n",
      "  alternative=\"'density'\", removal=\"3.1\")\n"
     ]
    },
    {
     "data": {
      "image/png": "[encoded data removed]",
      "text/plain": [
       "<Figure size 720x576 with 1 Axes>"
      ]
     },
     "metadata": {},
     "output_type": "display_data"
    },
    {
     "data": {
      "image/png": "[encoded data removed]",
      "text/plain": [
       "<Figure size 720x576 with 1 Axes>"
      ]
     },
     "metadata": {},
     "output_type": "display_data"
    }
   ],
   "source": [
    "analyze_numeric(other_train,'fnlwgt')"
   ]
  },
  {
   "cell_type": "markdown",
   "metadata": {},
   "source": [
    "Tento atribut ma velmi podobne rozdelenie v pripade zdravych aj horych, len v pripade negativnych je viacej extremnych hodnot"
   ]
  },
  {
   "cell_type": "markdown",
   "metadata": {},
   "source": [
    "#### education-num"
   ]
  },
  {
   "cell_type": "code",
   "execution_count": 148,
   "metadata": {},
   "outputs": [
    {
     "data": {
      "text/plain": [
       "9.0     666\n",
       "10.0    499\n",
       "13.0    301\n",
       "14.0    112\n",
       "11.0    101\n",
       "7.0      76\n",
       "12.0     61\n",
       "6.0      52\n",
       "4.0      41\n",
       "8.0      39\n",
       "5.0      30\n",
       "15.0     24\n",
       "3.0      21\n",
       "16.0     12\n",
       "2.0      11\n",
       "1.0       3\n",
       "Name: education-num, dtype: int64"
      ]
     },
     "execution_count": 148,
     "metadata": {},
     "output_type": "execute_result"
    }
   ],
   "source": [
    "other_train['education-num'].value_counts()"
   ]
  },
  {
   "cell_type": "markdown",
   "metadata": {},
   "source": [
    "Tento atribut sa javi ako kategoricky (analyza nizsie)"
   ]
  },
  {
   "cell_type": "markdown",
   "metadata": {},
   "source": [
    "#### FTI"
   ]
  },
  {
   "cell_type": "code",
   "execution_count": 152,
   "metadata": {},
   "outputs": [
    {
     "data": {
      "text/plain": [
       "0     97\n",
       "1    112\n",
       "2    112\n",
       "3     79\n",
       "4    101\n",
       "Name: FTI, dtype: object"
      ]
     },
     "execution_count": 152,
     "metadata": {},
     "output_type": "execute_result"
    }
   ],
   "source": [
    "other_train.FTI.head()"
   ]
  },
  {
   "cell_type": "markdown",
   "metadata": {},
   "source": [
    "Tento atribut obsahuje cisla, ale je typu object, su tam hodnoty '?', co pravdepodobne znaci Nan hondotu"
   ]
  },
  {
   "cell_type": "code",
   "execution_count": 153,
   "metadata": {},
   "outputs": [],
   "source": [
    "other_train['FTI'] = pd.to_numeric(other_train.FTI, errors='coerce')"
   ]
  },
  {
   "cell_type": "code",
   "execution_count": 154,
   "metadata": {},
   "outputs": [
    {
     "name": "stdout",
     "output_type": "stream",
     "text": [
      "count    2041.000000\n",
      "mean      111.201323\n",
      "std        33.218222\n",
      "min         2.000000\n",
      "25%        93.000000\n",
      "50%       107.000000\n",
      "75%       125.000000\n",
      "max       395.000000\n",
      "Name: FTI, dtype: float64\n"
     ]
    },
    {
     "name": "stderr",
     "output_type": "stream",
     "text": [
      "/home/vajk/anaconda3/lib/python3.6/site-packages/matplotlib/axes/_axes.py:6499: MatplotlibDeprecationWarning: \n",
      "The 'normed' kwarg was deprecated in Matplotlib 2.1 and will be removed in 3.1. Use 'density' instead.\n",
      "  alternative=\"'density'\", removal=\"3.1\")\n",
      "/home/vajk/anaconda3/lib/python3.6/site-packages/matplotlib/axes/_axes.py:6499: MatplotlibDeprecationWarning: \n",
      "The 'normed' kwarg was deprecated in Matplotlib 2.1 and will be removed in 3.1. Use 'density' instead.\n",
      "  alternative=\"'density'\", removal=\"3.1\")\n",
      "/home/vajk/anaconda3/lib/python3.6/site-packages/matplotlib/axes/_axes.py:6499: MatplotlibDeprecationWarning: \n",
      "The 'normed' kwarg was deprecated in Matplotlib 2.1 and will be removed in 3.1. Use 'density' instead.\n",
      "  alternative=\"'density'\", removal=\"3.1\")\n"
     ]
    },
    {
     "data": {
      "image/png": "[encoded data removed]",
      "text/plain": [
       "<Figure size 720x576 with 1 Axes>"
      ]
     },
     "metadata": {},
     "output_type": "display_data"
    },
    {
     "data": {
      "image/png": "[encoded data removed]",
      "text/plain": [
       "<Figure size 720x576 with 1 Axes>"
      ]
     },
     "metadata": {},
     "output_type": "display_data"
    }
   ],
   "source": [
    "analyze_numeric(other_train,'FTI')"
   ]
  },
  {
   "cell_type": "markdown",
   "metadata": {},
   "source": [
    "### Kategoricke atributy\n",
    "Atributy, ktore sa javia, ako kategoricke: education, education-num, relationship, workclass, marital-status, native-country, referral source, occupation, race"
   ]
  },
  {
   "cell_type": "markdown",
   "metadata": {},
   "source": [
    "funkcia na ziskania zakladneho pohladu o atribute:"
   ]
  },
  {
   "cell_type": "code",
   "execution_count": 163,
   "metadata": {},
   "outputs": [],
   "source": [
    "def analyze_cat(index, col, norm='columns', rename=\"percentage\"):\n",
    "    table = pd.crosstab(index=index, columns=col,normalize=norm)\n",
    "    \n",
    "    stacked = table.stack().reset_index().rename(columns={0: rename})\n",
    "    \n",
    "    sn.barplot(x=stacked.iloc[:,0], y=stacked.iloc[:,2], hue=stacked.iloc[:,1])\n",
    "    plt.xticks(rotation=90)\n",
    "    return stacked"
   ]
  },
  {
   "cell_type": "markdown",
   "metadata": {},
   "source": []
  },
  {
   "cell_type": "code",
   "execution_count": 162,
   "metadata": {
    "scrolled": false
   },
   "outputs": [
    {
     "data": {
      "image/png": "[encoded data removed]",
      "text/plain": [
       "<Figure size 720x576 with 1 Axes>"
      ]
     },
     "metadata": {},
     "output_type": "display_data"
    }
   ],
   "source": [
    "analyze_cat(other_train['relationship'],other_train['new_class'])"
   ]
  },
  {
   "cell_type": "markdown",
   "metadata": {},
   "source": [
    "### Formulacia a overenie hypotez o datach"
   ]
  },
  {
   "cell_type": "markdown",
   "metadata": {},
   "source": [
    "### Identifikacia problemov a navrh ich riesenia"
   ]
  },
  {
   "cell_type": "code",
   "execution_count": null,
   "metadata": {},
   "outputs": [],
   "source": []
  }
 ],
 "metadata": {
  "kernelspec": {
   "display_name": "Python 3",
   "language": "python",
   "name": "python3"
  },
  "language_info": {
   "codemirror_mode": {
    "name": "ipython",
    "version": 3
   },
   "file_extension": ".py",
   "mimetype": "text/x-python",
   "name": "python",
   "nbconvert_exporter": "python",
   "pygments_lexer": "ipython3",
   "version": "3.6.5"
  }
 },
 "nbformat": 4,
 "nbformat_minor": 2
}
